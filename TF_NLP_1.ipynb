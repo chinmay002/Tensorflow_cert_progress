{
  "nbformat": 4,
  "nbformat_minor": 0,
  "metadata": {
    "colab": {
      "provenance": [],
      "authorship_tag": "ABX9TyN26fbklUKwqUh9MH9jmK+s",
      "include_colab_link": true
    },
    "kernelspec": {
      "name": "python3",
      "display_name": "Python 3"
    },
    "language_info": {
      "name": "python"
    }
  },
  "cells": [
    {
      "cell_type": "markdown",
      "metadata": {
        "id": "view-in-github",
        "colab_type": "text"
      },
      "source": [
        "<a href=\"https://colab.research.google.com/github/chinmay002/Tensorflow_cert_progress/blob/main/TF_NLP_1.ipynb\" target=\"_parent\"><img src=\"https://colab.research.google.com/assets/colab-badge.svg\" alt=\"Open In Colab\"/></a>"
      ]
    },
    {
      "cell_type": "code",
      "execution_count": 1,
      "metadata": {
        "id": "cA8fJv6xW9Ic"
      },
      "outputs": [],
      "source": [
        "import tensorflow as tf\n",
        "import numpy as np\n",
        "import pandas as pd\n",
        "from tensorflow.keras import layers\n",
        "from tensorflow.keras import models\n",
        "from tensorflow.keras.models import   Sequential,Model\n",
        "from tensorflow.keras.layers import Input,Dense\n",
        "import matplotlib.pyplot as plt\n",
        "import seaborn as sns\n",
        "import zipfile\n",
        "import os\n",
        "import glob\n",
        "import datetime"
      ]
    },
    {
      "cell_type": "code",
      "source": [
        "def plot_loss_curve(history):\n",
        "  \n",
        "  acc = history.history['accuracy']\n",
        "  loss = history.history['loss']\n",
        "\n",
        "  val_acc = history.history['val_accuracy']\n",
        "  val_loss = history.history['val_loss']\n",
        "\n",
        "  fig = plt.figure(figsize=(10,5))\n",
        "\n",
        "  plt.subplot(221)\n",
        "  plt.plot(acc,'bo--', label = \"acc\")\n",
        "  plt.plot(val_acc,'ro--',label = 'val_acc')\n",
        "  plt.ylabel('accuracy')\n",
        "  plt.xlabel('epochs')\n",
        "  plt.title('acc vs val_acc')\n",
        "  plt.legend()\n",
        "\n",
        "  plt.subplot(222)\n",
        "  plt.plot(loss,'bo--', label = \"loss\")\n",
        "  plt.plot(val_loss,'ro--',label = 'val_acc')\n",
        "  plt.ylabel('Loss')\n",
        "  plt.xlabel('epochs')\n",
        "  plt.title('loss vs val_loss')\n",
        "  plt.legend()\n",
        "  plt.show()\n",
        "\n",
        "def unzip_data(file):\n",
        "  zip_file = zipfile.ZipFile(file)\n",
        "  zip_file.extractall()\n",
        "  zip_file.close()\n",
        "\n",
        "\n",
        "import datetime\n",
        "\n",
        "def create_tensorboard_callback(dir_name,experiment_name):\n",
        "  \n",
        "  log_dir = dir_name + '/' + experiment_name + '/' + datetime.datetime.now().strftime(\"%Y%m%d-%H%M%S\")\n",
        "  tensorboard_callback = tf.keras.callbacks.TensorBoard(log_dir = log_dir)\n",
        "  print(f\"Saving TensorBoard log files to: {log_dir}\")\n",
        "  return tensorboard_callback\n",
        "\n"
      ],
      "metadata": {
        "id": "b7NpIPDqXoAV"
      },
      "execution_count": 2,
      "outputs": []
    },
    {
      "cell_type": "code",
      "source": [
        "unzip_data(\"/content/nlp_getting_started.zip\")"
      ],
      "metadata": {
        "id": "331ZpsnjXoEO"
      },
      "execution_count": 6,
      "outputs": []
    },
    {
      "cell_type": "code",
      "source": [
        "train = pd.read_csv('/content/train.csv').sample(frac=1)\n",
        "train.head()"
      ],
      "metadata": {
        "colab": {
          "base_uri": "https://localhost:8080/",
          "height": 206
        },
        "id": "E6s7jRxqXoHR",
        "outputId": "6bb2f4ed-bcfa-40c1-ca8b-c77c015ee928"
      },
      "execution_count": 7,
      "outputs": [
        {
          "output_type": "execute_result",
          "data": {
            "text/plain": [
              "         id          keyword       location  \\\n",
              "1845   2655            crush        Kaneohe   \n",
              "7100  10173  violent%20storm      Worldwide   \n",
              "7336  10502         wildfire            NaN   \n",
              "3277   4703        epicentre  Charlotte, NC   \n",
              "3469   4962        explosion     London, UK   \n",
              "\n",
              "                                                   text  target  \n",
              "1845  @kuualohax more like you love your husband but...       0  \n",
              "7100  Violent Forces Radio: Now Playing Agony - Stor...       0  \n",
              "7336  #IDFire Parker Ridge Fact Sheet Aug 6 2015 (Pa...       1  \n",
              "3277  This Friday!!! Club Vault 3rd Floor EpiCentre ...       0  \n",
              "3469  EE recalls Power Bar phone chargers after expl...       1  "
            ],
            "text/html": [
              "\n",
              "  <div id=\"df-9f23de39-c0be-42a6-9206-6e4ffc82bd53\">\n",
              "    <div class=\"colab-df-container\">\n",
              "      <div>\n",
              "<style scoped>\n",
              "    .dataframe tbody tr th:only-of-type {\n",
              "        vertical-align: middle;\n",
              "    }\n",
              "\n",
              "    .dataframe tbody tr th {\n",
              "        vertical-align: top;\n",
              "    }\n",
              "\n",
              "    .dataframe thead th {\n",
              "        text-align: right;\n",
              "    }\n",
              "</style>\n",
              "<table border=\"1\" class=\"dataframe\">\n",
              "  <thead>\n",
              "    <tr style=\"text-align: right;\">\n",
              "      <th></th>\n",
              "      <th>id</th>\n",
              "      <th>keyword</th>\n",
              "      <th>location</th>\n",
              "      <th>text</th>\n",
              "      <th>target</th>\n",
              "    </tr>\n",
              "  </thead>\n",
              "  <tbody>\n",
              "    <tr>\n",
              "      <th>1845</th>\n",
              "      <td>2655</td>\n",
              "      <td>crush</td>\n",
              "      <td>Kaneohe</td>\n",
              "      <td>@kuualohax more like you love your husband but...</td>\n",
              "      <td>0</td>\n",
              "    </tr>\n",
              "    <tr>\n",
              "      <th>7100</th>\n",
              "      <td>10173</td>\n",
              "      <td>violent%20storm</td>\n",
              "      <td>Worldwide</td>\n",
              "      <td>Violent Forces Radio: Now Playing Agony - Stor...</td>\n",
              "      <td>0</td>\n",
              "    </tr>\n",
              "    <tr>\n",
              "      <th>7336</th>\n",
              "      <td>10502</td>\n",
              "      <td>wildfire</td>\n",
              "      <td>NaN</td>\n",
              "      <td>#IDFire Parker Ridge Fact Sheet Aug 6 2015 (Pa...</td>\n",
              "      <td>1</td>\n",
              "    </tr>\n",
              "    <tr>\n",
              "      <th>3277</th>\n",
              "      <td>4703</td>\n",
              "      <td>epicentre</td>\n",
              "      <td>Charlotte, NC</td>\n",
              "      <td>This Friday!!! Club Vault 3rd Floor EpiCentre ...</td>\n",
              "      <td>0</td>\n",
              "    </tr>\n",
              "    <tr>\n",
              "      <th>3469</th>\n",
              "      <td>4962</td>\n",
              "      <td>explosion</td>\n",
              "      <td>London, UK</td>\n",
              "      <td>EE recalls Power Bar phone chargers after expl...</td>\n",
              "      <td>1</td>\n",
              "    </tr>\n",
              "  </tbody>\n",
              "</table>\n",
              "</div>\n",
              "      <button class=\"colab-df-convert\" onclick=\"convertToInteractive('df-9f23de39-c0be-42a6-9206-6e4ffc82bd53')\"\n",
              "              title=\"Convert this dataframe to an interactive table.\"\n",
              "              style=\"display:none;\">\n",
              "        \n",
              "  <svg xmlns=\"http://www.w3.org/2000/svg\" height=\"24px\"viewBox=\"0 0 24 24\"\n",
              "       width=\"24px\">\n",
              "    <path d=\"M0 0h24v24H0V0z\" fill=\"none\"/>\n",
              "    <path d=\"M18.56 5.44l.94 2.06.94-2.06 2.06-.94-2.06-.94-.94-2.06-.94 2.06-2.06.94zm-11 1L8.5 8.5l.94-2.06 2.06-.94-2.06-.94L8.5 2.5l-.94 2.06-2.06.94zm10 10l.94 2.06.94-2.06 2.06-.94-2.06-.94-.94-2.06-.94 2.06-2.06.94z\"/><path d=\"M17.41 7.96l-1.37-1.37c-.4-.4-.92-.59-1.43-.59-.52 0-1.04.2-1.43.59L10.3 9.45l-7.72 7.72c-.78.78-.78 2.05 0 2.83L4 21.41c.39.39.9.59 1.41.59.51 0 1.02-.2 1.41-.59l7.78-7.78 2.81-2.81c.8-.78.8-2.07 0-2.86zM5.41 20L4 18.59l7.72-7.72 1.47 1.35L5.41 20z\"/>\n",
              "  </svg>\n",
              "      </button>\n",
              "      \n",
              "  <style>\n",
              "    .colab-df-container {\n",
              "      display:flex;\n",
              "      flex-wrap:wrap;\n",
              "      gap: 12px;\n",
              "    }\n",
              "\n",
              "    .colab-df-convert {\n",
              "      background-color: #E8F0FE;\n",
              "      border: none;\n",
              "      border-radius: 50%;\n",
              "      cursor: pointer;\n",
              "      display: none;\n",
              "      fill: #1967D2;\n",
              "      height: 32px;\n",
              "      padding: 0 0 0 0;\n",
              "      width: 32px;\n",
              "    }\n",
              "\n",
              "    .colab-df-convert:hover {\n",
              "      background-color: #E2EBFA;\n",
              "      box-shadow: 0px 1px 2px rgba(60, 64, 67, 0.3), 0px 1px 3px 1px rgba(60, 64, 67, 0.15);\n",
              "      fill: #174EA6;\n",
              "    }\n",
              "\n",
              "    [theme=dark] .colab-df-convert {\n",
              "      background-color: #3B4455;\n",
              "      fill: #D2E3FC;\n",
              "    }\n",
              "\n",
              "    [theme=dark] .colab-df-convert:hover {\n",
              "      background-color: #434B5C;\n",
              "      box-shadow: 0px 1px 3px 1px rgba(0, 0, 0, 0.15);\n",
              "      filter: drop-shadow(0px 1px 2px rgba(0, 0, 0, 0.3));\n",
              "      fill: #FFFFFF;\n",
              "    }\n",
              "  </style>\n",
              "\n",
              "      <script>\n",
              "        const buttonEl =\n",
              "          document.querySelector('#df-9f23de39-c0be-42a6-9206-6e4ffc82bd53 button.colab-df-convert');\n",
              "        buttonEl.style.display =\n",
              "          google.colab.kernel.accessAllowed ? 'block' : 'none';\n",
              "\n",
              "        async function convertToInteractive(key) {\n",
              "          const element = document.querySelector('#df-9f23de39-c0be-42a6-9206-6e4ffc82bd53');\n",
              "          const dataTable =\n",
              "            await google.colab.kernel.invokeFunction('convertToInteractive',\n",
              "                                                     [key], {});\n",
              "          if (!dataTable) return;\n",
              "\n",
              "          const docLinkHtml = 'Like what you see? Visit the ' +\n",
              "            '<a target=\"_blank\" href=https://colab.research.google.com/notebooks/data_table.ipynb>data table notebook</a>'\n",
              "            + ' to learn more about interactive tables.';\n",
              "          element.innerHTML = '';\n",
              "          dataTable['output_type'] = 'display_data';\n",
              "          await google.colab.output.renderOutput(dataTable, element);\n",
              "          const docLink = document.createElement('div');\n",
              "          docLink.innerHTML = docLinkHtml;\n",
              "          element.appendChild(docLink);\n",
              "        }\n",
              "      </script>\n",
              "    </div>\n",
              "  </div>\n",
              "  "
            ]
          },
          "metadata": {},
          "execution_count": 7
        }
      ]
    },
    {
      "cell_type": "code",
      "source": [
        "test = pd.read_csv('/content/test.csv')\n",
        "test.head()"
      ],
      "metadata": {
        "colab": {
          "base_uri": "https://localhost:8080/",
          "height": 206
        },
        "id": "d1bcyDF4XoKY",
        "outputId": "c20e2f00-cf61-4e21-d7c7-c8559a9c2153"
      },
      "execution_count": 8,
      "outputs": [
        {
          "output_type": "execute_result",
          "data": {
            "text/plain": [
              "   id keyword location                                               text\n",
              "0   0     NaN      NaN                 Just happened a terrible car crash\n",
              "1   2     NaN      NaN  Heard about #earthquake is different cities, s...\n",
              "2   3     NaN      NaN  there is a forest fire at spot pond, geese are...\n",
              "3   9     NaN      NaN           Apocalypse lighting. #Spokane #wildfires\n",
              "4  11     NaN      NaN      Typhoon Soudelor kills 28 in China and Taiwan"
            ],
            "text/html": [
              "\n",
              "  <div id=\"df-da3db7ff-4973-4002-864b-159db32a6b67\">\n",
              "    <div class=\"colab-df-container\">\n",
              "      <div>\n",
              "<style scoped>\n",
              "    .dataframe tbody tr th:only-of-type {\n",
              "        vertical-align: middle;\n",
              "    }\n",
              "\n",
              "    .dataframe tbody tr th {\n",
              "        vertical-align: top;\n",
              "    }\n",
              "\n",
              "    .dataframe thead th {\n",
              "        text-align: right;\n",
              "    }\n",
              "</style>\n",
              "<table border=\"1\" class=\"dataframe\">\n",
              "  <thead>\n",
              "    <tr style=\"text-align: right;\">\n",
              "      <th></th>\n",
              "      <th>id</th>\n",
              "      <th>keyword</th>\n",
              "      <th>location</th>\n",
              "      <th>text</th>\n",
              "    </tr>\n",
              "  </thead>\n",
              "  <tbody>\n",
              "    <tr>\n",
              "      <th>0</th>\n",
              "      <td>0</td>\n",
              "      <td>NaN</td>\n",
              "      <td>NaN</td>\n",
              "      <td>Just happened a terrible car crash</td>\n",
              "    </tr>\n",
              "    <tr>\n",
              "      <th>1</th>\n",
              "      <td>2</td>\n",
              "      <td>NaN</td>\n",
              "      <td>NaN</td>\n",
              "      <td>Heard about #earthquake is different cities, s...</td>\n",
              "    </tr>\n",
              "    <tr>\n",
              "      <th>2</th>\n",
              "      <td>3</td>\n",
              "      <td>NaN</td>\n",
              "      <td>NaN</td>\n",
              "      <td>there is a forest fire at spot pond, geese are...</td>\n",
              "    </tr>\n",
              "    <tr>\n",
              "      <th>3</th>\n",
              "      <td>9</td>\n",
              "      <td>NaN</td>\n",
              "      <td>NaN</td>\n",
              "      <td>Apocalypse lighting. #Spokane #wildfires</td>\n",
              "    </tr>\n",
              "    <tr>\n",
              "      <th>4</th>\n",
              "      <td>11</td>\n",
              "      <td>NaN</td>\n",
              "      <td>NaN</td>\n",
              "      <td>Typhoon Soudelor kills 28 in China and Taiwan</td>\n",
              "    </tr>\n",
              "  </tbody>\n",
              "</table>\n",
              "</div>\n",
              "      <button class=\"colab-df-convert\" onclick=\"convertToInteractive('df-da3db7ff-4973-4002-864b-159db32a6b67')\"\n",
              "              title=\"Convert this dataframe to an interactive table.\"\n",
              "              style=\"display:none;\">\n",
              "        \n",
              "  <svg xmlns=\"http://www.w3.org/2000/svg\" height=\"24px\"viewBox=\"0 0 24 24\"\n",
              "       width=\"24px\">\n",
              "    <path d=\"M0 0h24v24H0V0z\" fill=\"none\"/>\n",
              "    <path d=\"M18.56 5.44l.94 2.06.94-2.06 2.06-.94-2.06-.94-.94-2.06-.94 2.06-2.06.94zm-11 1L8.5 8.5l.94-2.06 2.06-.94-2.06-.94L8.5 2.5l-.94 2.06-2.06.94zm10 10l.94 2.06.94-2.06 2.06-.94-2.06-.94-.94-2.06-.94 2.06-2.06.94z\"/><path d=\"M17.41 7.96l-1.37-1.37c-.4-.4-.92-.59-1.43-.59-.52 0-1.04.2-1.43.59L10.3 9.45l-7.72 7.72c-.78.78-.78 2.05 0 2.83L4 21.41c.39.39.9.59 1.41.59.51 0 1.02-.2 1.41-.59l7.78-7.78 2.81-2.81c.8-.78.8-2.07 0-2.86zM5.41 20L4 18.59l7.72-7.72 1.47 1.35L5.41 20z\"/>\n",
              "  </svg>\n",
              "      </button>\n",
              "      \n",
              "  <style>\n",
              "    .colab-df-container {\n",
              "      display:flex;\n",
              "      flex-wrap:wrap;\n",
              "      gap: 12px;\n",
              "    }\n",
              "\n",
              "    .colab-df-convert {\n",
              "      background-color: #E8F0FE;\n",
              "      border: none;\n",
              "      border-radius: 50%;\n",
              "      cursor: pointer;\n",
              "      display: none;\n",
              "      fill: #1967D2;\n",
              "      height: 32px;\n",
              "      padding: 0 0 0 0;\n",
              "      width: 32px;\n",
              "    }\n",
              "\n",
              "    .colab-df-convert:hover {\n",
              "      background-color: #E2EBFA;\n",
              "      box-shadow: 0px 1px 2px rgba(60, 64, 67, 0.3), 0px 1px 3px 1px rgba(60, 64, 67, 0.15);\n",
              "      fill: #174EA6;\n",
              "    }\n",
              "\n",
              "    [theme=dark] .colab-df-convert {\n",
              "      background-color: #3B4455;\n",
              "      fill: #D2E3FC;\n",
              "    }\n",
              "\n",
              "    [theme=dark] .colab-df-convert:hover {\n",
              "      background-color: #434B5C;\n",
              "      box-shadow: 0px 1px 3px 1px rgba(0, 0, 0, 0.15);\n",
              "      filter: drop-shadow(0px 1px 2px rgba(0, 0, 0, 0.3));\n",
              "      fill: #FFFFFF;\n",
              "    }\n",
              "  </style>\n",
              "\n",
              "      <script>\n",
              "        const buttonEl =\n",
              "          document.querySelector('#df-da3db7ff-4973-4002-864b-159db32a6b67 button.colab-df-convert');\n",
              "        buttonEl.style.display =\n",
              "          google.colab.kernel.accessAllowed ? 'block' : 'none';\n",
              "\n",
              "        async function convertToInteractive(key) {\n",
              "          const element = document.querySelector('#df-da3db7ff-4973-4002-864b-159db32a6b67');\n",
              "          const dataTable =\n",
              "            await google.colab.kernel.invokeFunction('convertToInteractive',\n",
              "                                                     [key], {});\n",
              "          if (!dataTable) return;\n",
              "\n",
              "          const docLinkHtml = 'Like what you see? Visit the ' +\n",
              "            '<a target=\"_blank\" href=https://colab.research.google.com/notebooks/data_table.ipynb>data table notebook</a>'\n",
              "            + ' to learn more about interactive tables.';\n",
              "          element.innerHTML = '';\n",
              "          dataTable['output_type'] = 'display_data';\n",
              "          await google.colab.output.renderOutput(dataTable, element);\n",
              "          const docLink = document.createElement('div');\n",
              "          docLink.innerHTML = docLinkHtml;\n",
              "          element.appendChild(docLink);\n",
              "        }\n",
              "      </script>\n",
              "    </div>\n",
              "  </div>\n",
              "  "
            ]
          },
          "metadata": {},
          "execution_count": 8
        }
      ]
    },
    {
      "cell_type": "code",
      "source": [
        "import random\n",
        "random_index = random.randint(0,len(train))\n",
        "for row in train[['text','target']][random_index:random_index+5].itertuples():\n",
        "  _, text , target = row\n",
        "  print(f\"Target: { target}\", \"(real disaster)\" if target > 0 else \"(not disaster)\")\n",
        "  print(f\"Text:'\\n{text}\\n\")\n",
        "  print(\"---\\n\")\n"
      ],
      "metadata": {
        "colab": {
          "base_uri": "https://localhost:8080/"
        },
        "id": "mtMDcWkaXoNp",
        "outputId": "d5d27cec-5f09-4a03-c25b-76ac4b4a7745"
      },
      "execution_count": 10,
      "outputs": [
        {
          "output_type": "stream",
          "name": "stdout",
          "text": [
            "Target: 1 (real disaster)\n",
            "Text:'\n",
            "Families to sue over Legionnaires: More than 40 families affected by the fatal outbreak of Legionnaires' disea... http://t.co/2AO97o2a9D\n",
            "\n",
            "---\n",
            "\n",
            "Target: 0 (not disaster)\n",
            "Text:'\n",
            "@crabbycale OH MY GOD THE MEMORIES ARE FLOODING BACK\n",
            "\n",
            "---\n",
            "\n",
            "Target: 1 (real disaster)\n",
            "Text:'\n",
            "Can't believe more people in their mid 20's don't have high blood pressure. Life is stressful. #DecisionsOnDecisions\n",
            "\n",
            "---\n",
            "\n",
            "Target: 0 (not disaster)\n",
            "Text:'\n",
            "I feel like that episode of Victorious when they all got trapped in an RV and almost died of heat stroke #MTVHottest One Direction\n",
            "\n",
            "---\n",
            "\n",
            "Target: 0 (not disaster)\n",
            "Text:'\n",
            "i wanna get a danger days tattoo so bad how cool would that spider look like on someones wrist or smth\n",
            "\n",
            "---\n",
            "\n"
          ]
        }
      ]
    },
    {
      "cell_type": "code",
      "source": [
        "from sklearn.model_selection import train_test_split\n",
        "train_sent,val_sent,train_labels,val_labels = train_test_split(train['text'].to_numpy(),\n",
        "                                                               train['target'].to_numpy(),\n",
        "                                                               test_size=0.3,\n",
        "                                                               random_state=22,\n",
        "                                                               stratify = train['target'])"
      ],
      "metadata": {
        "id": "SFPjF57BXoQg"
      },
      "execution_count": 11,
      "outputs": []
    },
    {
      "cell_type": "code",
      "source": [
        "train_sent[:10]"
      ],
      "metadata": {
        "colab": {
          "base_uri": "https://localhost:8080/"
        },
        "id": "VzhonCPOXoTM",
        "outputId": "e5bfe7fd-d982-4c3e-d47f-22057e2ddd42"
      },
      "execution_count": 24,
      "outputs": [
        {
          "output_type": "execute_result",
          "data": {
            "text/plain": [
              "array([\"#TheaterShooting DEFENDANT/MASS MURDERER CHOSE NOT 2 TESTIFY IN FINAL PHASE 3 so he won't therefore B subject 2 cross-exam or jury questions\",\n",
              "       'Japan on Thursday marks the 70th anniversary of the atomic bombing of Hiroshima with the most senior official from Washington ever schedule\\x89Û_',\n",
              "       '@carolinagutierr grande twister!!!',\n",
              "       \"I'll cry until my pity party's in flames ????\",\n",
              "       'The Desolate Hope: Part 2: MIRAD: http://t.co/c6lGtOTVSF via @YouTube',\n",
              "       'Obama Declares Disaster for Typhoon-Devastated Saipan',\n",
              "       \"Destruction magic's fine just don't go burning down any buildings.\",\n",
              "       \"Training grains of wheat to bare gold in the August heat of their anger I'm the no trespass lest you seek danger.\",\n",
              "       '573 deaths have been certified by the Government as \\x89Û÷nuclear disaster-related deaths\\x89Ûª',\n",
              "       \"--thus making @FemaleGilgamesh's assault useless.\\nThe spears collided with the dark force however did not penetrate.\\n\\nDue to the dark --\"],\n",
              "      dtype=object)"
            ]
          },
          "metadata": {},
          "execution_count": 24
        }
      ]
    },
    {
      "cell_type": "code",
      "source": [
        "max_length = 15 \n",
        "max_vocab = 10000\n",
        "tv = layers.TextVectorization(max_tokens =max_vocab,\n",
        "                              standardize = 'lower_and_strip_punctuation',\n",
        "                              split = 'whitespace',\n",
        "                              ngrams = None,\n",
        "                              pad_to_max_tokens=True,\n",
        "                              output_mode = 'int',\n",
        "                              output_sequence_length = max_length)\n"
      ],
      "metadata": {
        "id": "-UTM5Tx2XoV9"
      },
      "execution_count": 12,
      "outputs": []
    },
    {
      "cell_type": "code",
      "source": [
        "sum([len(train_sent[i].split()) for i in range(len(train_sent))])/len(train_sent)\n"
      ],
      "metadata": {
        "colab": {
          "base_uri": "https://localhost:8080/"
        },
        "id": "CVsfBPNIjxAi",
        "outputId": "63aa6202-cd71-46e3-ebf8-25d227809ec2"
      },
      "execution_count": 69,
      "outputs": [
        {
          "output_type": "execute_result",
          "data": {
            "text/plain": [
              "14.898667667479828"
            ]
          },
          "metadata": {},
          "execution_count": 69
        }
      ]
    },
    {
      "cell_type": "code",
      "source": [
        "tv.adapt(train_sent)\n"
      ],
      "metadata": {
        "id": "tn1GRfMgl4s4"
      },
      "execution_count": 13,
      "outputs": []
    },
    {
      "cell_type": "code",
      "source": [
        "#create a sample sentence and tokenize it\n",
        "sample = \"There's a flood asasdf \"\n",
        "tv([sample])"
      ],
      "metadata": {
        "colab": {
          "base_uri": "https://localhost:8080/"
        },
        "id": "JYXDmaVtmrBn",
        "outputId": "07d9c423-9479-4209-b92c-c0bc6fdd952a"
      },
      "execution_count": 71,
      "outputs": [
        {
          "output_type": "execute_result",
          "data": {
            "text/plain": [
              "<tf.Tensor: shape=(1, 15), dtype=int64, numpy=\n",
              "array([[388,   3, 224,   1,   0,   0,   0,   0,   0,   0,   0,   0,   0,\n",
              "          0,   0]])>"
            ]
          },
          "metadata": {},
          "execution_count": 71
        }
      ]
    },
    {
      "cell_type": "code",
      "source": [
        "tv.get_vocabulary()[:10]"
      ],
      "metadata": {
        "colab": {
          "base_uri": "https://localhost:8080/"
        },
        "id": "xLflRhsOoCjn",
        "outputId": "7d982161-3ec9-4a26-f6f1-59719c7a7683"
      },
      "execution_count": 67,
      "outputs": [
        {
          "output_type": "execute_result",
          "data": {
            "text/plain": [
              "['', '[UNK]']"
            ]
          },
          "metadata": {},
          "execution_count": 67
        }
      ]
    },
    {
      "cell_type": "code",
      "source": [
        "##creating Embedding using an Embedding layer"
      ],
      "metadata": {
        "id": "7YdZMtR_opn0"
      },
      "execution_count": null,
      "outputs": []
    },
    {
      "cell_type": "code",
      "source": [
        "emb_layer = layers.Embedding(input_dim=max_vocab,output_dim= 128 ,\n",
        "                             input_length =15)"
      ],
      "metadata": {
        "id": "g77Hf0wLoprX"
      },
      "execution_count": 14,
      "outputs": []
    },
    {
      "cell_type": "code",
      "source": [
        "random_text = random.choice(train_sent)\n",
        "print(f\"Original text {random_text}\\n \\\n",
        "        \\n\\nEmbedded Version: \")\n",
        "sample_embed = emb_layer(tv([random_text]))\n",
        "print(sample_embed)"
      ],
      "metadata": {
        "colab": {
          "base_uri": "https://localhost:8080/"
        },
        "id": "W6aOv-jzopuQ",
        "outputId": "773c2a33-ec57-43ee-b5c3-6a14e8a0d416"
      },
      "execution_count": 15,
      "outputs": [
        {
          "output_type": "stream",
          "name": "stdout",
          "text": [
            "Original text Newberg upheaval: Jacque Betz responds 'looking forward to the day' she can answer questions #orcot #orpol http://t.co/dazQaMOO0C\n",
            "         \n",
            "\n",
            "Embedded Version: \n",
            "tf.Tensor(\n",
            "[[[-0.03602502  0.04291851  0.04592652 ...  0.04048711  0.01448656\n",
            "   -0.01102115]\n",
            "  [-0.01751142 -0.02747001 -0.00506723 ...  0.03790666 -0.03414457\n",
            "    0.02183649]\n",
            "  [ 0.0492739   0.03715644  0.03058511 ...  0.03136529 -0.01010482\n",
            "   -0.02658263]\n",
            "  ...\n",
            "  [ 0.04544077  0.00914863 -0.04586548 ... -0.02965926 -0.04337899\n",
            "    0.02106838]\n",
            "  [-0.02007803  0.02852919 -0.0321465  ... -0.00784155  0.04029981\n",
            "    0.0352474 ]\n",
            "  [ 0.00564983 -0.02022941 -0.04277683 ...  0.03306368  0.03089808\n",
            "    0.01907113]]], shape=(1, 15, 128), dtype=float32)\n"
          ]
        }
      ]
    },
    {
      "cell_type": "code",
      "source": [
        "sample_embed.shape"
      ],
      "metadata": {
        "colab": {
          "base_uri": "https://localhost:8080/"
        },
        "id": "zJkRmN_9opxG",
        "outputId": "b7fbe52d-4c01-42ce-fc26-5ce3f54bbd6a"
      },
      "execution_count": 75,
      "outputs": [
        {
          "output_type": "execute_result",
          "data": {
            "text/plain": [
              "TensorShape([1, 15, 128])"
            ]
          },
          "metadata": {},
          "execution_count": 75
        }
      ]
    },
    {
      "cell_type": "markdown",
      "source": [
        "**Model 0 : BaseLine using NaiveBayes and TFIDF**#"
      ],
      "metadata": {
        "id": "IF9DE5Klopz6"
      }
    },
    {
      "cell_type": "code",
      "source": [
        "from sklearn.feature_extraction.text import TfidfVectorizer\n",
        "from sklearn.naive_bayes import MultinomialNB\n",
        "from sklearn.pipeline import Pipeline\n",
        "\n",
        "model_0 = Pipeline([\n",
        "                    ('tfidf',TfidfVectorizer()),\n",
        "                     ('clf',MultinomialNB())\n",
        "])\n",
        "\n",
        "model_0.fit(train_sent,train_labels)"
      ],
      "metadata": {
        "colab": {
          "base_uri": "https://localhost:8080/",
          "height": 171
        },
        "id": "pO6p-XYyop2r",
        "outputId": "d90f934f-a689-4652-a225-e1d4900ae982"
      },
      "execution_count": 79,
      "outputs": [
        {
          "output_type": "execute_result",
          "data": {
            "text/plain": [
              "Pipeline(steps=[('tfidf', TfidfVectorizer()), ('clf', MultinomialNB())])"
            ],
            "text/html": [
              "<style>#sk-container-id-1 {color: black;background-color: white;}#sk-container-id-1 pre{padding: 0;}#sk-container-id-1 div.sk-toggleable {background-color: white;}#sk-container-id-1 label.sk-toggleable__label {cursor: pointer;display: block;width: 100%;margin-bottom: 0;padding: 0.3em;box-sizing: border-box;text-align: center;}#sk-container-id-1 label.sk-toggleable__label-arrow:before {content: \"▸\";float: left;margin-right: 0.25em;color: #696969;}#sk-container-id-1 label.sk-toggleable__label-arrow:hover:before {color: black;}#sk-container-id-1 div.sk-estimator:hover label.sk-toggleable__label-arrow:before {color: black;}#sk-container-id-1 div.sk-toggleable__content {max-height: 0;max-width: 0;overflow: hidden;text-align: left;background-color: #f0f8ff;}#sk-container-id-1 div.sk-toggleable__content pre {margin: 0.2em;color: black;border-radius: 0.25em;background-color: #f0f8ff;}#sk-container-id-1 input.sk-toggleable__control:checked~div.sk-toggleable__content {max-height: 200px;max-width: 100%;overflow: auto;}#sk-container-id-1 input.sk-toggleable__control:checked~label.sk-toggleable__label-arrow:before {content: \"▾\";}#sk-container-id-1 div.sk-estimator input.sk-toggleable__control:checked~label.sk-toggleable__label {background-color: #d4ebff;}#sk-container-id-1 div.sk-label input.sk-toggleable__control:checked~label.sk-toggleable__label {background-color: #d4ebff;}#sk-container-id-1 input.sk-hidden--visually {border: 0;clip: rect(1px 1px 1px 1px);clip: rect(1px, 1px, 1px, 1px);height: 1px;margin: -1px;overflow: hidden;padding: 0;position: absolute;width: 1px;}#sk-container-id-1 div.sk-estimator {font-family: monospace;background-color: #f0f8ff;border: 1px dotted black;border-radius: 0.25em;box-sizing: border-box;margin-bottom: 0.5em;}#sk-container-id-1 div.sk-estimator:hover {background-color: #d4ebff;}#sk-container-id-1 div.sk-parallel-item::after {content: \"\";width: 100%;border-bottom: 1px solid gray;flex-grow: 1;}#sk-container-id-1 div.sk-label:hover label.sk-toggleable__label {background-color: #d4ebff;}#sk-container-id-1 div.sk-serial::before {content: \"\";position: absolute;border-left: 1px solid gray;box-sizing: border-box;top: 0;bottom: 0;left: 50%;z-index: 0;}#sk-container-id-1 div.sk-serial {display: flex;flex-direction: column;align-items: center;background-color: white;padding-right: 0.2em;padding-left: 0.2em;position: relative;}#sk-container-id-1 div.sk-item {position: relative;z-index: 1;}#sk-container-id-1 div.sk-parallel {display: flex;align-items: stretch;justify-content: center;background-color: white;position: relative;}#sk-container-id-1 div.sk-item::before, #sk-container-id-1 div.sk-parallel-item::before {content: \"\";position: absolute;border-left: 1px solid gray;box-sizing: border-box;top: 0;bottom: 0;left: 50%;z-index: -1;}#sk-container-id-1 div.sk-parallel-item {display: flex;flex-direction: column;z-index: 1;position: relative;background-color: white;}#sk-container-id-1 div.sk-parallel-item:first-child::after {align-self: flex-end;width: 50%;}#sk-container-id-1 div.sk-parallel-item:last-child::after {align-self: flex-start;width: 50%;}#sk-container-id-1 div.sk-parallel-item:only-child::after {width: 0;}#sk-container-id-1 div.sk-dashed-wrapped {border: 1px dashed gray;margin: 0 0.4em 0.5em 0.4em;box-sizing: border-box;padding-bottom: 0.4em;background-color: white;}#sk-container-id-1 div.sk-label label {font-family: monospace;font-weight: bold;display: inline-block;line-height: 1.2em;}#sk-container-id-1 div.sk-label-container {text-align: center;}#sk-container-id-1 div.sk-container {/* jupyter's `normalize.less` sets `[hidden] { display: none; }` but bootstrap.min.css set `[hidden] { display: none !important; }` so we also need the `!important` here to be able to override the default hidden behavior on the sphinx rendered scikit-learn.org. See: https://github.com/scikit-learn/scikit-learn/issues/21755 */display: inline-block !important;position: relative;}#sk-container-id-1 div.sk-text-repr-fallback {display: none;}</style><div id=\"sk-container-id-1\" class=\"sk-top-container\"><div class=\"sk-text-repr-fallback\"><pre>Pipeline(steps=[(&#x27;tfidf&#x27;, TfidfVectorizer()), (&#x27;clf&#x27;, MultinomialNB())])</pre><b>In a Jupyter environment, please rerun this cell to show the HTML representation or trust the notebook. <br />On GitHub, the HTML representation is unable to render, please try loading this page with nbviewer.org.</b></div><div class=\"sk-container\" hidden><div class=\"sk-item sk-dashed-wrapped\"><div class=\"sk-label-container\"><div class=\"sk-label sk-toggleable\"><input class=\"sk-toggleable__control sk-hidden--visually\" id=\"sk-estimator-id-1\" type=\"checkbox\" ><label for=\"sk-estimator-id-1\" class=\"sk-toggleable__label sk-toggleable__label-arrow\">Pipeline</label><div class=\"sk-toggleable__content\"><pre>Pipeline(steps=[(&#x27;tfidf&#x27;, TfidfVectorizer()), (&#x27;clf&#x27;, MultinomialNB())])</pre></div></div></div><div class=\"sk-serial\"><div class=\"sk-item\"><div class=\"sk-estimator sk-toggleable\"><input class=\"sk-toggleable__control sk-hidden--visually\" id=\"sk-estimator-id-2\" type=\"checkbox\" ><label for=\"sk-estimator-id-2\" class=\"sk-toggleable__label sk-toggleable__label-arrow\">TfidfVectorizer</label><div class=\"sk-toggleable__content\"><pre>TfidfVectorizer()</pre></div></div></div><div class=\"sk-item\"><div class=\"sk-estimator sk-toggleable\"><input class=\"sk-toggleable__control sk-hidden--visually\" id=\"sk-estimator-id-3\" type=\"checkbox\" ><label for=\"sk-estimator-id-3\" class=\"sk-toggleable__label sk-toggleable__label-arrow\">MultinomialNB</label><div class=\"sk-toggleable__content\"><pre>MultinomialNB()</pre></div></div></div></div></div></div></div>"
            ]
          },
          "metadata": {},
          "execution_count": 79
        }
      ]
    },
    {
      "cell_type": "code",
      "source": [
        "baseline_score = model_0.score(val_sent,val_labels)\n",
        "print('Accuracy:',baseline_score)   "
      ],
      "metadata": {
        "colab": {
          "base_uri": "https://localhost:8080/"
        },
        "id": "pH0LJYNWtDoL",
        "outputId": "8161de1f-ac02-4d29-b1ae-610cacbba69d"
      },
      "execution_count": 82,
      "outputs": [
        {
          "output_type": "stream",
          "name": "stdout",
          "text": [
            "Accuracy: 0.7907180385288967\n"
          ]
        }
      ]
    },
    {
      "cell_type": "code",
      "source": [
        "from sklearn.metrics import accuracy_score,f1_score,precision_score,recall_score,classification_report,confusion_matrix\n",
        "\n",
        "def calculate(y_true_,y_pred):\n",
        "  acc = accuracy_score(y_true_,y_pred)\n",
        "  f1 = f1_score(y_true_,y_pred)\n",
        "  recall = recall_score(y_true_,y_pred)\n",
        "  precision = precision_score(y_true_,y_pred)\n",
        "\n",
        "  print('Recall: ', recall)\n",
        "  print('precision: ', precision)\n",
        "  print('f1: ', f1)\n",
        "  print('accuracy: ', acc)"
      ],
      "metadata": {
        "id": "y4A5AEk7urMi"
      },
      "execution_count": 25,
      "outputs": []
    },
    {
      "cell_type": "code",
      "source": [
        "pred = model_0.predict(val_sent)\n",
        "calculate(val_labels,pred)\n"
      ],
      "metadata": {
        "colab": {
          "base_uri": "https://localhost:8080/"
        },
        "id": "a7wV2rlGurbh",
        "outputId": "c16b971b-0ae2-471a-ea4e-f570d87bfb62"
      },
      "execution_count": 86,
      "outputs": [
        {
          "output_type": "stream",
          "name": "stdout",
          "text": [
            "Recall:  0.6126401630988787\n",
            "precision:  0.8597997138769671\n",
            "f1:  0.7154761904761905\n",
            "accuracy:  0.7907180385288967\n"
          ]
        }
      ]
    },
    {
      "cell_type": "markdown",
      "source": [
        "#Model1: Feed Forward Network"
      ],
      "metadata": {
        "id": "zgOU0nXvurgX"
      }
    },
    {
      "cell_type": "code",
      "source": [
        "#create a tensorboard callback \n",
        "save_dir = 'model_logs'"
      ],
      "metadata": {
        "id": "v_yO4r6Hurm0"
      },
      "execution_count": 20,
      "outputs": []
    },
    {
      "cell_type": "code",
      "source": [
        "inputs = Input(shape = (1,),dtype = tf.string)  #shape=(1,) one data at time\n",
        "x = tv(inputs)\n",
        "x = emb_layer(x)\n",
        "x = layers.Flatten()(x)\n",
        "outputs = layers.Dense(1,activation='sigmoid')(x)\n",
        "model_11 = tf.keras.Model(inputs,outputs,name = 'model_1')\n",
        "model_11.summary()"
      ],
      "metadata": {
        "colab": {
          "base_uri": "https://localhost:8080/"
        },
        "id": "kDGZOMFTwZtl",
        "outputId": "a344e2ad-60b9-4b1c-e0a3-79abca6404ac"
      },
      "execution_count": 106,
      "outputs": [
        {
          "output_type": "stream",
          "name": "stdout",
          "text": [
            "Model: \"model_1\"\n",
            "_________________________________________________________________\n",
            " Layer (type)                Output Shape              Param #   \n",
            "=================================================================\n",
            " input_3 (InputLayer)        [(None, 1)]               0         \n",
            "                                                                 \n",
            " text_vectorization_5 (TextV  (None, 15)               0         \n",
            " ectorization)                                                   \n",
            "                                                                 \n",
            " embedding_2 (Embedding)     (None, 15, 128)           1280000   \n",
            "                                                                 \n",
            " flatten_1 (Flatten)         (None, 1920)              0         \n",
            "                                                                 \n",
            " dense_2 (Dense)             (None, 1)                 1921      \n",
            "                                                                 \n",
            "=================================================================\n",
            "Total params: 1,281,921\n",
            "Trainable params: 1,281,921\n",
            "Non-trainable params: 0\n",
            "_________________________________________________________________\n"
          ]
        }
      ]
    },
    {
      "cell_type": "code",
      "source": [
        "for layer in model_11.layers:\n",
        "  print(layer.get_output_shape_at(0))"
      ],
      "metadata": {
        "colab": {
          "base_uri": "https://localhost:8080/"
        },
        "id": "AUWWdeLP0kwo",
        "outputId": "7b9c32cf-796a-4a69-af6d-c1f34e201851"
      },
      "execution_count": 107,
      "outputs": [
        {
          "output_type": "stream",
          "name": "stdout",
          "text": [
            "(None, 1)\n",
            "(None, 15)\n",
            "(None, 15, 128)\n",
            "(None, 1920)\n",
            "(None, 1)\n"
          ]
        }
      ]
    },
    {
      "cell_type": "code",
      "source": [
        "import datetime\n",
        "model_11.compile(loss= 'binary_crossentropy', optimizer = tf.keras.optimizers.Adam() ,metrics =['accuracy'])\n",
        "history = model_11.fit(train_sent,train_labels,epochs=10,\n",
        "                              validation_data=(val_sent,val_labels),\n",
        "                              callbacks = [create_tensorboard_callback(save_dir,'model_1_dense')])"
      ],
      "metadata": {
        "colab": {
          "base_uri": "https://localhost:8080/"
        },
        "id": "RncPHxmiurqR",
        "outputId": "5c104fa9-ee8d-4116-cc59-0ef11492c943"
      },
      "execution_count": 108,
      "outputs": [
        {
          "output_type": "stream",
          "name": "stdout",
          "text": [
            "Saving TensorBoard log files to: model_logs/model_1_dense/20230522-190118\n",
            "Epoch 1/10\n",
            "167/167 [==============================] - 4s 20ms/step - loss: 0.2325 - accuracy: 0.9657 - val_loss: 0.4988 - val_accuracy: 0.7605\n",
            "Epoch 2/10\n",
            "167/167 [==============================] - 5s 31ms/step - loss: 0.0645 - accuracy: 0.9852 - val_loss: 0.5396 - val_accuracy: 0.7636\n",
            "Epoch 3/10\n",
            "167/167 [==============================] - 4s 21ms/step - loss: 0.0452 - accuracy: 0.9857 - val_loss: 0.5710 - val_accuracy: 0.7583\n",
            "Epoch 4/10\n",
            "167/167 [==============================] - 4s 22ms/step - loss: 0.0387 - accuracy: 0.9848 - val_loss: 0.5982 - val_accuracy: 0.7623\n",
            "Epoch 5/10\n",
            "167/167 [==============================] - 4s 26ms/step - loss: 0.0347 - accuracy: 0.9848 - val_loss: 0.6186 - val_accuracy: 0.7544\n",
            "Epoch 6/10\n",
            "167/167 [==============================] - 4s 24ms/step - loss: 0.0347 - accuracy: 0.9833 - val_loss: 0.6367 - val_accuracy: 0.7570\n",
            "Epoch 7/10\n",
            "167/167 [==============================] - 5s 30ms/step - loss: 0.0331 - accuracy: 0.9837 - val_loss: 0.6513 - val_accuracy: 0.7614\n",
            "Epoch 8/10\n",
            "167/167 [==============================] - 4s 26ms/step - loss: 0.0319 - accuracy: 0.9842 - val_loss: 0.6719 - val_accuracy: 0.7439\n",
            "Epoch 9/10\n",
            "167/167 [==============================] - 3s 21ms/step - loss: 0.0311 - accuracy: 0.9837 - val_loss: 0.6793 - val_accuracy: 0.7496\n",
            "Epoch 10/10\n",
            "167/167 [==============================] - 4s 27ms/step - loss: 0.0305 - accuracy: 0.9840 - val_loss: 0.6908 - val_accuracy: 0.7474\n"
          ]
        }
      ]
    },
    {
      "cell_type": "code",
      "source": [
        "plot_loss_curve(history)"
      ],
      "metadata": {
        "colab": {
          "base_uri": "https://localhost:8080/",
          "height": 277
        },
        "id": "szVPbY26tDsB",
        "outputId": "64106315-0e98-4901-b0ed-dfe2b8de4cc6"
      },
      "execution_count": 109,
      "outputs": [
        {
          "output_type": "display_data",
          "data": {
            "text/plain": [
              "<Figure size 1000x500 with 2 Axes>"
            ],
            "image/png": "[encoded data removed]"
          },
          "metadata": {}
        }
      ]
    },
    {
      "cell_type": "code",
      "source": [
        "model_11.evaluate(val_sent,val_labels)  \n",
        "#loss value, accuracy"
      ],
      "metadata": {
        "colab": {
          "base_uri": "https://localhost:8080/"
        },
        "id": "wLlVGvnftDwQ",
        "outputId": "855e21a7-9fd0-4d3f-a5fa-e58f0176fd27"
      },
      "execution_count": 110,
      "outputs": [
        {
          "output_type": "stream",
          "name": "stdout",
          "text": [
            "72/72 [==============================] - 0s 5ms/step - loss: 0.6908 - accuracy: 0.7474\n"
          ]
        },
        {
          "output_type": "execute_result",
          "data": {
            "text/plain": [
              "[0.6907877326011658, 0.7473730444908142]"
            ]
          },
          "metadata": {},
          "execution_count": 110
        }
      ]
    },
    {
      "cell_type": "code",
      "source": [
        "model_1_pred = model_11.predict(val_sent)\n",
        "model_1_pred.shape"
      ],
      "metadata": {
        "colab": {
          "base_uri": "https://localhost:8080/"
        },
        "id": "lCWCXKI3tDzi",
        "outputId": "a6d5a5fd-bd73-45e8-a8c4-5e8288383bba"
      },
      "execution_count": 113,
      "outputs": [
        {
          "output_type": "stream",
          "name": "stdout",
          "text": [
            "72/72 [==============================] - 1s 6ms/step\n"
          ]
        },
        {
          "output_type": "execute_result",
          "data": {
            "text/plain": [
              "(2284, 1)"
            ]
          },
          "metadata": {},
          "execution_count": 113
        }
      ]
    },
    {
      "cell_type": "code",
      "source": [
        "model_1_pred = tf.squeeze(tf.round(model_1_pred))\n",
        "model_1_pred"
      ],
      "metadata": {
        "colab": {
          "base_uri": "https://localhost:8080/"
        },
        "id": "-sThoyfS3ZMs",
        "outputId": "45f0bdad-3c90-4065-d63b-99fdc1196c52"
      },
      "execution_count": 115,
      "outputs": [
        {
          "output_type": "execute_result",
          "data": {
            "text/plain": [
              "<tf.Tensor: shape=(2284,), dtype=float32, numpy=array([1., 0., 1., ..., 1., 0., 0.], dtype=float32)>"
            ]
          },
          "metadata": {},
          "execution_count": 115
        }
      ]
    },
    {
      "cell_type": "code",
      "source": [
        "calculate(model_1_pred,val_labels)"
      ],
      "metadata": {
        "colab": {
          "base_uri": "https://localhost:8080/"
        },
        "id": "-pAaQxjG3oa0",
        "outputId": "51b6b9d1-797e-430c-9b67-f8a7143f86a9"
      },
      "execution_count": 116,
      "outputs": [
        {
          "output_type": "stream",
          "name": "stdout",
          "text": [
            "Recall:  0.7091097308488613\n",
            "precision:  0.6982670744138634\n",
            "f1:  0.7036466358500256\n",
            "accuracy:  0.7473730297723292\n"
          ]
        }
      ]
    },
    {
      "cell_type": "markdown",
      "source": [
        "#Visualising learned embeddings"
      ],
      "metadata": {
        "id": "lDVHYEJu35Id"
      }
    },
    {
      "cell_type": "code",
      "source": [
        "vocab = tv.get_vocabulary()\n",
        "print(vocab[:10])"
      ],
      "metadata": {
        "colab": {
          "base_uri": "https://localhost:8080/"
        },
        "id": "e4X0AlVt4ACj",
        "outputId": "75899761-e4b6-4053-909f-0b59d4ce38ac"
      },
      "execution_count": 118,
      "outputs": [
        {
          "output_type": "stream",
          "name": "stdout",
          "text": [
            "['', '[UNK]', 'the', 'a', 'in', 'to', 'of', 'and', 'i', 'is']\n"
          ]
        }
      ]
    },
    {
      "cell_type": "code",
      "source": [
        "emb_weights = model_11.get_layer('embedding_2').get_weights()[0]\n",
        "emb_weights.shape"
      ],
      "metadata": {
        "colab": {
          "base_uri": "https://localhost:8080/"
        },
        "id": "JQRLiaII5Dkg",
        "outputId": "88039c0d-0769-405f-b370-b8d07c431d95"
      },
      "execution_count": 123,
      "outputs": [
        {
          "output_type": "execute_result",
          "data": {
            "text/plain": [
              "(10000, 128)"
            ]
          },
          "metadata": {},
          "execution_count": 123
        }
      ]
    },
    {
      "cell_type": "code",
      "source": [
        "#create emb file\n",
        "import io\n",
        "out_v = io.open('vectors.tsv', 'w',encoding = 'utf-8')\n",
        "out_m = io.open('metadata.tsv', 'w',encoding = 'utf-8')\n",
        "for index,word in enumerate(vocab):\n",
        "  if index ==0:\n",
        "    continue\n",
        "  vec = emb_weights[index]\n",
        "  out_v.write('\\t'.join([str(x) for x in vec]) + \"\\n\")\n",
        "  out_m.write(word+'\\n')  \n",
        "out_v.close()\n",
        "out_m.close()"
      ],
      "metadata": {
        "id": "8kzbztqa5YQ9"
      },
      "execution_count": 125,
      "outputs": []
    },
    {
      "cell_type": "code",
      "source": [],
      "metadata": {
        "id": "Z_f0SY5J5YUY"
      },
      "execution_count": null,
      "outputs": []
    },
    {
      "cell_type": "markdown",
      "source": [
        " # RNN,LSTM"
      ],
      "metadata": {
        "id": "wyoTbGW35YXi"
      }
    },
    {
      "cell_type": "code",
      "source": [
        "inputs = Input(shape= (1,),dtype='string')\n",
        "print(inputs.shape)\n",
        "x = tv(inputs)\n",
        "print(f'shape after vectorization {x.shape}')\n",
        "x = emb_layer(x)\n",
        "print(f'shape after embedding {x.shape}')\n",
        "x = layers.LSTM(64,return_sequences = True)(x)\n",
        "print(f'shape after LSTM 1st  {x.shape}')\n",
        "x = layers.LSTM(64)(x)\n",
        "print(f'shape after LSTM 2nd {x.shape}')\n",
        "outputs = Dense(1,activation='sigmoid')(x)\n",
        "model_2 = Model(inputs,outputs)\n",
        "model_2.summary()"
      ],
      "metadata": {
        "colab": {
          "base_uri": "https://localhost:8080/"
        },
        "id": "qfCyMRdQ5Ya1",
        "outputId": "72f5bc5e-73bf-44f3-d449-351ab1bb743d"
      },
      "execution_count": 130,
      "outputs": [
        {
          "output_type": "stream",
          "name": "stdout",
          "text": [
            "(None, 1)\n",
            "shape after vectorization (None, 15)\n",
            "shape after embedding (None, 15, 128)\n",
            "shape after LSTM 1st  (None, 15, 64)\n",
            "shape after LSTM 2nd (None, 64)\n",
            "Model: \"model_3\"\n",
            "_________________________________________________________________\n",
            " Layer (type)                Output Shape              Param #   \n",
            "=================================================================\n",
            " input_8 (InputLayer)        [(None, 1)]               0         \n",
            "                                                                 \n",
            " text_vectorization_5 (TextV  (None, 15)               0         \n",
            " ectorization)                                                   \n",
            "                                                                 \n",
            " embedding_2 (Embedding)     (None, 15, 128)           1280000   \n",
            "                                                                 \n",
            " lstm_8 (LSTM)               (None, 15, 64)            49408     \n",
            "                                                                 \n",
            " lstm_9 (LSTM)               (None, 64)                33024     \n",
            "                                                                 \n",
            " dense_6 (Dense)             (None, 1)                 65        \n",
            "                                                                 \n",
            "=================================================================\n",
            "Total params: 1,362,497\n",
            "Trainable params: 1,362,497\n",
            "Non-trainable params: 0\n",
            "_________________________________________________________________\n"
          ]
        }
      ]
    },
    {
      "cell_type": "code",
      "source": [
        "model_2.compile(loss = 'binary_crossentropy',\n",
        "                optimizer = 'adam',\n",
        "                metrics = ['accuracy'])\n",
        "history_lstm = model_2.fit(train_sent,train_labels,epochs=10,\n",
        "                              validation_data=(val_sent,val_labels),\n",
        "                              callbacks = [create_tensorboard_callback(save_dir,'model_2_lstm')])"
      ],
      "metadata": {
        "colab": {
          "base_uri": "https://localhost:8080/"
        },
        "id": "uBTHtanaB5k9",
        "outputId": "a50910da-2abc-4173-9fbc-93dcc29ada78"
      },
      "execution_count": 132,
      "outputs": [
        {
          "output_type": "stream",
          "name": "stdout",
          "text": [
            "Saving TensorBoard log files to: model_logs/model_2_lstm/20230522-195712\n",
            "Epoch 1/10\n",
            "167/167 [==============================] - 18s 73ms/step - loss: 0.1809 - accuracy: 0.9341 - val_loss: 0.9372 - val_accuracy: 0.7382\n",
            "Epoch 2/10\n",
            "167/167 [==============================] - 9s 53ms/step - loss: 0.0778 - accuracy: 0.9730 - val_loss: 0.7784 - val_accuracy: 0.7666\n",
            "Epoch 3/10\n",
            "167/167 [==============================] - 9s 55ms/step - loss: 0.0550 - accuracy: 0.9769 - val_loss: 0.8126 - val_accuracy: 0.7579\n",
            "Epoch 4/10\n",
            "167/167 [==============================] - 9s 56ms/step - loss: 0.0405 - accuracy: 0.9820 - val_loss: 0.9877 - val_accuracy: 0.7482\n",
            "Epoch 5/10\n",
            "167/167 [==============================] - 8s 49ms/step - loss: 0.0336 - accuracy: 0.9844 - val_loss: 1.2429 - val_accuracy: 0.7496\n",
            "Epoch 6/10\n",
            "167/167 [==============================] - 9s 56ms/step - loss: 0.0354 - accuracy: 0.9839 - val_loss: 1.1172 - val_accuracy: 0.7369\n",
            "Epoch 7/10\n",
            "167/167 [==============================] - 9s 56ms/step - loss: 0.0316 - accuracy: 0.9857 - val_loss: 0.9412 - val_accuracy: 0.7518\n",
            "Epoch 8/10\n",
            "167/167 [==============================] - 14s 84ms/step - loss: 0.0269 - accuracy: 0.9867 - val_loss: 1.3414 - val_accuracy: 0.7426\n",
            "Epoch 9/10\n",
            "167/167 [==============================] - 8s 50ms/step - loss: 0.0258 - accuracy: 0.9871 - val_loss: 1.5686 - val_accuracy: 0.7377\n",
            "Epoch 10/10\n",
            "167/167 [==============================] - 9s 55ms/step - loss: 0.0243 - accuracy: 0.9871 - val_loss: 1.8200 - val_accuracy: 0.7294\n"
          ]
        }
      ]
    },
    {
      "cell_type": "code",
      "source": [
        "print(model_2.evaluate(val_sent,val_labels))\n",
        "model_2_pred = model_2.predict(val_sent)\n",
        "model_2_pred = tf.squeeze(tf.round(model_2_pred))\n",
        "calculate(model_2_pred,val_labels)"
      ],
      "metadata": {
        "colab": {
          "base_uri": "https://localhost:8080/"
        },
        "id": "1I-WE6QkB5of",
        "outputId": "154d1ddd-e2dc-4751-a8e8-861a6042d10f"
      },
      "execution_count": 134,
      "outputs": [
        {
          "output_type": "stream",
          "name": "stdout",
          "text": [
            "72/72 [==============================] - 1s 18ms/step - loss: 1.8200 - accuracy: 0.7294\n",
            "[1.8199551105499268, 0.7294220924377441]\n",
            "72/72 [==============================] - 1s 8ms/step\n",
            "Recall:  0.6763848396501457\n",
            "precision:  0.709480122324159\n",
            "f1:  0.6925373134328358\n",
            "accuracy:  0.7294220665499125\n"
          ]
        }
      ]
    },
    {
      "cell_type": "markdown",
      "source": [
        "#Model 3: GRU"
      ],
      "metadata": {
        "id": "fc5S_-fNB5rK"
      }
    },
    {
      "cell_type": "code",
      "source": [
        "inputs = Input(shape= (1,),dtype='string')\n",
        "print(inputs.shape)\n",
        "x = tv(inputs)\n",
        "print(f'shape after vectorization {x.shape}')\n",
        "x = emb_layer(x)\n",
        "print(f'shape after embedding {x.shape}')\n",
        "#x = layers.GRU(64,return_sequences = True)(x)\n",
        "print(f'shape after LSTM 1st  {x.shape}')\n",
        "x = layers.GRU(64)(x)\n",
        "print(f'shape after LSTM 2nd {x.shape}')\n",
        "outputs = Dense(1,activation='sigmoid')(x)\n",
        "model_3 = Model(inputs,outputs)\n",
        "model_3.summary()"
      ],
      "metadata": {
        "colab": {
          "base_uri": "https://localhost:8080/"
        },
        "id": "v7gqkgXKB52P",
        "outputId": "c84d18cd-fafe-489b-d699-5fa78403e362"
      },
      "execution_count": 18,
      "outputs": [
        {
          "output_type": "stream",
          "name": "stdout",
          "text": [
            "(None, 1)\n",
            "shape after vectorization (None, 15)\n",
            "shape after embedding (None, 15, 128)\n",
            "shape after LSTM 1st  (None, 15, 128)\n",
            "shape after LSTM 2nd (None, 64)\n",
            "Model: \"model_2\"\n",
            "_________________________________________________________________\n",
            " Layer (type)                Output Shape              Param #   \n",
            "=================================================================\n",
            " input_3 (InputLayer)        [(None, 1)]               0         \n",
            "                                                                 \n",
            " text_vectorization (TextVec  (None, 15)               0         \n",
            " torization)                                                     \n",
            "                                                                 \n",
            " embedding (Embedding)       (None, 15, 128)           1280000   \n",
            "                                                                 \n",
            " gru_2 (GRU)                 (None, 64)                37248     \n",
            "                                                                 \n",
            " dense_2 (Dense)             (None, 1)                 65        \n",
            "                                                                 \n",
            "=================================================================\n",
            "Total params: 1,317,313\n",
            "Trainable params: 1,317,313\n",
            "Non-trainable params: 0\n",
            "_________________________________________________________________\n"
          ]
        }
      ]
    },
    {
      "cell_type": "code",
      "source": [
        "model_3.compile(loss = 'binary_crossentropy',\n",
        "                optimizer = 'adam',\n",
        "                metrics = ['accuracy'])\n",
        "history_gru = model_3.fit(train_sent,train_labels,epochs=10,\n",
        "                              validation_data=(val_sent,val_labels),\n",
        "                              callbacks = [create_tensorboard_callback(save_dir,'model_3_GRU')])"
      ],
      "metadata": {
        "colab": {
          "base_uri": "https://localhost:8080/"
        },
        "id": "GZ6EEdpEB55Q",
        "outputId": "81e27008-da12-4312-928a-4f9a209c4b70"
      },
      "execution_count": 23,
      "outputs": [
        {
          "output_type": "stream",
          "name": "stdout",
          "text": [
            "Saving TensorBoard log files to: model_logs/model_3_GRU/20230522-221144\n",
            "Epoch 1/10\n",
            "167/167 [==============================] - 10s 41ms/step - loss: 0.1797 - accuracy: 0.9249 - val_loss: 0.8209 - val_accuracy: 0.7456\n",
            "Epoch 2/10\n",
            "167/167 [==============================] - 7s 45ms/step - loss: 0.0618 - accuracy: 0.9792 - val_loss: 0.7590 - val_accuracy: 0.7369\n",
            "Epoch 3/10\n",
            "167/167 [==============================] - 6s 39ms/step - loss: 0.0463 - accuracy: 0.9801 - val_loss: 1.1530 - val_accuracy: 0.7404\n",
            "Epoch 4/10\n",
            "167/167 [==============================] - 8s 45ms/step - loss: 0.0334 - accuracy: 0.9846 - val_loss: 1.3440 - val_accuracy: 0.7447\n",
            "Epoch 5/10\n",
            "167/167 [==============================] - 8s 49ms/step - loss: 0.0322 - accuracy: 0.9850 - val_loss: 1.4667 - val_accuracy: 0.7338\n",
            "Epoch 6/10\n",
            "167/167 [==============================] - 8s 49ms/step - loss: 0.0350 - accuracy: 0.9825 - val_loss: 1.2259 - val_accuracy: 0.7264\n",
            "Epoch 7/10\n",
            "167/167 [==============================] - 8s 48ms/step - loss: 0.0431 - accuracy: 0.9812 - val_loss: 1.2261 - val_accuracy: 0.7373\n",
            "Epoch 8/10\n",
            "167/167 [==============================] - 8s 50ms/step - loss: 0.0359 - accuracy: 0.9829 - val_loss: 1.1640 - val_accuracy: 0.7412\n",
            "Epoch 9/10\n",
            "167/167 [==============================] - 9s 53ms/step - loss: 0.0306 - accuracy: 0.9854 - val_loss: 1.3080 - val_accuracy: 0.7430\n",
            "Epoch 10/10\n",
            "167/167 [==============================] - 9s 53ms/step - loss: 0.0267 - accuracy: 0.9852 - val_loss: 1.4407 - val_accuracy: 0.7487\n"
          ]
        }
      ]
    },
    {
      "cell_type": "code",
      "source": [
        "print(model_3.evaluate(val_sent,val_labels))\n",
        "model_3_pred = model_3.predict(val_sent)\n",
        "model_3_pred = tf.squeeze(tf.round(model_3_pred))\n",
        "calculate(model_3_pred,val_labels)"
      ],
      "metadata": {
        "colab": {
          "base_uri": "https://localhost:8080/"
        },
        "id": "e1P5RKhSg-P8",
        "outputId": "8ad978f3-67ba-4746-80fc-e3995d53d515"
      },
      "execution_count": 26,
      "outputs": [
        {
          "output_type": "stream",
          "name": "stdout",
          "text": [
            "72/72 [==============================] - 0s 5ms/step - loss: 1.4407 - accuracy: 0.7487\n",
            "[1.440698504447937, 0.7486864924430847]\n",
            "72/72 [==============================] - 0s 5ms/step\n",
            "Recall:  0.7158006362672322\n",
            "precision:  0.6880733944954128\n",
            "f1:  0.7016632016632017\n",
            "accuracy:  0.7486865148861647\n"
          ]
        }
      ]
    },
    {
      "cell_type": "markdown",
      "source": [
        "# Model 4: CNN+RNN"
      ],
      "metadata": {
        "id": "Cq6oBv4ehrKo"
      }
    },
    {
      "cell_type": "code",
      "source": [
        "embbeding_test = emb_layer(tv(['this is lot more to take']))\n",
        "print(embbeding_test.shape)\n",
        "conv_1d = layers.Conv1D(filters = 32 , kernel_size = 5 , activation = 'relu', padding = 'same')\n",
        "conv_1d_output = conv_1d(embbeding_test)\n",
        "print(conv_1d_output.shape)\n",
        "max_pool = layers.GlobalAveragePooling1D()\n",
        "max_pool_output = max_pool(conv_1d_output)\n",
        "print(f'after max_pooling {max_pool_output.shape}')"
      ],
      "metadata": {
        "colab": {
          "base_uri": "https://localhost:8080/"
        },
        "id": "VQytatuUhrPh",
        "outputId": "045eb709-5670-4003-b630-7415cb7ce209"
      },
      "execution_count": 34,
      "outputs": [
        {
          "output_type": "stream",
          "name": "stdout",
          "text": [
            "(1, 15, 128)\n",
            "(1, 15, 32)\n",
            "after max_pooling (1, 32)\n"
          ]
        }
      ]
    },
    {
      "cell_type": "code",
      "source": [
        "max_pool_output"
      ],
      "metadata": {
        "colab": {
          "base_uri": "https://localhost:8080/"
        },
        "id": "q2RRpnqchrTZ",
        "outputId": "a624cfbf-c610-41ec-ac79-e64bca0d10e3"
      },
      "execution_count": 31,
      "outputs": [
        {
          "output_type": "execute_result",
          "data": {
            "text/plain": [
              "<tf.Tensor: shape=(1, 32), dtype=float32, numpy=\n",
              "array([[0.03508126, 0.0230141 , 0.02771521, 0.05257925, 0.00696143,\n",
              "        0.00329137, 0.01977537, 0.00192625, 0.02817536, 0.01015444,\n",
              "        0.03850311, 0.0019046 , 0.02092221, 0.01030509, 0.03265837,\n",
              "        0.05517326, 0.00463993, 0.03192202, 0.01709635, 0.01520239,\n",
              "        0.0158956 , 0.02349227, 0.02504365, 0.01048205, 0.01706977,\n",
              "        0.01787062, 0.01316416, 0.00175798, 0.0249137 , 0.00220846,\n",
              "        0.00920465, 0.01994438]], dtype=float32)>"
            ]
          },
          "metadata": {},
          "execution_count": 31
        }
      ]
    },
    {
      "cell_type": "code",
      "source": [
        "from keras.api._v2.keras import activations\n",
        "#create 1-d layer\n",
        "inputs = Input(shape= (1,),dtype='string')\n",
        "print(inputs.shape)\n",
        "x = tv(inputs)\n",
        "print(f'shape after vectorization {x.shape}')\n",
        "\n",
        "x = emb_layer(x)\n",
        "print(f'shape after embedding {x.shape}')\n",
        "\n",
        "x = layers.Conv1D(filters =64 ,kernel_size = 5 ,padding = 'same',activation='relu')(x)\n",
        "print(f'shape after conv1D 2nd {x.shape}')\n",
        "\n",
        "x = layers.GlobalMaxPool1D()(x)\n",
        "outputs = Dense(1,activation='sigmoid')(x)\n",
        "model_4 = Model(inputs,outputs)\n",
        "model_4.summary()"
      ],
      "metadata": {
        "colab": {
          "base_uri": "https://localhost:8080/"
        },
        "id": "0T4HNsR8hrXI",
        "outputId": "38866a42-eb53-4161-bb2c-18763c121db3"
      },
      "execution_count": 37,
      "outputs": [
        {
          "output_type": "stream",
          "name": "stdout",
          "text": [
            "(None, 1)\n",
            "shape after vectorization (None, 15)\n",
            "shape after embedding (None, 15, 128)\n",
            "shape after conv1D 2nd (None, 15, 64)\n",
            "Model: \"model_3\"\n",
            "_________________________________________________________________\n",
            " Layer (type)                Output Shape              Param #   \n",
            "=================================================================\n",
            " input_6 (InputLayer)        [(None, 1)]               0         \n",
            "                                                                 \n",
            " text_vectorization (TextVec  (None, 15)               0         \n",
            " torization)                                                     \n",
            "                                                                 \n",
            " embedding (Embedding)       (None, 15, 128)           1280000   \n",
            "                                                                 \n",
            " conv1d_6 (Conv1D)           (None, 15, 64)            41024     \n",
            "                                                                 \n",
            " global_max_pooling1d (Globa  (None, 64)               0         \n",
            " lMaxPooling1D)                                                  \n",
            "                                                                 \n",
            " dense_3 (Dense)             (None, 1)                 65        \n",
            "                                                                 \n",
            "=================================================================\n",
            "Total params: 1,321,089\n",
            "Trainable params: 1,321,089\n",
            "Non-trainable params: 0\n",
            "_________________________________________________________________\n"
          ]
        }
      ]
    },
    {
      "cell_type": "code",
      "source": [
        "model_4.compile(loss = 'binary_crossentropy',\n",
        "                optimizer = 'adam',\n",
        "                metrics = ['accuracy'])\n",
        "history_conv = model_4.fit(train_sent,train_labels,epochs=10,\n",
        "                              validation_data=(val_sent,val_labels),\n",
        "                              callbacks = [create_tensorboard_callback(save_dir,'model_3_conv')])"
      ],
      "metadata": {
        "colab": {
          "base_uri": "https://localhost:8080/"
        },
        "id": "9M7RxXgPhrai",
        "outputId": "074fbe17-c8ad-4f56-bf0d-ec00cbbb7789"
      },
      "execution_count": 38,
      "outputs": [
        {
          "output_type": "stream",
          "name": "stdout",
          "text": [
            "Saving TensorBoard log files to: model_logs/model_3_conv/20230522-223702\n",
            "Epoch 1/10\n",
            "167/167 [==============================] - 6s 31ms/step - loss: 0.1401 - accuracy: 0.9688 - val_loss: 0.8685 - val_accuracy: 0.7430\n",
            "Epoch 2/10\n",
            "167/167 [==============================] - 4s 24ms/step - loss: 0.0572 - accuracy: 0.9822 - val_loss: 1.0098 - val_accuracy: 0.7408\n",
            "Epoch 3/10\n",
            "167/167 [==============================] - 5s 27ms/step - loss: 0.0438 - accuracy: 0.9840 - val_loss: 1.1215 - val_accuracy: 0.7386\n",
            "Epoch 4/10\n",
            "167/167 [==============================] - 5s 27ms/step - loss: 0.0420 - accuracy: 0.9840 - val_loss: 1.1370 - val_accuracy: 0.7395\n",
            "Epoch 5/10\n",
            "167/167 [==============================] - 5s 32ms/step - loss: 0.0392 - accuracy: 0.9824 - val_loss: 1.1307 - val_accuracy: 0.7408\n",
            "Epoch 6/10\n",
            "167/167 [==============================] - 5s 30ms/step - loss: 0.0370 - accuracy: 0.9831 - val_loss: 1.1579 - val_accuracy: 0.7395\n",
            "Epoch 7/10\n",
            "167/167 [==============================] - 5s 30ms/step - loss: 0.0340 - accuracy: 0.9833 - val_loss: 1.1825 - val_accuracy: 0.7342\n",
            "Epoch 8/10\n",
            "167/167 [==============================] - 4s 25ms/step - loss: 0.0332 - accuracy: 0.9863 - val_loss: 1.2105 - val_accuracy: 0.7325\n",
            "Epoch 9/10\n",
            "167/167 [==============================] - 5s 31ms/step - loss: 0.0316 - accuracy: 0.9846 - val_loss: 1.2062 - val_accuracy: 0.7364\n",
            "Epoch 10/10\n",
            "167/167 [==============================] - 4s 24ms/step - loss: 0.0315 - accuracy: 0.9852 - val_loss: 1.2412 - val_accuracy: 0.7360\n"
          ]
        }
      ]
    },
    {
      "cell_type": "code",
      "source": [
        "print(model_4.evaluate(val_sent,val_labels))\n",
        "model_4_pred = model_4.predict(val_sent)\n",
        "model_4_pred = tf.squeeze(tf.round(model_4_pred))\n",
        "calculate(model_4_pred,val_labels)"
      ],
      "metadata": {
        "colab": {
          "base_uri": "https://localhost:8080/"
        },
        "id": "kAqDPDvBl0CM",
        "outputId": "2a388b56-c493-46fe-ead2-952d29f1cf00"
      },
      "execution_count": 40,
      "outputs": [
        {
          "output_type": "stream",
          "name": "stdout",
          "text": [
            "72/72 [==============================] - 0s 4ms/step - loss: 1.2412 - accuracy: 0.7360\n",
            "[1.2411848306655884, 0.735989511013031]\n",
            "72/72 [==============================] - 0s 3ms/step\n",
            "Recall:  0.6940451745379876\n",
            "precision:  0.6890927624872579\n",
            "f1:  0.6915601023017903\n",
            "accuracy:  0.7359894921190894\n"
          ]
        }
      ]
    },
    {
      "cell_type": "markdown",
      "source": [
        "# Transfer Learning"
      ],
      "metadata": {
        "id": "b5qGurPDl0F1"
      }
    },
    {
      "cell_type": "code",
      "source": [
        "sample_sent = 'getting emb from tensorflow from the hub to test embeddings'"
      ],
      "metadata": {
        "id": "4mBero1ypHN_"
      },
      "execution_count": 43,
      "outputs": []
    },
    {
      "cell_type": "code",
      "source": [
        "import tensorflow_hub as hub\n",
        "embed = hub.load('https://tfhub.dev/google/universal-sentence-encoder/4')\n"
      ],
      "metadata": {
        "id": "X5IP5RNSl0Ig"
      },
      "execution_count": 46,
      "outputs": []
    },
    {
      "cell_type": "code",
      "source": [
        "embed_samples = embed([sample_sent])"
      ],
      "metadata": {
        "id": "nH7OZ6OBl0LN"
      },
      "execution_count": 48,
      "outputs": []
    },
    {
      "cell_type": "code",
      "source": [
        "embed_samples"
      ],
      "metadata": {
        "colab": {
          "base_uri": "https://localhost:8080/"
        },
        "id": "UCRu-RaBqHn6",
        "outputId": "8019ffb2-1b40-4b73-c14a-2a7ceaaf4d50"
      },
      "execution_count": 49,
      "outputs": [
        {
          "output_type": "execute_result",
          "data": {
            "text/plain": [
              "<tf.Tensor: shape=(1, 512), dtype=float32, numpy=\n",
              "array([[ 0.01138486, -0.01672327, -0.02860833, -0.0825337 ,  0.00614455,\n",
              "        -0.00380579,  0.03867117, -0.0219191 ,  0.00978584,  0.08064254,\n",
              "        -0.04822609,  0.01612809,  0.05350494,  0.04545963, -0.01893891,\n",
              "         0.08785636,  0.01614096, -0.0768808 ,  0.05144043,  0.0211668 ,\n",
              "        -0.06401593, -0.0076989 , -0.00831262,  0.06397573,  0.03379169,\n",
              "         0.0535719 , -0.05455587,  0.02933102, -0.01418055,  0.03905835,\n",
              "        -0.01599538, -0.03244713, -0.04446892,  0.05364931, -0.04719144,\n",
              "         0.02437988, -0.06727277, -0.01718312, -0.01396491,  0.04000387,\n",
              "         0.00529985,  0.07592711, -0.0079187 , -0.01617762,  0.08496899,\n",
              "         0.03039993, -0.04900959, -0.04672401,  0.0501508 ,  0.05813691,\n",
              "        -0.07480127, -0.001275  ,  0.07852298,  0.00634277, -0.05348843,\n",
              "        -0.07936764, -0.04954092, -0.00191783, -0.00473801,  0.06246899,\n",
              "        -0.06732973,  0.00915539, -0.02670949,  0.02723817, -0.06715828,\n",
              "        -0.06276588,  0.02960585, -0.00676952, -0.06882717,  0.02875048,\n",
              "        -0.02192477,  0.02194856, -0.08121782,  0.05444491,  0.03006336,\n",
              "        -0.02667808, -0.01217306,  0.03118544,  0.0384127 , -0.02195183,\n",
              "        -0.04407611, -0.06205634, -0.07228816, -0.00130256,  0.05420039,\n",
              "         0.02937163, -0.05264434,  0.0067406 ,  0.05782665, -0.04090599,\n",
              "         0.01702254,  0.03081191,  0.04762336,  0.02495903, -0.04034313,\n",
              "        -0.00396807,  0.04062376, -0.01247284, -0.0181559 , -0.07421659,\n",
              "        -0.01122942,  0.05140214,  0.00041201,  0.06667908, -0.04869432,\n",
              "         0.00206691,  0.00612855, -0.05392647, -0.05404012, -0.04612007,\n",
              "         0.05015014,  0.03357486, -0.05885413,  0.01670525,  0.05496709,\n",
              "        -0.02539964, -0.00718629, -0.01506671, -0.03465168, -0.00376043,\n",
              "        -0.05113512,  0.06880873, -0.00955371,  0.01692489,  0.00088004,\n",
              "         0.02656867, -0.00106118,  0.03340342,  0.04395765,  0.0089317 ,\n",
              "         0.07248383, -0.00793764,  0.00701523, -0.07169563, -0.01263895,\n",
              "        -0.04388627, -0.06582958, -0.00708435,  0.05329435, -0.08569472,\n",
              "        -0.01059172,  0.04727482,  0.02645144, -0.02258557,  0.07427759,\n",
              "        -0.06584409,  0.01141691,  0.01512496,  0.03484751, -0.01326256,\n",
              "         0.07425097, -0.00150499,  0.05580412, -0.01343784,  0.04870526,\n",
              "         0.03560581,  0.03304646, -0.07416977, -0.00308708,  0.0241874 ,\n",
              "        -0.06578703,  0.0020576 ,  0.03105261, -0.00986048, -0.0397528 ,\n",
              "        -0.03930256, -0.02550647, -0.02104809,  0.00885767, -0.00207554,\n",
              "        -0.00139207,  0.0110516 ,  0.07711608,  0.04857401,  0.06053641,\n",
              "        -0.04592478,  0.05266221,  0.04724864, -0.00676671,  0.0272234 ,\n",
              "         0.07471995,  0.03187732, -0.00204846, -0.05067495,  0.04992733,\n",
              "         0.04612216, -0.00963379, -0.03822501,  0.03437535,  0.01539274,\n",
              "         0.05566753, -0.03699001, -0.03890197,  0.03828752,  0.07400222,\n",
              "         0.02210908, -0.04249933,  0.08724841,  0.07412097,  0.05272521,\n",
              "         0.08514404, -0.04658598, -0.04896364,  0.08281136, -0.00898457,\n",
              "        -0.07665732, -0.07593978,  0.00811501, -0.05388385,  0.01888818,\n",
              "        -0.03159639, -0.01430815,  0.04157963, -0.05009396, -0.07118176,\n",
              "        -0.03568421, -0.02559978,  0.07310569, -0.01530621, -0.02606619,\n",
              "         0.03893198, -0.00814495,  0.02955525,  0.00206846,  0.07539223,\n",
              "        -0.02861606,  0.06714887,  0.02021441, -0.07726507, -0.00726555,\n",
              "        -0.00042408, -0.03162238,  0.04483117, -0.0317464 , -0.02313635,\n",
              "         0.0233578 , -0.00105028,  0.03401923, -0.0075825 , -0.00895611,\n",
              "         0.04785631, -0.02172481,  0.05264575,  0.05799794,  0.04249334,\n",
              "         0.04889082,  0.0378624 , -0.02885599,  0.02556983,  0.00646128,\n",
              "        -0.04294851,  0.06601212,  0.01831679,  0.06227977, -0.04845075,\n",
              "         0.06796829, -0.04653815, -0.07945565,  0.01562727,  0.06802925,\n",
              "         0.06500494,  0.03318577, -0.03652401,  0.05583064,  0.05242688,\n",
              "         0.00264631, -0.04749527,  0.01341333,  0.0281194 , -0.04700337,\n",
              "        -0.00121666,  0.01829677,  0.0734302 ,  0.07646843, -0.07459161,\n",
              "         0.07936595, -0.01205515, -0.07128784,  0.07739034,  0.01290879,\n",
              "        -0.06919734, -0.02409743,  0.03665057, -0.04421735,  0.04489852,\n",
              "        -0.06195801, -0.01892515,  0.07809295, -0.00578309,  0.06787407,\n",
              "         0.07329189,  0.04433249,  0.03011889,  0.01731302,  0.02573477,\n",
              "         0.00180116,  0.0518236 ,  0.05081582, -0.06152516, -0.04834269,\n",
              "        -0.00240145,  0.00203727,  0.02363352,  0.00650482, -0.02364082,\n",
              "         0.02751166, -0.04597537,  0.04464968, -0.05388819, -0.05072251,\n",
              "         0.00526672,  0.05638673, -0.00540066, -0.08543143, -0.0185777 ,\n",
              "         0.02240946, -0.00642362,  0.01428254, -0.03360904,  0.01405325,\n",
              "        -0.05905669,  0.03265757,  0.03246575,  0.0089191 ,  0.03648566,\n",
              "        -0.04804228,  0.00695495,  0.05273157, -0.02576865, -0.06962478,\n",
              "         0.01158034, -0.02625928,  0.04863748,  0.01827136,  0.04513922,\n",
              "         0.02197455, -0.08305383, -0.01155658,  0.01417619,  0.00462828,\n",
              "        -0.00987067, -0.03316151, -0.003416  , -0.00874447, -0.08810373,\n",
              "        -0.00721055, -0.07108872,  0.07065987, -0.0723388 ,  0.01483239,\n",
              "        -0.02515518,  0.04346438,  0.06386907,  0.0396181 , -0.00951403,\n",
              "        -0.01540712, -0.08668728,  0.00699044, -0.01113884, -0.0639509 ,\n",
              "         0.00677904, -0.02347845, -0.08618491,  0.03721115,  0.0614153 ,\n",
              "        -0.02526788, -0.00403792, -0.03707574,  0.06952855,  0.04729332,\n",
              "        -0.00485747,  0.01787639, -0.03294132, -0.07836551,  0.03497053,\n",
              "        -0.01148536, -0.07858338, -0.04619083,  0.00095432, -0.00553156,\n",
              "         0.08347344, -0.07693276,  0.05428433, -0.06004149, -0.04404335,\n",
              "        -0.04006796,  0.0750722 ,  0.0001143 ,  0.05691506, -0.03873203,\n",
              "        -0.00340093, -0.01183302,  0.01579449, -0.01405201,  0.04356359,\n",
              "         0.07133334,  0.06521089, -0.04716862, -0.06847216,  0.02918751,\n",
              "         0.06791564, -0.03402354, -0.00466367,  0.02816266,  0.03725259,\n",
              "        -0.03979208, -0.0691245 ,  0.0613977 ,  0.0595406 , -0.01123491,\n",
              "        -0.02770562, -0.02417688, -0.02962358, -0.01312769, -0.01894888,\n",
              "        -0.01015777,  0.00171232,  0.04101439,  0.04588443,  0.04378232,\n",
              "         0.03487727, -0.0451358 ,  0.02761649,  0.01151402,  0.04427367,\n",
              "        -0.05339393, -0.0692711 ,  0.00566422, -0.03067806,  0.05777079,\n",
              "        -0.05946048,  0.0104759 , -0.04970397,  0.00550582, -0.06106755,\n",
              "         0.05124179,  0.03681039,  0.02681877, -0.0571438 ,  0.01617845,\n",
              "        -0.01435462, -0.0361945 , -0.00366116, -0.0424842 ,  0.02651382,\n",
              "        -0.08169899, -0.07593937, -0.00125382,  0.03579356, -0.00915   ,\n",
              "         0.07840127,  0.0609353 ,  0.0837488 ,  0.0167619 ,  0.00635446,\n",
              "        -0.04790602, -0.04566189, -0.01665642,  0.07977787,  0.03357499,\n",
              "         0.04659267,  0.04225449,  0.05253496,  0.03199712,  0.0221794 ,\n",
              "         0.00886545, -0.00632482, -0.00601764,  0.03833229, -0.0730861 ,\n",
              "         0.0253952 , -0.0649325 ,  0.06250009,  0.02464933,  0.02476957,\n",
              "         0.04493079, -0.04915009,  0.01375288, -0.05921695, -0.02520455,\n",
              "         0.06038329, -0.01556289,  0.06021304,  0.03361754,  0.0169687 ,\n",
              "         0.05536139,  0.01665063,  0.0234401 ,  0.01920069,  0.01202737,\n",
              "        -0.02958607,  0.05156529, -0.01555737,  0.0370053 ,  0.05452268,\n",
              "         0.01629158, -0.04894416,  0.00788115, -0.075044  , -0.04619493,\n",
              "        -0.01291343,  0.01613262, -0.05685923, -0.00525324, -0.03524689,\n",
              "        -0.0652518 , -0.01545885,  0.00979707, -0.00431436,  0.087615  ,\n",
              "        -0.05976675, -0.04077546]], dtype=float32)>"
            ]
          },
          "metadata": {},
          "execution_count": 49
        }
      ]
    },
    {
      "cell_type": "code",
      "source": [
        "#create a Keras Layer using pretrained layer ftom tensorflow hub\n",
        "sentence_encoder_layer = hub.KerasLayer('https://tfhub.dev/google/universal-sentence-encoder/4',\n",
        "                                        input_shape = [],\n",
        "                                        dtype = tf.string,\n",
        "                                        name = 'USE')\n"
      ],
      "metadata": {
        "id": "p-r7bGu_qZ65"
      },
      "execution_count": 51,
      "outputs": []
    },
    {
      "cell_type": "code",
      "source": [
        "model_5 = tf.keras.Sequential([\n",
        "    sentence_encoder_layer,\n",
        "    #layers.Dense(64,activation = 'relu')\n",
        "    layers.Dense(1,activation='sigmoid')\n",
        "])\n",
        "\n",
        "model_5.compile(loss = 'binary_crossentropy',\n",
        "                optimizer = 'adam',\n",
        "                metrics = ['accuracy'])\n",
        "history_use = model_5.fit(train_sent,train_labels,epochs=10,\n",
        "                              validation_data=(val_sent,val_labels),\n",
        "                              callbacks = [create_tensorboard_callback(save_dir,'model_5_use')])"
      ],
      "metadata": {
        "colab": {
          "base_uri": "https://localhost:8080/"
        },
        "id": "Nn7lCZPKqaGB",
        "outputId": "fc21923c-4d79-43de-88a1-e528911c1b12"
      },
      "execution_count": 53,
      "outputs": [
        {
          "output_type": "stream",
          "name": "stdout",
          "text": [
            "Saving TensorBoard log files to: model_logs/model_5_use/20230522-225837\n",
            "Epoch 1/10\n",
            "167/167 [==============================] - 8s 27ms/step - loss: 0.6612 - accuracy: 0.7082 - val_loss: 0.6301 - val_accuracy: 0.7627\n",
            "Epoch 2/10\n",
            "167/167 [==============================] - 3s 20ms/step - loss: 0.6022 - accuracy: 0.7857 - val_loss: 0.5841 - val_accuracy: 0.7745\n",
            "Epoch 3/10\n",
            "167/167 [==============================] - 3s 20ms/step - loss: 0.5603 - accuracy: 0.7925 - val_loss: 0.5516 - val_accuracy: 0.7806\n",
            "Epoch 4/10\n",
            "167/167 [==============================] - 3s 17ms/step - loss: 0.5303 - accuracy: 0.7970 - val_loss: 0.5281 - val_accuracy: 0.7815\n",
            "Epoch 5/10\n",
            "167/167 [==============================] - 4s 24ms/step - loss: 0.5082 - accuracy: 0.8011 - val_loss: 0.5109 - val_accuracy: 0.7824\n",
            "Epoch 6/10\n",
            "167/167 [==============================] - 3s 20ms/step - loss: 0.4915 - accuracy: 0.8028 - val_loss: 0.4980 - val_accuracy: 0.7811\n",
            "Epoch 7/10\n",
            "167/167 [==============================] - 4s 25ms/step - loss: 0.4786 - accuracy: 0.8037 - val_loss: 0.4879 - val_accuracy: 0.7868\n",
            "Epoch 8/10\n",
            "167/167 [==============================] - 3s 21ms/step - loss: 0.4683 - accuracy: 0.8052 - val_loss: 0.4799 - val_accuracy: 0.7868\n",
            "Epoch 9/10\n",
            "167/167 [==============================] - 4s 23ms/step - loss: 0.4600 - accuracy: 0.8077 - val_loss: 0.4735 - val_accuracy: 0.7877\n",
            "Epoch 10/10\n",
            "167/167 [==============================] - 3s 20ms/step - loss: 0.4531 - accuracy: 0.8075 - val_loss: 0.4682 - val_accuracy: 0.7890\n"
          ]
        }
      ]
    },
    {
      "cell_type": "code",
      "source": [
        "print(model_5.evaluate(val_sent,val_labels))\n",
        "model_5_pred = model_5.predict(val_sent)\n",
        "model_5_pred = tf.squeeze(tf.round(model_5_pred))\n",
        "calculate(model_5_pred,val_labels)"
      ],
      "metadata": {
        "colab": {
          "base_uri": "https://localhost:8080/"
        },
        "id": "Vy07iBEAqaKu",
        "outputId": "64358738-2bfe-4d68-e67e-a39a7d7e81eb"
      },
      "execution_count": 54,
      "outputs": [
        {
          "output_type": "stream",
          "name": "stdout",
          "text": [
            "72/72 [==============================] - 2s 22ms/step - loss: 0.4682 - accuracy: 0.7890\n",
            "[0.4682352542877197, 0.788966715335846]\n",
            "72/72 [==============================] - 1s 11ms/step\n",
            "Recall:  0.7634635691657867\n",
            "precision:  0.7370030581039755\n",
            "f1:  0.7499999999999999\n",
            "accuracy:  0.7889667250437828\n"
          ]
        }
      ]
    },
    {
      "cell_type": "code",
      "source": [
        "model_5_1 = tf.keras.Sequential([\n",
        "    sentence_encoder_layer,\n",
        "    layers.Dense(64,activation = 'relu'),\n",
        "    layers.Dense(1,activation='sigmoid')\n",
        "])\n",
        "\n",
        "model_5_1.compile(loss = 'binary_crossentropy',\n",
        "                optimizer = 'adam',\n",
        "                metrics = ['accuracy'])\n",
        "history_use = model_5_1.fit(train_sent,train_labels,epochs=15,\n",
        "                              validation_data=(val_sent,val_labels),\n",
        "                              callbacks = [create_tensorboard_callback(save_dir,'model_5_use')])"
      ],
      "metadata": {
        "colab": {
          "base_uri": "https://localhost:8080/"
        },
        "id": "CKKBkZR0qaOf",
        "outputId": "a0e23b26-b6f1-4871-8eee-7e8fbbf4c716"
      },
      "execution_count": 55,
      "outputs": [
        {
          "output_type": "stream",
          "name": "stdout",
          "text": [
            "Saving TensorBoard log files to: model_logs/model_5_use/20230522-230132\n",
            "Epoch 1/15\n",
            "167/167 [==============================] - 6s 27ms/step - loss: 0.5243 - accuracy: 0.7788 - val_loss: 0.4459 - val_accuracy: 0.8008\n",
            "Epoch 2/15\n",
            "167/167 [==============================] - 3s 21ms/step - loss: 0.4193 - accuracy: 0.8118 - val_loss: 0.4305 - val_accuracy: 0.8082\n",
            "Epoch 3/15\n",
            "167/167 [==============================] - 3s 21ms/step - loss: 0.4019 - accuracy: 0.8242 - val_loss: 0.4288 - val_accuracy: 0.8060\n",
            "Epoch 4/15\n",
            "167/167 [==============================] - 4s 22ms/step - loss: 0.3928 - accuracy: 0.8262 - val_loss: 0.4252 - val_accuracy: 0.8109\n",
            "Epoch 5/15\n",
            "167/167 [==============================] - 4s 23ms/step - loss: 0.3841 - accuracy: 0.8352 - val_loss: 0.4240 - val_accuracy: 0.8122\n",
            "Epoch 6/15\n",
            "167/167 [==============================] - 3s 18ms/step - loss: 0.3785 - accuracy: 0.8354 - val_loss: 0.4261 - val_accuracy: 0.8113\n",
            "Epoch 7/15\n",
            "167/167 [==============================] - 4s 21ms/step - loss: 0.3721 - accuracy: 0.8397 - val_loss: 0.4245 - val_accuracy: 0.8130\n",
            "Epoch 8/15\n",
            "167/167 [==============================] - 4s 25ms/step - loss: 0.3644 - accuracy: 0.8424 - val_loss: 0.4250 - val_accuracy: 0.8126\n",
            "Epoch 9/15\n",
            "167/167 [==============================] - 3s 17ms/step - loss: 0.3585 - accuracy: 0.8435 - val_loss: 0.4271 - val_accuracy: 0.8135\n",
            "Epoch 10/15\n",
            "167/167 [==============================] - 3s 18ms/step - loss: 0.3534 - accuracy: 0.8484 - val_loss: 0.4293 - val_accuracy: 0.8104\n",
            "Epoch 11/15\n",
            "167/167 [==============================] - 3s 18ms/step - loss: 0.3470 - accuracy: 0.8491 - val_loss: 0.4333 - val_accuracy: 0.8104\n",
            "Epoch 12/15\n",
            "167/167 [==============================] - 4s 25ms/step - loss: 0.3400 - accuracy: 0.8519 - val_loss: 0.4327 - val_accuracy: 0.8104\n",
            "Epoch 13/15\n",
            "167/167 [==============================] - 3s 21ms/step - loss: 0.3337 - accuracy: 0.8559 - val_loss: 0.4334 - val_accuracy: 0.8104\n",
            "Epoch 14/15\n",
            "167/167 [==============================] - 3s 21ms/step - loss: 0.3264 - accuracy: 0.8576 - val_loss: 0.4336 - val_accuracy: 0.8157\n",
            "Epoch 15/15\n",
            "167/167 [==============================] - 3s 16ms/step - loss: 0.3196 - accuracy: 0.8630 - val_loss: 0.4347 - val_accuracy: 0.8152\n"
          ]
        }
      ]
    },
    {
      "cell_type": "code",
      "source": [
        "print(model_5_1.evaluate(val_sent,val_labels))\n",
        "model_5_1_pred = model_5.predict(val_sent)\n",
        "model_5_1_pred = tf.squeeze(tf.round(model_5_1_pred))\n",
        "calculate(model_5_1_pred,val_labels)"
      ],
      "metadata": {
        "colab": {
          "base_uri": "https://localhost:8080/"
        },
        "id": "ciXlkaClqaRX",
        "outputId": "fa3d3751-2352-40dd-d810-352d3854deb2"
      },
      "execution_count": 56,
      "outputs": [
        {
          "output_type": "stream",
          "name": "stdout",
          "text": [
            "72/72 [==============================] - 2s 21ms/step - loss: 0.4347 - accuracy: 0.8152\n",
            "[0.4347124695777893, 0.8152364492416382]\n",
            "72/72 [==============================] - 1s 16ms/step\n",
            "Recall:  0.7634635691657867\n",
            "precision:  0.7370030581039755\n",
            "f1:  0.7499999999999999\n",
            "accuracy:  0.7889667250437828\n"
          ]
        }
      ]
    },
    {
      "cell_type": "markdown",
      "source": [
        "#Model 7:TFHUB Pretrained USE but 10% data"
      ],
      "metadata": {
        "id": "y4yl2y6yqaU3"
      }
    },
    {
      "cell_type": "code",
      "source": [
        "#10% of training data\n",
        "train_10 =train[['text','target']].sample(frac = 1,random_state=42)\n",
        "train_sent_10 = train_10['text']\n",
        "train_label_10 = train_10['target']"
      ],
      "metadata": {
        "id": "sFdKLwYuvEAY"
      },
      "execution_count": 59,
      "outputs": []
    },
    {
      "cell_type": "code",
      "source": [
        "train_sent_10"
      ],
      "metadata": {
        "colab": {
          "base_uri": "https://localhost:8080/"
        },
        "id": "UOnNboySvEER",
        "outputId": "9f815c4e-b8fb-405c-9799-733fab5c686c"
      },
      "execution_count": 60,
      "outputs": [
        {
          "output_type": "execute_result",
          "data": {
            "text/plain": [
              "3020    DUST IN THE WIND: @82ndABNDIV paratroopers mov...\n",
              "5837    #360WiseNews : China's Stock Market Crash: Are...\n",
              "3073    Achievement Unlocked: Replaced Light Socket; D...\n",
              "4882    I just bought tickets to DEATH BED / DUDE BRO ...\n",
              "6842    Hollywood movie about trapped miners released ...\n",
              "                              ...                        \n",
              "5816    Turning rubble from disasters into 'Lego' bric...\n",
              "2900       @Lwilliams_13 I'll drown you in the river walk\n",
              "814     New print available on http://t.co/ucy5fEA9yu!...\n",
              "325     Vladimir Putin Issues Major Warning But Is It ...\n",
              "1718    My @MLG and food worlds have collided in this ...\n",
              "Name: text, Length: 7613, dtype: object"
            ]
          },
          "metadata": {},
          "execution_count": 60
        }
      ]
    },
    {
      "cell_type": "code",
      "source": [],
      "metadata": {
        "id": "9vETOArywTFy"
      },
      "execution_count": null,
      "outputs": []
    },
    {
      "cell_type": "code",
      "source": [
        "#to build like same prev model we use clone_model()\n",
        "#clone_model creates a new inputs, layers and weights instead of sharing the wieghs for diff inp\n"
      ],
      "metadata": {
        "id": "rw2Fp5FRvlNc"
      },
      "execution_count": null,
      "outputs": []
    },
    {
      "cell_type": "code",
      "source": [
        "model_6 = tf.keras.models.clone_model(model_5_1)\n",
        "\n",
        "model_6.compile(loss ='binary_crossentropy' ,optimizer = 'adam',metrics = ['accuracy'] )\n",
        "model_6.summary()"
      ],
      "metadata": {
        "colab": {
          "base_uri": "https://localhost:8080/"
        },
        "id": "bcTT-S0_wHd6",
        "outputId": "a5fba3dd-bc46-4d36-b3a2-65e65130b7c3"
      },
      "execution_count": 61,
      "outputs": [
        {
          "output_type": "stream",
          "name": "stdout",
          "text": [
            "Model: \"sequential_1\"\n",
            "_________________________________________________________________\n",
            " Layer (type)                Output Shape              Param #   \n",
            "=================================================================\n",
            " USE (KerasLayer)            (None, 512)               256797824 \n",
            "                                                                 \n",
            " dense_5 (Dense)             (None, 64)                32832     \n",
            "                                                                 \n",
            " dense_6 (Dense)             (None, 1)                 65        \n",
            "                                                                 \n",
            "=================================================================\n",
            "Total params: 256,830,721\n",
            "Trainable params: 32,897\n",
            "Non-trainable params: 256,797,824\n",
            "_________________________________________________________________\n"
          ]
        }
      ]
    },
    {
      "cell_type": "code",
      "source": [
        "history_6 = model_6.fit(train_sent,train_labels,epochs=15,\n",
        "                              validation_data=(val_sent,val_labels),\n",
        "                              callbacks = [create_tensorboard_callback(save_dir,'model_6_use')])"
      ],
      "metadata": {
        "colab": {
          "base_uri": "https://localhost:8080/"
        },
        "id": "wCv8s8cawHnr",
        "outputId": "a8f1e30a-4453-4508-cf26-7d16a39b9fbe"
      },
      "execution_count": 62,
      "outputs": [
        {
          "output_type": "stream",
          "name": "stdout",
          "text": [
            "Saving TensorBoard log files to: model_logs/model_6_use/20230522-232735\n",
            "Epoch 1/15\n",
            "167/167 [==============================] - 7s 24ms/step - loss: 0.5207 - accuracy: 0.7810 - val_loss: 0.4519 - val_accuracy: 0.7920\n",
            "Epoch 2/15\n",
            "167/167 [==============================] - 4s 24ms/step - loss: 0.4203 - accuracy: 0.8107 - val_loss: 0.4346 - val_accuracy: 0.8034\n",
            "Epoch 3/15\n",
            "167/167 [==============================] - 3s 17ms/step - loss: 0.4029 - accuracy: 0.8229 - val_loss: 0.4309 - val_accuracy: 0.8078\n",
            "Epoch 4/15\n",
            "167/167 [==============================] - 3s 21ms/step - loss: 0.3922 - accuracy: 0.8275 - val_loss: 0.4280 - val_accuracy: 0.8113\n",
            "Epoch 5/15\n",
            "167/167 [==============================] - 4s 23ms/step - loss: 0.3840 - accuracy: 0.8315 - val_loss: 0.4282 - val_accuracy: 0.8087\n",
            "Epoch 6/15\n",
            "167/167 [==============================] - 4s 21ms/step - loss: 0.3775 - accuracy: 0.8366 - val_loss: 0.4256 - val_accuracy: 0.8144\n",
            "Epoch 7/15\n",
            "167/167 [==============================] - 3s 17ms/step - loss: 0.3721 - accuracy: 0.8405 - val_loss: 0.4250 - val_accuracy: 0.8152\n",
            "Epoch 8/15\n",
            "167/167 [==============================] - 3s 16ms/step - loss: 0.3638 - accuracy: 0.8442 - val_loss: 0.4304 - val_accuracy: 0.8091\n",
            "Epoch 9/15\n",
            "167/167 [==============================] - 4s 24ms/step - loss: 0.3581 - accuracy: 0.8418 - val_loss: 0.4284 - val_accuracy: 0.8144\n",
            "Epoch 10/15\n",
            "167/167 [==============================] - 3s 17ms/step - loss: 0.3518 - accuracy: 0.8478 - val_loss: 0.4273 - val_accuracy: 0.8205\n",
            "Epoch 11/15\n",
            "167/167 [==============================] - 3s 20ms/step - loss: 0.3446 - accuracy: 0.8542 - val_loss: 0.4277 - val_accuracy: 0.8117\n",
            "Epoch 12/15\n",
            "167/167 [==============================] - 3s 17ms/step - loss: 0.3382 - accuracy: 0.8540 - val_loss: 0.4327 - val_accuracy: 0.8135\n",
            "Epoch 13/15\n",
            "167/167 [==============================] - 4s 24ms/step - loss: 0.3302 - accuracy: 0.8559 - val_loss: 0.4337 - val_accuracy: 0.8183\n",
            "Epoch 14/15\n",
            "167/167 [==============================] - 3s 17ms/step - loss: 0.3241 - accuracy: 0.8564 - val_loss: 0.4343 - val_accuracy: 0.8161\n",
            "Epoch 15/15\n",
            "167/167 [==============================] - 3s 17ms/step - loss: 0.3167 - accuracy: 0.8621 - val_loss: 0.4344 - val_accuracy: 0.8148\n"
          ]
        }
      ]
    },
    {
      "cell_type": "code",
      "source": [
        "print(model_6.evaluate(val_sent,val_labels))\n",
        "model_6_pred = model_6.predict(val_sent)\n",
        "model_6_pred = tf.squeeze(tf.round(model_6_pred))\n",
        "calculate(model_6_pred,val_labels)"
      ],
      "metadata": {
        "colab": {
          "base_uri": "https://localhost:8080/"
        },
        "id": "k2dEfw1bwHrJ",
        "outputId": "de52bf4c-c718-4ce2-942d-ff33ab156078"
      },
      "execution_count": 63,
      "outputs": [
        {
          "output_type": "stream",
          "name": "stdout",
          "text": [
            "72/72 [==============================] - 1s 11ms/step - loss: 0.4344 - accuracy: 0.8148\n",
            "[0.4343625605106354, 0.8147985935211182]\n",
            "72/72 [==============================] - 1s 11ms/step\n",
            "Recall:  0.8148984198645598\n",
            "precision:  0.7359836901121305\n",
            "f1:  0.7734333154793787\n",
            "accuracy:  0.8147985989492119\n"
          ]
        }
      ]
    },
    {
      "cell_type": "code",
      "source": [
        "calculate(model_5_1_pred,val_labels)"
      ],
      "metadata": {
        "colab": {
          "base_uri": "https://localhost:8080/"
        },
        "id": "vata6iefwHuC",
        "outputId": "5ba3ce86-3cff-4dfc-f615-c6e383e38193"
      },
      "execution_count": 64,
      "outputs": [
        {
          "output_type": "stream",
          "name": "stdout",
          "text": [
            "Recall:  0.7634635691657867\n",
            "precision:  0.7370030581039755\n",
            "f1:  0.7499999999999999\n",
            "accuracy:  0.7889667250437828\n"
          ]
        }
      ]
    },
    {
      "cell_type": "markdown",
      "source": [
        "# Uploading out model Training "
      ],
      "metadata": {
        "id": "Wr3KgtvovEIs"
      }
    },
    {
      "cell_type": "code",
      "source": [
        "!tensorboard dev upload --logdir ./model_logs/ \\\n",
        "--name 'NLP modelling'\\\n",
        "--description 'comparing different typr of model achitecture' \\\n",
        "--one_shot "
      ],
      "metadata": {
        "colab": {
          "base_uri": "https://localhost:8080/"
        },
        "id": "sDNspjPrvEMs",
        "outputId": "d62ed898-8b4d-4425-d772-c8dc746f8fec"
      },
      "execution_count": 65,
      "outputs": [
        {
          "output_type": "stream",
          "name": "stdout",
          "text": [
            "2023-05-23 00:00:18.098875: W tensorflow/compiler/tf2tensorrt/utils/py_utils.cc:38] TF-TRT Warning: Could not find TensorRT\n",
            "\n",
            "***** TensorBoard Uploader *****\n",
            "\n",
            "This will upload your TensorBoard logs to https://tensorboard.dev/ from\n",
            "the following directory:\n",
            "\n",
            "./model_logs/\n",
            "\n",
            "This TensorBoard will be visible to everyone. Do not upload sensitive\n",
            "data.\n",
            "\n",
            "Your use of this service is subject to Google's Terms of Service\n",
            "<https://policies.google.com/terms> and Privacy Policy\n",
            "<https://policies.google.com/privacy>, and TensorBoard.dev's Terms of Service\n",
            "<https://tensorboard.dev/policy/terms/>.\n",
            "\n",
            "This notice will not be shown again while you are logged into the uploader.\n",
            "To log out, run `tensorboard dev auth revoke`.\n",
            "\n",
            "Continue? (yes/NO) yes\n",
            "\n",
            "To sign in with the TensorBoard uploader:\n",
            "\n",
            "1. On your computer or phone, visit:\n",
            "\n",
            "   https://www.google.com/device\n",
            "\n",
            "2. Sign in with your Google account, then enter:\n",
            "\n",
            "   SNRK-FZHG\n",
            "\n",
            "\n",
            "\n",
            "New experiment created. View your TensorBoard at: https://tensorboard.dev/experiment/sbDUWnulQQm7y4iMQWOjvg/\n",
            "\n",
            "\u001b[1m[2023-05-23T00:00:49]\u001b[0m Started scanning logdir.\n",
            "\u001b[1m[2023-05-23T00:00:55]\u001b[0m Total uploaded: 420 scalars, 0 tensors, 6 binary objects (3.2 MB)\n",
            "\u001b[1m[2023-05-23T00:00:55]\u001b[0m Done scanning logdir.\n",
            "\n",
            "\n",
            "Done. View your TensorBoard at https://tensorboard.dev/experiment/sbDUWnulQQm7y4iMQWOjvg/\n"
          ]
        }
      ]
    },
    {
      "cell_type": "code",
      "source": [
        "#to delete exp\n",
        "#!tensorboard dev list\n",
        "#!tensorflow dev delete --experiment_id {ID}"
      ],
      "metadata": {
        "colab": {
          "base_uri": "https://localhost:8080/"
        },
        "id": "CMho44MzvEPP",
        "outputId": "5ee963e6-7016-4fc0-fd98-63d4fcf5d81f"
      },
      "execution_count": 66,
      "outputs": [
        {
          "output_type": "stream",
          "name": "stdout",
          "text": [
            "2023-05-23 00:02:26.751535: W tensorflow/compiler/tf2tensorrt/utils/py_utils.cc:38] TF-TRT Warning: Could not find TensorRT\n",
            "https://tensorboard.dev/experiment/sbDUWnulQQm7y4iMQWOjvg/\n",
            "\tName                 NLP modelling\n",
            "\tDescription          comparing different typr of model achitecture\n",
            "\tId                   sbDUWnulQQm7y4iMQWOjvg\n",
            "\tCreated              2023-05-23 00:00:49 (1 minute ago)\n",
            "\tUpdated              2023-05-23 00:00:55 (1 minute ago)\n",
            "\tRuns                 12\n",
            "\tTags                 5\n",
            "\tScalars              420\n",
            "\tTensor bytes         0\n",
            "\tBinary object bytes  3359135\n",
            "https://tensorboard.dev/experiment/FlxW0R8BSrqfJXA8kqe43Q/\n",
            "\tName                 Fine-tuning EfficientNetB0 on all Food101 Data\n",
            "\tDescription          Training results for fine-tuning EfficientNetB0 on Food101 Data with learning rate 0.0001\n",
            "\tId                   FlxW0R8BSrqfJXA8kqe43Q\n",
            "\tCreated              2023-05-14 19:08:48\n",
            "\tUpdated              2023-05-14 19:08:50\n",
            "\tRuns                 4\n",
            "\tTags                 5\n",
            "\tScalars              36\n",
            "\tTensor bytes         0\n",
            "\tBinary object bytes  3000712\n",
            "https://tensorboard.dev/experiment/P7LUaptqTAaGTBCOBHx97g/\n",
            "\tName                 EfficientNetB0 vs. ResNet50V2\n",
            "\tDescription          Comparing two different TF Hub feature extraction models architectures using 10% of training images\n",
            "\tId                   P7LUaptqTAaGTBCOBHx97g\n",
            "\tCreated              2023-05-07 19:43:16\n",
            "\tUpdated              2023-05-07 19:43:18\n",
            "\tRuns                 2\n",
            "\tTags                 5\n",
            "\tScalars              30\n",
            "\tTensor bytes         0\n",
            "\tBinary object bytes  4086160\n",
            "Total: 3 experiment(s)\n"
          ]
        }
      ]
    },
    {
      "cell_type": "code",
      "source": [],
      "metadata": {
        "id": "AUPq_us4vESH"
      },
      "execution_count": null,
      "outputs": []
    },
    {
      "cell_type": "code",
      "source": [],
      "metadata": {
        "id": "Ed_NtQakvEUW"
      },
      "execution_count": null,
      "outputs": []
    },
    {
      "cell_type": "code",
      "source": [],
      "metadata": {
        "id": "agH6T2H3vEYW"
      },
      "execution_count": null,
      "outputs": []
    }
  ]
}