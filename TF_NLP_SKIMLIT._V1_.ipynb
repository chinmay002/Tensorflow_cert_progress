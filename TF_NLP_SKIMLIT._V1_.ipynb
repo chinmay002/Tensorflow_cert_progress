{
  "nbformat": 4,
  "nbformat_minor": 0,
  "metadata": {
    "colab": {
      "provenance": [],
      "gpuType": "T4",
      "mount_file_id": "1DaLQYQcXggS8BD5RzARm_BbnjR9CCOli",
      "authorship_tag": "ABX9TyMq8joQ3w3Q4aBiI+dcFJMq",
      "include_colab_link": true
    },
    "kernelspec": {
      "name": "python3",
      "display_name": "Python 3"
    },
    "language_info": {
      "name": "python"
    },
    "accelerator": "GPU",
    "gpuClass": "standard"
  },
  "cells": [
    {
      "cell_type": "markdown",
      "metadata": {
        "id": "view-in-github",
        "colab_type": "text"
      },
      "source": [
        "<a href=\"https://colab.research.google.com/github/chinmay002/Tensorflow_cert_progress/blob/main/TF_NLP_SKIMLIT._V1_.ipynb\" target=\"_parent\"><img src=\"https://colab.research.google.com/assets/colab-badge.svg\" alt=\"Open In Colab\"/></a>"
      ]
    },
    {
      "cell_type": "code",
      "execution_count": null,
      "metadata": {
        "id": "6XL_UNJLiVUE"
      },
      "outputs": [],
      "source": [
        "import numpy as np\n",
        "import pandas as pd\n",
        "import tensorflow as tf\n",
        "\n",
        "from tensorflow.keras import layers,models\n",
        "from tensorflow.keras.layers import Dense,Conv1D,Input\n",
        "from tensorflow.keras.models import Model,Sequential\n",
        "\n",
        "from sklearn.metrics import classification_report,confusion_matrix,f1_score,accuracy_score,precision_score,recall_score\n",
        "import random,os,glob\n",
        "import zipfile\n",
        "import seaborn as sns\n",
        "import matplotlib.pyplot as plt\n",
        "\n",
        "\n",
        "from sklearn.feature_extraction.text import TfidfVectorizer\n",
        "from sklearn.naive_bayes import MultinomialNB\n",
        "from sklearn.pipeline import Pipeline\n"
      ]
    },
    {
      "cell_type": "code",
      "source": [
        "\n",
        "!git clone https://github.com/Franck-Dernoncourt/pubmed-rct.git\n",
        "!ls pubmed-rct"
      ],
      "metadata": {
        "colab": {
          "base_uri": "https://localhost:8080/"
        },
        "id": "WE8baSgDk_1L",
        "outputId": "c08e1a68-e785-45f1-e3dc-8b4de65cda52"
      },
      "execution_count": null,
      "outputs": [
        {
          "output_type": "stream",
          "name": "stdout",
          "text": [
            "Cloning into 'pubmed-rct'...\n",
            "remote: Enumerating objects: 33, done.\u001b[K\n",
            "remote: Counting objects: 100% (8/8), done.\u001b[K\n",
            "remote: Compressing objects: 100% (3/3), done.\u001b[K\n",
            "remote: Total 33 (delta 5), reused 5 (delta 5), pack-reused 25\n",
            "Unpacking objects: 100% (33/33), 177.08 MiB | 7.84 MiB/s, done.\n",
            "Updating files: 100% (13/13), done.\n",
            "PubMed_200k_RCT\n",
            "PubMed_200k_RCT_numbers_replaced_with_at_sign\n",
            "PubMed_20k_RCT\n",
            "PubMed_20k_RCT_numbers_replaced_with_at_sign\n",
            "README.md\n"
          ]
        }
      ]
    },
    {
      "cell_type": "code",
      "source": [
        "data_dir  ='/content/pubmed-rct/PubMed_20k_RCT_numbers_replaced_with_at_sign'"
      ],
      "metadata": {
        "id": "ty0k-83Jk__3"
      },
      "execution_count": null,
      "outputs": []
    },
    {
      "cell_type": "code",
      "source": [
        "def get_lines(filename):\n",
        "  with open(filename,'r') as f:\n",
        "    '''\n",
        "    Returns:\n",
        "    A list of strings with one string per line from the target filename\n",
        "    '''\n",
        "    return f.readlines()\n"
      ],
      "metadata": {
        "id": "LneqQ1DrlAFJ"
      },
      "execution_count": null,
      "outputs": []
    },
    {
      "cell_type": "code",
      "source": [
        "train_lines = get_lines(data_dir+'/train.txt')\n"
      ],
      "metadata": {
        "id": "IfW5QtFHxga-"
      },
      "execution_count": null,
      "outputs": []
    },
    {
      "cell_type": "code",
      "source": [
        "for line in train_lines[:27]:\n",
        "  if line.isspace():\n",
        "    print('line')\n",
        "  else:\n",
        "    print(line)"
      ],
      "metadata": {
        "colab": {
          "base_uri": "https://localhost:8080/",
          "height": 244
        },
        "id": "pMjxwP6MqqrR",
        "outputId": "c74ba2fd-bb22-4c6e-efb0-7d14e8486e0b"
      },
      "execution_count": null,
      "outputs": [
        {
          "output_type": "error",
          "ename": "NameError",
          "evalue": "ignored",
          "traceback": [
            "\u001b[0;31m---------------------------------------------------------------------------\u001b[0m",
            "\u001b[0;31mNameError\u001b[0m                                 Traceback (most recent call last)",
            "\u001b[0;32m<ipython-input-5-06084b895b35>\u001b[0m in \u001b[0;36m<cell line: 1>\u001b[0;34m()\u001b[0m\n\u001b[0;32m----> 1\u001b[0;31m \u001b[0;32mfor\u001b[0m \u001b[0mline\u001b[0m \u001b[0;32min\u001b[0m \u001b[0mtrain_lines\u001b[0m\u001b[0;34m[\u001b[0m\u001b[0;34m:\u001b[0m\u001b[0;36m27\u001b[0m\u001b[0;34m]\u001b[0m\u001b[0;34m:\u001b[0m\u001b[0;34m\u001b[0m\u001b[0;34m\u001b[0m\u001b[0m\n\u001b[0m\u001b[1;32m      2\u001b[0m   \u001b[0;32mif\u001b[0m \u001b[0mline\u001b[0m\u001b[0;34m.\u001b[0m\u001b[0misspace\u001b[0m\u001b[0;34m(\u001b[0m\u001b[0;34m)\u001b[0m\u001b[0;34m:\u001b[0m\u001b[0;34m\u001b[0m\u001b[0;34m\u001b[0m\u001b[0m\n\u001b[1;32m      3\u001b[0m     \u001b[0mprint\u001b[0m\u001b[0;34m(\u001b[0m\u001b[0;34m'line'\u001b[0m\u001b[0;34m)\u001b[0m\u001b[0;34m\u001b[0m\u001b[0;34m\u001b[0m\u001b[0m\n\u001b[1;32m      4\u001b[0m   \u001b[0;32melse\u001b[0m\u001b[0;34m:\u001b[0m\u001b[0;34m\u001b[0m\u001b[0;34m\u001b[0m\u001b[0m\n\u001b[1;32m      5\u001b[0m     \u001b[0mprint\u001b[0m\u001b[0;34m(\u001b[0m\u001b[0mline\u001b[0m\u001b[0;34m)\u001b[0m\u001b[0;34m\u001b[0m\u001b[0;34m\u001b[0m\u001b[0m\n",
            "\u001b[0;31mNameError\u001b[0m: name 'train_lines' is not defined"
          ]
        }
      ]
    },
    {
      "cell_type": "code",
      "source": [],
      "metadata": {
        "id": "IFNEdygTqqwQ"
      },
      "execution_count": null,
      "outputs": []
    },
    {
      "cell_type": "code",
      "source": [],
      "metadata": {
        "id": "aJodmax7qq0X"
      },
      "execution_count": null,
      "outputs": []
    },
    {
      "cell_type": "code",
      "source": [],
      "metadata": {
        "id": "VmXYZ5u1qq6z"
      },
      "execution_count": null,
      "outputs": []
    },
    {
      "cell_type": "markdown",
      "source": [
        "\n",
        "\n",
        "```\n",
        "\n",
        " [{line_numer:0,\n",
        " 'target':'OBJECTIVE',\n",
        " 'A total of @ patients with primary knee OA were randomized @:@ ; @ received @ mg/day of prednisolone and @ received placebo for @ weeks .\\n',\n",
        " 'total_lines :11'}]\n",
        "```\n",
        "\n",
        "\n"
      ],
      "metadata": {
        "id": "GAJDKfk9lAIH"
      }
    },
    {
      "cell_type": "code",
      "source": [
        "def preprocess_text_with_line_numbers(filename):\n",
        "  \"\"\"Returns a list of dictionaries of abstract line data.\n",
        "\n",
        "  Takes in filename, reads its contents and sorts through each line,\n",
        "  extracting things like the target label, the text of the sentence,\n",
        "  how many sentences are in the current abstract and what sentence number\n",
        "  the target line is.\n",
        "\n",
        "  Args:\n",
        "      filename: a string of the target text file to read and extract line data\n",
        "      from.\n",
        "\n",
        "  Returns:\n",
        "      A list of dictionaries each containing a line from an abstract,\n",
        "      the lines label, the lines position in the abstract and the total number\n",
        "      of lines in the abstract where the line is from. For example:\n",
        "\n",
        "      [{\"target\": 'CONCLUSION',\n",
        "        \"text\": The study couldn't have gone better, turns out people are kinder than you think\",\n",
        "        \"line_number\": 8,\n",
        "        \"total_lines\": 8}]\n",
        "  \"\"\"\n",
        "  input_lines = get_lines(filename) # get all lines from filename\n",
        "  abstract_lines = \"\" # create an empty abstract\n",
        "  abstract_samples = [] # create an empty list of abstracts\n",
        "  \n",
        "  # Loop through each line in target file\n",
        "  for line in input_lines:\n",
        "    if line.startswith(\"###\"): # check to see if line is an ID line\n",
        "      abstract_id = line\n",
        "      abstract_lines = \"\" # reset abstract string\n",
        "     #print(f'abstract_id {abstract_id}')\n",
        "     # print(f'abstract_lines {abstract_lines}')\n",
        "     # print()\n",
        "    elif line.isspace(): #splits on space, her eafter each set, there is extrac line. so it divides on that basis. \n",
        "      abstract_line_split = abstract_lines.splitlines()  #[obj,methods,result],[obj,method,result]....\n",
        "      #print(f'abstract_line_split {abstract_line_split}')\n",
        "\n",
        "      # Iterate through each line in abstract and count them at the same time\n",
        "      for abstract_line_number, abstract_line in enumerate(abstract_line_split):\n",
        "        line_data = {} # create empty dict to store data from line\n",
        "        target_text_split = abstract_line.split(\"\\t\") # split target label from text\n",
        "        line_data[\"target\"] = target_text_split[0] # get target label\n",
        "        line_data[\"text\"] = target_text_split[1].lower() # get target text and lower it\n",
        "        line_data[\"line_number\"] = abstract_line_number # what number line does the line appear in the abstract?\n",
        "        line_data[\"total_lines\"] = len(abstract_line_split) - 1 # how many total lines are in the abstract? (start from 0)\n",
        "        abstract_samples.append(line_data) # add line data to abstract samples list\n",
        "    \n",
        "    else: # if the above conditions aren't fulfilled, the line contains a labelled sentence\n",
        "      abstract_lines += line\n",
        "  \n",
        "  return abstract_samples"
      ],
      "metadata": {
        "id": "Nvi49LmnlALP"
      },
      "execution_count": null,
      "outputs": []
    },
    {
      "cell_type": "code",
      "source": [],
      "metadata": {
        "id": "Nfqn5Mgosk-p"
      },
      "execution_count": null,
      "outputs": []
    },
    {
      "cell_type": "code",
      "source": [
        "%%time\n",
        "train_samples = preprocess_text_with_line_numbers(data_dir + \"/train.txt\")\n",
        "val_samples = preprocess_text_with_line_numbers(data_dir + \"/dev.txt\") # dev is another name for validation set\n",
        "test_samples = preprocess_text_with_line_numbers(data_dir + \"/test.txt\")\n",
        "len(train_samples), len(val_samples), len(test_samples)"
      ],
      "metadata": {
        "colab": {
          "base_uri": "https://localhost:8080/"
        },
        "id": "TT8bbR89lAN-",
        "outputId": "cbd936bf-be71-4441-dbfd-a63ccc1da713"
      },
      "execution_count": null,
      "outputs": [
        {
          "output_type": "stream",
          "name": "stdout",
          "text": [
            "CPU times: user 382 ms, sys: 78.2 ms, total: 460 ms\n",
            "Wall time: 479 ms\n"
          ]
        },
        {
          "output_type": "execute_result",
          "data": {
            "text/plain": [
              "(180040, 30212, 30135)"
            ]
          },
          "metadata": {},
          "execution_count": 9
        }
      ]
    },
    {
      "cell_type": "code",
      "source": [
        "train_samples[:10]"
      ],
      "metadata": {
        "colab": {
          "base_uri": "https://localhost:8080/"
        },
        "id": "2nvxb1wL2exu",
        "outputId": "c485cc51-cdde-418f-f080-9d18faebfc37"
      },
      "execution_count": null,
      "outputs": [
        {
          "output_type": "execute_result",
          "data": {
            "text/plain": [
              "[{'target': 'OBJECTIVE',\n",
              "  'text': 'to investigate the efficacy of @ weeks of daily low-dose oral prednisolone in improving pain , mobility , and systemic low-grade inflammation in the short term and whether the effect would be sustained at @ weeks in older adults with moderate to severe knee osteoarthritis ( oa ) .',\n",
              "  'line_number': 0,\n",
              "  'total_lines': 11},\n",
              " {'target': 'METHODS',\n",
              "  'text': 'a total of @ patients with primary knee oa were randomized @:@ ; @ received @ mg/day of prednisolone and @ received placebo for @ weeks .',\n",
              "  'line_number': 1,\n",
              "  'total_lines': 11},\n",
              " {'target': 'METHODS',\n",
              "  'text': 'outcome measures included pain reduction and improvement in function scores and systemic inflammation markers .',\n",
              "  'line_number': 2,\n",
              "  'total_lines': 11},\n",
              " {'target': 'METHODS',\n",
              "  'text': 'pain was assessed using the visual analog pain scale ( @-@ mm ) .',\n",
              "  'line_number': 3,\n",
              "  'total_lines': 11},\n",
              " {'target': 'METHODS',\n",
              "  'text': 'secondary outcome measures included the western ontario and mcmaster universities osteoarthritis index scores , patient global assessment ( pga ) of the severity of knee oa , and @-min walk distance ( @mwd ) .',\n",
              "  'line_number': 4,\n",
              "  'total_lines': 11},\n",
              " {'target': 'METHODS',\n",
              "  'text': 'serum levels of interleukin @ ( il-@ ) , il-@ , tumor necrosis factor ( tnf ) - , and high-sensitivity c-reactive protein ( hscrp ) were measured .',\n",
              "  'line_number': 5,\n",
              "  'total_lines': 11},\n",
              " {'target': 'RESULTS',\n",
              "  'text': 'there was a clinically relevant reduction in the intervention group compared to the placebo group for knee pain , physical function , pga , and @mwd at @ weeks .',\n",
              "  'line_number': 6,\n",
              "  'total_lines': 11},\n",
              " {'target': 'RESULTS',\n",
              "  'text': 'the mean difference between treatment arms ( @ % ci ) was @ ( @-@ @ ) , p < @ ; @ ( @-@ @ ) , p < @ ; @ ( @-@ @ ) , p < @ ; and @ ( @-@ @ ) , p < @ , respectively .',\n",
              "  'line_number': 7,\n",
              "  'total_lines': 11},\n",
              " {'target': 'RESULTS',\n",
              "  'text': 'further , there was a clinically relevant reduction in the serum levels of il-@ , il-@ , tnf - , and hscrp at @ weeks in the intervention group when compared to the placebo group .',\n",
              "  'line_number': 8,\n",
              "  'total_lines': 11},\n",
              " {'target': 'RESULTS',\n",
              "  'text': 'these differences remained significant at @ weeks .',\n",
              "  'line_number': 9,\n",
              "  'total_lines': 11}]"
            ]
          },
          "metadata": {},
          "execution_count": 9
        }
      ]
    },
    {
      "cell_type": "code",
      "source": [
        "train_df = pd.DataFrame(train_samples)\n",
        "val_df = pd.DataFrame(val_samples)\n",
        "test_df = pd.DataFrame(test_samples)\n",
        "train_df.head(14)\n",
        "     "
      ],
      "metadata": {
        "colab": {
          "base_uri": "https://localhost:8080/",
          "height": 488
        },
        "id": "RVA2PaJL2e1x",
        "outputId": "e0320a27-5052-4fdb-9922-b67d74806273"
      },
      "execution_count": null,
      "outputs": [
        {
          "output_type": "execute_result",
          "data": {
            "text/plain": [
              "         target                                               text  \\\n",
              "0     OBJECTIVE  to investigate the efficacy of @ weeks of dail...   \n",
              "1       METHODS  a total of @ patients with primary knee oa wer...   \n",
              "2       METHODS  outcome measures included pain reduction and i...   \n",
              "3       METHODS  pain was assessed using the visual analog pain...   \n",
              "4       METHODS  secondary outcome measures included the wester...   \n",
              "5       METHODS  serum levels of interleukin @ ( il-@ ) , il-@ ...   \n",
              "6       RESULTS  there was a clinically relevant reduction in t...   \n",
              "7       RESULTS  the mean difference between treatment arms ( @...   \n",
              "8       RESULTS  further , there was a clinically relevant redu...   \n",
              "9       RESULTS  these differences remained significant at @ we...   \n",
              "10      RESULTS  the outcome measures in rheumatology clinical ...   \n",
              "11  CONCLUSIONS  low-dose oral prednisolone had both a short-te...   \n",
              "12   BACKGROUND  emotional eating is associated with overeating...   \n",
              "13   BACKGROUND  yet , empirical evidence for individual ( trai...   \n",
              "\n",
              "    line_number  total_lines  \n",
              "0             0           11  \n",
              "1             1           11  \n",
              "2             2           11  \n",
              "3             3           11  \n",
              "4             4           11  \n",
              "5             5           11  \n",
              "6             6           11  \n",
              "7             7           11  \n",
              "8             8           11  \n",
              "9             9           11  \n",
              "10           10           11  \n",
              "11           11           11  \n",
              "12            0           10  \n",
              "13            1           10  "
            ],
            "text/html": [
              "\n",
              "  <div id=\"df-38179799-7329-4be2-b6cb-ca92ec30cdd5\">\n",
              "    <div class=\"colab-df-container\">\n",
              "      <div>\n",
              "<style scoped>\n",
              "    .dataframe tbody tr th:only-of-type {\n",
              "        vertical-align: middle;\n",
              "    }\n",
              "\n",
              "    .dataframe tbody tr th {\n",
              "        vertical-align: top;\n",
              "    }\n",
              "\n",
              "    .dataframe thead th {\n",
              "        text-align: right;\n",
              "    }\n",
              "</style>\n",
              "<table border=\"1\" class=\"dataframe\">\n",
              "  <thead>\n",
              "    <tr style=\"text-align: right;\">\n",
              "      <th></th>\n",
              "      <th>target</th>\n",
              "      <th>text</th>\n",
              "      <th>line_number</th>\n",
              "      <th>total_lines</th>\n",
              "    </tr>\n",
              "  </thead>\n",
              "  <tbody>\n",
              "    <tr>\n",
              "      <th>0</th>\n",
              "      <td>OBJECTIVE</td>\n",
              "      <td>to investigate the efficacy of @ weeks of dail...</td>\n",
              "      <td>0</td>\n",
              "      <td>11</td>\n",
              "    </tr>\n",
              "    <tr>\n",
              "      <th>1</th>\n",
              "      <td>METHODS</td>\n",
              "      <td>a total of @ patients with primary knee oa wer...</td>\n",
              "      <td>1</td>\n",
              "      <td>11</td>\n",
              "    </tr>\n",
              "    <tr>\n",
              "      <th>2</th>\n",
              "      <td>METHODS</td>\n",
              "      <td>outcome measures included pain reduction and i...</td>\n",
              "      <td>2</td>\n",
              "      <td>11</td>\n",
              "    </tr>\n",
              "    <tr>\n",
              "      <th>3</th>\n",
              "      <td>METHODS</td>\n",
              "      <td>pain was assessed using the visual analog pain...</td>\n",
              "      <td>3</td>\n",
              "      <td>11</td>\n",
              "    </tr>\n",
              "    <tr>\n",
              "      <th>4</th>\n",
              "      <td>METHODS</td>\n",
              "      <td>secondary outcome measures included the wester...</td>\n",
              "      <td>4</td>\n",
              "      <td>11</td>\n",
              "    </tr>\n",
              "    <tr>\n",
              "      <th>5</th>\n",
              "      <td>METHODS</td>\n",
              "      <td>serum levels of interleukin @ ( il-@ ) , il-@ ...</td>\n",
              "      <td>5</td>\n",
              "      <td>11</td>\n",
              "    </tr>\n",
              "    <tr>\n",
              "      <th>6</th>\n",
              "      <td>RESULTS</td>\n",
              "      <td>there was a clinically relevant reduction in t...</td>\n",
              "      <td>6</td>\n",
              "      <td>11</td>\n",
              "    </tr>\n",
              "    <tr>\n",
              "      <th>7</th>\n",
              "      <td>RESULTS</td>\n",
              "      <td>the mean difference between treatment arms ( @...</td>\n",
              "      <td>7</td>\n",
              "      <td>11</td>\n",
              "    </tr>\n",
              "    <tr>\n",
              "      <th>8</th>\n",
              "      <td>RESULTS</td>\n",
              "      <td>further , there was a clinically relevant redu...</td>\n",
              "      <td>8</td>\n",
              "      <td>11</td>\n",
              "    </tr>\n",
              "    <tr>\n",
              "      <th>9</th>\n",
              "      <td>RESULTS</td>\n",
              "      <td>these differences remained significant at @ we...</td>\n",
              "      <td>9</td>\n",
              "      <td>11</td>\n",
              "    </tr>\n",
              "    <tr>\n",
              "      <th>10</th>\n",
              "      <td>RESULTS</td>\n",
              "      <td>the outcome measures in rheumatology clinical ...</td>\n",
              "      <td>10</td>\n",
              "      <td>11</td>\n",
              "    </tr>\n",
              "    <tr>\n",
              "      <th>11</th>\n",
              "      <td>CONCLUSIONS</td>\n",
              "      <td>low-dose oral prednisolone had both a short-te...</td>\n",
              "      <td>11</td>\n",
              "      <td>11</td>\n",
              "    </tr>\n",
              "    <tr>\n",
              "      <th>12</th>\n",
              "      <td>BACKGROUND</td>\n",
              "      <td>emotional eating is associated with overeating...</td>\n",
              "      <td>0</td>\n",
              "      <td>10</td>\n",
              "    </tr>\n",
              "    <tr>\n",
              "      <th>13</th>\n",
              "      <td>BACKGROUND</td>\n",
              "      <td>yet , empirical evidence for individual ( trai...</td>\n",
              "      <td>1</td>\n",
              "      <td>10</td>\n",
              "    </tr>\n",
              "  </tbody>\n",
              "</table>\n",
              "</div>\n",
              "      <button class=\"colab-df-convert\" onclick=\"convertToInteractive('df-38179799-7329-4be2-b6cb-ca92ec30cdd5')\"\n",
              "              title=\"Convert this dataframe to an interactive table.\"\n",
              "              style=\"display:none;\">\n",
              "        \n",
              "  <svg xmlns=\"http://www.w3.org/2000/svg\" height=\"24px\"viewBox=\"0 0 24 24\"\n",
              "       width=\"24px\">\n",
              "    <path d=\"M0 0h24v24H0V0z\" fill=\"none\"/>\n",
              "    <path d=\"M18.56 5.44l.94 2.06.94-2.06 2.06-.94-2.06-.94-.94-2.06-.94 2.06-2.06.94zm-11 1L8.5 8.5l.94-2.06 2.06-.94-2.06-.94L8.5 2.5l-.94 2.06-2.06.94zm10 10l.94 2.06.94-2.06 2.06-.94-2.06-.94-.94-2.06-.94 2.06-2.06.94z\"/><path d=\"M17.41 7.96l-1.37-1.37c-.4-.4-.92-.59-1.43-.59-.52 0-1.04.2-1.43.59L10.3 9.45l-7.72 7.72c-.78.78-.78 2.05 0 2.83L4 21.41c.39.39.9.59 1.41.59.51 0 1.02-.2 1.41-.59l7.78-7.78 2.81-2.81c.8-.78.8-2.07 0-2.86zM5.41 20L4 18.59l7.72-7.72 1.47 1.35L5.41 20z\"/>\n",
              "  </svg>\n",
              "      </button>\n",
              "      \n",
              "  <style>\n",
              "    .colab-df-container {\n",
              "      display:flex;\n",
              "      flex-wrap:wrap;\n",
              "      gap: 12px;\n",
              "    }\n",
              "\n",
              "    .colab-df-convert {\n",
              "      background-color: #E8F0FE;\n",
              "      border: none;\n",
              "      border-radius: 50%;\n",
              "      cursor: pointer;\n",
              "      display: none;\n",
              "      fill: #1967D2;\n",
              "      height: 32px;\n",
              "      padding: 0 0 0 0;\n",
              "      width: 32px;\n",
              "    }\n",
              "\n",
              "    .colab-df-convert:hover {\n",
              "      background-color: #E2EBFA;\n",
              "      box-shadow: 0px 1px 2px rgba(60, 64, 67, 0.3), 0px 1px 3px 1px rgba(60, 64, 67, 0.15);\n",
              "      fill: #174EA6;\n",
              "    }\n",
              "\n",
              "    [theme=dark] .colab-df-convert {\n",
              "      background-color: #3B4455;\n",
              "      fill: #D2E3FC;\n",
              "    }\n",
              "\n",
              "    [theme=dark] .colab-df-convert:hover {\n",
              "      background-color: #434B5C;\n",
              "      box-shadow: 0px 1px 3px 1px rgba(0, 0, 0, 0.15);\n",
              "      filter: drop-shadow(0px 1px 2px rgba(0, 0, 0, 0.3));\n",
              "      fill: #FFFFFF;\n",
              "    }\n",
              "  </style>\n",
              "\n",
              "      <script>\n",
              "        const buttonEl =\n",
              "          document.querySelector('#df-38179799-7329-4be2-b6cb-ca92ec30cdd5 button.colab-df-convert');\n",
              "        buttonEl.style.display =\n",
              "          google.colab.kernel.accessAllowed ? 'block' : 'none';\n",
              "\n",
              "        async function convertToInteractive(key) {\n",
              "          const element = document.querySelector('#df-38179799-7329-4be2-b6cb-ca92ec30cdd5');\n",
              "          const dataTable =\n",
              "            await google.colab.kernel.invokeFunction('convertToInteractive',\n",
              "                                                     [key], {});\n",
              "          if (!dataTable) return;\n",
              "\n",
              "          const docLinkHtml = 'Like what you see? Visit the ' +\n",
              "            '<a target=\"_blank\" href=https://colab.research.google.com/notebooks/data_table.ipynb>data table notebook</a>'\n",
              "            + ' to learn more about interactive tables.';\n",
              "          element.innerHTML = '';\n",
              "          dataTable['output_type'] = 'display_data';\n",
              "          await google.colab.output.renderOutput(dataTable, element);\n",
              "          const docLink = document.createElement('div');\n",
              "          docLink.innerHTML = docLinkHtml;\n",
              "          element.appendChild(docLink);\n",
              "        }\n",
              "      </script>\n",
              "    </div>\n",
              "  </div>\n",
              "  "
            ]
          },
          "metadata": {},
          "execution_count": 10
        }
      ]
    },
    {
      "cell_type": "code",
      "source": [
        "sns.displot(train_df['total_lines'])"
      ],
      "metadata": {
        "colab": {
          "base_uri": "https://localhost:8080/",
          "height": 524
        },
        "id": "TulFMGX021SQ",
        "outputId": "91a67e4f-b4c2-43a5-be7e-ca376bc4e4e2"
      },
      "execution_count": null,
      "outputs": [
        {
          "output_type": "execute_result",
          "data": {
            "text/plain": [
              "<seaborn.axisgrid.FacetGrid at 0x7f2430569c30>"
            ]
          },
          "metadata": {},
          "execution_count": 11
        },
        {
          "output_type": "display_data",
          "data": {
            "text/plain": [
              "<Figure size 500x500 with 1 Axes>"
            ],
            "image/png": "[encoded data removed]"
          },
          "metadata": {}
        }
      ]
    },
    {
      "cell_type": "code",
      "source": [
        "train_sent = train_df['text'].tolist()\n",
        "val_sent = val_df['text'].tolist()\n",
        "test_sent = test_df['text'].tolist()"
      ],
      "metadata": {
        "id": "m8_uiZ7t21dk"
      },
      "execution_count": null,
      "outputs": []
    },
    {
      "cell_type": "code",
      "source": [
        "train_sent[:10]"
      ],
      "metadata": {
        "colab": {
          "base_uri": "https://localhost:8080/"
        },
        "id": "cgXggxWd4S9L",
        "outputId": "6e28b6ee-5f37-4615-edce-6e0ef17e5004"
      },
      "execution_count": null,
      "outputs": [
        {
          "output_type": "execute_result",
          "data": {
            "text/plain": [
              "['to investigate the efficacy of @ weeks of daily low-dose oral prednisolone in improving pain , mobility , and systemic low-grade inflammation in the short term and whether the effect would be sustained at @ weeks in older adults with moderate to severe knee osteoarthritis ( oa ) .',\n",
              " 'a total of @ patients with primary knee oa were randomized @:@ ; @ received @ mg/day of prednisolone and @ received placebo for @ weeks .',\n",
              " 'outcome measures included pain reduction and improvement in function scores and systemic inflammation markers .',\n",
              " 'pain was assessed using the visual analog pain scale ( @-@ mm ) .',\n",
              " 'secondary outcome measures included the western ontario and mcmaster universities osteoarthritis index scores , patient global assessment ( pga ) of the severity of knee oa , and @-min walk distance ( @mwd ) .',\n",
              " 'serum levels of interleukin @ ( il-@ ) , il-@ , tumor necrosis factor ( tnf ) - , and high-sensitivity c-reactive protein ( hscrp ) were measured .',\n",
              " 'there was a clinically relevant reduction in the intervention group compared to the placebo group for knee pain , physical function , pga , and @mwd at @ weeks .',\n",
              " 'the mean difference between treatment arms ( @ % ci ) was @ ( @-@ @ ) , p < @ ; @ ( @-@ @ ) , p < @ ; @ ( @-@ @ ) , p < @ ; and @ ( @-@ @ ) , p < @ , respectively .',\n",
              " 'further , there was a clinically relevant reduction in the serum levels of il-@ , il-@ , tnf - , and hscrp at @ weeks in the intervention group when compared to the placebo group .',\n",
              " 'these differences remained significant at @ weeks .']"
            ]
          },
          "metadata": {},
          "execution_count": 13
        }
      ]
    },
    {
      "cell_type": "code",
      "source": [
        "from sklearn.preprocessing import OneHotEncoder\n",
        "ohe = OneHotEncoder(sparse=False)\n",
        "train_labels_ohe = ohe.fit_transform(train_df['target'].values.reshape(-1, 1))\n",
        "val_labels_ohe = ohe.fit_transform(val_df['target'].values.reshape(-1, 1))\n",
        "test_labels_ohe = ohe.fit_transform(test_df['target'].values.reshape(-1, 1))"
      ],
      "metadata": {
        "colab": {
          "base_uri": "https://localhost:8080/"
        },
        "id": "pPQCykpB4TBi",
        "outputId": "9c45f1a5-0366-409f-b3e9-8dda1e24f357"
      },
      "execution_count": null,
      "outputs": [
        {
          "output_type": "stream",
          "name": "stderr",
          "text": [
            "/usr/local/lib/python3.10/dist-packages/sklearn/preprocessing/_encoders.py:868: FutureWarning: `sparse` was renamed to `sparse_output` in version 1.2 and will be removed in 1.4. `sparse_output` is ignored unless you leave `sparse` to its default value.\n",
            "  warnings.warn(\n",
            "/usr/local/lib/python3.10/dist-packages/sklearn/preprocessing/_encoders.py:868: FutureWarning: `sparse` was renamed to `sparse_output` in version 1.2 and will be removed in 1.4. `sparse_output` is ignored unless you leave `sparse` to its default value.\n",
            "  warnings.warn(\n",
            "/usr/local/lib/python3.10/dist-packages/sklearn/preprocessing/_encoders.py:868: FutureWarning: `sparse` was renamed to `sparse_output` in version 1.2 and will be removed in 1.4. `sparse_output` is ignored unless you leave `sparse` to its default value.\n",
            "  warnings.warn(\n"
          ]
        }
      ]
    },
    {
      "cell_type": "code",
      "source": [
        "train_labels_ohe"
      ],
      "metadata": {
        "colab": {
          "base_uri": "https://localhost:8080/"
        },
        "id": "Vof5vn-u4TFB",
        "outputId": "49d956b3-0442-4733-b3e1-5efb7c258ba1"
      },
      "execution_count": null,
      "outputs": [
        {
          "output_type": "execute_result",
          "data": {
            "text/plain": [
              "array([[0., 0., 0., 1., 0.],\n",
              "       [0., 0., 1., 0., 0.],\n",
              "       [0., 0., 1., 0., 0.],\n",
              "       ...,\n",
              "       [0., 0., 0., 0., 1.],\n",
              "       [0., 1., 0., 0., 0.],\n",
              "       [0., 1., 0., 0., 0.]])"
            ]
          },
          "metadata": {},
          "execution_count": 15
        }
      ]
    },
    {
      "cell_type": "markdown",
      "source": [
        "# Label Encoder"
      ],
      "metadata": {
        "id": "oFE56ZlE4TH6"
      }
    },
    {
      "cell_type": "code",
      "source": [
        "from sklearn.preprocessing import LabelEncoder\n",
        "\n",
        "lb = LabelEncoder()\n",
        "train_labels_encoded = lb.fit_transform(train_df['target'].to_numpy())\n",
        "test_labels_encoded = lb.fit_transform(test_df['target'].to_numpy())\n",
        "val_labels_encoded = lb.fit_transform(val_df['target'].to_numpy())"
      ],
      "metadata": {
        "id": "Agac9iNF4TKw"
      },
      "execution_count": null,
      "outputs": []
    },
    {
      "cell_type": "code",
      "source": [
        "n_classes,class_names = len(lb.classes_),lb.classes_"
      ],
      "metadata": {
        "id": "6hN43Msg6w_k"
      },
      "execution_count": null,
      "outputs": []
    },
    {
      "cell_type": "markdown",
      "source": [
        "#Model 0: Baseline"
      ],
      "metadata": {
        "id": "yIbDIVcr6_ky"
      }
    },
    {
      "cell_type": "code",
      "source": [
        "model_0 = Pipeline([\n",
        "  (\"tf-idf\", TfidfVectorizer()),\n",
        "  (\"clf\", MultinomialNB())\n",
        "])\n",
        "\n",
        "# Fit the pipeline to the training data\n",
        "model_0.fit(X=train_sent, \n",
        "            y=train_labels_encoded);\n",
        "     "
      ],
      "metadata": {
        "id": "aNmGRMmU6_oe"
      },
      "execution_count": null,
      "outputs": []
    },
    {
      "cell_type": "code",
      "source": [
        "print(model_0.score(X=val_sent,y=val_labels_encoded))\n",
        "\n",
        "# Make predictions\n",
        "baseline_preds = model_0.predict(val_sent)\n",
        "baseline_preds\n"
      ],
      "metadata": {
        "colab": {
          "base_uri": "https://localhost:8080/"
        },
        "id": "0j4qFtsm6_rf",
        "outputId": "b2435546-a715-416f-d0f8-a497fae01692"
      },
      "execution_count": null,
      "outputs": [
        {
          "output_type": "stream",
          "name": "stdout",
          "text": [
            "0.7218323844829869\n"
          ]
        },
        {
          "output_type": "execute_result",
          "data": {
            "text/plain": [
              "array([4, 1, 3, ..., 4, 4, 1])"
            ]
          },
          "metadata": {},
          "execution_count": 19
        }
      ]
    },
    {
      "cell_type": "code",
      "source": [
        "def plot_loss_curve(history):\n",
        "  \n",
        "  acc = history.history['accuracy']\n",
        "  loss = history.history['loss']\n",
        "\n",
        "  val_acc = history.history['val_accuracy']\n",
        "  val_loss = history.history['val_loss']\n",
        "\n",
        "  fig = plt.figure(figsize=(10,5))\n",
        "\n",
        "  plt.subplot(221)\n",
        "  plt.plot(acc,'bo--', label = \"acc\")\n",
        "  plt.plot(val_acc,'ro--',label = 'val_acc')\n",
        "  plt.ylabel('accuracy')\n",
        "  plt.xlabel('epochs')\n",
        "  plt.title('acc vs val_acc')\n",
        "  plt.legend()\n",
        "\n",
        "  plt.subplot(222)\n",
        "  plt.plot(loss,'bo--', label = \"loss\")\n",
        "  plt.plot(val_loss,'ro--',label = 'val_acc')\n",
        "  plt.ylabel('Loss')\n",
        "  plt.xlabel('epochs')\n",
        "  plt.title('loss vs val_loss')\n",
        "  plt.legend()\n",
        "  plt.show()\n",
        "\n",
        "def unzip_data(file):\n",
        "  zip_file = zipfile.ZipFile(file)\n",
        "  zip_file.extractall()\n",
        "  zip_file.close()\n",
        "\n",
        "\n",
        "import datetime\n",
        "\n",
        "def create_tensorboard_callback(dir_name,experiment_name):\n",
        "  \n",
        "  log_dir = dir_name + '/' + experiment_name + '/' + datetime.datetime.now().strftime(\"%Y%m%d-%H%M%S\")\n",
        "  tensorboard_callback = tf.keras.callbacks.TensorBoard(log_dir = log_dir)\n",
        "  print(f\"Saving TensorBoard log files to: {log_dir}\")\n",
        "  return tensorboard_callback\n",
        "\n",
        "\n",
        "def calculate(y_true_,y_pred):\n",
        "  acc = accuracy_score(y_true_,y_pred)\n",
        "  f1 = f1_score(y_true_,y_pred,average = 'weighted')\n",
        "  recall = recall_score(y_true_,y_pred,average = 'weighted')\n",
        "  precision = precision_score(y_true_,y_pred,average = 'weighted')\n",
        "\n",
        "  print('Recall: ', recall)\n",
        "  print('precision: ', precision)\n",
        "  print('f1: ', f1)\n",
        "  print('accuracy: ', acc)\n",
        "  return {'accuracy': acc,\n",
        "          'f1': f1,\n",
        "          'precision': precision,\n",
        "          'Recall': recall,}\n"
      ],
      "metadata": {
        "id": "Vfhfa9a_6_uc"
      },
      "execution_count": null,
      "outputs": []
    },
    {
      "cell_type": "code",
      "source": [
        "baseline_results = calculate(val_labels_encoded,baseline_preds)"
      ],
      "metadata": {
        "colab": {
          "base_uri": "https://localhost:8080/",
          "height": 171
        },
        "id": "4xYCoRVm6_xI",
        "outputId": "c9b93e19-53f2-4714-c6ab-255c01656fdb"
      },
      "execution_count": null,
      "outputs": [
        {
          "output_type": "error",
          "ename": "NameError",
          "evalue": "ignored",
          "traceback": [
            "\u001b[0;31m---------------------------------------------------------------------------\u001b[0m",
            "\u001b[0;31mNameError\u001b[0m                                 Traceback (most recent call last)",
            "\u001b[0;32m<ipython-input-20-8b425cb6aa42>\u001b[0m in \u001b[0;36m<cell line: 1>\u001b[0;34m()\u001b[0m\n\u001b[0;32m----> 1\u001b[0;31m \u001b[0mbaseline_results\u001b[0m \u001b[0;34m=\u001b[0m \u001b[0mcalculate\u001b[0m\u001b[0;34m(\u001b[0m\u001b[0mval_labels_encoded\u001b[0m\u001b[0;34m,\u001b[0m\u001b[0mbaseline_preds\u001b[0m\u001b[0;34m)\u001b[0m\u001b[0;34m\u001b[0m\u001b[0;34m\u001b[0m\u001b[0m\n\u001b[0m",
            "\u001b[0;31mNameError\u001b[0m: name 'baseline_preds' is not defined"
          ]
        }
      ]
    },
    {
      "cell_type": "code",
      "source": [
        "#max_length avg_sentnece lentgth\n",
        "sum(train_df['text'].str.split(' ').str.len())/len(train_df)\n",
        "\n"
      ],
      "metadata": {
        "colab": {
          "base_uri": "https://localhost:8080/"
        },
        "id": "89-azUMg6_0W",
        "outputId": "ee116a8b-a1ae-4f19-fc6a-2d2bedb2601c"
      },
      "execution_count": null,
      "outputs": [
        {
          "output_type": "execute_result",
          "data": {
            "text/plain": [
              "26.338269273494777"
            ]
          },
          "metadata": {},
          "execution_count": 22
        }
      ]
    },
    {
      "cell_type": "code",
      "source": [
        "sns.displot(train_df['text'].str.split(' ').str.len())"
      ],
      "metadata": {
        "colab": {
          "base_uri": "https://localhost:8080/",
          "height": 525
        },
        "id": "valk-0lv9LD9",
        "outputId": "e4e07992-8c6d-447e-edcf-bb4bbc820479"
      },
      "execution_count": null,
      "outputs": [
        {
          "output_type": "execute_result",
          "data": {
            "text/plain": [
              "<seaborn.axisgrid.FacetGrid at 0x7f242de26c20>"
            ]
          },
          "metadata": {},
          "execution_count": 23
        },
        {
          "output_type": "display_data",
          "data": {
            "text/plain": [
              "<Figure size 500x500 with 1 Axes>"
            ],
            "image/png": "[encoded data removed]"
          },
          "metadata": {}
        }
      ]
    },
    {
      "cell_type": "code",
      "source": [
        "#skwed token_length \n",
        "output_seq_len = np.percentile(train_df['text'].str.split(' ').str.len(),95)\n",
        "output_seq_len\n",
        "\n",
        "#looks loke 95% of the token_lentgh have 55 tokens in sentence"
      ],
      "metadata": {
        "colab": {
          "base_uri": "https://localhost:8080/"
        },
        "id": "iTyA52oM9YNC",
        "outputId": "d1f4f22b-2258-44cc-f458-7fa85e8563d9"
      },
      "execution_count": null,
      "outputs": [
        {
          "output_type": "execute_result",
          "data": {
            "text/plain": [
              "55.0"
            ]
          },
          "metadata": {},
          "execution_count": 22
        }
      ]
    },
    {
      "cell_type": "code",
      "source": [
        "import nltk\n",
        "tr = ' '.join(train_df['text'].str.lower())\n"
      ],
      "metadata": {
        "id": "3V3U7XfB95yj"
      },
      "execution_count": null,
      "outputs": []
    },
    {
      "cell_type": "code",
      "source": [
        "import nltk\n",
        "nltk.download('punkt')\n",
        "nltk.FreqDist(nltk.word_tokenize(tr))"
      ],
      "metadata": {
        "colab": {
          "base_uri": "https://localhost:8080/"
        },
        "id": "ex5pw-mV_aa6",
        "outputId": "dff44351-3d2c-4f73-c8c3-b96a86f4ad76"
      },
      "execution_count": null,
      "outputs": [
        {
          "output_type": "stream",
          "name": "stderr",
          "text": [
            "[nltk_data] Downloading package punkt to /root/nltk_data...\n",
            "[nltk_data]   Unzipping tokenizers/punkt.zip.\n"
          ]
        },
        {
          "output_type": "execute_result",
          "data": {
            "text/plain": [
              "FreqDist({'@': 337420, ',': 196305, '.': 180578, 'the': 171178, 'and': 137947, 'of': 130660, ')': 129028, '(': 128312, 'in': 106651, 'to': 76228, ...})"
            ]
          },
          "metadata": {},
          "execution_count": 26
        }
      ]
    },
    {
      "cell_type": "code",
      "source": [
        "len(nltk.word_tokenize(tr))"
      ],
      "metadata": {
        "colab": {
          "base_uri": "https://localhost:8080/"
        },
        "id": "_WDOKdXD955S",
        "outputId": "b93c7022-71d4-4717-be13-70cdbadb75a6"
      },
      "execution_count": null,
      "outputs": [
        {
          "output_type": "execute_result",
          "data": {
            "text/plain": [
              "4846116"
            ]
          },
          "metadata": {},
          "execution_count": 27
        }
      ]
    },
    {
      "cell_type": "code",
      "source": [
        "max_tokens = 68000\n",
        "max_tokens"
      ],
      "metadata": {
        "colab": {
          "base_uri": "https://localhost:8080/"
        },
        "id": "XRfMpUDr95_1",
        "outputId": "ec9ad3e9-efa5-40d3-f845-77d875fd62fd"
      },
      "execution_count": null,
      "outputs": [
        {
          "output_type": "execute_result",
          "data": {
            "text/plain": [
              "68000"
            ]
          },
          "metadata": {},
          "execution_count": 28
        }
      ]
    },
    {
      "cell_type": "markdown",
      "source": [
        "# Tokenizer"
      ],
      "metadata": {
        "id": "462sOdz-sbaD"
      }
    },
    {
      "cell_type": "code",
      "source": [
        "from tensorflow.keras.preprocessing.text import Tokenizer\n",
        "from tensorflow.keras.preprocessing.sequence import pad_sequences\n",
        "from tensorflow.keras.layers import TextVectorization"
      ],
      "metadata": {
        "id": "J2VeqdyPsyIG"
      },
      "execution_count": null,
      "outputs": []
    },
    {
      "cell_type": "code",
      "source": [
        "sample = 'This is very good for us. we got RA position'"
      ],
      "metadata": {
        "id": "LmOUzrVRukby"
      },
      "execution_count": null,
      "outputs": []
    },
    {
      "cell_type": "code",
      "source": [
        "tokenizer = Tokenizer(num_words = max_tokens,\n",
        "                      oov_token=\"<OOV>\",lower=True)\n",
        "\n",
        "tokenizer.fit_on_texts([sample])"
      ],
      "metadata": {
        "id": "ObOVbMassg-9"
      },
      "execution_count": null,
      "outputs": []
    },
    {
      "cell_type": "code",
      "source": [
        "tokenizer.word_index"
      ],
      "metadata": {
        "colab": {
          "base_uri": "https://localhost:8080/"
        },
        "id": "xI_kdJ5buj9x",
        "outputId": "f8651e43-be20-4604-b417-3f6459a60a71"
      },
      "execution_count": null,
      "outputs": [
        {
          "output_type": "execute_result",
          "data": {
            "text/plain": [
              "{'<OOV>': 1,\n",
              " 'this': 2,\n",
              " 'is': 3,\n",
              " 'very': 4,\n",
              " 'good': 5,\n",
              " 'for': 6,\n",
              " 'us': 7,\n",
              " 'we': 8,\n",
              " 'got': 9,\n",
              " 'ra': 10,\n",
              " 'position': 11}"
            ]
          },
          "metadata": {},
          "execution_count": 35
        }
      ]
    },
    {
      "cell_type": "code",
      "source": [
        "pad_sequences(tokenizer.texts_to_sequences([sample]),maxlen = 15,padding = 'post',truncating = 'post')"
      ],
      "metadata": {
        "colab": {
          "base_uri": "https://localhost:8080/"
        },
        "id": "grHKGBpGu6jM",
        "outputId": "c65c625f-f5bc-4163-9c4b-a0b3ec6ffb2f"
      },
      "execution_count": null,
      "outputs": [
        {
          "output_type": "execute_result",
          "data": {
            "text/plain": [
              "array([[ 2,  3,  4,  5,  6,  7,  8,  9, 10, 11,  0,  0,  0,  0,  0]],\n",
              "      dtype=int32)"
            ]
          },
          "metadata": {},
          "execution_count": 39
        }
      ]
    },
    {
      "cell_type": "code",
      "source": [
        "tv_sample = TextVectorization(max_tokens=15,\n",
        "                       standardize = 'lower_and_strip_punctuation',\n",
        "                       split = 'whitespace',\n",
        "                       ngrams = None,\n",
        "                       pad_to_max_tokens=True,\n",
        "                      output_mode = 'int',\n",
        "                       output_sequence_length = int(output_seq_len))"
      ],
      "metadata": {
        "id": "9--VkCF9shCm"
      },
      "execution_count": null,
      "outputs": []
    },
    {
      "cell_type": "code",
      "source": [],
      "metadata": {
        "id": "gXbQjIsUxK6Q"
      },
      "execution_count": null,
      "outputs": []
    },
    {
      "cell_type": "code",
      "source": [
        "tv_sample.adapt([sample])"
      ],
      "metadata": {
        "id": "Vuk-3BEfshGB"
      },
      "execution_count": null,
      "outputs": []
    },
    {
      "cell_type": "code",
      "source": [
        "tv_sample.get_vocabulary()"
      ],
      "metadata": {
        "colab": {
          "base_uri": "https://localhost:8080/"
        },
        "id": "3QU0cU5RshI9",
        "outputId": "75b3c855-493e-46fe-b596-034a1fcbe9be"
      },
      "execution_count": null,
      "outputs": [
        {
          "output_type": "execute_result",
          "data": {
            "text/plain": [
              "['',\n",
              " '[UNK]',\n",
              " 'we',\n",
              " 'very',\n",
              " 'us',\n",
              " 'this',\n",
              " 'ra',\n",
              " 'position',\n",
              " 'is',\n",
              " 'got',\n",
              " 'good',\n",
              " 'for']"
            ]
          },
          "metadata": {},
          "execution_count": 48
        }
      ]
    },
    {
      "cell_type": "code",
      "source": [
        "tv_sample([sample])"
      ],
      "metadata": {
        "colab": {
          "base_uri": "https://localhost:8080/"
        },
        "id": "lw98UiFSshMT",
        "outputId": "16f0a148-d1ca-4f62-ec84-88d02973b2b6"
      },
      "execution_count": null,
      "outputs": [
        {
          "output_type": "execute_result",
          "data": {
            "text/plain": [
              "<tf.Tensor: shape=(1, 55), dtype=int64, numpy=\n",
              "array([[ 5,  8,  3, 10, 11,  4,  2,  9,  6,  7,  0,  0,  0,  0,  0,  0,\n",
              "         0,  0,  0,  0,  0,  0,  0,  0,  0,  0,  0,  0,  0,  0,  0,  0,\n",
              "         0,  0,  0,  0,  0,  0,  0,  0,  0,  0,  0,  0,  0,  0,  0,  0,\n",
              "         0,  0,  0,  0,  0,  0,  0]])>"
            ]
          },
          "metadata": {},
          "execution_count": 50
        }
      ]
    },
    {
      "cell_type": "code",
      "source": [
        "max_tokens"
      ],
      "metadata": {
        "colab": {
          "base_uri": "https://localhost:8080/"
        },
        "id": "1AJfdQjLxYw6",
        "outputId": "573b4a64-41be-4a78-928f-e6a8f9030321"
      },
      "execution_count": null,
      "outputs": [
        {
          "output_type": "execute_result",
          "data": {
            "text/plain": [
              "68000"
            ]
          },
          "metadata": {},
          "execution_count": 61
        }
      ]
    },
    {
      "cell_type": "code",
      "source": [],
      "metadata": {
        "id": "Z-8V0iqZ0nGX"
      },
      "execution_count": null,
      "outputs": []
    },
    {
      "cell_type": "code",
      "source": [
        "max_tokens_tok = 40000\n",
        "tokenizer = Tokenizer(num_words = max_tokens_tok,oov_token = '<oov>',lower = True)\n",
        "tokenizer.fit_on_texts(train_sent)\n",
        "train_seq = pad_sequences(tokenizer.texts_to_sequences(train_sent),maxlen = int(output_seq_len),padding = 'post',truncating ='post' )\n",
        "val_seq = pad_sequences(tokenizer.texts_to_sequences(val_sent),maxlen = int(output_seq_len),padding = 'post',truncating ='post' )\n",
        "test_seq = pad_sequences(tokenizer.texts_to_sequences(test_sent),maxlen = int(output_seq_len),padding = 'post',truncating ='post' )"
      ],
      "metadata": {
        "id": "9gJDeqDOxLyV"
      },
      "execution_count": null,
      "outputs": []
    },
    {
      "cell_type": "code",
      "source": [
        "word_index  = tokenizer.word_index"
      ],
      "metadata": {
        "id": "LnvTDPdLxL2E"
      },
      "execution_count": null,
      "outputs": []
    },
    {
      "cell_type": "code",
      "source": [
        "embedding_tok = layers.Embedding(max_tokens_tok,output_dim = 100,)"
      ],
      "metadata": {
        "id": "LyFoyK2CxL5N"
      },
      "execution_count": null,
      "outputs": []
    },
    {
      "cell_type": "code",
      "source": [
        "len(word_index.keys())"
      ],
      "metadata": {
        "colab": {
          "base_uri": "https://localhost:8080/"
        },
        "id": "AObEXapxxL8P",
        "outputId": "4d477403-8c25-4f86-9dc5-b964f16cbeef"
      },
      "execution_count": null,
      "outputs": [
        {
          "output_type": "execute_result",
          "data": {
            "text/plain": [
              "45901"
            ]
          },
          "metadata": {},
          "execution_count": 60
        }
      ]
    },
    {
      "cell_type": "code",
      "source": [
        "a = pad_sequences(tokenizer.texts_to_sequences(['lets find find out about us acbdesd']),maxlen = int(output_seq_len),padding = 'post',truncating ='post' )\n",
        "embedding_tok(a)"
      ],
      "metadata": {
        "colab": {
          "base_uri": "https://localhost:8080/"
        },
        "id": "e8IRLQyd1OcS",
        "outputId": "8a6760be-be35-421b-ce68-6d1cea89de5c"
      },
      "execution_count": null,
      "outputs": [
        {
          "output_type": "execute_result",
          "data": {
            "text/plain": [
              "<tf.Tensor: shape=(1, 55, 100), dtype=float32, numpy=\n",
              "array([[[ 0.0256098 ,  0.03332958, -0.00918032, ...,  0.00347112,\n",
              "          0.0446532 , -0.01665979],\n",
              "        [ 0.00433405,  0.03489346,  0.04133708, ...,  0.006506  ,\n",
              "          0.03372128, -0.00529591],\n",
              "        [ 0.00433405,  0.03489346,  0.04133708, ...,  0.006506  ,\n",
              "          0.03372128, -0.00529591],\n",
              "        ...,\n",
              "        [-0.01742155, -0.0138446 ,  0.0417374 , ...,  0.03687128,\n",
              "         -0.01733918,  0.04357794],\n",
              "        [-0.01742155, -0.0138446 ,  0.0417374 , ...,  0.03687128,\n",
              "         -0.01733918,  0.04357794],\n",
              "        [-0.01742155, -0.0138446 ,  0.0417374 , ...,  0.03687128,\n",
              "         -0.01733918,  0.04357794]]], dtype=float32)>"
            ]
          },
          "metadata": {},
          "execution_count": 89
        }
      ]
    },
    {
      "cell_type": "code",
      "source": [],
      "metadata": {
        "id": "OhT3L9fO1Of5"
      },
      "execution_count": null,
      "outputs": []
    },
    {
      "cell_type": "code",
      "source": [],
      "metadata": {
        "id": "fj592S0B1Oiv"
      },
      "execution_count": null,
      "outputs": []
    },
    {
      "cell_type": "markdown",
      "source": [
        "# TextVectorization"
      ],
      "metadata": {
        "id": "xV-d75gE96D2"
      }
    },
    {
      "cell_type": "code",
      "source": [
        "from tensorflow.keras.layers import TextVectorization\n",
        "\n",
        "tv = TextVectorization(max_tokens=max_tokens,\n",
        "                       standardize = 'lower_and_strip_punctuation',\n",
        "                       split = 'whitespace',\n",
        "                       ngrams = None,\n",
        "                       pad_to_max_tokens=True,\n",
        "                       output_mode = 'int',\n",
        "                       output_sequence_length = int(output_seq_len))"
      ],
      "metadata": {
        "id": "KA-cgB7hAVtc"
      },
      "execution_count": null,
      "outputs": []
    },
    {
      "cell_type": "code",
      "source": [
        "tv.adapt(train_sent)"
      ],
      "metadata": {
        "id": "HnFyQItxAVzD"
      },
      "execution_count": null,
      "outputs": []
    },
    {
      "cell_type": "code",
      "source": [
        "sample_sent = random.choice(train_sent)\n",
        "print(f\"Original Train {sample_sent}\")\n",
        "print(f\"tv train {tv(sample_sent)}\")\n",
        "print()\n",
        "print(tv(sample_sent).shape)"
      ],
      "metadata": {
        "colab": {
          "base_uri": "https://localhost:8080/"
        },
        "id": "P1_23HAyAV00",
        "outputId": "18df62c4-f702-4cef-abdf-31ec360d724b"
      },
      "execution_count": null,
      "outputs": [
        {
          "output_type": "stream",
          "name": "stdout",
          "text": [
            "Original Train in summary , non-adjuvanted gh@-qbeta showed similar antibody mediated immunogenicity and a comparable safety profile in healthy humans to commercially available vaccines .\n",
            "tv train [    5  2483  9114 31145   147   150  1029  2268  1929     3     8   550\n",
            "   136   596     5   247  1975     6  4837   559  1972     0     0     0\n",
            "     0     0     0     0     0     0     0     0     0     0     0     0\n",
            "     0     0     0     0     0     0     0     0     0     0     0     0\n",
            "     0     0     0     0     0     0     0]\n",
            "\n",
            "(55,)\n"
          ]
        }
      ]
    },
    {
      "cell_type": "code",
      "source": [],
      "metadata": {
        "id": "siZ0U5Yywi2d"
      },
      "execution_count": null,
      "outputs": []
    },
    {
      "cell_type": "code",
      "source": [
        "rct_20k_vocab = (tv.get_vocabulary())\n",
        "print(f\"Number of words in vocabulary: {len(rct_20k_vocab)}\"), \n",
        "print(f\"Most common words in the vocabulary: {rct_20k_vocab[:5]}\")\n",
        "print(f\"Least common words in the vocabulary: {rct_20k_vocab[-5:]}\")"
      ],
      "metadata": {
        "colab": {
          "base_uri": "https://localhost:8080/"
        },
        "id": "zSjazdw0AV38",
        "outputId": "bfb0d590-e917-4806-b08d-9f020ff2d2d7"
      },
      "execution_count": null,
      "outputs": [
        {
          "output_type": "stream",
          "name": "stdout",
          "text": [
            "Number of words in vocabulary: 64841\n",
            "Most common words in the vocabulary: ['', '[UNK]', 'the', 'and', 'of']\n",
            "Least common words in the vocabulary: ['aainduced', 'aaigroup', 'aachener', 'aachen', 'aaacp']\n"
          ]
        }
      ]
    },
    {
      "cell_type": "code",
      "source": [
        "#Embedding layer recieve a input as (batch, seq_len) ie (None,55)\n",
        "#it outputs 3d [batch , seq_len , emb_dims]\n",
        "\n",
        "token_emb = layers.Embedding(input_dim =len(rct_20k_vocab) ,output_dim = 128 ,\n",
        "                             mask_zero=True,\n",
        "                             name=\"token_embedding\")\n",
        "\n",
        "import random\n",
        "random_text = random.choice(train_sent)\n",
        "print(f\"Original text {random_text}\\n \\\n",
        "        \\n\\nEmbedded Version: \")\n",
        "sample_embed = token_emb(tv([random_text]))\n",
        "print(sample_embed)"
      ],
      "metadata": {
        "colab": {
          "base_uri": "https://localhost:8080/"
        },
        "id": "wcR1rxj5AV7U",
        "outputId": "ccb61f0c-b361-44d3-8b17-5237da33c532"
      },
      "execution_count": null,
      "outputs": [
        {
          "output_type": "stream",
          "name": "stdout",
          "text": [
            "Original text the intention-to-treat ( itt ) and per-protocol ( pp ) h.pylori eradication rates were @ % ( @/@ ) and @ % ( @/@ ) in the furazolidone-based quadruple group , and @ % ( @/@ ) and @ % ( @/@ ) in the levofloxacin-based quadruple group respectively ( ( @ ) = @ , @ ; p = @ , @ ) .\n",
            "         \n",
            "\n",
            "Embedded Version: \n",
            "tf.Tensor(\n",
            "[[[-0.00590017 -0.03499372  0.03473126 ... -0.0036069   0.01417292\n",
            "   -0.02801139]\n",
            "  [-0.03972807  0.048652   -0.00215843 ... -0.01107597 -0.03325237\n",
            "    0.02416733]\n",
            "  [-0.04278529 -0.03088541 -0.03008542 ...  0.03728538 -0.02724358\n",
            "    0.00255867]\n",
            "  ...\n",
            "  [ 0.03571591  0.01646412  0.04437313 ...  0.02352292  0.03280295\n",
            "   -0.02599576]\n",
            "  [ 0.03571591  0.01646412  0.04437313 ...  0.02352292  0.03280295\n",
            "   -0.02599576]\n",
            "  [ 0.03571591  0.01646412  0.04437313 ...  0.02352292  0.03280295\n",
            "   -0.02599576]]], shape=(1, 55, 128), dtype=float32)\n"
          ]
        }
      ]
    },
    {
      "cell_type": "code",
      "source": [
        "ss1 = random.choice(train_sent)\n",
        "ss2 = random.choice(train_sent)\n",
        "token_emb(tv([ss1,ss2]))"
      ],
      "metadata": {
        "id": "6lDvz53bw-EZ",
        "colab": {
          "base_uri": "https://localhost:8080/"
        },
        "outputId": "47747034-4239-4da4-d4ef-62bfb8596eeb"
      },
      "execution_count": null,
      "outputs": [
        {
          "output_type": "execute_result",
          "data": {
            "text/plain": [
              "<tf.Tensor: shape=(2, 55, 128), dtype=float32, numpy=\n",
              "array([[[ 0.04450605, -0.03847174,  0.01743951, ...,  0.04210183,\n",
              "          0.00906659,  0.00154834],\n",
              "        [ 0.04129578,  0.0419069 ,  0.01822492, ...,  0.02936322,\n",
              "         -0.01156842,  0.04301986],\n",
              "        [ 0.0377854 , -0.04839056, -0.02795904, ...,  0.04973233,\n",
              "         -0.04083163,  0.01894641],\n",
              "        ...,\n",
              "        [ 0.03571591,  0.01646412,  0.04437313, ...,  0.02352292,\n",
              "          0.03280295, -0.02599576],\n",
              "        [ 0.03571591,  0.01646412,  0.04437313, ...,  0.02352292,\n",
              "          0.03280295, -0.02599576],\n",
              "        [ 0.03571591,  0.01646412,  0.04437313, ...,  0.02352292,\n",
              "          0.03280295, -0.02599576]],\n",
              "\n",
              "       [[ 0.02722744, -0.01401793,  0.00614928, ...,  0.00526919,\n",
              "          0.02785131,  0.02368196],\n",
              "        [ 0.02135687, -0.03822146, -0.01865933, ...,  0.04539541,\n",
              "          0.04812297,  0.02981002],\n",
              "        [-0.00045667, -0.04113486,  0.03310969, ..., -0.03406968,\n",
              "         -0.03800094, -0.03257245],\n",
              "        ...,\n",
              "        [ 0.03571591,  0.01646412,  0.04437313, ...,  0.02352292,\n",
              "          0.03280295, -0.02599576],\n",
              "        [ 0.03571591,  0.01646412,  0.04437313, ...,  0.02352292,\n",
              "          0.03280295, -0.02599576],\n",
              "        [ 0.03571591,  0.01646412,  0.04437313, ...,  0.02352292,\n",
              "          0.03280295, -0.02599576]]], dtype=float32)>"
            ]
          },
          "metadata": {},
          "execution_count": 35
        }
      ]
    },
    {
      "cell_type": "code",
      "source": [
        "train_dataset_tv = tf.data.Dataset.from_tensor_slices((train_sent,train_labels_ohe)).batch(32).prefetch(tf.data.AUTOTUNE)\n",
        "test_dataset_tv = tf.data.Dataset.from_tensor_slices((test_sent,test_labels_ohe)).batch(32).prefetch(tf.data.AUTOTUNE)\n",
        "val_dataset_tv = tf.data.Dataset.from_tensor_slices((val_sent,val_labels_ohe)).batch(32).prefetch(tf.data.AUTOTUNE)"
      ],
      "metadata": {
        "id": "MCKn2ZqYBPsJ"
      },
      "execution_count": null,
      "outputs": []
    },
    {
      "cell_type": "code",
      "source": [
        "for a,b in train_dataset_tv.take(1):\n",
        "  print(a,b)"
      ],
      "metadata": {
        "id": "4dToYUQmAWCk",
        "colab": {
          "base_uri": "https://localhost:8080/"
        },
        "outputId": "c96ac3ba-425c-4561-e8e6-145cbc8b8e15"
      },
      "execution_count": null,
      "outputs": [
        {
          "output_type": "stream",
          "name": "stdout",
          "text": [
            "tf.Tensor(\n",
            "[b'to investigate the efficacy of @ weeks of daily low-dose oral prednisolone in improving pain , mobility , and systemic low-grade inflammation in the short term and whether the effect would be sustained at @ weeks in older adults with moderate to severe knee osteoarthritis ( oa ) .'\n",
            " b'a total of @ patients with primary knee oa were randomized @:@ ; @ received @ mg/day of prednisolone and @ received placebo for @ weeks .'\n",
            " b'outcome measures included pain reduction and improvement in function scores and systemic inflammation markers .'\n",
            " b'pain was assessed using the visual analog pain scale ( @-@ mm ) .'\n",
            " b'secondary outcome measures included the western ontario and mcmaster universities osteoarthritis index scores , patient global assessment ( pga ) of the severity of knee oa , and @-min walk distance ( @mwd ) .'\n",
            " b'serum levels of interleukin @ ( il-@ ) , il-@ , tumor necrosis factor ( tnf ) - , and high-sensitivity c-reactive protein ( hscrp ) were measured .'\n",
            " b'there was a clinically relevant reduction in the intervention group compared to the placebo group for knee pain , physical function , pga , and @mwd at @ weeks .'\n",
            " b'the mean difference between treatment arms ( @ % ci ) was @ ( @-@ @ ) , p < @ ; @ ( @-@ @ ) , p < @ ; @ ( @-@ @ ) , p < @ ; and @ ( @-@ @ ) , p < @ , respectively .'\n",
            " b'further , there was a clinically relevant reduction in the serum levels of il-@ , il-@ , tnf - , and hscrp at @ weeks in the intervention group when compared to the placebo group .'\n",
            " b'these differences remained significant at @ weeks .'\n",
            " b'the outcome measures in rheumatology clinical trials-osteoarthritis research society international responder rate was @ % in the intervention group and @ % in the placebo group ( p < @ ) .'\n",
            " b'low-dose oral prednisolone had both a short-term and a longer sustained effect resulting in less knee pain , better physical function , and attenuation of systemic inflammation in older patients with knee oa ( clinicaltrials.gov identifier nct@ ) .'\n",
            " b'emotional eating is associated with overeating and the development of obesity .'\n",
            " b'yet , empirical evidence for individual ( trait ) differences in emotional eating and cognitive mechanisms that contribute to eating during sad mood remain equivocal .'\n",
            " b'the aim of this study was to test if attention bias for food moderates the effect of self-reported emotional eating during sad mood ( vs neutral mood ) on actual food intake .'\n",
            " b'it was expected that emotional eating is predictive of elevated attention for food and higher food intake after an experimentally induced sad mood and that attentional maintenance on food predicts food intake during a sad versus a neutral mood .'\n",
            " b'participants ( n = @ ) were randomly assigned to one of the two experimental mood induction conditions ( sad/neutral ) .'\n",
            " b'attentional biases for high caloric foods were measured by eye tracking during a visual probe task with pictorial food and neutral stimuli .'\n",
            " b'self-reported emotional eating was assessed with the dutch eating behavior questionnaire ( debq ) and ad libitum food intake was tested by a disguised food offer .'\n",
            " b'hierarchical multivariate regression modeling showed that self-reported emotional eating did not account for changes in attention allocation for food or food intake in either condition .'\n",
            " b'yet , attention maintenance on food cues was significantly related to increased intake specifically in the neutral condition , but not in the sad mood condition .'\n",
            " b'the current findings show that self-reported emotional eating ( based on the debq ) might not validly predict who overeats when sad , at least not in a laboratory setting with healthy women .'\n",
            " b'results further suggest that attention maintenance on food relates to eating motivation when in a neutral affective state , and might therefore be a cognitive mechanism contributing to increased food intake in general , but maybe not during sad mood .'\n",
            " b'although working smoke alarms halve deaths in residential fires , many households do not keep alarms operational .'\n",
            " b'we tested whether theory-based education increases alarm operability .'\n",
            " b'randomised multiarm trial , with a single arm randomly selected for use each day , in low-income neighbourhoods in maryland , usa .'\n",
            " b\"intervention arms : ( @ ) full education combining a health belief module with a social-cognitive theory module that provided hands-on practice installing alarm batteries and using the alarm 's hush button ; ( @ ) hands-on practice social-cognitive module supplemented by typical fire department education ; ( @ ) current norm receiving typical fire department education only .\"\n",
            " b'four hundred and thirty-six homes recruited through churches or by knocking on doors in @-@ .'\n",
            " b'follow-up visits checked alarm operability in @ homes ( @ % ) @-@ @ years after installation .'\n",
            " b'number of homes with working alarms defined as alarms with working batteries or hard-wired and number of working alarms per home .'\n",
            " b'regressions controlled for alarm status preintervention ; demographics and beliefs about fire risks and alarm effectiveness .'\n",
            " b'homes in the full education and practice arms were more likely to have a functioning smoke alarm at follow-up ( or = @ , @ % ci @ to @ ) and had an average of @ more working alarms per home ( @ % ci @ to @ ) .'], shape=(32,), dtype=string) tf.Tensor(\n",
            "[[0. 0. 0. 1. 0.]\n",
            " [0. 0. 1. 0. 0.]\n",
            " [0. 0. 1. 0. 0.]\n",
            " [0. 0. 1. 0. 0.]\n",
            " [0. 0. 1. 0. 0.]\n",
            " [0. 0. 1. 0. 0.]\n",
            " [0. 0. 0. 0. 1.]\n",
            " [0. 0. 0. 0. 1.]\n",
            " [0. 0. 0. 0. 1.]\n",
            " [0. 0. 0. 0. 1.]\n",
            " [0. 0. 0. 0. 1.]\n",
            " [0. 1. 0. 0. 0.]\n",
            " [1. 0. 0. 0. 0.]\n",
            " [1. 0. 0. 0. 0.]\n",
            " [0. 0. 0. 1. 0.]\n",
            " [0. 0. 0. 1. 0.]\n",
            " [0. 0. 1. 0. 0.]\n",
            " [0. 0. 1. 0. 0.]\n",
            " [0. 0. 1. 0. 0.]\n",
            " [0. 0. 0. 0. 1.]\n",
            " [0. 0. 0. 0. 1.]\n",
            " [0. 1. 0. 0. 0.]\n",
            " [0. 1. 0. 0. 0.]\n",
            " [1. 0. 0. 0. 0.]\n",
            " [1. 0. 0. 0. 0.]\n",
            " [0. 0. 1. 0. 0.]\n",
            " [0. 0. 1. 0. 0.]\n",
            " [0. 0. 1. 0. 0.]\n",
            " [0. 0. 1. 0. 0.]\n",
            " [0. 0. 1. 0. 0.]\n",
            " [0. 0. 1. 0. 0.]\n",
            " [0. 0. 0. 0. 1.]], shape=(32, 5), dtype=float64)\n"
          ]
        }
      ]
    },
    {
      "cell_type": "code",
      "source": [
        "#these are for tokenizer \n",
        "train_dataset = tf.data.Dataset.from_tensor_slices((train_seq,train_labels_ohe)).batch(32).prefetch(tf.data.AUTOTUNE)\n",
        "test_dataset = tf.data.Dataset.from_tensor_slices((test_seq,test_labels_ohe)).batch(32).prefetch(tf.data.AUTOTUNE)\n",
        "val_dataset = tf.data.Dataset.from_tensor_slices((val_seq,val_labels_ohe)).batch(32).prefetch(tf.data.AUTOTUNE)"
      ],
      "metadata": {
        "id": "45aLqyg92UXJ"
      },
      "execution_count": null,
      "outputs": []
    },
    {
      "cell_type": "code",
      "source": [
        "train_dataset"
      ],
      "metadata": {
        "colab": {
          "base_uri": "https://localhost:8080/"
        },
        "id": "QcMzFXquzucp",
        "outputId": "77a31593-77c0-4792-eb82-a6b1124e1ba7"
      },
      "execution_count": null,
      "outputs": [
        {
          "output_type": "execute_result",
          "data": {
            "text/plain": [
              "<_PrefetchDataset element_spec=(TensorSpec(shape=(None, 55), dtype=tf.int32, name=None), TensorSpec(shape=(None, 5), dtype=tf.float64, name=None))>"
            ]
          },
          "metadata": {},
          "execution_count": 91
        }
      ]
    },
    {
      "cell_type": "code",
      "source": [
        "tf.data.Dataset.from_tensor_slices(([[1,]],[[0,0,0,0,0]]))"
      ],
      "metadata": {
        "colab": {
          "base_uri": "https://localhost:8080/"
        },
        "id": "Bgq7o1DSAWGB",
        "outputId": "f571faf0-902c-4327-b10a-ea0853b5fcb6"
      },
      "execution_count": null,
      "outputs": [
        {
          "output_type": "execute_result",
          "data": {
            "text/plain": [
              "<_TensorSliceDataset element_spec=(TensorSpec(shape=(1,), dtype=tf.int32, name=None), TensorSpec(shape=(5,), dtype=tf.int32, name=None))>"
            ]
          },
          "metadata": {},
          "execution_count": 39
        }
      ]
    },
    {
      "cell_type": "markdown",
      "source": [
        "# Model 1"
      ],
      "metadata": {
        "id": "i2vaPvaaFgUL"
      }
    },
    {
      "cell_type": "code",
      "source": [
        "tv(train_sent[:32])"
      ],
      "metadata": {
        "id": "YEXNBBGI1lyB"
      },
      "execution_count": null,
      "outputs": []
    },
    {
      "cell_type": "code",
      "source": [
        "inputs = layers.Input(shape=(1,), dtype=tf.string)  # input is expected to be a 1-dimensional tensor.  (None,1)\n",
        "text_vectors = tv(inputs) # vectorize text inputs   #                                                  (32,55)\n",
        "token_embeddings = token_emb(text_vectors) # create embedding                                          (32,55,128)\n",
        "x = layers.Conv1D(64, kernel_size=5, padding=\"same\", activation=\"relu\")(token_embeddings)              (32,55,64)\n",
        "x = layers.GlobalAveragePooling1D()(x) # condense the output of our feature vector                      (32,64)\n",
        "outputs = layers.Dense(n_classes, activation=\"softmax\")(x)\n",
        "model_1 = tf.keras.Model(inputs, outputs)\n",
        "\n",
        "# Compile\n",
        "model_1.compile(loss=\"categorical_crossentropy\", # if your labels are integer form (not one hot) use sparse_categorical_crossentropy\n",
        "                optimizer=tf.keras.optimizers.Adam(),\n",
        "                metrics=[\"accuracy\"])"
      ],
      "metadata": {
        "id": "_Yf41xVJFgYA"
      },
      "execution_count": null,
      "outputs": []
    },
    {
      "cell_type": "code",
      "source": [
        "model_1.summary()"
      ],
      "metadata": {
        "id": "YNYqvTxz2DEZ"
      },
      "execution_count": null,
      "outputs": []
    },
    {
      "cell_type": "code",
      "source": [
        "model_1.history = model_1.fit(train_dataset,epochs=3,\n",
        "                              validation_data = val_dataset,\n",
        "                              validation_steps = int(0.1*len(val_dataset)))"
      ],
      "metadata": {
        "id": "SmGKvl1QFgdO"
      },
      "execution_count": null,
      "outputs": []
    },
    {
      "cell_type": "code",
      "source": [
        "model_1.evaluate(val_dataset)"
      ],
      "metadata": {
        "id": "fLSu0JOYFgeb"
      },
      "execution_count": null,
      "outputs": []
    },
    {
      "cell_type": "code",
      "source": [
        "model_1_pred_probs = model_1.predict(val_dataset)\n",
        "model_1_pred_probs = tf.argmax(model_1_pred_probs,axis=1)"
      ],
      "metadata": {
        "id": "_8ecndRHFghX"
      },
      "execution_count": null,
      "outputs": []
    },
    {
      "cell_type": "code",
      "source": [
        "baseline_1_res = calculate(val_labels_encoded,model_1_pred_probs)"
      ],
      "metadata": {
        "id": "4q3YPC5GMM7Z"
      },
      "execution_count": null,
      "outputs": []
    },
    {
      "cell_type": "markdown",
      "source": [
        "# Model 1 using Tokenizer"
      ],
      "metadata": {
        "id": "o-Zn236R2jZk"
      }
    },
    {
      "cell_type": "code",
      "source": [
        "embedding_tok = layers.Embedding(max_tokens_tok,output_dim = 100,)\n",
        "\n",
        "inputs = Input(shape=(1,),name = 'input_shape')\n",
        "emb_layer = embedding_tok(inputs)\n",
        "x = layers.Conv1D(64, kernel_size=5, padding=\"same\", activation=\"relu\")(emb_layer)             # (32,55,64)\n",
        "x = layers.GlobalAveragePooling1D()(x) # condense the output of our feature vector                 #     (32,64)\n",
        "outputs = layers.Dense(n_classes, activation=\"softmax\")(x)\n",
        "model_1_tok = Model(inputs,outputs)\n",
        "model_1_tok.summary()"
      ],
      "metadata": {
        "colab": {
          "base_uri": "https://localhost:8080/"
        },
        "id": "YRAkEuzq2jeE",
        "outputId": "abd64341-fb46-4f33-9ad2-f50d17f80cee"
      },
      "execution_count": null,
      "outputs": [
        {
          "output_type": "stream",
          "name": "stdout",
          "text": [
            "Model: \"model_5\"\n",
            "_________________________________________________________________\n",
            " Layer (type)                Output Shape              Param #   \n",
            "=================================================================\n",
            " input_shape (InputLayer)    [(None, 1)]               0         \n",
            "                                                                 \n",
            " embedding_5 (Embedding)     (None, 1, 100)            4000000   \n",
            "                                                                 \n",
            " conv1d_1 (Conv1D)           (None, 1, 64)             32064     \n",
            "                                                                 \n",
            " global_average_pooling1d (G  (None, 64)               0         \n",
            " lobalAveragePooling1D)                                          \n",
            "                                                                 \n",
            " dense_6 (Dense)             (None, 5)                 325       \n",
            "                                                                 \n",
            "=================================================================\n",
            "Total params: 4,032,389\n",
            "Trainable params: 4,032,389\n",
            "Non-trainable params: 0\n",
            "_________________________________________________________________\n"
          ]
        }
      ]
    },
    {
      "cell_type": "code",
      "source": [
        "model_1_tok.compile(loss=\"categorical_crossentropy\", # if your labels are integer form (not one hot) use sparse_categorical_crossentropy\n",
        "                optimizer=tf.keras.optimizers.Adam(),\n",
        "                metrics=[\"accuracy\"])\n",
        "\n",
        "model_1_tok.history = model_1_tok.fit(train_dataset,epochs=3,\n",
        "                              validation_data = val_dataset,\n",
        "                              validation_steps = int(0.1*len(val_dataset)))"
      ],
      "metadata": {
        "colab": {
          "base_uri": "https://localhost:8080/"
        },
        "id": "VYvNOrOe2jhD",
        "outputId": "4bdf8cb7-c018-4efc-ab1f-d0d06fdbb2fb"
      },
      "execution_count": null,
      "outputs": [
        {
          "output_type": "stream",
          "name": "stdout",
          "text": [
            "Epoch 1/3\n",
            "5627/5627 [==============================] - 85s 13ms/step - loss: 0.6221 - accuracy: 0.7723 - val_loss: 0.5438 - val_accuracy: 0.8042\n",
            "Epoch 2/3\n",
            "5627/5627 [==============================] - 28s 5ms/step - loss: 0.4680 - accuracy: 0.8355 - val_loss: 0.5359 - val_accuracy: 0.8065\n",
            "Epoch 3/3\n",
            "5627/5627 [==============================] - 27s 5ms/step - loss: 0.4000 - accuracy: 0.8618 - val_loss: 0.5584 - val_accuracy: 0.8049\n"
          ]
        }
      ]
    },
    {
      "cell_type": "code",
      "source": [],
      "metadata": {
        "id": "vVbDpXjx2jkA"
      },
      "execution_count": null,
      "outputs": []
    },
    {
      "cell_type": "code",
      "source": [],
      "metadata": {
        "id": "SZq3rF_12jpp"
      },
      "execution_count": null,
      "outputs": []
    },
    {
      "cell_type": "code",
      "source": [],
      "metadata": {
        "id": "HI9wtHqf2jsY"
      },
      "execution_count": null,
      "outputs": []
    },
    {
      "cell_type": "markdown",
      "source": [
        "#Model 2: Feature Exctraction with pretrained token embeddings"
      ],
      "metadata": {
        "id": "-nCvYzjgM26d"
      }
    },
    {
      "cell_type": "code",
      "source": [
        "import tensorflow_hub as hub\n",
        "tf_hub_embedding_layer = hub.KerasLayer(\"https://tfhub.dev/google/universal-sentence-encoder/4\",\n",
        "                                        trainable=False,\n",
        "                                        name=\"universal_sentence_encoder\")"
      ],
      "metadata": {
        "id": "9Xd1iMKRM29r"
      },
      "execution_count": null,
      "outputs": []
    },
    {
      "cell_type": "code",
      "source": [
        "sample_sent = random.choice(train_sent)\n",
        "print(sample_sent)\n",
        "print()\n",
        "print(token_emb(tv(sample_sent)).shape)\n",
        "print()\n",
        "print(tf_hub_embedding_layer([sample_sent]).shape)"
      ],
      "metadata": {
        "colab": {
          "base_uri": "https://localhost:8080/"
        },
        "id": "4FkRp8AOM3Ap",
        "outputId": "15d0b221-e77d-4b47-c66e-cb119f76ca98"
      },
      "execution_count": null,
      "outputs": [
        {
          "output_type": "stream",
          "name": "stdout",
          "text": [
            "a total of @ infants were enrolled in the sli group and @ in the control group .\n",
            "\n",
            "(55, 128)\n",
            "\n",
            "(1, 512)\n"
          ]
        }
      ]
    },
    {
      "cell_type": "code",
      "source": [
        "inputs = Input(shape=[],dtype = tf.string) #pretrained asks for size(batch,) hence shape= []\n",
        "pretrained_emb = tf_hub_embedding_layer(inputs)   #takes input(None,seq_len)  -->(None,dim_len)\n",
        "x = Dense(64,activation = 'relu')(pretrained_emb)   #inp(batch,dim)--->out(batch,dense_units)\n",
        "outputs = Dense(5,activation = 'softmax')(x)       #inp(batch,64)----->(batch,5)\n",
        "model_2 = Model(inputs,outputs)                           \n",
        "model_2.compile(loss=\"categorical_crossentropy\", # if your labels are integer form (not one hot) use sparse_categorical_crossentropy\n",
        "                optimizer=tf.keras.optimizers.Adam(),\n",
        "                metrics=[\"accuracy\"])\n",
        "model_2.summary()"
      ],
      "metadata": {
        "colab": {
          "base_uri": "https://localhost:8080/"
        },
        "id": "xQnyTQeoM3Eg",
        "outputId": "6a9d51ff-d35c-42fe-c2c9-c57e8b0f0bde"
      },
      "execution_count": null,
      "outputs": [
        {
          "output_type": "stream",
          "name": "stdout",
          "text": [
            "Model: \"model\"\n",
            "_________________________________________________________________\n",
            " Layer (type)                Output Shape              Param #   \n",
            "=================================================================\n",
            " input_1 (InputLayer)        [(None,)]                 0         \n",
            "                                                                 \n",
            " universal_sentence_encoder   (None, 512)              256797824 \n",
            " (KerasLayer)                                                    \n",
            "                                                                 \n",
            " dense (Dense)               (None, 64)                32832     \n",
            "                                                                 \n",
            " dense_1 (Dense)             (None, 5)                 325       \n",
            "                                                                 \n",
            "=================================================================\n",
            "Total params: 256,830,981\n",
            "Trainable params: 33,157\n",
            "Non-trainable params: 256,797,824\n",
            "_________________________________________________________________\n"
          ]
        }
      ]
    },
    {
      "cell_type": "code",
      "source": [
        "ss1 = random.choice(train_sent)\n",
        "ss2 = random.choice(train_sent)\n",
        "tf_hub_embedding_layer([ss1,ss2])"
      ],
      "metadata": {
        "colab": {
          "base_uri": "https://localhost:8080/"
        },
        "id": "gGkzMqz20S4S",
        "outputId": "01e6ed10-1d3b-4cfd-e2fc-8f9aef08dff1"
      },
      "execution_count": null,
      "outputs": [
        {
          "output_type": "execute_result",
          "data": {
            "text/plain": [
              "<tf.Tensor: shape=(2, 512), dtype=float32, numpy=\n",
              "array([[ 0.06719957, -0.06695455, -0.02654888, ...,  0.02439315,\n",
              "         0.00133406, -0.01466693],\n",
              "       [ 0.06978687, -0.02663969,  0.10518183, ..., -0.01951362,\n",
              "        -0.06846595, -0.09525921]], dtype=float32)>"
            ]
          },
          "metadata": {},
          "execution_count": 45
        }
      ]
    },
    {
      "cell_type": "code",
      "source": [
        "model_2.fit(train_dataset,\n",
        "            steps_per_epoch=int(0.1 * len(train_dataset)),\n",
        "            epochs=3,\n",
        "            validation_data=val_dataset,\n",
        "            validation_steps=int(0.1 * len(val_dataset)))"
      ],
      "metadata": {
        "colab": {
          "base_uri": "https://localhost:8080/"
        },
        "id": "ycYZofgzM3GS",
        "outputId": "387bdd57-9976-472b-aa0a-d8119d879d4d"
      },
      "execution_count": null,
      "outputs": [
        {
          "output_type": "stream",
          "name": "stdout",
          "text": [
            "Epoch 1/3\n",
            "562/562 [==============================] - 13s 17ms/step - loss: 0.9580 - accuracy: 0.6269 - val_loss: 0.8118 - val_accuracy: 0.6822\n",
            "Epoch 2/3\n",
            "562/562 [==============================] - 9s 16ms/step - loss: 0.7836 - accuracy: 0.6938 - val_loss: 0.7701 - val_accuracy: 0.7015\n",
            "Epoch 3/3\n",
            "562/562 [==============================] - 8s 14ms/step - loss: 0.7722 - accuracy: 0.7048 - val_loss: 0.7594 - val_accuracy: 0.7058\n"
          ]
        },
        {
          "output_type": "execute_result",
          "data": {
            "text/plain": [
              "<keras.callbacks.History at 0x7f24122ca920>"
            ]
          },
          "metadata": {},
          "execution_count": 46
        }
      ]
    },
    {
      "cell_type": "code",
      "source": [
        "print(model_2.evaluate(val_dataset))\n",
        "model_2_pred_probs = model_2.predict(val_dataset)\n",
        "model_2_pred_probs = tf.argmax(model_2_pred_probs,axis=1)\n",
        "baseline_2_res = calculate(val_labels_encoded,model_2_pred_probs)"
      ],
      "metadata": {
        "id": "d3ToH2OSM3Ju"
      },
      "execution_count": null,
      "outputs": []
    },
    {
      "cell_type": "code",
      "source": [],
      "metadata": {
        "id": "pw5yY-5aM3QH"
      },
      "execution_count": null,
      "outputs": []
    },
    {
      "cell_type": "markdown",
      "source": [
        "# Model 2- Feature Extraction using Tokenizer\n"
      ],
      "metadata": {
        "id": "SQGtw_rz6I7O"
      }
    },
    {
      "cell_type": "code",
      "source": [
        "ss =['This is not good','Movie was a huge let down']\n",
        "\n",
        "tf_hub_embedding_layer(ss)"
      ],
      "metadata": {
        "colab": {
          "base_uri": "https://localhost:8080/"
        },
        "id": "WcnTfBrx6I-s",
        "outputId": "e82b00ba-3d3d-4d1c-c5ec-b13158d63fe0"
      },
      "execution_count": null,
      "outputs": [
        {
          "output_type": "execute_result",
          "data": {
            "text/plain": [
              "<tf.Tensor: shape=(2, 512), dtype=float32, numpy=\n",
              "array([[ 6.90572997e-05, -2.49395277e-02,  2.34257560e-02, ...,\n",
              "        -3.01602650e-02, -1.03734145e-02,  2.46593859e-02],\n",
              "       [-3.53581496e-02, -1.69337820e-02, -1.09568564e-03, ...,\n",
              "        -5.36757261e-02,  1.11483090e-01,  7.73590477e-03]], dtype=float32)>"
            ]
          },
          "metadata": {},
          "execution_count": 117
        }
      ]
    },
    {
      "cell_type": "code",
      "source": [
        "inputs = Input(shape=[],dtype = tf.string) #pretrained asks for size(batch,) hence shape= []\n",
        "pretrained_emb = tf_hub_embedding_layer(inputs)   #takes input(None,seq_len)  -->(None,dim_len)\n",
        "x = Dense(64,activation = 'relu')(pretrained_emb)   #inp(batch,dim)--->out(batch,dense_units)\n",
        "outputs = Dense(5,activation = 'softmax')(x)       #inp(batch,64)----->(batch,5)\n",
        "model_2_tok = Model(inputs,outputs)                           \n",
        "model_2_tok.compile(loss=\"categorical_crossentropy\", # if your labels are integer form (not one hot) use sparse_categorical_crossentropy\n",
        "                optimizer=tf.keras.optimizers.Adam(),\n",
        "                metrics=[\"accuracy\"])"
      ],
      "metadata": {
        "id": "5Y3pm5pY6JBr"
      },
      "execution_count": null,
      "outputs": []
    },
    {
      "cell_type": "code",
      "source": [
        "Dense(5,activation ='softmax')(Dense(64,activation ='relu')(tf_hub_embedding_layer(ss)))"
      ],
      "metadata": {
        "colab": {
          "base_uri": "https://localhost:8080/"
        },
        "id": "CLFIrF6nAOkQ",
        "outputId": "d6e6491d-cfbb-4981-e367-b5befc63dca9"
      },
      "execution_count": null,
      "outputs": [
        {
          "output_type": "execute_result",
          "data": {
            "text/plain": [
              "<tf.Tensor: shape=(2, 5), dtype=float32, numpy=\n",
              "array([[0.19396418, 0.20140171, 0.20761006, 0.18669681, 0.21032721],\n",
              "       [0.200833  , 0.20979857, 0.20973943, 0.18634802, 0.19328098]],\n",
              "      dtype=float32)>"
            ]
          },
          "metadata": {},
          "execution_count": 138
        }
      ]
    },
    {
      "cell_type": "code",
      "source": [
        "model_2_tok.compile(loss=\"categorical_crossentropy\",\n",
        "                    optimizer=tf.keras.optimizers.Adam(),\n",
        "                    metrics=[\"accuracy\"],\n",
        "                    run_eagerly=True)\n",
        "\n",
        "model_2_tok.fit(np.array(train_sent),\n",
        "                train_labels_ohe,\n",
        "                batch_size =32,\n",
        "                steps_per_epoch=int(0.1 * len(train_sent) / 32),\n",
        "                epochs=3,\n",
        "                validation_data=(np.array(val_sent), val_labels_ohe),\n",
        "                validation_steps=int(0.1 * len(val_sent)/32)\n",
        "            )"
      ],
      "metadata": {
        "colab": {
          "base_uri": "https://localhost:8080/"
        },
        "id": "Mb4i31RQ6JEr",
        "outputId": "61170b88-1701-4189-a121-06909b6b5bf8"
      },
      "execution_count": null,
      "outputs": [
        {
          "output_type": "stream",
          "name": "stdout",
          "text": [
            "Epoch 1/3\n"
          ]
        },
        {
          "output_type": "stream",
          "name": "stderr",
          "text": [
            "WARNING:tensorflow:5 out of the last 6789 calls to <function _BaseOptimizer._update_step_xla at 0x7f25d6e44550> triggered tf.function retracing. Tracing is expensive and the excessive number of tracings could be due to (1) creating @tf.function repeatedly in a loop, (2) passing tensors with different shapes, (3) passing Python objects instead of tensors. For (1), please define your @tf.function outside of the loop. For (2), @tf.function has reduce_retracing=True option that can avoid unnecessary retracing. For (3), please refer to https://www.tensorflow.org/guide/function#controlling_retracing and https://www.tensorflow.org/api_docs/python/tf/function for  more details.\n"
          ]
        },
        {
          "output_type": "stream",
          "name": "stdout",
          "text": [
            "562/562 [==============================] - 39s 54ms/step - loss: 0.7410 - accuracy: 0.7127 - val_loss: 0.7194 - val_accuracy: 0.7174\n",
            "Epoch 2/3\n",
            "562/562 [==============================] - 29s 51ms/step - loss: 0.7300 - accuracy: 0.7219 - val_loss: 0.7181 - val_accuracy: 0.7241\n",
            "Epoch 3/3\n",
            "562/562 [==============================] - 29s 52ms/step - loss: 0.7069 - accuracy: 0.7313 - val_loss: 0.7028 - val_accuracy: 0.7334\n"
          ]
        },
        {
          "output_type": "execute_result",
          "data": {
            "text/plain": [
              "<keras.callbacks.History at 0x7f25d6dcedd0>"
            ]
          },
          "metadata": {},
          "execution_count": 155
        }
      ]
    },
    {
      "cell_type": "code",
      "source": [],
      "metadata": {
        "colab": {
          "base_uri": "https://localhost:8080/"
        },
        "id": "ZROYIkfS6JHg",
        "outputId": "93c17517-8792-4b11-eeed-4f711bc4de04"
      },
      "execution_count": null,
      "outputs": [
        {
          "output_type": "execute_result",
          "data": {
            "text/plain": [
              "5626.25"
            ]
          },
          "metadata": {},
          "execution_count": 156
        }
      ]
    },
    {
      "cell_type": "code",
      "source": [],
      "metadata": {
        "id": "jQy3kp0w6JNM"
      },
      "execution_count": null,
      "outputs": []
    },
    {
      "cell_type": "markdown",
      "source": [
        "#Model 3 : Conv1d with character Embeding"
      ],
      "metadata": {
        "id": "KdNzbndVQYxI"
      }
    },
    {
      "cell_type": "code",
      "source": [
        "def char_split(sent):\n",
        "  return ' '.join(list(sent))\n",
        "\n",
        "char_split(sample_sent)"
      ],
      "metadata": {
        "colab": {
          "base_uri": "https://localhost:8080/",
          "height": 207
        },
        "id": "OE1qafHhQ-fO",
        "outputId": "bbde0078-c630-4287-fe48-342e13addb5e"
      },
      "execution_count": null,
      "outputs": [
        {
          "output_type": "error",
          "ename": "NameError",
          "evalue": "ignored",
          "traceback": [
            "\u001b[0;31m---------------------------------------------------------------------------\u001b[0m",
            "\u001b[0;31mNameError\u001b[0m                                 Traceback (most recent call last)",
            "\u001b[0;32m<ipython-input-178-018169e2ec15>\u001b[0m in \u001b[0;36m<cell line: 4>\u001b[0;34m()\u001b[0m\n\u001b[1;32m      2\u001b[0m   \u001b[0;32mreturn\u001b[0m \u001b[0;34m' '\u001b[0m\u001b[0;34m.\u001b[0m\u001b[0mjoin\u001b[0m\u001b[0;34m(\u001b[0m\u001b[0mlist\u001b[0m\u001b[0;34m(\u001b[0m\u001b[0msent\u001b[0m\u001b[0;34m)\u001b[0m\u001b[0;34m)\u001b[0m\u001b[0;34m\u001b[0m\u001b[0;34m\u001b[0m\u001b[0m\n\u001b[1;32m      3\u001b[0m \u001b[0;34m\u001b[0m\u001b[0m\n\u001b[0;32m----> 4\u001b[0;31m \u001b[0mchar_split\u001b[0m\u001b[0;34m(\u001b[0m\u001b[0msample_sent\u001b[0m\u001b[0;34m)\u001b[0m\u001b[0;34m\u001b[0m\u001b[0;34m\u001b[0m\u001b[0m\n\u001b[0m",
            "\u001b[0;31mNameError\u001b[0m: name 'sample_sent' is not defined"
          ]
        }
      ]
    },
    {
      "cell_type": "code",
      "source": [
        "train_chars = [char_split(sent) for sent in train_sent]\n",
        "val_chars = [char_split(sent) for sent in val_sent]\n",
        "test_chars = [char_split(sent) for sent in test_sent]"
      ],
      "metadata": {
        "id": "DalZXtDpQ-jB"
      },
      "execution_count": null,
      "outputs": []
    },
    {
      "cell_type": "code",
      "source": [
        "train_chars[0]"
      ],
      "metadata": {
        "colab": {
          "base_uri": "https://localhost:8080/",
          "height": 128
        },
        "id": "Ascq50slQ-m1",
        "outputId": "6d6ea497-184a-459c-cffd-686cee72f2eb"
      },
      "execution_count": null,
      "outputs": [
        {
          "output_type": "execute_result",
          "data": {
            "text/plain": [
              "'t o   i n v e s t i g a t e   t h e   e f f i c a c y   o f   @   w e e k s   o f   d a i l y   l o w - d o s e   o r a l   p r e d n i s o l o n e   i n   i m p r o v i n g   p a i n   ,   m o b i l i t y   ,   a n d   s y s t e m i c   l o w - g r a d e   i n f l a m m a t i o n   i n   t h e   s h o r t   t e r m   a n d   w h e t h e r   t h e   e f f e c t   w o u l d   b e   s u s t a i n e d   a t   @   w e e k s   i n   o l d e r   a d u l t s   w i t h   m o d e r a t e   t o   s e v e r e   k n e e   o s t e o a r t h r i t i s   (   o a   )   .'"
            ],
            "application/vnd.google.colaboratory.intrinsic+json": {
              "type": "string"
            }
          },
          "metadata": {},
          "execution_count": 51
        }
      ]
    },
    {
      "cell_type": "code",
      "source": [
        "# What's the average character length?\n",
        "char_lens = [len(sentence) for sentence in train_sent]\n",
        "mean_char_len = np.mean(char_lens)\n",
        "mean_char_len"
      ],
      "metadata": {
        "colab": {
          "base_uri": "https://localhost:8080/"
        },
        "id": "IjLGtPyEQ-oV",
        "outputId": "3d19013e-2d52-48fb-8916-a592e61416f6"
      },
      "execution_count": null,
      "outputs": [
        {
          "output_type": "execute_result",
          "data": {
            "text/plain": [
              "149.3662574983337"
            ]
          },
          "metadata": {},
          "execution_count": 180
        }
      ]
    },
    {
      "cell_type": "code",
      "source": [
        "# Check the distribution of our sequences at character-level\n",
        "import matplotlib.pyplot as plt\n",
        "plt.hist(char_lens, bins=7);"
      ],
      "metadata": {
        "colab": {
          "base_uri": "https://localhost:8080/",
          "height": 430
        },
        "id": "4rzj0fRBQ-tS",
        "outputId": "762d7fd8-8de6-4af5-c13f-d2d17fb880a4"
      },
      "execution_count": null,
      "outputs": [
        {
          "output_type": "display_data",
          "data": {
            "text/plain": [
              "<Figure size 640x480 with 1 Axes>"
            ],
            "image/png": "[encoded data removed]"
          },
          "metadata": {}
        }
      ]
    },
    {
      "cell_type": "code",
      "source": [
        "output_seq_char_len = int(np.percentile(char_lens,95))\n",
        "output_seq_char_len"
      ],
      "metadata": {
        "colab": {
          "base_uri": "https://localhost:8080/"
        },
        "id": "oQM1hFFqQ-wG",
        "outputId": "19b4f157-75d9-4136-f645-0702a8965c5c"
      },
      "execution_count": null,
      "outputs": [
        {
          "output_type": "execute_result",
          "data": {
            "text/plain": [
              "290"
            ]
          },
          "metadata": {},
          "execution_count": 181
        }
      ]
    },
    {
      "cell_type": "code",
      "source": [
        "# Get all keyboard characters for char-level embedding\n",
        "import string\n",
        "alphabet = string.ascii_lowercase + string.digits + string.punctuation\n",
        "alphabet\n"
      ],
      "metadata": {
        "colab": {
          "base_uri": "https://localhost:8080/",
          "height": 36
        },
        "id": "gOYM1TMrSVnc",
        "outputId": "0874b45f-9b68-434e-aecf-8df4f56f8b1c"
      },
      "execution_count": null,
      "outputs": [
        {
          "output_type": "execute_result",
          "data": {
            "text/plain": [
              "'abcdefghijklmnopqrstuvwxyz0123456789!\"#$%&\\'()*+,-./:;<=>?@[\\\\]^_`{|}~'"
            ],
            "application/vnd.google.colaboratory.intrinsic+json": {
              "type": "string"
            }
          },
          "metadata": {},
          "execution_count": 55
        }
      ]
    },
    {
      "cell_type": "code",
      "source": [
        "max_tokens = len(alphabet) + 2 #num_of_alphbets + space + oov\n",
        "tv_char = TextVectorization(max_tokens=max_tokens,  \n",
        "                                    output_sequence_length=output_seq_char_len,\n",
        "                                    standardize=\"lower_and_strip_punctuation\",\n",
        "                                    name=\"char_vectorizer\")\n",
        "tv_char.adapt(train_chars)\n"
      ],
      "metadata": {
        "id": "MPi4FNhCQ-yt"
      },
      "execution_count": null,
      "outputs": []
    },
    {
      "cell_type": "code",
      "source": [
        "print(train_chars[0])\n",
        "print(tv_char(train_chars[0]))"
      ],
      "metadata": {
        "colab": {
          "base_uri": "https://localhost:8080/"
        },
        "id": "zFiCMmjUT0tF",
        "outputId": "e8794095-eba8-4ed4-cef2-65844a56eb1a"
      },
      "execution_count": null,
      "outputs": [
        {
          "output_type": "stream",
          "name": "stdout",
          "text": [
            "t o   i n v e s t i g a t e   t h e   e f f i c a c y   o f   @   w e e k s   o f   d a i l y   l o w - d o s e   o r a l   p r e d n i s o l o n e   i n   i m p r o v i n g   p a i n   ,   m o b i l i t y   ,   a n d   s y s t e m i c   l o w - g r a d e   i n f l a m m a t i o n   i n   t h e   s h o r t   t e r m   a n d   w h e t h e r   t h e   e f f e c t   w o u l d   b e   s u s t a i n e d   a t   @   w e e k s   i n   o l d e r   a d u l t s   w i t h   m o d e r a t e   t o   s e v e r e   k n e e   o s t e o a r t h r i t i s   (   o a   )   .\n",
            "tf.Tensor(\n",
            "[ 3  7  4  6 21  2  9  3  4 18  5  3  2  3 13  2  2 17 17  4 11  5 11 19\n",
            "  7 17 20  2  2 23  9  7 17 10  5  4 12 19 12  7 20 10  7  9  2  7  8  5\n",
            " 12 14  8  2 10  6  4  9  7 12  7  6  2  4  6  4 15 14  8  7 21  4  6 18\n",
            " 14  5  4  6 15  7 22  4 12  4  3 19  5  6 10  9 19  9  3  2 15  4 11 12\n",
            "  7 20 18  8  5 10  2  4  6 17 12  5 15 15  5  3  4  7  6  4  6  3 13  2\n",
            "  9 13  7  8  3  3  2  8 15  5  6 10 20 13  2  3 13  2  8  3 13  2  2 17\n",
            " 17  2 11  3 20  7 16 12 10 22  2  9 16  9  3  5  4  6  2 10  5  3 20  2\n",
            "  2 23  9  4  6  7 12 10  2  8  5 10 16 12  3  9 20  4  3 13 15  7 10  2\n",
            "  8  5  3  2  3  7  9  2 21  2  8  2 23  6  2  2  7  9  3  2  7  5  8  3\n",
            " 13  8  4  3  4  9  7  5  0  0  0  0  0  0  0  0  0  0  0  0  0  0  0  0\n",
            "  0  0  0  0  0  0  0  0  0  0  0  0  0  0  0  0  0  0  0  0  0  0  0  0\n",
            "  0  0  0  0  0  0  0  0  0  0  0  0  0  0  0  0  0  0  0  0  0  0  0  0\n",
            "  0  0], shape=(290,), dtype=int64)\n"
          ]
        }
      ]
    },
    {
      "cell_type": "code",
      "source": [
        "\n",
        "# Create char embedding layer\n",
        "char_embed = layers.Embedding(input_dim=max_tokens, # number of different characters\n",
        "                              output_dim=25, # embedding dimension of each character (same as Figure 1 in https://arxiv.org/pdf/1612.05251.pdf)\n",
        "                              mask_zero=False, # don't use masks (this messes up model_5 if set to True)\n",
        "                              name=\"char_embed\")\n",
        "a = train_chars[0]\n",
        "\n",
        "# Test out character embedding layer\n",
        "print(f\"Charified text (before vectorization and embedding):\\n{a}\\n\")\n",
        "char_embed_example = char_embed(tv_char([a]))\n",
        "print(f\"Embedded chars (after vectorization and embedding):\\n{char_embed_example}\\n\")\n",
        "print(f\"Character embedding shape: {char_embed_example.shape}\")"
      ],
      "metadata": {
        "colab": {
          "base_uri": "https://localhost:8080/"
        },
        "id": "g7NqTWRTQ-36",
        "outputId": "53bd07b6-da2b-4953-805f-e432822cc40c"
      },
      "execution_count": null,
      "outputs": [
        {
          "output_type": "stream",
          "name": "stdout",
          "text": [
            "Charified text (before vectorization and embedding):\n",
            "t o   i n v e s t i g a t e   t h e   e f f i c a c y   o f   @   w e e k s   o f   d a i l y   l o w - d o s e   o r a l   p r e d n i s o l o n e   i n   i m p r o v i n g   p a i n   ,   m o b i l i t y   ,   a n d   s y s t e m i c   l o w - g r a d e   i n f l a m m a t i o n   i n   t h e   s h o r t   t e r m   a n d   w h e t h e r   t h e   e f f e c t   w o u l d   b e   s u s t a i n e d   a t   @   w e e k s   i n   o l d e r   a d u l t s   w i t h   m o d e r a t e   t o   s e v e r e   k n e e   o s t e o a r t h r i t i s   (   o a   )   .\n",
            "\n",
            "Embedded chars (after vectorization and embedding):\n",
            "[[[-3.65224108e-02  1.82437412e-02 -1.54887326e-02 ... -4.07861695e-02\n",
            "   -2.13705543e-02  4.73506711e-02]\n",
            "  [-4.47373986e-02  4.53037731e-02 -1.27485506e-02 ...  3.78687419e-02\n",
            "    2.36142017e-02 -1.78013444e-02]\n",
            "  [-1.11378655e-02 -3.01375985e-05 -9.81808826e-03 ...  4.34682406e-02\n",
            "    6.34051859e-04  2.89614536e-02]\n",
            "  ...\n",
            "  [-4.39062230e-02 -2.37805601e-02 -5.34903258e-04 ... -6.39879704e-03\n",
            "   -1.42571703e-02 -2.40031127e-02]\n",
            "  [-4.39062230e-02 -2.37805601e-02 -5.34903258e-04 ... -6.39879704e-03\n",
            "   -1.42571703e-02 -2.40031127e-02]\n",
            "  [-4.39062230e-02 -2.37805601e-02 -5.34903258e-04 ... -6.39879704e-03\n",
            "   -1.42571703e-02 -2.40031127e-02]]]\n",
            "\n",
            "Character embedding shape: (1, 290, 25)\n"
          ]
        }
      ]
    },
    {
      "cell_type": "code",
      "source": [
        "\n",
        "# Make Conv1D on chars only\n",
        "inputs = layers.Input(shape=(1,), dtype=\"string\")                   #(None,1)\n",
        "char_vectors = tv_char(inputs)                                      \n",
        "char_embeddings = char_embed(char_vectors)                          #(1,seq_len, dim)\n",
        "x = layers.Conv1D(64, kernel_size=5, padding=\"same\", activation=\"relu\")(char_embeddings)   #(1,seq_len,units)\n",
        "x = layers.GlobalMaxPool1D()(x)                       #(None,4=64)\n",
        "outputs = layers.Dense(n_classes, activation=\"softmax\")(x)  #(None,5)\n",
        "model_3 = tf.keras.Model(inputs=inputs,\n",
        "                         outputs=outputs,\n",
        "                         name=\"model_3_conv1D_char_embedding\")\n",
        "\n",
        "# Compile model\n",
        "model_3.compile(loss=\"categorical_crossentropy\",\n",
        "                optimizer=tf.keras.optimizers.Adam(),\n",
        "                metrics=[\"accuracy\"])"
      ],
      "metadata": {
        "id": "FVADxwJAQ-6c"
      },
      "execution_count": null,
      "outputs": []
    },
    {
      "cell_type": "code",
      "source": [
        "model_3.outputs"
      ],
      "metadata": {
        "colab": {
          "base_uri": "https://localhost:8080/"
        },
        "id": "A7odWRF97mWy",
        "outputId": "b5be891a-cf53-4e23-fb2f-7cd7d91b71d7"
      },
      "execution_count": null,
      "outputs": [
        {
          "output_type": "execute_result",
          "data": {
            "text/plain": [
              "[<KerasTensor: shape=(None, 5) dtype=float32 (created by layer 'dense_2')>]"
            ]
          },
          "metadata": {},
          "execution_count": 65
        }
      ]
    },
    {
      "cell_type": "code",
      "source": [
        "model_3.summary()"
      ],
      "metadata": {
        "colab": {
          "base_uri": "https://localhost:8080/"
        },
        "id": "hlXtR7MsQ-9W",
        "outputId": "b6e5da24-2e51-4893-bf6b-e8a4e920cca6"
      },
      "execution_count": null,
      "outputs": [
        {
          "output_type": "stream",
          "name": "stdout",
          "text": [
            "Model: \"model_3_conv1D_char_embedding\"\n",
            "_________________________________________________________________\n",
            " Layer (type)                Output Shape              Param #   \n",
            "=================================================================\n",
            " input_2 (InputLayer)        [(None, 1)]               0         \n",
            "                                                                 \n",
            " char_vectorizer (TextVector  (None, 290)              0         \n",
            " ization)                                                        \n",
            "                                                                 \n",
            " char_embed (Embedding)      (None, 290, 25)           1750      \n",
            "                                                                 \n",
            " conv1d (Conv1D)             (None, 290, 64)           8064      \n",
            "                                                                 \n",
            " global_max_pooling1d (Globa  (None, 64)               0         \n",
            " lMaxPooling1D)                                                  \n",
            "                                                                 \n",
            " dense_2 (Dense)             (None, 5)                 325       \n",
            "                                                                 \n",
            "=================================================================\n",
            "Total params: 10,139\n",
            "Trainable params: 10,139\n",
            "Non-trainable params: 0\n",
            "_________________________________________________________________\n"
          ]
        }
      ]
    },
    {
      "cell_type": "code",
      "source": [
        "train_char_dataset = tf.data.Dataset.from_tensor_slices((train_chars,train_labels_ohe)).batch(32).prefetch(tf.data.AUTOTUNE)\n",
        "test_char_dataset = tf.data.Dataset.from_tensor_slices((test_chars,test_labels_ohe)).batch(32).prefetch(tf.data.AUTOTUNE)\n",
        "val_char_dataset = tf.data.Dataset.from_tensor_slices((val_chars,val_labels_ohe)).batch(32).prefetch(tf.data.AUTOTUNE)"
      ],
      "metadata": {
        "id": "8CRcR4jsVJrh"
      },
      "execution_count": null,
      "outputs": []
    },
    {
      "cell_type": "code",
      "source": [
        "model_3_history = model_3.fit(train_char_dataset,\n",
        "                              steps_per_epoch=int(0.1 * len(train_char_dataset)),\n",
        "                              epochs=3,\n",
        "                              validation_data=val_char_dataset,\n",
        "                              validation_steps=int(0.1 * len(val_char_dataset)))"
      ],
      "metadata": {
        "colab": {
          "base_uri": "https://localhost:8080/"
        },
        "id": "VGBIhaJ-VJvC",
        "outputId": "61fc9a97-ab25-4168-a45f-5e9ad158850b"
      },
      "execution_count": null,
      "outputs": [
        {
          "output_type": "stream",
          "name": "stdout",
          "text": [
            "Epoch 1/3\n",
            "562/562 [==============================] - 11s 7ms/step - loss: 1.2791 - accuracy: 0.4897 - val_loss: 1.0673 - val_accuracy: 0.5758\n",
            "Epoch 2/3\n",
            "562/562 [==============================] - 4s 8ms/step - loss: 1.0136 - accuracy: 0.5919 - val_loss: 0.9608 - val_accuracy: 0.6200\n",
            "Epoch 3/3\n",
            "562/562 [==============================] - 3s 5ms/step - loss: 0.9354 - accuracy: 0.6273 - val_loss: 0.8862 - val_accuracy: 0.6543\n"
          ]
        }
      ]
    },
    {
      "cell_type": "code",
      "source": [
        "print(model_3.evaluate(val_dataset))\n",
        "model_3_pred_probs = model_3.predict(val_dataset)\n",
        "model_3_pred_pred = tf.argmax(model_3_pred_probs,axis=1)\n",
        "baseline_3_res = calculate(val_labels_encoded,model_3_pred_pred)"
      ],
      "metadata": {
        "id": "kPo5gtI_VJ2v"
      },
      "execution_count": null,
      "outputs": []
    },
    {
      "cell_type": "markdown",
      "source": [
        "#Model 3 : Conv1d with character Embedin wih Tockenixer\n"
      ],
      "metadata": {
        "id": "OUf6RcdbVJ5P"
      }
    },
    {
      "cell_type": "code",
      "source": [
        "max_tokens_tok = 40000\n",
        "output_seq_len_char = 290\n",
        "\n",
        "tokenizer_char = Tokenizer(num_words = None,oov_token = '<oov>',lower = True,char_level=True)\n",
        "tokenizer_char.fit_on_texts(train_sent)\n",
        "train_seq_char = pad_sequences(tokenizer_char.texts_to_sequences(train_sent),maxlen = int(output_seq_len_char),padding = 'post',truncating ='post' )\n",
        "val_seq_char = pad_sequences(tokenizer_char.texts_to_sequences(val_sent),maxlen = int(output_seq_len_char),padding = 'post',truncating ='post' )\n",
        "test_seq_char = pad_sequences(tokenizer_char.texts_to_sequences(test_sent),maxlen = int(output_seq_len_char),padding = 'post',truncating ='post' )"
      ],
      "metadata": {
        "id": "Tm9-dl35JQb8"
      },
      "execution_count": null,
      "outputs": []
    },
    {
      "cell_type": "code",
      "source": [
        "sample = 'This is very good for us. we got RA position !@ 123/'\n",
        "tokenizer_char = Tokenizer(num_words = None,oov_token = '<oov>',lower = True,char_level=True)\n",
        "tokenizer.fit_on_texts(sample)\n",
        "tokenizer.texts_to_sequences(sample)"
      ],
      "metadata": {
        "colab": {
          "base_uri": "https://localhost:8080/"
        },
        "id": "nob780l3JQjt",
        "outputId": "9335cf86-65ab-4ad8-d0e2-c4697107df85"
      },
      "execution_count": null,
      "outputs": [
        {
          "output_type": "execute_result",
          "data": {
            "text/plain": [
              "[[117],\n",
              " [153],\n",
              " [228],\n",
              " [307],\n",
              " [],\n",
              " [228],\n",
              " [307],\n",
              " [],\n",
              " [653],\n",
              " [350],\n",
              " [346],\n",
              " [860],\n",
              " [],\n",
              " [131],\n",
              " [815],\n",
              " [815],\n",
              " [100],\n",
              " [],\n",
              " [548],\n",
              " [815],\n",
              " [346],\n",
              " [],\n",
              " [850],\n",
              " [307],\n",
              " [],\n",
              " [],\n",
              " [1402],\n",
              " [350],\n",
              " [],\n",
              " [131],\n",
              " [815],\n",
              " [117],\n",
              " [],\n",
              " [346],\n",
              " [8],\n",
              " [],\n",
              " [14],\n",
              " [815],\n",
              " [307],\n",
              " [228],\n",
              " [117],\n",
              " [228],\n",
              " [815],\n",
              " [38],\n",
              " [],\n",
              " [],\n",
              " [],\n",
              " [],\n",
              " [33238],\n",
              " [33239],\n",
              " [33240],\n",
              " []]"
            ]
          },
          "metadata": {},
          "execution_count": 177
        }
      ]
    },
    {
      "cell_type": "code",
      "source": [
        "tokenizer_char.word_index"
      ],
      "metadata": {
        "colab": {
          "base_uri": "https://localhost:8080/"
        },
        "id": "XqLtzUasPsqf",
        "outputId": "806496bb-389f-4605-ebcb-c7330477fd88"
      },
      "execution_count": null,
      "outputs": [
        {
          "output_type": "execute_result",
          "data": {
            "text/plain": [
              "{'<oov>': 1,\n",
              " ' ': 2,\n",
              " 'e': 3,\n",
              " 't': 4,\n",
              " 'i': 5,\n",
              " 'a': 6,\n",
              " 'n': 7,\n",
              " 'o': 8,\n",
              " 'r': 9,\n",
              " 's': 10,\n",
              " 'd': 11,\n",
              " 'c': 12,\n",
              " 'l': 13,\n",
              " 'h': 14,\n",
              " 'p': 15,\n",
              " 'm': 16,\n",
              " 'u': 17,\n",
              " 'f': 18,\n",
              " 'g': 19,\n",
              " '@': 20,\n",
              " 'y': 21,\n",
              " 'w': 22,\n",
              " 'v': 23,\n",
              " 'b': 24,\n",
              " ',': 25,\n",
              " '.': 26,\n",
              " '-': 27,\n",
              " ')': 28,\n",
              " '(': 29,\n",
              " 'k': 30,\n",
              " 'x': 31,\n",
              " '%': 32,\n",
              " 'z': 33,\n",
              " '=': 34,\n",
              " 'q': 35,\n",
              " '/': 36,\n",
              " ';': 37,\n",
              " 'j': 38,\n",
              " ':': 39,\n",
              " '<': 40,\n",
              " \"'\": 41,\n",
              " '+': 42,\n",
              " '`': 43,\n",
              " '>': 44,\n",
              " '$': 45,\n",
              " '&': 46,\n",
              " '*': 47,\n",
              " '~': 48,\n",
              " '?': 49,\n",
              " '#': 50,\n",
              " '_': 51,\n",
              " '!': 52,\n",
              " '|': 53,\n",
              " '\"': 54,\n",
              " ']': 55,\n",
              " '\\\\': 56,\n",
              " '[': 57}"
            ]
          },
          "metadata": {},
          "execution_count": 185
        }
      ]
    },
    {
      "cell_type": "code",
      "source": [
        "from keras.layers import GlobalAveragePooling1D\n",
        "char_embed = layers.Embedding(input_dim=len(tokenizer_char.word_index) + 1, # number of different characters\n",
        "                              output_dim=100, # embedding dimension of each character (same as Figure 1 in https://arxiv.org/pdf/1612.05251.pdf)\n",
        "                              mask_zero=False, # don't use masks (this messes up model_5 if set to True)\n",
        "                              name=\"char_embed\")\n",
        "\n",
        "\n",
        "inputs = Input(shape=(1,),name = 'char_tokenizer_inp')\n",
        "embedding_layer = char_embed(inputs)\n",
        "x = layers.Conv1D(64, kernel_size=5, padding=\"same\", activation=\"relu\")(embedding_layer)   #(1,seq_len,units)\n",
        "x = layers.GlobalMaxPool1D()(x)\n",
        "x = Dense(64, activation = 'relu' ,name = 'char_layer_dense')(x)\n",
        "outputs = Dense(5, activation = 'softmax' ,name = 'cahr_op')(x)\n",
        "model_3_tok = Model(inputs,outputs)\n",
        "model_3_tok.summary()"
      ],
      "metadata": {
        "colab": {
          "base_uri": "https://localhost:8080/"
        },
        "id": "njrgGdGRJQqO",
        "outputId": "5406ef92-6854-4f27-c76a-0d157d3560b6"
      },
      "execution_count": null,
      "outputs": [
        {
          "output_type": "stream",
          "name": "stdout",
          "text": [
            "Model: \"model_12\"\n",
            "_________________________________________________________________\n",
            " Layer (type)                Output Shape              Param #   \n",
            "=================================================================\n",
            " char_tokenizer_inp (InputLa  [(None, 1)]              0         \n",
            " yer)                                                            \n",
            "                                                                 \n",
            " char_embed (Embedding)      (None, 1, 100)            5800      \n",
            "                                                                 \n",
            " conv1d_2 (Conv1D)           (None, 1, 64)             32064     \n",
            "                                                                 \n",
            " global_max_pooling1d (Globa  (None, 64)               0         \n",
            " lMaxPooling1D)                                                  \n",
            "                                                                 \n",
            " char_layer_dense (Dense)    (None, 64)                4160      \n",
            "                                                                 \n",
            " cahr_op (Dense)             (None, 5)                 325       \n",
            "                                                                 \n",
            "=================================================================\n",
            "Total params: 42,349\n",
            "Trainable params: 42,349\n",
            "Non-trainable params: 0\n",
            "_________________________________________________________________\n"
          ]
        }
      ]
    },
    {
      "cell_type": "code",
      "source": [
        "layers.GlobalMaxPool1D()(Conv1D(64, kernel_size=5, padding=\"same\", activation=\"relu\")(char_embed(train_seq_char[:1])))"
      ],
      "metadata": {
        "colab": {
          "base_uri": "https://localhost:8080/"
        },
        "id": "fBAR4IP4Rcmf",
        "outputId": "19ff657d-cbef-4430-e15a-4d957d2beda9"
      },
      "execution_count": null,
      "outputs": [
        {
          "output_type": "execute_result",
          "data": {
            "text/plain": [
              "<tf.Tensor: shape=(1, 64), dtype=float32, numpy=\n",
              "array([[0.30660114, 0.30998814, 0.23365615, 0.28111234, 0.21755753,\n",
              "        0.31541047, 0.2700096 , 0.25583962, 0.30702356, 0.33250996,\n",
              "        0.31065807, 0.2610569 , 0.31783757, 0.23805177, 0.2383676 ,\n",
              "        0.26371112, 0.2105386 , 0.3019485 , 0.30925947, 0.3448678 ,\n",
              "        0.33950198, 0.32313704, 0.26437417, 0.28263772, 0.28195027,\n",
              "        0.23191217, 0.31410888, 0.23136647, 0.24510078, 0.31199357,\n",
              "        0.25320715, 0.312702  , 0.34125242, 0.43182027, 0.22149238,\n",
              "        0.24307024, 0.20118198, 0.30526417, 0.24840087, 0.25656003,\n",
              "        0.29068246, 0.24509239, 0.36966643, 0.31090662, 0.24387228,\n",
              "        0.2809395 , 0.28702393, 0.34831637, 0.26121157, 0.28859258,\n",
              "        0.25315514, 0.25632107, 0.26637977, 0.25466642, 0.27745113,\n",
              "        0.26976433, 0.28962904, 0.25897378, 0.25195706, 0.22129041,\n",
              "        0.2854994 , 0.31781435, 0.20153633, 0.28861314]], dtype=float32)>"
            ]
          },
          "metadata": {},
          "execution_count": 209
        }
      ]
    },
    {
      "cell_type": "code",
      "source": [
        "model_3_tok.compile(loss=\"categorical_crossentropy\",\n",
        "                    optimizer=tf.keras.optimizers.Adam(),\n",
        "                    metrics=[\"accuracy\"],\n",
        "                    run_eagerly=True)\n",
        "\n",
        "model_3_tok.fit(train_seq_char,\n",
        "                train_labels_ohe,\n",
        "                batch_size =32,\n",
        "                steps_per_epoch=int(0.1 * len(train_seq_char) / 32),\n",
        "                epochs=3,\n",
        "                validation_data=(np.array(val_seq_char), val_labels_ohe),\n",
        "                validation_steps=int(0.1 * len(val_seq_char)/32)\n",
        "            )"
      ],
      "metadata": {
        "colab": {
          "base_uri": "https://localhost:8080/"
        },
        "id": "OGe0VS-tJQwZ",
        "outputId": "a304ee88-9742-4104-e1ca-474cfeecdc84"
      },
      "execution_count": null,
      "outputs": [
        {
          "output_type": "stream",
          "name": "stdout",
          "text": [
            "Epoch 1/3\n",
            "562/562 [==============================] - 23s 38ms/step - loss: 1.0231 - accuracy: 0.5825 - val_loss: 0.7943 - val_accuracy: 0.6845\n",
            "Epoch 2/3\n",
            "562/562 [==============================] - 19s 33ms/step - loss: 0.7763 - accuracy: 0.6917 - val_loss: 0.7466 - val_accuracy: 0.7104\n",
            "Epoch 3/3\n",
            "562/562 [==============================] - 19s 34ms/step - loss: 0.7271 - accuracy: 0.7221 - val_loss: 0.6848 - val_accuracy: 0.7294\n"
          ]
        },
        {
          "output_type": "execute_result",
          "data": {
            "text/plain": [
              "<keras.callbacks.History at 0x7f25d6dcc160>"
            ]
          },
          "metadata": {},
          "execution_count": 203
        }
      ]
    },
    {
      "cell_type": "code",
      "source": [],
      "metadata": {
        "id": "ayGV3savJQzH"
      },
      "execution_count": null,
      "outputs": []
    },
    {
      "cell_type": "code",
      "source": [],
      "metadata": {
        "id": "OgW51cemJQ2G"
      },
      "execution_count": null,
      "outputs": []
    },
    {
      "cell_type": "code",
      "source": [],
      "metadata": {
        "id": "znJ2_vFCJQ5p"
      },
      "execution_count": null,
      "outputs": []
    },
    {
      "cell_type": "markdown",
      "source": [
        "#Model 4 : Combinig pretrained token and char embeddings"
      ],
      "metadata": {
        "id": "CcdhvEolVJ9B"
      }
    },
    {
      "cell_type": "code",
      "source": [
        "tok_inputs = Input(shape=[],dtype = tf.string , name = 'token_inp_layer') #pretrained asks for size(batch,) hence shape= []\n",
        "tok_emb = tf_hub_embedding_layer(tok_inputs)   #inp(batch,seq_len)   ---->   (batch,out_dim)\n",
        "x = Dense(64,activation = 'relu',name='token_Dense')(tok_emb)   \n",
        "tok_outputs = Dense(5,activation = 'softmax',name='token_outputs')(x)\n",
        "tok_model = Model(tok_inputs,tok_outputs)\n",
        "\n",
        "\n",
        "char_inputs = layers.Input(shape=(1,), dtype=\"string\",name = 'char_inp_layer')\n",
        "char_vectors = tv_char(char_inputs)\n",
        "char_embeddings = char_embed(char_vectors)\n",
        "x = layers.Conv1D(64, kernel_size=5, padding=\"same\", activation=\"relu\",name='char_conv')(char_embeddings)\n",
        "x = layers.GlobalMaxPool1D()(x)\n",
        "char_outputs = Dense(n_classes, activation=\"softmax\")(x)\n",
        "char_model = Model(char_inputs,char_outputs)\n",
        "\n",
        "comb_out = layers.Concatenate()([tok_model.output,char_model.output])\n",
        "comb_drop = layers.Dropout(0.5)(comb_out)\n",
        "comb_dense = Dense(200,activation = 'relu',name='dense_comb')(comb_drop)\n",
        "final_drop = layers.Dropout(0.5)(comb_dense)\n",
        "out_layer = Dense(n_classes,activation='softmax')(final_drop)\n",
        "\n",
        "model_4 = Model([tok_model.input,char_model.input],outputs = out_layer)"
      ],
      "metadata": {
        "id": "WS2Cv1d0VKAJ"
      },
      "execution_count": null,
      "outputs": []
    },
    {
      "cell_type": "code",
      "source": [
        "model_4.summary()"
      ],
      "metadata": {
        "colab": {
          "base_uri": "https://localhost:8080/"
        },
        "id": "egUcpyDTYnP6",
        "outputId": "840cf8d0-63cf-457c-91c1-da9d5768e3a2"
      },
      "execution_count": null,
      "outputs": [
        {
          "output_type": "stream",
          "name": "stdout",
          "text": [
            "Model: \"model_6\"\n",
            "__________________________________________________________________________________________________\n",
            " Layer (type)                   Output Shape         Param #     Connected to                     \n",
            "==================================================================================================\n",
            " char_inp_layer (InputLayer)    [(None, 1)]          0           []                               \n",
            "                                                                                                  \n",
            " char_vectorizer (TextVectoriza  (None, 290)         0           ['char_inp_layer[0][0]']         \n",
            " tion)                                                                                            \n",
            "                                                                                                  \n",
            " token_inp_layer (InputLayer)   [(None,)]            0           []                               \n",
            "                                                                                                  \n",
            " char_embed (Embedding)         (None, 290, 25)      1750        ['char_vectorizer[2][0]']        \n",
            "                                                                                                  \n",
            " universal_sentence_encoder (Ke  (None, 512)         256797824   ['token_inp_layer[0][0]']        \n",
            " rasLayer)                                                                                        \n",
            "                                                                                                  \n",
            " char_conv (Conv1D)             (None, 290, 64)      8064        ['char_embed[2][0]']             \n",
            "                                                                                                  \n",
            " token_Dense (Dense)            (None, 64)           32832       ['universal_sentence_encoder[2][0\n",
            "                                                                 ]']                              \n",
            "                                                                                                  \n",
            " global_max_pooling1d_2 (Global  (None, 64)          0           ['char_conv[0][0]']              \n",
            " MaxPooling1D)                                                                                    \n",
            "                                                                                                  \n",
            " token_outputs (Dense)          (None, 5)            325         ['token_Dense[0][0]']            \n",
            "                                                                                                  \n",
            " dense_8 (Dense)                (None, 5)            325         ['global_max_pooling1d_2[0][0]'] \n",
            "                                                                                                  \n",
            " concatenate_1 (Concatenate)    (None, 10)           0           ['token_outputs[0][0]',          \n",
            "                                                                  'dense_8[0][0]']                \n",
            "                                                                                                  \n",
            " dropout_2 (Dropout)            (None, 10)           0           ['concatenate_1[0][0]']          \n",
            "                                                                                                  \n",
            " dense_comb (Dense)             (None, 200)          2200        ['dropout_2[0][0]']              \n",
            "                                                                                                  \n",
            " dropout_3 (Dropout)            (None, 200)          0           ['dense_comb[0][0]']             \n",
            "                                                                                                  \n",
            " dense_9 (Dense)                (None, 5)            1005        ['dropout_3[0][0]']              \n",
            "                                                                                                  \n",
            "==================================================================================================\n",
            "Total params: 256,844,325\n",
            "Trainable params: 46,501\n",
            "Non-trainable params: 256,797,824\n",
            "__________________________________________________________________________________________________\n"
          ]
        }
      ]
    },
    {
      "cell_type": "code",
      "source": [
        "from tensorflow.keras.utils import plot_model\n",
        "plot_model(model_4)"
      ],
      "metadata": {
        "colab": {
          "base_uri": "https://localhost:8080/",
          "height": 1000
        },
        "id": "scf_1gklYnZr",
        "outputId": "04d7200f-c8a6-4126-af5d-334b4bdfb06f"
      },
      "execution_count": null,
      "outputs": [
        {
          "output_type": "execute_result",
          "data": {
            "image/png": "[encoded data removed]",
            "text/plain": [
              "<IPython.core.display.Image object>"
            ]
          },
          "metadata": {},
          "execution_count": 70
        }
      ]
    },
    {
      "cell_type": "code",
      "source": [
        "model_4.compile(loss=\"categorical_crossentropy\",\n",
        "                optimizer=tf.keras.optimizers.Adam(), # section 4.2 of https://arxiv.org/pdf/1612.05251.pdf mentions using SGD but we'll stick with Adam\n",
        "                metrics=[\"accuracy\"])"
      ],
      "metadata": {
        "id": "SivYMv8uYnde"
      },
      "execution_count": null,
      "outputs": []
    },
    {
      "cell_type": "code",
      "source": [
        "#combining token and char data \n",
        "\n",
        "train_char_token_data = tf.data.Dataset.from_tensor_slices((train_sent,train_chars))\n",
        "train_char_token_labels = tf.data.Dataset.from_tensor_slices((train_labels_ohe))\n",
        "train_char_token_dataset = tf.data.Dataset.zip((train_char_token_data,train_char_token_labels))\n",
        "train_char_token_dataset = train_char_token_dataset.batch(32).prefetch(tf.data.AUTOTUNE)\n",
        "\n",
        "val_char_token_data = tf.data.Dataset.from_tensor_slices((val_sent,val_chars))\n",
        "val_char_token_labels = tf.data.Dataset.from_tensor_slices((val_labels_ohe))\n",
        "val_char_token_dataset = tf.data.Dataset.zip((val_char_token_data,val_char_token_labels))\n",
        "val_char_token_dataset = val_char_token_dataset.batch(32).prefetch(tf.data.AUTOTUNE)\n"
      ],
      "metadata": {
        "id": "N7_uG7NtYngq"
      },
      "execution_count": null,
      "outputs": []
    },
    {
      "cell_type": "code",
      "source": [
        "# Fit the model on tokens and chars\n",
        "model_4_history = model_4.fit(train_char_token_dataset, # train on dataset of token and characters\n",
        "                              steps_per_epoch=int(0.1 * len(train_char_token_dataset)),\n",
        "                              epochs=3,\n",
        "                              validation_data=val_char_token_dataset,\n",
        "                              validation_steps=int(0.1 * len(val_char_token_dataset)))\n",
        "     "
      ],
      "metadata": {
        "colab": {
          "base_uri": "https://localhost:8080/"
        },
        "id": "-y10jKr7a1nx",
        "outputId": "9e9aeaa1-d35c-4f32-8333-7c7652baf286"
      },
      "execution_count": null,
      "outputs": [
        {
          "output_type": "stream",
          "name": "stdout",
          "text": [
            "Epoch 1/3\n",
            "562/562 [==============================] - 15s 19ms/step - loss: 1.2895 - accuracy: 0.4352 - val_loss: 0.9780 - val_accuracy: 0.6167\n",
            "Epoch 2/3\n",
            "562/562 [==============================] - 11s 19ms/step - loss: 1.0781 - accuracy: 0.5502 - val_loss: 0.9260 - val_accuracy: 0.6509\n",
            "Epoch 3/3\n",
            "562/562 [==============================] - 11s 19ms/step - loss: 1.0203 - accuracy: 0.5813 - val_loss: 0.9076 - val_accuracy: 0.6476\n"
          ]
        }
      ]
    },
    {
      "cell_type": "code",
      "source": [
        "print(model_4.evaluate(val_char_token_dataset))\n",
        "model_4_pred_probs = model_4.predict(val_char_token_dataset)\n",
        "model_4_pred_pred = tf.argmax(model_4_pred_probs,axis=1)\n",
        "baseline_4_res = calculate(val_labels_encoded,model_4_pred_pred)"
      ],
      "metadata": {
        "id": "tUhHaEgXbAdz"
      },
      "execution_count": null,
      "outputs": []
    },
    {
      "cell_type": "markdown",
      "source": [
        "# Model5: Transfer Learning with pretrained token emb + character emb + pos emb"
      ],
      "metadata": {
        "id": "68NoG4KK7ZIb"
      }
    },
    {
      "cell_type": "code",
      "source": [
        "train_df[\"line_number\"].value_counts()\n",
        "     "
      ],
      "metadata": {
        "colab": {
          "base_uri": "https://localhost:8080/"
        },
        "id": "faFZ45EL7ZMK",
        "outputId": "71411b8a-8ccf-4fb0-990a-1ae006c4c5a6"
      },
      "execution_count": null,
      "outputs": [
        {
          "output_type": "execute_result",
          "data": {
            "text/plain": [
              "0     15000\n",
              "1     15000\n",
              "2     15000\n",
              "3     15000\n",
              "4     14992\n",
              "5     14949\n",
              "6     14758\n",
              "7     14279\n",
              "8     13346\n",
              "9     11981\n",
              "10    10041\n",
              "11     7892\n",
              "12     5853\n",
              "13     4152\n",
              "14     2835\n",
              "15     1861\n",
              "16     1188\n",
              "17      751\n",
              "18      462\n",
              "19      286\n",
              "20      162\n",
              "21      101\n",
              "22       66\n",
              "23       33\n",
              "24       22\n",
              "25       14\n",
              "26        7\n",
              "27        4\n",
              "28        3\n",
              "29        1\n",
              "30        1\n",
              "Name: line_number, dtype: int64"
            ]
          },
          "metadata": {},
          "execution_count": 74
        }
      ]
    },
    {
      "cell_type": "code",
      "source": [
        "train_df.line_number.plot.hist()\n"
      ],
      "metadata": {
        "colab": {
          "base_uri": "https://localhost:8080/",
          "height": 448
        },
        "id": "wX1vJLr37ZPw",
        "outputId": "c18ad7c9-ef65-40eb-bed5-84e800dd4efc"
      },
      "execution_count": null,
      "outputs": [
        {
          "output_type": "execute_result",
          "data": {
            "text/plain": [
              "<Axes: ylabel='Frequency'>"
            ]
          },
          "metadata": {},
          "execution_count": 75
        },
        {
          "output_type": "display_data",
          "data": {
            "text/plain": [
              "<Figure size 640x480 with 1 Axes>"
            ],
            "image/png": "[encoded data removed]"
          },
          "metadata": {}
        }
      ]
    },
    {
      "cell_type": "code",
      "source": [
        "depth = 15  \n",
        "\n",
        "train_line_number_ohe = tf.one_hot(train_df['line_number'].tolist(),depth = depth)\n",
        "val_line_number_ohe = tf.one_hot(val_df['line_number'].tolist(),depth = depth)\n",
        "test_line_number_ohe = tf.one_hot(test_df['line_number'].tolist(),depth = depth)"
      ],
      "metadata": {
        "id": "ONY_ixs17ZS0"
      },
      "execution_count": null,
      "outputs": []
    },
    {
      "cell_type": "code",
      "source": [
        "train_line_number_ohe"
      ],
      "metadata": {
        "colab": {
          "base_uri": "https://localhost:8080/"
        },
        "id": "mzL-bUwj7ZWB",
        "outputId": "aa558bb4-f367-4767-82d4-72f3ef20d089"
      },
      "execution_count": null,
      "outputs": [
        {
          "output_type": "execute_result",
          "data": {
            "text/plain": [
              "<tf.Tensor: shape=(180040, 15), dtype=float32, numpy=\n",
              "array([[1., 0., 0., ..., 0., 0., 0.],\n",
              "       [0., 1., 0., ..., 0., 0., 0.],\n",
              "       [0., 0., 1., ..., 0., 0., 0.],\n",
              "       ...,\n",
              "       [0., 0., 0., ..., 0., 0., 0.],\n",
              "       [0., 0., 0., ..., 0., 0., 0.],\n",
              "       [0., 0., 0., ..., 0., 0., 0.]], dtype=float32)>"
            ]
          },
          "metadata": {},
          "execution_count": 77
        }
      ]
    },
    {
      "cell_type": "code",
      "source": [
        "train_df['total_lines'].plot.hist()"
      ],
      "metadata": {
        "colab": {
          "base_uri": "https://localhost:8080/",
          "height": 449
        },
        "id": "AbB3LB7t9e8F",
        "outputId": "c4dc7721-9e62-4805-d33e-417044848a25"
      },
      "execution_count": null,
      "outputs": [
        {
          "output_type": "execute_result",
          "data": {
            "text/plain": [
              "<Axes: ylabel='Frequency'>"
            ]
          },
          "metadata": {},
          "execution_count": 78
        },
        {
          "output_type": "display_data",
          "data": {
            "text/plain": [
              "<Figure size 640x480 with 1 Axes>"
            ],
            "image/png": "[encoded data removed]"
          },
          "metadata": {}
        }
      ]
    },
    {
      "cell_type": "code",
      "source": [
        "depth_tl = 20\n",
        "train_total_line_ohe = tf.one_hot(train_df['total_lines'].tolist(),depth = depth_tl)\n",
        "val_total_line_ohe = tf.one_hot(val_df['total_lines'].tolist(),depth = depth_tl)\n",
        "test_total_line_ohe = tf.one_hot(test_df['total_lines'].tolist(),depth = depth_tl)"
      ],
      "metadata": {
        "id": "PMOukjk69fBe"
      },
      "execution_count": null,
      "outputs": []
    },
    {
      "cell_type": "code",
      "source": [
        "\n",
        "#token inputs\n",
        "tok_inputs = Input(shape=[],dtype = tf.string,name=\"token_inputs\") #pretrained asks for size(batch,) hence shape= []\n",
        "tok_emb = tf_hub_embedding_layer(tok_inputs)\n",
        "x = Dense(128,activation = 'relu',name = 'token_dense')(tok_emb)\n",
        "tok_model = Model(tok_inputs,x)\n",
        "\n",
        "# char inputs\n",
        "char_inputs = layers.Input(shape=(1,), dtype=\"string\",name='char_inputs')\n",
        "char_vectors = tv_char(char_inputs)\n",
        "char_embeddings = char_embed(char_vectors)\n",
        "char_bi_lstm = layers.Bidirectional(layers.LSTM(32),name = 'char_bilstm')(char_embeddings)\n",
        "char_model = tf.keras.Model(inputs=char_inputs,\n",
        "                            outputs=char_bi_lstm)\n",
        "\n",
        "\n",
        "#line_number inputs\n",
        "line_n_inp = Input(shape = (15,),dtype=tf.int32, name=\"line_number_input\")\n",
        "x = Dense(32,activation = 'relu',name = 'line_number_dense')(line_n_inp)\n",
        "line_model = Model(line_n_inp , x)\n",
        "\n",
        "\n",
        "#total_lines\n",
        "total_line_inp = Input(shape = (20,),dtype = tf.int32,name=\"total_lines_input\")\n",
        "y = Dense(32,activation = 'relu',name = 'total_line_dense')(total_line_inp)\n",
        "total_line_model = Model(total_line_inp , y)\n",
        "\n",
        "comb_emb = layers.Concatenate(name='tok_char_emb')([tok_model.output,\n",
        "                                                    char_model.output])\n",
        "\n",
        "z  = layers.Dropout(0.3)(comb_emb)\n",
        "z = Dense(128,activation='relu',name='concatenate_tok_char_dsense')(z)\n",
        "z = layers.Concatenate(name='line_n_post_n')([line_model.output,\n",
        "                                              total_line_model.output,\n",
        "                                              z])\n",
        "\n",
        "output_layer = Dense(5,activation = 'softmax')(z)\n",
        "\n",
        "model_5 = Model([line_model.input,\n",
        "                 total_line_model.input,\n",
        "                 tok_model.input,\n",
        "                 char_model.input],\n",
        "                output_layer )\n"
      ],
      "metadata": {
        "id": "pmJrrMbW9fE-"
      },
      "execution_count": null,
      "outputs": []
    },
    {
      "cell_type": "code",
      "source": [
        "model_5.summary()"
      ],
      "metadata": {
        "colab": {
          "base_uri": "https://localhost:8080/"
        },
        "id": "IWRz1_e79fIQ",
        "outputId": "08f351a7-50a1-4055-81a5-2b98917cd7d8"
      },
      "execution_count": null,
      "outputs": [
        {
          "output_type": "stream",
          "name": "stdout",
          "text": [
            "Model: \"model_11\"\n",
            "__________________________________________________________________________________________________\n",
            " Layer (type)                   Output Shape         Param #     Connected to                     \n",
            "==================================================================================================\n",
            " char_inputs (InputLayer)       [(None, 1)]          0           []                               \n",
            "                                                                                                  \n",
            " token_inputs (InputLayer)      [(None,)]            0           []                               \n",
            "                                                                                                  \n",
            " char_vectorizer (TextVectoriza  (None, 290)         0           ['char_inputs[0][0]']            \n",
            " tion)                                                                                            \n",
            "                                                                                                  \n",
            " universal_sentence_encoder (Ke  (None, 512)         256797824   ['token_inputs[0][0]']           \n",
            " rasLayer)                                                                                        \n",
            "                                                                                                  \n",
            " char_embed (Embedding)         (None, 290, 25)      1750        ['char_vectorizer[3][0]']        \n",
            "                                                                                                  \n",
            " token_dense (Dense)            (None, 128)          65664       ['universal_sentence_encoder[3][0\n",
            "                                                                 ]']                              \n",
            "                                                                                                  \n",
            " char_bilstm (Bidirectional)    (None, 64)           14848       ['char_embed[3][0]']             \n",
            "                                                                                                  \n",
            " tok_char_emb (Concatenate)     (None, 192)          0           ['token_dense[0][0]',            \n",
            "                                                                  'char_bilstm[0][0]']            \n",
            "                                                                                                  \n",
            " line_number_input (InputLayer)  [(None, 15)]        0           []                               \n",
            "                                                                                                  \n",
            " total_lines_input (InputLayer)  [(None, 20)]        0           []                               \n",
            "                                                                                                  \n",
            " dropout_4 (Dropout)            (None, 192)          0           ['tok_char_emb[0][0]']           \n",
            "                                                                                                  \n",
            " line_number_dense (Dense)      (None, 32)           512         ['line_number_input[0][0]']      \n",
            "                                                                                                  \n",
            " total_line_dense (Dense)       (None, 32)           672         ['total_lines_input[0][0]']      \n",
            "                                                                                                  \n",
            " concatenate_tok_char_dsense (D  (None, 128)         24704       ['dropout_4[0][0]']              \n",
            " ense)                                                                                            \n",
            "                                                                                                  \n",
            " line_n_post_n (Concatenate)    (None, 192)          0           ['line_number_dense[0][0]',      \n",
            "                                                                  'total_line_dense[0][0]',       \n",
            "                                                                  'concatenate_tok_char_dsense[0][\n",
            "                                                                 0]']                             \n",
            "                                                                                                  \n",
            " dense_10 (Dense)               (None, 5)            965         ['line_n_post_n[0][0]']          \n",
            "                                                                                                  \n",
            "==================================================================================================\n",
            "Total params: 256,906,939\n",
            "Trainable params: 109,115\n",
            "Non-trainable params: 256,797,824\n",
            "__________________________________________________________________________________________________\n"
          ]
        }
      ]
    },
    {
      "cell_type": "code",
      "source": [
        "from tensorflow.keras.utils import plot_model\n",
        "plot_model(model_5)"
      ],
      "metadata": {
        "colab": {
          "base_uri": "https://localhost:8080/",
          "height": 631
        },
        "id": "tA-3985L9fK5",
        "outputId": "43607468-c2ef-43e0-83c9-86ff2c290867"
      },
      "execution_count": null,
      "outputs": [
        {
          "output_type": "execute_result",
          "data": {
            "image/png": "[encoded data removed]",
            "text/plain": [
              "<IPython.core.display.Image object>"
            ]
          },
          "metadata": {},
          "execution_count": 82
        }
      ]
    },
    {
      "cell_type": "code",
      "source": [
        "# Compile token, char, positional embedding model\n",
        "model_5.compile(loss=tf.keras.losses.CategoricalCrossentropy(label_smoothing=0.2), # add label smoothing (examples which are really confident get smoothed a little)\n",
        "                optimizer=tf.keras.optimizers.Adam(),\n",
        "                metrics=[\"accuracy\"])\n",
        "     "
      ],
      "metadata": {
        "id": "PJU1Px5D9fN1"
      },
      "execution_count": null,
      "outputs": []
    },
    {
      "cell_type": "code",
      "source": [
        "train_pos_char_token_data = tf.data.Dataset.from_tensor_slices((train_line_number_ohe,\n",
        "                                                                train_total_line_ohe,\n",
        "                                                                train_sent,\n",
        "                                                                train_chars))\n",
        "\n",
        "train_pos_char_token_label = tf.data.Dataset.from_tensor_slices(train_labels_ohe)\n",
        "train_pos_char_token_dataset = tf.data.Dataset.zip((train_pos_char_token_data,train_pos_char_token_label))\n",
        "train_pos_char_token_dataset = train_pos_char_token_dataset.batch(32).prefetch(tf.data.AUTOTUNE)\n",
        "\n",
        "\n",
        "#validation dataset\n",
        "val_pos_char_token_data = tf.data.Dataset.from_tensor_slices((val_line_number_ohe, \n",
        "                                                              val_total_line_ohe,\n",
        "                                                              val_sent,\n",
        "                                                              val_chars))\n",
        "val_pos_char_token_label = tf.data.Dataset.from_tensor_slices(val_labels_ohe)\n",
        "val_pos_char_token_dataset = tf.data.Dataset.zip((val_pos_char_token_data,val_pos_char_token_label))\n",
        "val_pos_char_token_dataset = val_pos_char_token_dataset.batch(32).prefetch(tf.data.AUTOTUNE)\n",
        "\n",
        "\n"
      ],
      "metadata": {
        "id": "zQXMam909fQi"
      },
      "execution_count": null,
      "outputs": []
    },
    {
      "cell_type": "code",
      "source": [
        "# Fit the token, char and positional embedding model\n",
        "history_model_5 = model_5.fit(train_pos_char_token_dataset,\n",
        "                              steps_per_epoch=int(0.1 * len(train_pos_char_token_dataset)),\n",
        "                              epochs=3,\n",
        "                              validation_data=val_pos_char_token_dataset,\n",
        "                              validation_steps=int(0.1 * len(val_pos_char_token_dataset)))\n",
        "     "
      ],
      "metadata": {
        "colab": {
          "base_uri": "https://localhost:8080/"
        },
        "id": "r1Qmq9Or9fTT",
        "outputId": "ebd01f37-0038-4ffd-d5db-988919c1fe04"
      },
      "execution_count": null,
      "outputs": [
        {
          "output_type": "stream",
          "name": "stdout",
          "text": [
            "Epoch 1/3\n",
            "562/562 [==============================] - 30s 36ms/step - loss: 1.0953 - accuracy: 0.7237 - val_loss: 0.9865 - val_accuracy: 0.8039\n",
            "Epoch 2/3\n",
            "562/562 [==============================] - 19s 34ms/step - loss: 0.9710 - accuracy: 0.8086 - val_loss: 0.9541 - val_accuracy: 0.8265\n",
            "Epoch 3/3\n",
            "562/562 [==============================] - 20s 36ms/step - loss: 0.9551 - accuracy: 0.8162 - val_loss: 0.9427 - val_accuracy: 0.8288\n"
          ]
        }
      ]
    },
    {
      "cell_type": "code",
      "source": [
        "print(model_5.evaluate(val_pos_char_token_dataset))\n",
        "model_5_pred_probs = model_5.predict(val_pos_char_token_dataset)\n",
        "model_5_pred_pred = tf.argmax(model_5_pred_probs,axis=1)\n",
        "baseline_5_res = calculate(val_labels_encoded,model_5_pred_pred)"
      ],
      "metadata": {
        "colab": {
          "base_uri": "https://localhost:8080/"
        },
        "id": "tn0h9Si-Ioxh",
        "outputId": "36fe4aba-7ad7-4bbc-9a2d-53ca09c36f00"
      },
      "execution_count": null,
      "outputs": [
        {
          "output_type": "stream",
          "name": "stdout",
          "text": [
            "945/945 [==============================] - 21s 23ms/step - loss: 0.9412 - accuracy: 0.8305\n",
            "[0.9412279725074768, 0.8304647207260132]\n",
            "945/945 [==============================] - 19s 19ms/step\n",
            "Recall:  0.8304647160068847\n",
            "precision:  0.8294848079183831\n",
            "f1:  0.8296058496074021\n",
            "accuracy:  0.8304647160068847\n"
          ]
        }
      ]
    },
    {
      "cell_type": "code",
      "source": [
        "baseall_model_results = pd.DataFrame({\"baseline\": baseline_results,\n",
        "                                  \"custom_token_embed_conv1d\": baseline_1_res,\n",
        "                                  \"pretrained_token_embed\": baseline_2_res,\n",
        "                                  \"custom_char_embed_conv1d\": baseline_3_res,\n",
        "                                  \"hybrid_char_token_embed\": baseline_4_res,\n",
        "                                  \"tribrid_pos_char_token_embed\": baseline_5_res})\n",
        "\n",
        "all_model_results = baseall_model_results.transpose()\n",
        "all_model_results"
      ],
      "metadata": {
        "colab": {
          "base_uri": "https://localhost:8080/",
          "height": 246
        },
        "id": "IBRNuSzNIo12",
        "outputId": "25f2cc8b-7565-4676-c718-a84a2cf0e470"
      },
      "execution_count": null,
      "outputs": [
        {
          "output_type": "error",
          "ename": "NameError",
          "evalue": "ignored",
          "traceback": [
            "\u001b[0;31m---------------------------------------------------------------------------\u001b[0m",
            "\u001b[0;31mNameError\u001b[0m                                 Traceback (most recent call last)",
            "\u001b[0;32m<ipython-input-86-e6d9f8c5f3b7>\u001b[0m in \u001b[0;36m<cell line: 1>\u001b[0;34m()\u001b[0m\n\u001b[1;32m      1\u001b[0m baseall_model_results = pd.DataFrame({\"baseline\": baseline_results,\n\u001b[0;32m----> 2\u001b[0;31m                                   \u001b[0;34m\"custom_token_embed_conv1d\"\u001b[0m\u001b[0;34m:\u001b[0m \u001b[0mbaseline_1_res\u001b[0m\u001b[0;34m,\u001b[0m\u001b[0;34m\u001b[0m\u001b[0;34m\u001b[0m\u001b[0m\n\u001b[0m\u001b[1;32m      3\u001b[0m                                   \u001b[0;34m\"pretrained_token_embed\"\u001b[0m\u001b[0;34m:\u001b[0m \u001b[0mbaseline_2_res\u001b[0m\u001b[0;34m,\u001b[0m\u001b[0;34m\u001b[0m\u001b[0;34m\u001b[0m\u001b[0m\n\u001b[1;32m      4\u001b[0m                                   \u001b[0;34m\"custom_char_embed_conv1d\"\u001b[0m\u001b[0;34m:\u001b[0m \u001b[0mbaseline_3_res\u001b[0m\u001b[0;34m,\u001b[0m\u001b[0;34m\u001b[0m\u001b[0;34m\u001b[0m\u001b[0m\n\u001b[1;32m      5\u001b[0m                                   \u001b[0;34m\"hybrid_char_token_embed\"\u001b[0m\u001b[0;34m:\u001b[0m \u001b[0mbaseline_4_res\u001b[0m\u001b[0;34m,\u001b[0m\u001b[0;34m\u001b[0m\u001b[0;34m\u001b[0m\u001b[0m\n",
            "\u001b[0;31mNameError\u001b[0m: name 'baseline_1_res' is not defined"
          ]
        }
      ]
    },
    {
      "cell_type": "code",
      "source": [
        "model_5.save('skimlit_tribid_model')"
      ],
      "metadata": {
        "colab": {
          "base_uri": "https://localhost:8080/"
        },
        "id": "7J_1y68JIo5r",
        "outputId": "399a820a-e173-4c17-dd94-0dcc7d8c2ef7"
      },
      "execution_count": null,
      "outputs": [
        {
          "metadata": {
            "tags": null
          },
          "name": "stderr",
          "output_type": "stream",
          "text": [
            "WARNING:absl:Found untraced functions such as lstm_cell_1_layer_call_fn, lstm_cell_1_layer_call_and_return_conditional_losses, lstm_cell_2_layer_call_fn, lstm_cell_2_layer_call_and_return_conditional_losses while saving (showing 4 of 4). These functions will not be directly callable after loading.\n"
          ]
        }
      ]
    },
    {
      "cell_type": "code",
      "source": [
        "!cp skimlit_tribid_model -r /content/drive/MyDrive/Tensorflow_cert/skimlit_models"
      ],
      "metadata": {
        "id": "F7tEtX0AK-9z"
      },
      "execution_count": null,
      "outputs": []
    },
    {
      "cell_type": "code",
      "source": [
        "path = '/content/drive/MyDrive/Tensorflow_cert/skimlit_models/skimlit_tribid_model/saved_model.pb'\n",
        "\n",
        "loaded_model = tf.keras.models.load_model('/content/skimlit_tribid_model/saved_model.pb')"
      ],
      "metadata": {
        "id": "4Alvq0dQIo9N"
      },
      "execution_count": null,
      "outputs": []
    },
    {
      "cell_type": "markdown",
      "source": [
        "# Evaluate on test data"
      ],
      "metadata": {
        "id": "IfBqhEdPIpAY"
      }
    },
    {
      "cell_type": "code",
      "source": [
        "test_pos_char_token_data = tf.data.Dataset.from_tensor_slices((\n",
        "    test_line_number_ohe,test_total_line_ohe,test_sent,test_chars\n",
        "))\n",
        "test_pos_char_token_label = tf.data.Dataset.from_tensor_slices((\n",
        "    test_labels_ohe\n",
        "))\n",
        "test_pos_char_token_dataset = tf.data.Dataset.zip((test_pos_char_token_data,test_pos_char_token_label))\n",
        "test_pos_char_token_dataset = test_pos_char_token_dataset.batch(32).prefetch(tf.data.AUTOTUNE)\n"
      ],
      "metadata": {
        "id": "iveEJYmgIpC3"
      },
      "execution_count": null,
      "outputs": []
    },
    {
      "cell_type": "code",
      "source": [
        "test_line_number_ohe"
      ],
      "metadata": {
        "id": "a7iiA_wQbTe7"
      },
      "execution_count": null,
      "outputs": []
    },
    {
      "cell_type": "code",
      "source": [
        "test_total_line_ohe"
      ],
      "metadata": {
        "id": "jqzbfT36bVug"
      },
      "execution_count": null,
      "outputs": []
    },
    {
      "cell_type": "code",
      "source": [
        "test_sent[:10]"
      ],
      "metadata": {
        "id": "gcUkbD92bXHc"
      },
      "execution_count": null,
      "outputs": []
    },
    {
      "cell_type": "code",
      "source": [
        "test_chars"
      ],
      "metadata": {
        "id": "zRTN8iCdbXMM"
      },
      "execution_count": null,
      "outputs": []
    },
    {
      "cell_type": "code",
      "source": [
        "test_pred_prob = model_5.predict(test_pos_char_token_dataset)\n",
        "test_pred_val = tf.argmax(test_pred_prob,axis = 1)\n"
      ],
      "metadata": {
        "id": "OSY--1kQIpFx"
      },
      "execution_count": null,
      "outputs": []
    },
    {
      "cell_type": "code",
      "source": [
        "calculate(test_pred_val,test_labels_encoded)"
      ],
      "metadata": {
        "id": "IfP3NW00OGLq"
      },
      "execution_count": null,
      "outputs": []
    },
    {
      "cell_type": "code",
      "source": [
        "import json\n",
        "!wget https://github.com/mrdbourke/tensorflow-deep-learning/blob/main/extras/skimlit_example_abstracts.json"
      ],
      "metadata": {
        "id": "tv4Ec2z4WaS7"
      },
      "execution_count": null,
      "outputs": []
    },
    {
      "cell_type": "code",
      "source": [
        "data = [\n",
        "    {\n",
        "        \"abstract\": \"This RCT examined the efficacy of a manualized social intervention for children with HFASDs. Participants were randomly assigned to treatment or wait-list conditions. Treatment included instruction and therapeutic activities targeting social skills, face-emotion recognition, interest expansion, and interpretation of non-literal language. A response-cost program was applied to reduce problem behaviors and foster skills acquisition. Significant treatment effects were found for five of seven primary outcome measures (parent ratings and direct child measures). Secondary measures based on staff ratings (treatment group only) corroborated gains reported by parents. High levels of parent, child and staff satisfaction were reported, along with high levels of treatment fidelity. Standardized effect size estimates were primarily in the medium and large ranges and favored the treatment group.\",\n",
        "        \"source\": \"https://pubmed.ncbi.nlm.nih.gov/20232240/\",\n",
        "        \"details\": \"RCT of a manualized social treatment for high-functioning autism spectrum disorders\"\n",
        "    },\n",
        "    {\n",
        "        \"abstract\": \"Postpartum depression (PPD) is the most prevalent mood disorder associated with childbirth. No single cause of PPD has been identified, however the increased risk of nutritional deficiencies incurred through the high nutritional requirements of pregnancy may play a role in the pathology of depressive symptoms. Three nutritional interventions have drawn particular interest as possible non-invasive and cost-effective prevention and/or treatment strategies for PPD; omega-3 (n-3) long chain polyunsaturated fatty acids (LCPUFA), vitamin D and overall diet. We searched for meta-analyses of randomised controlled trials (RCT's) of nutritional interventions during the perinatal period with PPD as an outcome, and checked for any trials published subsequently to the meta-analyses. Fish oil: Eleven RCT's of prenatal fish oil supplementation RCT's show null and positive effects on PPD symptoms. Vitamin D: no relevant RCT's were identified, however seven observational studies of maternal vitamin D levels with PPD outcomes showed inconsistent associations. Diet: Two Australian RCT's with dietary advice interventions in pregnancy had a positive and null result on PPD. With the exception of fish oil, few RCT's with nutritional interventions during pregnancy assess PPD. Further research is needed to determine whether nutritional intervention strategies during pregnancy can protect against symptoms of PPD. Given the prevalence of PPD and ease of administering PPD measures, we recommend future prenatal nutritional RCT's include PPD as an outcome.\",\n",
        "        \"source\": \"https://pubmed.ncbi.nlm.nih.gov/28012571/\",\n",
        "        \"details\": \"Formatting removed (can be used to compare model to actual example)\"\n",
        "    },\n",
        "    {\n",
        "        \"abstract\": \"Mental illness, including depression, anxiety and bipolar disorder, accounts for a significant proportion of global disability and poses a substantial social, economic and heath burden. Treatment is presently dominated by pharmacotherapy, such as antidepressants, and psychotherapy, such as cognitive behavioural therapy; however, such treatments avert less than half of the disease burden, suggesting that additional strategies are needed to prevent and treat mental disorders. There are now consistent mechanistic, observational and interventional data to suggest diet quality may be a modifiable risk factor for mental illness. This review provides an overview of the nutritional psychiatry field. It includes a discussion of the neurobiological mechanisms likely modulated by diet, the use of dietary and nutraceutical interventions in mental disorders, and recommendations for further research. Potential biological pathways related to mental disorders include inflammation, oxidative stress, the gut microbiome, epigenetic modifications and neuroplasticity. Consistent epidemiological evidence, particularly for depression, suggests an association between measures of diet quality and mental health, across multiple populations and age groups; these do not appear to be explained by other demographic, lifestyle factors or reverse causality. Our recently published intervention trial provides preliminary clinical evidence that dietary interventions in clinically diagnosed populations are feasible and can provide significant clinical benefit. Furthermore, nutraceuticals including n-3 fatty acids, folate, S-adenosylmethionine, N-acetyl cysteine and probiotics, among others, are promising avenues for future research. Continued research is now required to investigate the efficacy of intervention studies in large cohorts and within clinically relevant populations, particularly in patients with schizophrenia, bipolar and anxiety disorders.\",\n",
        "        \"source\": \"https://pubmed.ncbi.nlm.nih.gov/28942748/\",\n",
        "        \"details\": \"Effect of nutrition on mental health\"\n",
        "    },\n",
        "    {\n",
        "        \"abstract\": \"Hepatitis C virus (HCV) and alcoholic liver disease (ALD), either alone or in combination, count for more than two thirds of all liver diseases in the Western world. There is no safe level of drinking in HCV-infected patients and the most effective goal for these patients is total abstinence. Baclofen, a GABA(B) receptor agonist, represents a promising pharmacotherapy for alcohol dependence (AD). Previously, we performed a randomized clinical trial (RCT), which demonstrated the safety and efficacy of baclofen in patients affected by AD and cirrhosis. The goal of this post-hoc analysis was to explore baclofen's effect in a subgroup of alcohol-dependent HCV-infected cirrhotic patients. Any patient with HCV infection was selected for this analysis. Among the 84 subjects randomized in the main trial, 24 alcohol-dependent cirrhotic patients had a HCV infection; 12 received baclofen 10mg t.i.d. and 12 received placebo for 12-weeks. With respect to the placebo group (3/12, 25.0%), a significantly higher number of patients who achieved and maintained total alcohol abstinence was found in the baclofen group (10/12, 83.3%; p=0.0123). Furthermore, in the baclofen group, compared to placebo, there was a significantly higher increase in albumin values from baseline (p=0.0132) and a trend toward a significant reduction in INR levels from baseline (p=0.0716). In conclusion, baclofen was safe and significantly more effective than placebo in promoting alcohol abstinence, and improving some Liver Function Tests (LFTs) (i.e. albumin, INR) in alcohol-dependent HCV-infected cirrhotic patients. Baclofen may represent a clinically relevant alcohol pharmacotherapy for these patients.\",\n",
        "        \"source\": \"https://pubmed.ncbi.nlm.nih.gov/22244707/\",\n",
        "        \"details\": \"Baclofen promotes alcohol abstinence in alcohol dependent cirrhotic patients with hepatitis C virus (HCV) infection\"\n",
        "    }\n",
        "]\n",
        "\n",
        "\n",
        "abstracts = pd.DataFrame(data)"
      ],
      "metadata": {
        "id": "EWeGznx9WaXF"
      },
      "execution_count": null,
      "outputs": []
    },
    {
      "cell_type": "code",
      "source": [
        "abstracts.head()"
      ],
      "metadata": {
        "id": "twT3RVYuWaak"
      },
      "execution_count": null,
      "outputs": []
    },
    {
      "cell_type": "code",
      "source": [
        "from spacy.lang.en import English\n",
        "nlp =English()\n",
        "sentencizer = nlp.create_pipe('sentencizer')\n",
        "nlp.add_pipe(sentencizer)\n",
        "doc = nlp(example_ab)"
      ],
      "metadata": {
        "id": "jr0Uv99wWadE"
      },
      "execution_count": null,
      "outputs": []
    },
    {
      "cell_type": "code",
      "source": [
        "#sentencizer = nlp.create_pipe('sentencizer')\n",
        "#nlp.add_pipe('sentencizer')\n",
        "doc = nlp(data[0]['abstract'])\n",
        "abstract_lines = [str(sent)for sent in list(doc.sents)]"
      ],
      "metadata": {
        "id": "q_FkZFXkYX1o"
      },
      "execution_count": null,
      "outputs": []
    },
    {
      "cell_type": "code",
      "source": [
        "total_lines_in_sample = len(abstract_lines)\n",
        "sample_lines =[]\n",
        "for i, line in enumerate(abstract_lines):\n",
        "  sample_dict = {}\n",
        "  sample_dict['text'] = str(line)\n",
        "  sample_dict['line_number'] = i\n",
        "  sample_dict['total_lines'] = total_lines_in_sample\n",
        "  sample_lines.append(sample_dict)"
      ],
      "metadata": {
        "id": "lS8JMV0GWaiD"
      },
      "execution_count": null,
      "outputs": []
    },
    {
      "cell_type": "code",
      "source": [
        "sample_lines"
      ],
      "metadata": {
        "id": "2jQ0bFFlWako"
      },
      "execution_count": null,
      "outputs": []
    },
    {
      "cell_type": "code",
      "source": [
        "test_abs_line_number = [line_n['line_number'] for line_n in sample_lines]\n",
        "test_abstract_line_numbers_one_hot = tf.one_hot(test_abs_line_number,depth = 15)\n",
        "test_abstract_line_numbers_one_hot"
      ],
      "metadata": {
        "id": "NY7GOxAwWan-"
      },
      "execution_count": null,
      "outputs": []
    },
    {
      "cell_type": "code",
      "source": [
        "# Get all total_lines values from sample abstract\n",
        "test_abstract_total_lines = [line[\"total_lines\"] for line in sample_lines]\n",
        "# One-hot encode to same depth as training data, so model accepts right input shape\n",
        "test_abstract_total_lines_one_hot = tf.one_hot(test_abstract_total_lines, depth=20)\n",
        "test_abstract_total_lines_one_hot"
      ],
      "metadata": {
        "id": "M5n_-hmZaOEL"
      },
      "execution_count": null,
      "outputs": []
    },
    {
      "cell_type": "code",
      "source": [
        "abs_chars = [char_split(sent)for sent in abstract_lines]\n",
        "abs_chars"
      ],
      "metadata": {
        "id": "_5QUYt-GaOHq"
      },
      "execution_count": null,
      "outputs": []
    },
    {
      "cell_type": "code",
      "source": [
        "test_abstract_line_numbers_one_hot"
      ],
      "metadata": {
        "id": "liJCfsWDbf6G"
      },
      "execution_count": null,
      "outputs": []
    },
    {
      "cell_type": "code",
      "source": [
        "test_abstract_total_lines_one_hot"
      ],
      "metadata": {
        "id": "l4rL6R7bbhvV"
      },
      "execution_count": null,
      "outputs": []
    },
    {
      "cell_type": "code",
      "source": [
        "abstract_lines"
      ],
      "metadata": {
        "id": "yrWVMp1UbkS5"
      },
      "execution_count": null,
      "outputs": []
    },
    {
      "cell_type": "code",
      "source": [
        "abs_chars"
      ],
      "metadata": {
        "id": "xb4Iqopgbmlf"
      },
      "execution_count": null,
      "outputs": []
    },
    {
      "cell_type": "code",
      "source": [
        "\n",
        "\n",
        "pred_test_values = model_5.predict((test_abstract_line_numbers_one_hot,\n",
        "                 test_abstract_total_lines_one_hot,\n",
        "                 tf.constant(abstract_lines),\n",
        "                 tf.constant(abs_chars)))\n",
        "\n",
        "pred_test_values = tf.argmax(pred_test_values,axis=1)"
      ],
      "metadata": {
        "id": "YBNR41APaoh7"
      },
      "execution_count": null,
      "outputs": []
    },
    {
      "cell_type": "code",
      "source": [
        "# Turn prediction class integers into string class names\n",
        "test_abstract_pred_classes = [lb.classes_[i] for i in pred_test_values]\n",
        "test_abstract_pred_classes"
      ],
      "metadata": {
        "id": "wPt1HP9gaonn"
      },
      "execution_count": null,
      "outputs": []
    },
    {
      "cell_type": "code",
      "source": [
        "for i, line in enumerate(abstract_lines):\n",
        "  print(f\"{test_abstract_pred_classes[i]}: {line}\")"
      ],
      "metadata": {
        "id": "1PokvqVfcmPp"
      },
      "execution_count": null,
      "outputs": []
    },
    {
      "cell_type": "code",
      "source": [],
      "metadata": {
        "id": "QaL_7cclLDH-"
      },
      "execution_count": null,
      "outputs": []
    },
    {
      "cell_type": "markdown",
      "source": [
        "#Excersie"
      ],
      "metadata": {
        "id": "elqCOxtVLDMX"
      }
    },
    {
      "cell_type": "code",
      "source": [
        "chpt_path = 'checkoint_5/model_5.ckpt'\n",
        "checkpoint = tf.keras.callbacks.ModelCheckpoint(chpt_path , monitor = 'val_loss' ,\n",
        "                                                save_best_only = True , save_weights_only = True,\n",
        "                                                )\n",
        "\n",
        "early_call = tf.keras.callbacks.EarlyStopping(monitor = 'val_loss',patience = 4, restore_best_weights =True)\n",
        "\n",
        "\n"
      ],
      "metadata": {
        "id": "QzaFzJhULPhA"
      },
      "execution_count": null,
      "outputs": []
    },
    {
      "cell_type": "code",
      "source": [
        "# Fit the token, char and positional embedding model\n",
        "history_m5_callbacks = model_5.fit(train_pos_char_token_dataset,\n",
        "                              #steps_per_epoch=int(0.3 * len(train_pos_char_token_dataset)),\n",
        "                              epochs=15,\n",
        "                              validation_data=val_pos_char_token_dataset,\n",
        "                             # validation_steps=int(0.3 * len(val_pos_char_token_dataset)),\n",
        "                              callbacks = [checkpoint,early_call])\n",
        "     "
      ],
      "metadata": {
        "colab": {
          "base_uri": "https://localhost:8080/"
        },
        "id": "s65KTJfdLDPc",
        "outputId": "841755f5-d748-46cf-b497-90703371d141"
      },
      "execution_count": null,
      "outputs": [
        {
          "output_type": "stream",
          "name": "stdout",
          "text": [
            "Epoch 1/15\n",
            "5627/5627 [==============================] - 205s 36ms/step - loss: 0.8997 - accuracy: 0.8553 - val_loss: 0.8932 - val_accuracy: 0.8559\n",
            "Epoch 2/15\n",
            "5627/5627 [==============================] - 203s 36ms/step - loss: 0.8928 - accuracy: 0.8606 - val_loss: 0.8887 - val_accuracy: 0.8590\n",
            "Epoch 3/15\n",
            "5627/5627 [==============================] - 204s 36ms/step - loss: 0.8866 - accuracy: 0.8650 - val_loss: 0.8881 - val_accuracy: 0.8578\n",
            "Epoch 4/15\n",
            "5627/5627 [==============================] - 219s 39ms/step - loss: 0.8819 - accuracy: 0.8683 - val_loss: 0.8831 - val_accuracy: 0.8625\n",
            "Epoch 5/15\n",
            "5627/5627 [==============================] - 195s 35ms/step - loss: 0.8775 - accuracy: 0.8705 - val_loss: 0.8802 - val_accuracy: 0.8632\n",
            "Epoch 6/15\n",
            "5627/5627 [==============================] - 200s 35ms/step - loss: 0.8739 - accuracy: 0.8734 - val_loss: 0.8793 - val_accuracy: 0.8656\n",
            "Epoch 7/15\n",
            "5627/5627 [==============================] - 195s 35ms/step - loss: 0.8706 - accuracy: 0.8752 - val_loss: 0.8824 - val_accuracy: 0.8627\n",
            "Epoch 8/15\n",
            "5627/5627 [==============================] - 193s 34ms/step - loss: 0.8680 - accuracy: 0.8774 - val_loss: 0.8805 - val_accuracy: 0.8628\n",
            "Epoch 9/15\n",
            "5627/5627 [==============================] - 239s 42ms/step - loss: 0.8649 - accuracy: 0.8791 - val_loss: 0.8771 - val_accuracy: 0.8648\n",
            "Epoch 10/15\n",
            "5627/5627 [==============================] - 208s 37ms/step - loss: 0.8630 - accuracy: 0.8799 - val_loss: 0.8775 - val_accuracy: 0.8642\n",
            "Epoch 11/15\n",
            "5627/5627 [==============================] - 198s 35ms/step - loss: 0.8609 - accuracy: 0.8827 - val_loss: 0.8768 - val_accuracy: 0.8646\n",
            "Epoch 12/15\n",
            "5627/5627 [==============================] - 195s 35ms/step - loss: 0.8588 - accuracy: 0.8834 - val_loss: 0.8776 - val_accuracy: 0.8634\n",
            "Epoch 13/15\n",
            "5627/5627 [==============================] - 193s 34ms/step - loss: 0.8574 - accuracy: 0.8846 - val_loss: 0.8792 - val_accuracy: 0.8626\n",
            "Epoch 14/15\n",
            "5627/5627 [==============================] - 190s 34ms/step - loss: 0.8554 - accuracy: 0.8856 - val_loss: 0.8781 - val_accuracy: 0.8643\n",
            "Epoch 15/15\n",
            "5627/5627 [==============================] - 194s 35ms/step - loss: 0.8539 - accuracy: 0.8864 - val_loss: 0.8773 - val_accuracy: 0.8639\n"
          ]
        }
      ]
    },
    {
      "cell_type": "markdown",
      "source": [
        "#Model 7 glove"
      ],
      "metadata": {
        "id": "oK3lharQhJyS"
      }
    },
    {
      "cell_type": "code",
      "source": [
        "embedding_dict={}\n",
        "glove_path = '/content/glove.6B.100d.txt'\n",
        "with open(glove_path) as f:\n",
        "    for line in f:\n",
        "        values = line.split()\n",
        "        word = values[0]\n",
        "        vectors = np.asarray(values[1:],'float32')\n",
        "        embedding_dict[word]=vectors\n",
        "f.close()"
      ],
      "metadata": {
        "id": "exrLRXgOP7dc"
      },
      "execution_count": null,
      "outputs": []
    },
    {
      "cell_type": "code",
      "source": [
        "emb_matrix = np.zeros((max_tokens,embedding_dim))\n",
        "emb_matrix.shape"
      ],
      "metadata": {
        "colab": {
          "base_uri": "https://localhost:8080/"
        },
        "id": "CRkSg2NRfeoj",
        "outputId": "9cb12eb7-0413-4b1d-c6aa-360789a6c1cc"
      },
      "execution_count": null,
      "outputs": [
        {
          "output_type": "execute_result",
          "data": {
            "text/plain": [
              "(70, 100)"
            ]
          },
          "metadata": {},
          "execution_count": 113
        }
      ]
    },
    {
      "cell_type": "code",
      "source": [
        "len(word_index.keys())"
      ],
      "metadata": {
        "colab": {
          "base_uri": "https://localhost:8080/"
        },
        "id": "aTUmbVyeYy6W",
        "outputId": "cc5e5c2b-0e9c-4e80-fd9b-42178e74e2a4"
      },
      "execution_count": null,
      "outputs": [
        {
          "output_type": "execute_result",
          "data": {
            "text/plain": [
              "45901"
            ]
          },
          "metadata": {},
          "execution_count": 214
        }
      ]
    },
    {
      "cell_type": "code",
      "source": [
        "embedding_dim  =100\n",
        "hits= 0 \n",
        "misses = 0\n",
        "\n",
        "converted = []\n",
        "missed = []\n",
        "max_tokens = 40000\n",
        "emb_matrix = np.zeros((max_tokens,embedding_dim))\n",
        "for word,i in word_index.items():\n",
        "  if i>max_tokens:\n",
        "    break\n",
        "  emb_vect = embedding_dict.get(word)\n",
        "  if emb_vect  is not None:\n",
        "    emb_matrix[i] = emb_vect\n",
        "    hits+=1\n",
        "    converted.append(word)\n",
        "  else:\n",
        "    misses+=1\n",
        "    missed.append(word)\n",
        "print('converted %d words (%dmisses)'% (hits,misses))      \n"
      ],
      "metadata": {
        "colab": {
          "base_uri": "https://localhost:8080/"
        },
        "id": "gkdVLvODZtFH",
        "outputId": "ca663706-dcdb-497d-f2c7-c4b20e086299"
      },
      "execution_count": null,
      "outputs": [
        {
          "output_type": "stream",
          "name": "stdout",
          "text": [
            "converted 27244 words (12756misses)\n"
          ]
        }
      ]
    },
    {
      "cell_type": "code",
      "source": [
        "embedding_layer = layers.Embedding(max_tokens,\n",
        "                              embedding_dim,\n",
        "                              weights=[emb_matrix],\n",
        "                              trainable=False,\n",
        "                              input_length = 55)\n",
        "\n",
        "GlobalAveragePooling1D()(Dense(64,activation = 'relu')(embedding_layer(train_seq[0:2])))"
      ],
      "metadata": {
        "colab": {
          "base_uri": "https://localhost:8080/"
        },
        "id": "e5ujwe7-amV9",
        "outputId": "43c97d00-0832-41d2-9387-93778f1a5d3f"
      },
      "execution_count": null,
      "outputs": [
        {
          "output_type": "execute_result",
          "data": {
            "text/plain": [
              "<tf.Tensor: shape=(2, 64), dtype=float32, numpy=\n",
              "array([[1.32913098e-01, 4.67467159e-01, 9.24587250e-01, 2.30509683e-01,\n",
              "        4.76359457e-01, 3.43931824e-01, 5.39553585e-05, 7.25470662e-01,\n",
              "        5.42437196e-01, 5.80182076e-01, 1.28643017e-03, 3.44827294e-01,\n",
              "        4.77331698e-01, 1.10676177e-01, 2.16072425e-01, 1.69181600e-01,\n",
              "        1.20182224e-01, 1.67927742e-01, 8.46663141e-04, 5.95409274e-01,\n",
              "        3.16846013e-01, 5.96752241e-02, 2.67432779e-02, 1.02067745e+00,\n",
              "        2.20006760e-02, 1.53650761e-01, 1.06989935e-01, 8.98357630e-02,\n",
              "        9.37659014e-03, 6.33235157e-01, 5.06767929e-01, 2.17856336e-02,\n",
              "        0.00000000e+00, 8.37946594e-01, 1.24575250e-01, 7.01566339e-01,\n",
              "        0.00000000e+00, 3.18990409e-01, 5.02732694e-01, 8.18685174e-01,\n",
              "        1.05176523e-01, 0.00000000e+00, 1.37836203e-01, 2.33643293e-01,\n",
              "        1.31327403e-03, 2.78871367e-03, 2.03123838e-01, 1.04933642e-02,\n",
              "        5.83797507e-02, 6.07571490e-02, 8.92570019e-01, 1.25057553e-03,\n",
              "        8.17216814e-01, 2.81750914e-02, 2.27974415e-01, 1.50029927e-01,\n",
              "        1.59112681e-02, 4.72591550e-04, 4.55514461e-01, 2.24374652e-01,\n",
              "        0.00000000e+00, 1.26181245e-02, 7.57116452e-02, 9.10348445e-02],\n",
              "       [6.05297498e-02, 2.29436755e-01, 4.82914269e-01, 9.75149944e-02,\n",
              "        2.33342052e-01, 1.51226744e-01, 2.31237245e-05, 3.91268641e-01,\n",
              "        2.53968835e-01, 2.92141736e-01, 4.99267015e-04, 1.83376417e-01,\n",
              "        2.15859920e-01, 5.57644665e-02, 1.05544746e-01, 8.23554546e-02,\n",
              "        5.84028065e-02, 7.84391761e-02, 0.00000000e+00, 2.65902400e-01,\n",
              "        1.58263862e-01, 4.03463542e-02, 2.02709660e-02, 4.96701151e-01,\n",
              "        3.82858561e-03, 8.31381008e-02, 5.47756441e-02, 4.34566922e-02,\n",
              "        1.30335591e-03, 2.83778906e-01, 2.33236477e-01, 2.42878823e-03,\n",
              "        0.00000000e+00, 4.10968632e-01, 5.70151284e-02, 3.48785847e-01,\n",
              "        0.00000000e+00, 1.50977910e-01, 2.74211884e-01, 3.89461577e-01,\n",
              "        5.28961346e-02, 0.00000000e+00, 7.11420551e-02, 1.21824279e-01,\n",
              "        6.56637014e-04, 0.00000000e+00, 9.77718383e-02, 6.36550784e-03,\n",
              "        3.01468577e-02, 2.05539037e-02, 4.40207958e-01, 2.13618902e-03,\n",
              "        3.87473613e-01, 1.60678066e-02, 1.16224498e-01, 7.14571029e-02,\n",
              "        4.87305271e-03, 4.59605595e-04, 2.28080377e-01, 1.16706654e-01,\n",
              "        1.03561778e-03, 5.02276374e-03, 2.45134141e-02, 3.63506489e-02]],\n",
              "      dtype=float32)>"
            ]
          },
          "metadata": {},
          "execution_count": 226
        }
      ]
    },
    {
      "cell_type": "code",
      "source": [],
      "metadata": {
        "id": "6TLgcf8VamdQ"
      },
      "execution_count": null,
      "outputs": []
    },
    {
      "cell_type": "code",
      "source": [
        "embedding_layer = layers.Embedding(max_tokens,\n",
        "                              embedding_dim,\n",
        "                              weights=[emb_matrix],\n",
        "                              trainable=False,\n",
        "                              input_length = 55)\n",
        "\n",
        "\n",
        "inputs = Input(shape=(1,))                                       #pretrained asks for size(batch,) hence shape= []\n",
        "pretrained_emb = embedding_layer(inputs)                       #takes input(None,seq_len)  -->(None,dim_len)\n",
        "x = Dense(64,activation = 'relu')(pretrained_emb)              #inp(batch,dim)--->out(batch,dense_units)\n",
        "x = layers.GlobalAveragePooling1D()(x)\n",
        "outputs = Dense(5,activation = 'softmax')(x)                   #inp(batch,64)----->(batch,5)\n",
        "model_7 = Model(inputs,outputs)                           \n",
        "model_7.compile(loss=\"categorical_crossentropy\",               # if your labels are integer form (not one hot) use sparse_categorical_crossentropy\n",
        "                optimizer=tf.keras.optimizers.Adam(),\n",
        "                metrics=[\"accuracy\"])\n",
        "model_7.summary()"
      ],
      "metadata": {
        "colab": {
          "base_uri": "https://localhost:8080/"
        },
        "id": "C2g0skpyf1cR",
        "outputId": "104ba288-801d-44f3-ffc5-b97077e77339"
      },
      "execution_count": null,
      "outputs": [
        {
          "output_type": "stream",
          "name": "stdout",
          "text": [
            "Model: \"model_14\"\n",
            "_________________________________________________________________\n",
            " Layer (type)                Output Shape              Param #   \n",
            "=================================================================\n",
            " input_7 (InputLayer)        [(None, 1)]               0         \n",
            "                                                                 \n",
            " embedding_15 (Embedding)    (None, 1, 100)            4000000   \n",
            "                                                                 \n",
            " dense_22 (Dense)            (None, 1, 64)             6464      \n",
            "                                                                 \n",
            " global_average_pooling1d_6   (None, 64)               0         \n",
            " (GlobalAveragePooling1D)                                        \n",
            "                                                                 \n",
            " dense_23 (Dense)            (None, 5)                 325       \n",
            "                                                                 \n",
            "=================================================================\n",
            "Total params: 4,006,789\n",
            "Trainable params: 6,789\n",
            "Non-trainable params: 4,000,000\n",
            "_________________________________________________________________\n"
          ]
        }
      ]
    },
    {
      "cell_type": "code",
      "source": [
        "model_7.fit(train_seq,train_labels_ohe,\n",
        "            steps_per_epoch=int(0.1 * len(train_seq)/32),\n",
        "            epochs=3,\n",
        "            validation_data = (val_seq,val_labels_ohe),\n",
        "            validation_steps=int(0.1 * len(val_seq)/32))"
      ],
      "metadata": {
        "colab": {
          "base_uri": "https://localhost:8080/",
          "height": 244
        },
        "id": "Oe_a_u7IjAWL",
        "outputId": "d076cbab-da0f-4697-b5e6-6d4d35275a57"
      },
      "execution_count": null,
      "outputs": [
        {
          "output_type": "error",
          "ename": "NameError",
          "evalue": "ignored",
          "traceback": [
            "\u001b[0;31m---------------------------------------------------------------------------\u001b[0m",
            "\u001b[0;31mNameError\u001b[0m                                 Traceback (most recent call last)",
            "\u001b[0;32m<ipython-input-1-215a14514ad3>\u001b[0m in \u001b[0;36m<cell line: 1>\u001b[0;34m()\u001b[0m\n\u001b[0;32m----> 1\u001b[0;31m model_7.fit(train_seq,train_labels_ohe,\n\u001b[0m\u001b[1;32m      2\u001b[0m             \u001b[0msteps_per_epoch\u001b[0m\u001b[0;34m=\u001b[0m\u001b[0mint\u001b[0m\u001b[0;34m(\u001b[0m\u001b[0;36m0.1\u001b[0m \u001b[0;34m*\u001b[0m \u001b[0mlen\u001b[0m\u001b[0;34m(\u001b[0m\u001b[0mtrain_seq\u001b[0m\u001b[0;34m)\u001b[0m\u001b[0;34m/\u001b[0m\u001b[0;36m32\u001b[0m\u001b[0;34m)\u001b[0m\u001b[0;34m,\u001b[0m\u001b[0;34m\u001b[0m\u001b[0;34m\u001b[0m\u001b[0m\n\u001b[1;32m      3\u001b[0m             \u001b[0mepochs\u001b[0m\u001b[0;34m=\u001b[0m\u001b[0;36m3\u001b[0m\u001b[0;34m,\u001b[0m\u001b[0;34m\u001b[0m\u001b[0;34m\u001b[0m\u001b[0m\n\u001b[1;32m      4\u001b[0m             \u001b[0mvalidation_data\u001b[0m \u001b[0;34m=\u001b[0m \u001b[0;34m(\u001b[0m\u001b[0mval_seq\u001b[0m\u001b[0;34m,\u001b[0m\u001b[0mval_labels_ohe\u001b[0m\u001b[0;34m)\u001b[0m\u001b[0;34m,\u001b[0m\u001b[0;34m\u001b[0m\u001b[0;34m\u001b[0m\u001b[0m\n\u001b[1;32m      5\u001b[0m             validation_steps=int(0.1 * len(val_seq)/32))\n",
            "\u001b[0;31mNameError\u001b[0m: name 'model_7' is not defined"
          ]
        }
      ]
    },
    {
      "cell_type": "code",
      "source": [],
      "metadata": {
        "colab": {
          "base_uri": "https://localhost:8080/"
        },
        "id": "OKgy7RCIhm2t",
        "outputId": "6bb18e00-f279-45fd-cc97-1ebc480edcc0"
      },
      "execution_count": null,
      "outputs": [
        {
          "output_type": "execute_result",
          "data": {
            "text/plain": [
              "<_PrefetchDataset element_spec=(TensorSpec(shape=(None,), dtype=tf.string, name=None), TensorSpec(shape=(None, 5), dtype=tf.float64, name=None))>"
            ]
          },
          "metadata": {},
          "execution_count": 125
        }
      ]
    },
    {
      "cell_type": "code",
      "source": [
        "embedding_layer = layers.Embedding(max_tokens,\n",
        "                              embedding_dim,\n",
        "                              embeddings_initializer = tf.keras.initializers.Constant(emb_matrix),\n",
        "                              trainable=False,\n",
        "                              input_length = 55)\n",
        "\n",
        "\n",
        "inputs = Input(shape=(None,))                                       #pretrained asks for size(batch,) hence shape= []\n",
        "pretrained_emb = embedding_layer(inputs)                       #takes input(None,seq_len)  -->(None,dim_len)\n",
        "x = Dense(64,activation = 'relu')(pretrained_emb)              #inp(batch,dim)--->out(batch,dense_units)\n",
        "x = layers.GlobalAveragePooling1D()(x)\n",
        "outputs = Dense(5,activation = 'softmax')(x)                   #inp(batch,64)----->(batch,5)\n",
        "model_7_ = Model(inputs,outputs)                           \n",
        "model_7_.compile(loss=\"categorical_crossentropy\",               # if your labels are integer form (not one hot) use sparse_categorical_crossentropy\n",
        "                optimizer=tf.keras.optimizers.Adam(),\n",
        "                metrics=[\"accuracy\"])\n",
        "model_7_.summary()"
      ],
      "metadata": {
        "colab": {
          "base_uri": "https://localhost:8080/"
        },
        "id": "UbqxhP-fhTFG",
        "outputId": "99dc2c8c-7130-40ea-a2ca-0225e19603fb"
      },
      "execution_count": null,
      "outputs": [
        {
          "output_type": "stream",
          "name": "stdout",
          "text": [
            "Model: \"model_18\"\n",
            "_________________________________________________________________\n",
            " Layer (type)                Output Shape              Param #   \n",
            "=================================================================\n",
            " input_13 (InputLayer)       [(None, None)]            0         \n",
            "                                                                 \n",
            " embedding_21 (Embedding)    (None, None, 100)         4000000   \n",
            "                                                                 \n",
            " dense_32 (Dense)            (None, None, 64)          6464      \n",
            "                                                                 \n",
            " global_average_pooling1d_12  (None, 64)               0         \n",
            "  (GlobalAveragePooling1D)                                       \n",
            "                                                                 \n",
            " dense_33 (Dense)            (None, 5)                 325       \n",
            "                                                                 \n",
            "=================================================================\n",
            "Total params: 4,006,789\n",
            "Trainable params: 6,789\n",
            "Non-trainable params: 4,000,000\n",
            "_________________________________________________________________\n"
          ]
        }
      ]
    },
    {
      "cell_type": "code",
      "source": [
        "model_7_.fit(train_seq,train_labels_ohe,\n",
        "            steps_per_epoch=int(0.1 * len(train_seq)/32),\n",
        "            epochs=3,\n",
        "            validation_data = (val_seq,val_labels_ohe),\n",
        "            validation_steps=int(0.1 * len(val_seq)/32))"
      ],
      "metadata": {
        "colab": {
          "base_uri": "https://localhost:8080/"
        },
        "id": "u_ugpTW1hTIW",
        "outputId": "5863c909-7558-445a-d0d9-9f9dac05ddbc"
      },
      "execution_count": null,
      "outputs": [
        {
          "output_type": "stream",
          "name": "stdout",
          "text": [
            "Epoch 1/3\n",
            "562/562 [==============================] - 7s 8ms/step - loss: 1.3869 - accuracy: 0.4235 - val_loss: 1.2933 - val_accuracy: 0.4521\n",
            "Epoch 2/3\n",
            "562/562 [==============================] - 3s 6ms/step - loss: 1.2670 - accuracy: 0.4643 - val_loss: 1.2378 - val_accuracy: 0.4861\n",
            "Epoch 3/3\n",
            "558/562 [============================>.] - ETA: 0s - loss: 1.2262 - accuracy: 0.4871"
          ]
        },
        {
          "output_type": "stream",
          "name": "stderr",
          "text": [
            "WARNING:tensorflow:Your input ran out of data; interrupting training. Make sure that your dataset or generator can generate at least `steps_per_epoch * epochs` batches (in this case, 1686 batches). You may need to use the repeat() function when building your dataset.\n"
          ]
        },
        {
          "output_type": "stream",
          "name": "stdout",
          "text": [
            "\b\b\b\b\b\b\b\b\b\b\b\b\b\b\b\b\b\b\b\b\b\b\b\b\b\b\b\b\b\b\b\b\b\b\b\b\b\b\b\b\b\b\b\b\b\b\b\b\b\b\b\b\b\b\b\b\b\b\b\b\b\b\b\b\b\b\b\b\b\b\b\b\b\b\b\b\b\b\b\b\b\b\b\b\r562/562 [==============================] - 4s 7ms/step - loss: 1.2262 - accuracy: 0.4871 - val_loss: 1.2026 - val_accuracy: 0.4984\n"
          ]
        },
        {
          "output_type": "execute_result",
          "data": {
            "text/plain": [
              "<keras.callbacks.History at 0x7f259865a470>"
            ]
          },
          "metadata": {},
          "execution_count": 241
        }
      ]
    },
    {
      "cell_type": "markdown",
      "source": [
        "#BERT"
      ],
      "metadata": {
        "id": "Pj8swFjDhTLv"
      }
    },
    {
      "cell_type": "code",
      "source": [
        "!pip3 install --quiet tensorflow-text\n",
        "import tensorflow_text as text  # Imports TF ops for preprocessing."
      ],
      "metadata": {
        "colab": {
          "base_uri": "https://localhost:8080/"
        },
        "id": "0M-FM0i2fWEp",
        "outputId": "9abb3b87-dea5-47c9-f406-177dc59a226e"
      },
      "execution_count": null,
      "outputs": [
        {
          "output_type": "stream",
          "name": "stdout",
          "text": [
            "\u001b[2K     \u001b[90m━━━━━━━━━━━━━━━━━━━━━━━━━━━━━━━━━━━━━━━━\u001b[0m \u001b[32m6.0/6.0 MB\u001b[0m \u001b[31m16.7 MB/s\u001b[0m eta \u001b[36m0:00:00\u001b[0m\n",
            "\u001b[?25h"
          ]
        }
      ]
    },
    {
      "cell_type": "code",
      "source": [
        "preprocess = hub.load('https://tfhub.dev/tensorflow/bert_en_uncased_preprocess/3')\n",
        "bert = hub.load('https://tfhub.dev/google/experts/bert/pubmed/2')"
      ],
      "metadata": {
        "id": "iTmltE2_hTQJ"
      },
      "execution_count": null,
      "outputs": []
    },
    {
      "cell_type": "code",
      "source": [
        "bert_inputs = preprocess(train_sent)"
      ],
      "metadata": {
        "id": "UzqHQUnNhnNd"
      },
      "execution_count": null,
      "outputs": []
    },
    {
      "cell_type": "code",
      "source": [],
      "metadata": {
        "id": "dONh7PaAhnSo"
      },
      "execution_count": null,
      "outputs": []
    },
    {
      "cell_type": "code",
      "source": [],
      "metadata": {
        "id": "-3V_w9Tvhnay"
      },
      "execution_count": null,
      "outputs": []
    },
    {
      "cell_type": "code",
      "source": [],
      "metadata": {
        "id": "Ho7Fzva0hne0"
      },
      "execution_count": null,
      "outputs": []
    },
    {
      "cell_type": "code",
      "source": [],
      "metadata": {
        "id": "9nlzBgD2hnig"
      },
      "execution_count": null,
      "outputs": []
    }
  ]
}