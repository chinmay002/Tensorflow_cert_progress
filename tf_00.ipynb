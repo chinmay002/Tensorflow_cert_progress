{
  "nbformat": 4,
  "nbformat_minor": 0,
  "metadata": {
    "colab": {
      "provenance": [],
      "gpuType": "T4"
    },
    "kernelspec": {
      "name": "python3",
      "display_name": "Python 3"
    },
    "language_info": {
      "name": "python"
    },
    "gpuClass": "standard"
  },
  "cells": [
    {
      "cell_type": "code",
      "execution_count": null,
      "metadata": {
        "colab": {
          "base_uri": "https://localhost:8080/"
        },
        "id": "S1RG2ElqJKbn",
        "outputId": "b520d037-962b-4dff-d7ad-80bda5a1a1e9"
      },
      "outputs": [
        {
          "output_type": "stream",
          "name": "stdout",
          "text": [
            "2.12.0\n"
          ]
        }
      ],
      "source": [
        "import tensorflow as tf\n",
        "print(tf.__version__)\n",
        "import pandas as pd\n",
        "import numpy as np\n",
        "import matplotlib.pyplot as plt\n",
        "import seaborn as sns\n",
        "from tensorflow.keras.layers import Dense\n",
        "from tensorflow.keras.models import Sequential\n",
        "from tensorflow.keras.losses import mae\n",
        "from tensorflow.keras.optimizers import SGD,Adam\n"
      ]
    },
    {
      "cell_type": "code",
      "source": [
        "#creating tensors with tf.constant()\n",
        "scalar = tf.constant(4)\n",
        "scalar"
      ],
      "metadata": {
        "colab": {
          "base_uri": "https://localhost:8080/"
        },
        "id": "MfMoGVAdJj1u",
        "outputId": "cf55edb0-423b-49b3-b6f9-3437a7e0df8b"
      },
      "execution_count": null,
      "outputs": [
        {
          "output_type": "execute_result",
          "data": {
            "text/plain": [
              "<tf.Tensor: shape=(), dtype=int32, numpy=4>"
            ]
          },
          "metadata": {},
          "execution_count": 2
        }
      ]
    },
    {
      "cell_type": "code",
      "source": [
        "scalar.numpy()    "
      ],
      "metadata": {
        "colab": {
          "base_uri": "https://localhost:8080/"
        },
        "id": "JY_PtLjLJj4-",
        "outputId": "982e5e88-5061-4680-aa9c-454a3245d6b3"
      },
      "execution_count": null,
      "outputs": [
        {
          "output_type": "execute_result",
          "data": {
            "text/plain": [
              "4"
            ]
          },
          "metadata": {},
          "execution_count": 4
        }
      ]
    },
    {
      "cell_type": "code",
      "source": [
        "scalar.ndim"
      ],
      "metadata": {
        "colab": {
          "base_uri": "https://localhost:8080/"
        },
        "id": "SlvqR0pZJj-N",
        "outputId": "cc1a5094-4a23-4aa0-b878-1416ec0a00f5"
      },
      "execution_count": null,
      "outputs": [
        {
          "output_type": "execute_result",
          "data": {
            "text/plain": [
              "0"
            ]
          },
          "metadata": {},
          "execution_count": 5
        }
      ]
    },
    {
      "cell_type": "code",
      "source": [
        "vector = tf.constant([10,1])\n",
        "print(vector.ndim)\n",
        "print(vector.numpy())\n",
        "print(vector.dtype)"
      ],
      "metadata": {
        "colab": {
          "base_uri": "https://localhost:8080/"
        },
        "id": "NdWV8__1KPJX",
        "outputId": "805cbfd3-967c-4ae0-952e-790cb03bc32b"
      },
      "execution_count": null,
      "outputs": [
        {
          "output_type": "stream",
          "name": "stdout",
          "text": [
            "2\n",
            "[[10  1]]\n",
            "<dtype: 'int32'>\n"
          ]
        }
      ]
    },
    {
      "cell_type": "code",
      "source": [
        "matrix = tf.constant([[10,1],[1,3]])\n",
        "print(matrix.ndim)\n",
        "print(matrix.numpy())\n",
        "print(matrix.dtype)"
      ],
      "metadata": {
        "colab": {
          "base_uri": "https://localhost:8080/"
        },
        "id": "Uh86opLsKnbF",
        "outputId": "c68ec134-2599-476d-f9ab-7157303185b0"
      },
      "execution_count": null,
      "outputs": [
        {
          "output_type": "stream",
          "name": "stdout",
          "text": [
            "2\n",
            "[[10  1]\n",
            " [ 1  3]]\n",
            "<dtype: 'int32'>\n"
          ]
        }
      ]
    },
    {
      "cell_type": "code",
      "source": [
        "tensor = tf.constant([[[1,2,3],\n",
        "                       [2,2,1]],\n",
        "                      [[2,3,4],\n",
        "                       [4,5,6]],\n",
        "                      [[1,2,4],\n",
        "                       [5,6,7]],\n",
        "                       [[9,9,9],\n",
        "                      [1,1,1]]])\n",
        "tensor.ndim"
      ],
      "metadata": {
        "colab": {
          "base_uri": "https://localhost:8080/"
        },
        "id": "aljYCUH9LCgd",
        "outputId": "1d6ece4c-5d14-4fa3-a040-fa6ac0abbd4c"
      },
      "execution_count": null,
      "outputs": [
        {
          "output_type": "execute_result",
          "data": {
            "text/plain": [
              "3"
            ]
          },
          "metadata": {},
          "execution_count": 16
        }
      ]
    },
    {
      "cell_type": "code",
      "source": [
        "tensor.shape"
      ],
      "metadata": {
        "colab": {
          "base_uri": "https://localhost:8080/"
        },
        "id": "VEwAFls6KPNO",
        "outputId": "b543cba6-83e1-4938-ed2a-fe408d1b8a88"
      },
      "execution_count": null,
      "outputs": [
        {
          "output_type": "execute_result",
          "data": {
            "text/plain": [
              "TensorShape([4, 2, 3])"
            ]
          },
          "metadata": {},
          "execution_count": 17
        }
      ]
    },
    {
      "cell_type": "markdown",
      "source": [
        "#Variable\n",
        "\n",
        "<li>Variable can be changes using assign\n",
        "<li>Constant cannot be changes"
      ],
      "metadata": {
        "id": "F82zCvm2M-Fu"
      }
    },
    {
      "cell_type": "code",
      "source": [
        "variable_var = tf.Variable([10,1])\n",
        "constant_var = tf.constant([10,1])\n",
        "\n"
      ],
      "metadata": {
        "id": "9PbvUvyFKPRh"
      },
      "execution_count": null,
      "outputs": []
    },
    {
      "cell_type": "code",
      "source": [
        "variable_var[0] = 11"
      ],
      "metadata": {
        "colab": {
          "base_uri": "https://localhost:8080/",
          "height": 171
        },
        "id": "XPHKdE0bKPU2",
        "outputId": "673ac8b8-8260-47dd-9ea6-cbb15e857c46"
      },
      "execution_count": null,
      "outputs": [
        {
          "output_type": "error",
          "ename": "TypeError",
          "evalue": "ignored",
          "traceback": [
            "\u001b[0;31m---------------------------------------------------------------------------\u001b[0m",
            "\u001b[0;31mTypeError\u001b[0m                                 Traceback (most recent call last)",
            "\u001b[0;32m<ipython-input-21-5bd51494f547>\u001b[0m in \u001b[0;36m<cell line: 1>\u001b[0;34m()\u001b[0m\n\u001b[0;32m----> 1\u001b[0;31m \u001b[0mvariable_var\u001b[0m\u001b[0;34m[\u001b[0m\u001b[0;36m0\u001b[0m\u001b[0;34m]\u001b[0m \u001b[0;34m=\u001b[0m \u001b[0;36m11\u001b[0m\u001b[0;34m\u001b[0m\u001b[0;34m\u001b[0m\u001b[0m\n\u001b[0m",
            "\u001b[0;31mTypeError\u001b[0m: 'ResourceVariable' object does not support item assignment"
          ]
        }
      ]
    },
    {
      "cell_type": "code",
      "source": [
        "variable_var[0].assign(11)\n",
        "print(variable_var) "
      ],
      "metadata": {
        "colab": {
          "base_uri": "https://localhost:8080/"
        },
        "id": "_f2waNeUKPXj",
        "outputId": "32a80380-8094-4029-8c64-3b8be39fc379"
      },
      "execution_count": null,
      "outputs": [
        {
          "output_type": "stream",
          "name": "stdout",
          "text": [
            "<tf.Variable 'Variable:0' shape=(2,) dtype=int32, numpy=array([11,  1], dtype=int32)>\n"
          ]
        }
      ]
    },
    {
      "cell_type": "code",
      "source": [
        "constant_var[0] = 11"
      ],
      "metadata": {
        "colab": {
          "base_uri": "https://localhost:8080/",
          "height": 189
        },
        "id": "iG869QKjKPab",
        "outputId": "d956f7ca-eb0d-40b3-9ed0-de6d495b64db"
      },
      "execution_count": null,
      "outputs": [
        {
          "output_type": "error",
          "ename": "TypeError",
          "evalue": "ignored",
          "traceback": [
            "\u001b[0;31m---------------------------------------------------------------------------\u001b[0m",
            "\u001b[0;31mTypeError\u001b[0m                                 Traceback (most recent call last)",
            "\u001b[0;32m<ipython-input-23-fe8706f966d7>\u001b[0m in \u001b[0;36m<cell line: 1>\u001b[0;34m()\u001b[0m\n\u001b[0;32m----> 1\u001b[0;31m \u001b[0mconstant_var\u001b[0m\u001b[0;34m[\u001b[0m\u001b[0;36m0\u001b[0m\u001b[0;34m]\u001b[0m \u001b[0;34m=\u001b[0m \u001b[0;36m11\u001b[0m\u001b[0;34m\u001b[0m\u001b[0;34m\u001b[0m\u001b[0m\n\u001b[0m",
            "\u001b[0;31mTypeError\u001b[0m: 'tensorflow.python.framework.ops.EagerTensor' object does not support item assignment"
          ]
        }
      ]
    },
    {
      "cell_type": "markdown",
      "source": [
        "#Creating random Tensors"
      ],
      "metadata": {
        "id": "1W8pU3PSNrxd"
      }
    },
    {
      "cell_type": "code",
      "source": [
        "random_1 = tf.random.Generator.from_seed(42)\n"
      ],
      "metadata": {
        "colab": {
          "base_uri": "https://localhost:8080/"
        },
        "id": "rpdIIZG2JkBD",
        "outputId": "418eaf4f-3aed-4985-f5c4-e4d7bccc4108"
      },
      "execution_count": null,
      "outputs": [
        {
          "output_type": "execute_result",
          "data": {
            "text/plain": [
              "<tensorflow.python.ops.stateful_random_ops.Generator at 0x7f072bcc2b90>"
            ]
          },
          "metadata": {},
          "execution_count": 26
        }
      ]
    },
    {
      "cell_type": "code",
      "source": [
        "random_1.normal(shape=(2,3))"
      ],
      "metadata": {
        "colab": {
          "base_uri": "https://localhost:8080/"
        },
        "id": "og3fQW6LOB96",
        "outputId": "9c197363-0019-4386-e17a-f0ff3323643f"
      },
      "execution_count": null,
      "outputs": [
        {
          "output_type": "execute_result",
          "data": {
            "text/plain": [
              "<tf.Tensor: shape=(2, 3), dtype=float32, numpy=\n",
              "array([[-0.7565803 , -0.06854702,  0.07595026],\n",
              "       [-1.2573844 , -0.23193763, -1.8107855 ]], dtype=float32)>"
            ]
          },
          "metadata": {},
          "execution_count": 27
        }
      ]
    },
    {
      "cell_type": "code",
      "source": [
        "tf.random.normal(shape=(2,2),seed=22)"
      ],
      "metadata": {
        "colab": {
          "base_uri": "https://localhost:8080/"
        },
        "id": "OTO5zp2jPIfg",
        "outputId": "02a97c03-35c2-497e-b60a-75bbe1b21850"
      },
      "execution_count": null,
      "outputs": [
        {
          "output_type": "execute_result",
          "data": {
            "text/plain": [
              "<tf.Tensor: shape=(2, 2), dtype=float32, numpy=\n",
              "array([[-1.1020602 ,  1.135856  ],\n",
              "       [-0.07225064,  0.35086146]], dtype=float32)>"
            ]
          },
          "metadata": {},
          "execution_count": 29
        }
      ]
    },
    {
      "cell_type": "code",
      "source": [
        "tf.random.set_seed(22)\n",
        "tf.random.normal(shape=(2,2),seed=12)"
      ],
      "metadata": {
        "colab": {
          "base_uri": "https://localhost:8080/"
        },
        "id": "tmjCXm1iPIln",
        "outputId": "51b8bc19-286b-4bbd-dab6-2ca2ffe090ce"
      },
      "execution_count": null,
      "outputs": [
        {
          "output_type": "execute_result",
          "data": {
            "text/plain": [
              "<tf.Tensor: shape=(2, 2), dtype=float32, numpy=\n",
              "array([[ 1.3913167 ,  0.27398315],\n",
              "       [-0.46710163, -0.47542152]], dtype=float32)>"
            ]
          },
          "metadata": {},
          "execution_count": 37
        }
      ]
    },
    {
      "cell_type": "code",
      "source": [
        "some_list = [0, 1, 2, 3]\n",
        "\n",
        "# One hot encode them\n",
        "tf.one_hot(some_list, depth=5)\n",
        "     "
      ],
      "metadata": {
        "colab": {
          "base_uri": "https://localhost:8080/"
        },
        "id": "iVENCB2FUE16",
        "outputId": "f061f88f-65cf-47e8-dfd8-680f5d21aedc"
      },
      "execution_count": null,
      "outputs": [
        {
          "output_type": "execute_result",
          "data": {
            "text/plain": [
              "<tf.Tensor: shape=(4, 5), dtype=float32, numpy=\n",
              "array([[1., 0., 0., 0., 0.],\n",
              "       [0., 1., 0., 0., 0.],\n",
              "       [0., 0., 1., 0., 0.],\n",
              "       [0., 0., 0., 1., 0.]], dtype=float32)>"
            ]
          },
          "metadata": {},
          "execution_count": 40
        }
      ]
    },
    {
      "cell_type": "code",
      "source": [
        "import numpy as np\n",
        "a = tf.constant(np.random.randint(low=0,high = 100,size=50))\n",
        "a.shape\n",
        "a.ndim\n",
        "tf.size(a)"
      ],
      "metadata": {
        "colab": {
          "base_uri": "https://localhost:8080/"
        },
        "id": "3iy9rr5SUI6l",
        "outputId": "c7ad4be5-b27c-453f-fb16-f9f72357903a"
      },
      "execution_count": null,
      "outputs": [
        {
          "output_type": "execute_result",
          "data": {
            "text/plain": [
              "<tf.Tensor: shape=(), dtype=int32, numpy=50>"
            ]
          },
          "metadata": {},
          "execution_count": 47
        }
      ]
    },
    {
      "cell_type": "code",
      "source": [
        "tf.reshape(a,shape=(5,10))"
      ],
      "metadata": {
        "colab": {
          "base_uri": "https://localhost:8080/"
        },
        "id": "up773BVdUE5X",
        "outputId": "c6a523b9-8704-4c2b-add8-8ef0599d0a8d"
      },
      "execution_count": null,
      "outputs": [
        {
          "output_type": "execute_result",
          "data": {
            "text/plain": [
              "<tf.Tensor: shape=(5, 10), dtype=int64, numpy=\n",
              "array([[83, 98, 14, 45, 90, 76, 33, 47, 18, 84],\n",
              "       [69, 12, 45, 11, 59, 35, 65, 73,  6, 94],\n",
              "       [51, 67, 85, 42, 84, 70, 39, 90, 58,  3],\n",
              "       [81, 31, 54,  7, 36, 12, 43, 93,  3,  1],\n",
              "       [93, 52, 41,  8, 91, 49, 10, 64, 91, 41]])>"
            ]
          },
          "metadata": {},
          "execution_count": 58
        }
      ]
    },
    {
      "cell_type": "code",
      "source": [
        "print(tf.reduce_min(a))\n",
        "print(tf.reduce_max(a))\n",
        "print(tf.reduce_mean(a))\n",
        "print(tf.reduce_sum(a))"
      ],
      "metadata": {
        "colab": {
          "base_uri": "https://localhost:8080/"
        },
        "id": "uhmR34XUUE8f",
        "outputId": "50f263ae-b4d1-47b7-ac61-c72bb11ddb3e"
      },
      "execution_count": null,
      "outputs": [
        {
          "output_type": "stream",
          "name": "stdout",
          "text": [
            "tf.Tensor(1, shape=(), dtype=int64)\n",
            "tf.Tensor(98, shape=(), dtype=int64)\n",
            "tf.Tensor(50, shape=(), dtype=int64)\n",
            "tf.Tensor(2547, shape=(), dtype=int64)\n"
          ]
        }
      ]
    },
    {
      "cell_type": "code",
      "source": [
        "tf.cast(a,dtype=float)"
      ],
      "metadata": {
        "colab": {
          "base_uri": "https://localhost:8080/"
        },
        "id": "CvyczpsxVTpC",
        "outputId": "34311dae-565e-4ff3-b412-8dc8bb876d35"
      },
      "execution_count": null,
      "outputs": [
        {
          "output_type": "execute_result",
          "data": {
            "text/plain": [
              "<tf.Tensor: shape=(50,), dtype=float32, numpy=\n",
              "array([83., 98., 14., 45., 90., 76., 33., 47., 18., 84., 69., 12., 45.,\n",
              "       11., 59., 35., 65., 73.,  6., 94., 51., 67., 85., 42., 84., 70.,\n",
              "       39., 90., 58.,  3., 81., 31., 54.,  7., 36., 12., 43., 93.,  3.,\n",
              "        1., 93., 52., 41.,  8., 91., 49., 10., 64., 91., 41.],\n",
              "      dtype=float32)>"
            ]
          },
          "metadata": {},
          "execution_count": 62
        }
      ]
    },
    {
      "cell_type": "markdown",
      "source": [
        "#tf(array) convert ndarray to tensorflow\n",
        "#tensor.numpy()  convert tensor to numpy"
      ],
      "metadata": {
        "id": "pOT3aYLiVgRD"
      }
    },
    {
      "cell_type": "markdown",
      "source": [
        "#Finding access to GPU's"
      ],
      "metadata": {
        "id": "T5RE5dmtWqb0"
      }
    },
    {
      "cell_type": "code",
      "source": [
        "import tensorflow as tf\n",
        "tf.config.list_physical_devices('GPU')"
      ],
      "metadata": {
        "colab": {
          "base_uri": "https://localhost:8080/"
        },
        "id": "fINc-3MmVdtx",
        "outputId": "adf256d5-d445-4d7a-84d6-169b116b78d8"
      },
      "execution_count": null,
      "outputs": [
        {
          "output_type": "execute_result",
          "data": {
            "text/plain": [
              "[PhysicalDevice(name='/physical_device:GPU:0', device_type='GPU')]"
            ]
          },
          "metadata": {},
          "execution_count": 2
        }
      ]
    },
    {
      "cell_type": "code",
      "source": [
        "!nvidia-smi"
      ],
      "metadata": {
        "colab": {
          "base_uri": "https://localhost:8080/"
        },
        "id": "TpNOrPwdW94N",
        "outputId": "b99aed22-c1a9-446c-e0b5-3855590eecbb"
      },
      "execution_count": null,
      "outputs": [
        {
          "output_type": "stream",
          "name": "stdout",
          "text": [
            "Thu May  4 20:03:11 2023       \n",
            "+-----------------------------------------------------------------------------+\n",
            "| NVIDIA-SMI 525.85.12    Driver Version: 525.85.12    CUDA Version: 12.0     |\n",
            "|-------------------------------+----------------------+----------------------+\n",
            "| GPU  Name        Persistence-M| Bus-Id        Disp.A | Volatile Uncorr. ECC |\n",
            "| Fan  Temp  Perf  Pwr:Usage/Cap|         Memory-Usage | GPU-Util  Compute M. |\n",
            "|                               |                      |               MIG M. |\n",
            "|===============================+======================+======================|\n",
            "|   0  Tesla T4            Off  | 00000000:00:04.0 Off |                    0 |\n",
            "| N/A   39C    P8     9W /  70W |      3MiB / 15360MiB |      0%      Default |\n",
            "|                               |                      |                  N/A |\n",
            "+-------------------------------+----------------------+----------------------+\n",
            "                                                                               \n",
            "+-----------------------------------------------------------------------------+\n",
            "| Processes:                                                                  |\n",
            "|  GPU   GI   CI        PID   Type   Process name                  GPU Memory |\n",
            "|        ID   ID                                                   Usage      |\n",
            "|=============================================================================|\n",
            "|  No running processes found                                                 |\n",
            "+-----------------------------------------------------------------------------+\n"
          ]
        }
      ]
    },
    {
      "cell_type": "markdown",
      "source": [
        "#Linear Regression"
      ],
      "metadata": {
        "id": "_x3g_exXW972"
      }
    },
    {
      "cell_type": "code",
      "source": [
        "import tensorflow as tf\n",
        "import numpy as np\n",
        "import pandas as pd\n",
        "import matplotlib.pyplot"
      ],
      "metadata": {
        "id": "ks9KyJLKW-BM"
      },
      "execution_count": null,
      "outputs": []
    },
    {
      "cell_type": "code",
      "source": [
        "x = tf.constant([2,4,6,8,10,10,15],dtype=float)\n",
        "y = tf.constant([10,20,30,40,50,50,44],dtype=float)"
      ],
      "metadata": {
        "id": "PeC3OguOW-G8"
      },
      "execution_count": null,
      "outputs": []
    },
    {
      "cell_type": "code",
      "source": [
        "x.shape,y.shape"
      ],
      "metadata": {
        "colab": {
          "base_uri": "https://localhost:8080/"
        },
        "id": "BszAWwBde1Q2",
        "outputId": "62cfab37-0a5b-4865-809c-756da6f99690"
      },
      "execution_count": null,
      "outputs": [
        {
          "output_type": "execute_result",
          "data": {
            "text/plain": [
              "(TensorShape([7]), TensorShape([7]))"
            ]
          },
          "metadata": {},
          "execution_count": 4
        }
      ]
    },
    {
      "cell_type": "code",
      "source": [
        "\n",
        "model =  Sequential()\n",
        "model.add(Dense(1,input_shape = (7,)))\n",
        "model.compile(loss = mae,optimizer = SGD() , metrics =['mae'])\n",
        "model.fit(x,y,epochs= 5)"
      ],
      "metadata": {
        "colab": {
          "base_uri": "https://localhost:8080/",
          "height": 961
        },
        "id": "4BVrsUWOW-S1",
        "outputId": "64a042d8-5be9-4a6b-eb8d-193aa05f1011"
      },
      "execution_count": null,
      "outputs": [
        {
          "output_type": "stream",
          "name": "stdout",
          "text": [
            "Epoch 1/5\n"
          ]
        },
        {
          "output_type": "error",
          "ename": "ValueError",
          "evalue": "ignored",
          "traceback": [
            "\u001b[0;31m---------------------------------------------------------------------------\u001b[0m",
            "\u001b[0;31mValueError\u001b[0m                                Traceback (most recent call last)",
            "\u001b[0;32m<ipython-input-33-55b4fc843636>\u001b[0m in \u001b[0;36m<cell line: 9>\u001b[0;34m()\u001b[0m\n\u001b[1;32m      7\u001b[0m \u001b[0mmodel\u001b[0m\u001b[0;34m.\u001b[0m\u001b[0madd\u001b[0m\u001b[0;34m(\u001b[0m\u001b[0mDense\u001b[0m\u001b[0;34m(\u001b[0m\u001b[0;36m1\u001b[0m\u001b[0;34m,\u001b[0m\u001b[0minput_shape\u001b[0m \u001b[0;34m=\u001b[0m \u001b[0;34m(\u001b[0m\u001b[0;36m7\u001b[0m\u001b[0;34m,\u001b[0m\u001b[0;34m)\u001b[0m\u001b[0;34m)\u001b[0m\u001b[0;34m)\u001b[0m\u001b[0;34m\u001b[0m\u001b[0;34m\u001b[0m\u001b[0m\n\u001b[1;32m      8\u001b[0m \u001b[0mmodel\u001b[0m\u001b[0;34m.\u001b[0m\u001b[0mcompile\u001b[0m\u001b[0;34m(\u001b[0m\u001b[0mloss\u001b[0m \u001b[0;34m=\u001b[0m \u001b[0mmae\u001b[0m\u001b[0;34m,\u001b[0m\u001b[0moptimizer\u001b[0m \u001b[0;34m=\u001b[0m \u001b[0mSGD\u001b[0m\u001b[0;34m(\u001b[0m\u001b[0;34m)\u001b[0m \u001b[0;34m,\u001b[0m \u001b[0mmetrics\u001b[0m \u001b[0;34m=\u001b[0m\u001b[0;34m[\u001b[0m\u001b[0;34m'mae'\u001b[0m\u001b[0;34m]\u001b[0m\u001b[0;34m)\u001b[0m\u001b[0;34m\u001b[0m\u001b[0;34m\u001b[0m\u001b[0m\n\u001b[0;32m----> 9\u001b[0;31m \u001b[0mmodel\u001b[0m\u001b[0;34m.\u001b[0m\u001b[0mfit\u001b[0m\u001b[0;34m(\u001b[0m\u001b[0mx\u001b[0m\u001b[0;34m,\u001b[0m\u001b[0my\u001b[0m\u001b[0;34m,\u001b[0m\u001b[0mepochs\u001b[0m\u001b[0;34m=\u001b[0m \u001b[0;36m5\u001b[0m\u001b[0;34m)\u001b[0m\u001b[0;34m\u001b[0m\u001b[0;34m\u001b[0m\u001b[0m\n\u001b[0m",
            "\u001b[0;32m/usr/local/lib/python3.10/dist-packages/keras/utils/traceback_utils.py\u001b[0m in \u001b[0;36merror_handler\u001b[0;34m(*args, **kwargs)\u001b[0m\n\u001b[1;32m     68\u001b[0m             \u001b[0;31m# To get the full stack trace, call:\u001b[0m\u001b[0;34m\u001b[0m\u001b[0;34m\u001b[0m\u001b[0m\n\u001b[1;32m     69\u001b[0m             \u001b[0;31m# `tf.debugging.disable_traceback_filtering()`\u001b[0m\u001b[0;34m\u001b[0m\u001b[0;34m\u001b[0m\u001b[0m\n\u001b[0;32m---> 70\u001b[0;31m             \u001b[0;32mraise\u001b[0m \u001b[0me\u001b[0m\u001b[0;34m.\u001b[0m\u001b[0mwith_traceback\u001b[0m\u001b[0;34m(\u001b[0m\u001b[0mfiltered_tb\u001b[0m\u001b[0;34m)\u001b[0m \u001b[0;32mfrom\u001b[0m \u001b[0;32mNone\u001b[0m\u001b[0;34m\u001b[0m\u001b[0;34m\u001b[0m\u001b[0m\n\u001b[0m\u001b[1;32m     71\u001b[0m         \u001b[0;32mfinally\u001b[0m\u001b[0;34m:\u001b[0m\u001b[0;34m\u001b[0m\u001b[0;34m\u001b[0m\u001b[0m\n\u001b[1;32m     72\u001b[0m             \u001b[0;32mdel\u001b[0m \u001b[0mfiltered_tb\u001b[0m\u001b[0;34m\u001b[0m\u001b[0;34m\u001b[0m\u001b[0m\n",
            "\u001b[0;32m/usr/local/lib/python3.10/dist-packages/keras/engine/training.py\u001b[0m in \u001b[0;36mtf__train_function\u001b[0;34m(iterator)\u001b[0m\n\u001b[1;32m     13\u001b[0m                 \u001b[0;32mtry\u001b[0m\u001b[0;34m:\u001b[0m\u001b[0;34m\u001b[0m\u001b[0;34m\u001b[0m\u001b[0m\n\u001b[1;32m     14\u001b[0m                     \u001b[0mdo_return\u001b[0m \u001b[0;34m=\u001b[0m \u001b[0;32mTrue\u001b[0m\u001b[0;34m\u001b[0m\u001b[0;34m\u001b[0m\u001b[0m\n\u001b[0;32m---> 15\u001b[0;31m                     \u001b[0mretval_\u001b[0m \u001b[0;34m=\u001b[0m \u001b[0mag__\u001b[0m\u001b[0;34m.\u001b[0m\u001b[0mconverted_call\u001b[0m\u001b[0;34m(\u001b[0m\u001b[0mag__\u001b[0m\u001b[0;34m.\u001b[0m\u001b[0mld\u001b[0m\u001b[0;34m(\u001b[0m\u001b[0mstep_function\u001b[0m\u001b[0;34m)\u001b[0m\u001b[0;34m,\u001b[0m \u001b[0;34m(\u001b[0m\u001b[0mag__\u001b[0m\u001b[0;34m.\u001b[0m\u001b[0mld\u001b[0m\u001b[0;34m(\u001b[0m\u001b[0mself\u001b[0m\u001b[0;34m)\u001b[0m\u001b[0;34m,\u001b[0m \u001b[0mag__\u001b[0m\u001b[0;34m.\u001b[0m\u001b[0mld\u001b[0m\u001b[0;34m(\u001b[0m\u001b[0miterator\u001b[0m\u001b[0;34m)\u001b[0m\u001b[0;34m)\u001b[0m\u001b[0;34m,\u001b[0m \u001b[0;32mNone\u001b[0m\u001b[0;34m,\u001b[0m \u001b[0mfscope\u001b[0m\u001b[0;34m)\u001b[0m\u001b[0;34m\u001b[0m\u001b[0;34m\u001b[0m\u001b[0m\n\u001b[0m\u001b[1;32m     16\u001b[0m                 \u001b[0;32mexcept\u001b[0m\u001b[0;34m:\u001b[0m\u001b[0;34m\u001b[0m\u001b[0;34m\u001b[0m\u001b[0m\n\u001b[1;32m     17\u001b[0m                     \u001b[0mdo_return\u001b[0m \u001b[0;34m=\u001b[0m \u001b[0;32mFalse\u001b[0m\u001b[0;34m\u001b[0m\u001b[0;34m\u001b[0m\u001b[0m\n",
            "\u001b[0;31mValueError\u001b[0m: in user code:\n\n    File \"/usr/local/lib/python3.10/dist-packages/keras/engine/training.py\", line 1284, in train_function  *\n        return step_function(self, iterator)\n    File \"/usr/local/lib/python3.10/dist-packages/keras/engine/training.py\", line 1268, in step_function  **\n        outputs = model.distribute_strategy.run(run_step, args=(data,))\n    File \"/usr/local/lib/python3.10/dist-packages/keras/engine/training.py\", line 1249, in run_step  **\n        outputs = model.train_step(data)\n    File \"/usr/local/lib/python3.10/dist-packages/keras/engine/training.py\", line 1050, in train_step\n        y_pred = self(x, training=True)\n    File \"/usr/local/lib/python3.10/dist-packages/keras/utils/traceback_utils.py\", line 70, in error_handler\n        raise e.with_traceback(filtered_tb) from None\n    File \"/usr/local/lib/python3.10/dist-packages/keras/engine/input_spec.py\", line 253, in assert_input_compatibility\n        raise ValueError(\n\n    ValueError: Exception encountered when calling layer 'sequential_11' (type Sequential).\n    \n    Input 0 of layer \"dense_11\" is incompatible with the layer: expected min_ndim=2, found ndim=1. Full shape received: (None,)\n    \n    Call arguments received by layer 'sequential_11' (type Sequential):\n      • inputs=tf.Tensor(shape=(None,), dtype=float32)\n      • training=True\n      • mask=None\n"
          ]
        }
      ]
    },
    {
      "cell_type": "code",
      "source": [
        "tf.random.set_seed(42)\n",
        "x_2 = tf.expand_dims(x,1)\n",
        "model =  Sequential()\n",
        "model.add(Dense(1))\n",
        "model.compile(loss = mae,optimizer = SGD() , metrics =['mae'])\n",
        "model.fit(x_2,y,epochs= 5)"
      ],
      "metadata": {
        "colab": {
          "base_uri": "https://localhost:8080/"
        },
        "id": "Itrz5PqoW-ZZ",
        "outputId": "08919442-05d3-4eea-93a9-99979fdb85d9"
      },
      "execution_count": null,
      "outputs": [
        {
          "output_type": "stream",
          "name": "stdout",
          "text": [
            "Epoch 1/5\n",
            "1/1 [==============================] - 0s 361ms/step - loss: 34.9162 - mae: 34.9162\n",
            "Epoch 2/5\n",
            "1/1 [==============================] - 0s 11ms/step - loss: 34.2889 - mae: 34.2889\n",
            "Epoch 3/5\n",
            "1/1 [==============================] - 0s 10ms/step - loss: 33.6616 - mae: 33.6616\n",
            "Epoch 4/5\n",
            "1/1 [==============================] - 0s 10ms/step - loss: 33.0342 - mae: 33.0342\n",
            "Epoch 5/5\n",
            "1/1 [==============================] - 0s 11ms/step - loss: 32.4069 - mae: 32.4069\n"
          ]
        },
        {
          "output_type": "execute_result",
          "data": {
            "text/plain": [
              "<keras.callbacks.History at 0x7f42a41906d0>"
            ]
          },
          "metadata": {},
          "execution_count": 44
        }
      ]
    },
    {
      "cell_type": "code",
      "source": [
        "x_2"
      ],
      "metadata": {
        "colab": {
          "base_uri": "https://localhost:8080/"
        },
        "id": "fu8P6LM7hLKI",
        "outputId": "69dfc26d-8f20-4ee5-98b8-3e081d375707"
      },
      "execution_count": null,
      "outputs": [
        {
          "output_type": "execute_result",
          "data": {
            "text/plain": [
              "<tf.Tensor: shape=(7, 1), dtype=float32, numpy=\n",
              "array([[ 2.],\n",
              "       [ 4.],\n",
              "       [ 6.],\n",
              "       [ 8.],\n",
              "       [10.],\n",
              "       [10.],\n",
              "       [15.]], dtype=float32)>"
            ]
          },
          "metadata": {},
          "execution_count": 26
        }
      ]
    },
    {
      "cell_type": "markdown",
      "source": [
        "#Improve model"
      ],
      "metadata": {
        "id": "JRyrEynaW-cb"
      }
    },
    {
      "cell_type": "code",
      "source": [
        "model2 = Sequential()\n",
        "model2.add(Dense(100,activation = 'relu',input_shape=(7,)))\n",
        "model2.add(Dense(100,activation = 'relu'))\n",
        "model2.add(Dense(1))\n",
        "model2.compile(loss = mae,optimizer = SGD(),metrics = ['mae'])\n",
        "model.fit(x_2,y,epochs=50)"
      ],
      "metadata": {
        "colab": {
          "base_uri": "https://localhost:8080/"
        },
        "id": "mKS2sh12W-e-",
        "outputId": "9ebb5596-0498-49fd-9d8c-e9e321bd27f6"
      },
      "execution_count": null,
      "outputs": [
        {
          "output_type": "stream",
          "name": "stdout",
          "text": [
            "Epoch 1/50\n",
            "1/1 [==============================] - 0s 27ms/step - loss: 31.7795 - mae: 31.7795\n",
            "Epoch 2/50\n",
            "1/1 [==============================] - 0s 24ms/step - loss: 31.1522 - mae: 31.1522\n",
            "Epoch 3/50\n",
            "1/1 [==============================] - 0s 25ms/step - loss: 30.5248 - mae: 30.5248\n",
            "Epoch 4/50\n",
            "1/1 [==============================] - 0s 16ms/step - loss: 29.8975 - mae: 29.8975\n",
            "Epoch 5/50\n",
            "1/1 [==============================] - 0s 22ms/step - loss: 29.2701 - mae: 29.2701\n",
            "Epoch 6/50\n",
            "1/1 [==============================] - 0s 21ms/step - loss: 28.6428 - mae: 28.6428\n",
            "Epoch 7/50\n",
            "1/1 [==============================] - 0s 16ms/step - loss: 28.0154 - mae: 28.0154\n",
            "Epoch 8/50\n",
            "1/1 [==============================] - 0s 22ms/step - loss: 27.3881 - mae: 27.3881\n",
            "Epoch 9/50\n",
            "1/1 [==============================] - 0s 16ms/step - loss: 26.7607 - mae: 26.7607\n",
            "Epoch 10/50\n",
            "1/1 [==============================] - 0s 18ms/step - loss: 26.1334 - mae: 26.1334\n",
            "Epoch 11/50\n",
            "1/1 [==============================] - 0s 19ms/step - loss: 25.5060 - mae: 25.5060\n",
            "Epoch 12/50\n",
            "1/1 [==============================] - 0s 20ms/step - loss: 24.8787 - mae: 24.8787\n",
            "Epoch 13/50\n",
            "1/1 [==============================] - 0s 21ms/step - loss: 24.2513 - mae: 24.2513\n",
            "Epoch 14/50\n",
            "1/1 [==============================] - 0s 28ms/step - loss: 23.6240 - mae: 23.6240\n",
            "Epoch 15/50\n",
            "1/1 [==============================] - 0s 23ms/step - loss: 22.9967 - mae: 22.9967\n",
            "Epoch 16/50\n",
            "1/1 [==============================] - 0s 53ms/step - loss: 22.3693 - mae: 22.3693\n",
            "Epoch 17/50\n",
            "1/1 [==============================] - 0s 25ms/step - loss: 21.7420 - mae: 21.7420\n",
            "Epoch 18/50\n",
            "1/1 [==============================] - 0s 20ms/step - loss: 21.1146 - mae: 21.1146\n",
            "Epoch 19/50\n",
            "1/1 [==============================] - 0s 28ms/step - loss: 20.4873 - mae: 20.4873\n",
            "Epoch 20/50\n",
            "1/1 [==============================] - 0s 25ms/step - loss: 19.8599 - mae: 19.8599\n",
            "Epoch 21/50\n",
            "1/1 [==============================] - 0s 28ms/step - loss: 19.2326 - mae: 19.2326\n",
            "Epoch 22/50\n",
            "1/1 [==============================] - 0s 14ms/step - loss: 18.6052 - mae: 18.6052\n",
            "Epoch 23/50\n",
            "1/1 [==============================] - 0s 16ms/step - loss: 17.9779 - mae: 17.9779\n",
            "Epoch 24/50\n",
            "1/1 [==============================] - 0s 19ms/step - loss: 17.3505 - mae: 17.3505\n",
            "Epoch 25/50\n",
            "1/1 [==============================] - 0s 30ms/step - loss: 16.7232 - mae: 16.7232\n",
            "Epoch 26/50\n",
            "1/1 [==============================] - 0s 17ms/step - loss: 16.0958 - mae: 16.0958\n",
            "Epoch 27/50\n",
            "1/1 [==============================] - 0s 18ms/step - loss: 15.4685 - mae: 15.4685\n",
            "Epoch 28/50\n",
            "1/1 [==============================] - 0s 18ms/step - loss: 14.8411 - mae: 14.8411\n",
            "Epoch 29/50\n",
            "1/1 [==============================] - 0s 28ms/step - loss: 14.2138 - mae: 14.2138\n",
            "Epoch 30/50\n",
            "1/1 [==============================] - 0s 39ms/step - loss: 13.5865 - mae: 13.5865\n",
            "Epoch 31/50\n",
            "1/1 [==============================] - 0s 23ms/step - loss: 12.9591 - mae: 12.9591\n",
            "Epoch 32/50\n",
            "1/1 [==============================] - 0s 23ms/step - loss: 12.3318 - mae: 12.3318\n",
            "Epoch 33/50\n",
            "1/1 [==============================] - 0s 20ms/step - loss: 11.7044 - mae: 11.7044\n",
            "Epoch 34/50\n",
            "1/1 [==============================] - 0s 25ms/step - loss: 11.3779 - mae: 11.3779\n",
            "Epoch 35/50\n",
            "1/1 [==============================] - 0s 35ms/step - loss: 11.2452 - mae: 11.2452\n",
            "Epoch 36/50\n",
            "1/1 [==============================] - 0s 25ms/step - loss: 11.1126 - mae: 11.1126\n",
            "Epoch 37/50\n",
            "1/1 [==============================] - 0s 16ms/step - loss: 10.9799 - mae: 10.9799\n",
            "Epoch 38/50\n",
            "1/1 [==============================] - 0s 25ms/step - loss: 10.8473 - mae: 10.8473\n",
            "Epoch 39/50\n",
            "1/1 [==============================] - 0s 19ms/step - loss: 10.7146 - mae: 10.7146\n",
            "Epoch 40/50\n",
            "1/1 [==============================] - 0s 20ms/step - loss: 10.5820 - mae: 10.5820\n",
            "Epoch 41/50\n",
            "1/1 [==============================] - 0s 28ms/step - loss: 10.4493 - mae: 10.4493\n",
            "Epoch 42/50\n",
            "1/1 [==============================] - 0s 28ms/step - loss: 10.3167 - mae: 10.3167\n",
            "Epoch 43/50\n",
            "1/1 [==============================] - 0s 30ms/step - loss: 10.1840 - mae: 10.1840\n",
            "Epoch 44/50\n",
            "1/1 [==============================] - 0s 26ms/step - loss: 10.0514 - mae: 10.0514\n",
            "Epoch 45/50\n",
            "1/1 [==============================] - 0s 21ms/step - loss: 9.9187 - mae: 9.9187\n",
            "Epoch 46/50\n",
            "1/1 [==============================] - 0s 26ms/step - loss: 9.7860 - mae: 9.7860\n",
            "Epoch 47/50\n",
            "1/1 [==============================] - 0s 20ms/step - loss: 9.6534 - mae: 9.6534\n",
            "Epoch 48/50\n",
            "1/1 [==============================] - 0s 17ms/step - loss: 9.5207 - mae: 9.5207\n",
            "Epoch 49/50\n",
            "1/1 [==============================] - 0s 42ms/step - loss: 9.3881 - mae: 9.3881\n",
            "Epoch 50/50\n",
            "1/1 [==============================] - 0s 22ms/step - loss: 9.2554 - mae: 9.2554\n"
          ]
        },
        {
          "output_type": "execute_result",
          "data": {
            "text/plain": [
              "<keras.callbacks.History at 0x7f42a41efdc0>"
            ]
          },
          "metadata": {},
          "execution_count": 45
        }
      ]
    },
    {
      "cell_type": "code",
      "source": [
        "X = tf.constant(np.random.randint(low=10,high=100,size=100),dtype=float)\n",
        "y =tf.constant(np.random.randint(low=1,high=10,size=100))\n",
        "print(X,y) "
      ],
      "metadata": {
        "colab": {
          "base_uri": "https://localhost:8080/"
        },
        "id": "5wxYXQcNii7G",
        "outputId": "50d5d3c1-e994-4cd3-b994-ba4cb4710878"
      },
      "execution_count": null,
      "outputs": [
        {
          "output_type": "stream",
          "name": "stdout",
          "text": [
            "tf.Tensor(\n",
            "[98. 36. 31. 32. 65. 46. 63. 69. 69. 70. 47. 89. 26. 11. 58. 40. 79. 82.\n",
            " 86. 51. 12. 15. 45. 53. 99. 81. 97. 54. 18. 13. 77. 47. 65. 39. 17. 45.\n",
            " 74. 15. 76. 90. 21. 55. 49. 85. 61. 37. 37. 80. 49. 90. 85. 40. 66. 93.\n",
            " 21. 73. 94. 69. 91. 81. 21. 36. 16. 95. 52. 65. 20. 74. 60. 57. 82. 94.\n",
            " 16. 25. 34. 76. 30. 19. 18. 51. 42. 80. 17. 80. 50. 37. 44. 89. 92. 58.\n",
            " 56. 45. 26. 60. 58. 52. 99. 14. 74. 99.], shape=(100,), dtype=float32) tf.Tensor(\n",
            "[6 1 3 7 5 9 5 3 2 7 9 6 4 3 9 6 6 9 6 7 4 6 2 1 6 6 8 9 3 6 6 3 8 5 6 8 4\n",
            " 3 8 5 1 5 8 5 6 5 7 7 7 3 9 5 2 5 2 5 7 8 7 8 5 7 3 7 7 1 2 9 5 6 1 2 6 3\n",
            " 1 3 5 2 4 2 5 8 8 1 1 3 7 6 4 1 4 1 2 5 2 9 5 9 2 6], shape=(100,), dtype=int64)\n"
          ]
        }
      ]
    },
    {
      "cell_type": "code",
      "source": [
        "x_train = X[:40]\n",
        "x_val = X[40:80]\n",
        "x_test = X[80:]\n",
        "y_train = y[:40]\n",
        "y_val = y[40:80]\n",
        "y_test=  y[80:]"
      ],
      "metadata": {
        "id": "d3YCQs2of89e"
      },
      "execution_count": null,
      "outputs": []
    },
    {
      "cell_type": "code",
      "source": [
        "model = Sequential()\n",
        "model.add(Dense(100,name='dense1'))\n",
        "model.add(Dense(20,name='dense2'))\n",
        "model.add(Dense(1))\n",
        "model.compile(loss=mae ,optimizer =SGD(),metrics = ['mae'] )\n",
        "history = model.fit(tf.expand_dims(x_train,-1),y_train,epochs= 100,\n",
        "                    validation_data = [tf.expand_dims(x_val,-1),y_val])"
      ],
      "metadata": {
        "colab": {
          "base_uri": "https://localhost:8080/"
        },
        "id": "zDmpS8A-gQD2",
        "outputId": "2705756a-fd89-4309-945b-3e1ef25e111b"
      },
      "execution_count": null,
      "outputs": [
        {
          "output_type": "stream",
          "name": "stdout",
          "text": [
            "Epoch 1/100\n",
            "2/2 [==============================] - 1s 196ms/step - loss: 37.4557 - mae: 37.4557 - val_loss: 3.9719 - val_mae: 3.9719\n",
            "Epoch 2/100\n",
            "2/2 [==============================] - 0s 36ms/step - loss: 4.3491 - mae: 4.3491 - val_loss: 2.2283 - val_mae: 2.2283\n",
            "Epoch 3/100\n",
            "2/2 [==============================] - 0s 33ms/step - loss: 2.3550 - mae: 2.3550 - val_loss: 2.2991 - val_mae: 2.2991\n",
            "Epoch 4/100\n",
            "2/2 [==============================] - 0s 35ms/step - loss: 2.4182 - mae: 2.4182 - val_loss: 2.6079 - val_mae: 2.6079\n",
            "Epoch 5/100\n",
            "2/2 [==============================] - 0s 39ms/step - loss: 3.0487 - mae: 3.0487 - val_loss: 4.2359 - val_mae: 4.2359\n",
            "Epoch 6/100\n",
            "2/2 [==============================] - 0s 49ms/step - loss: 4.6913 - mae: 4.6913 - val_loss: 2.3100 - val_mae: 2.3100\n",
            "Epoch 7/100\n",
            "2/2 [==============================] - 0s 33ms/step - loss: 2.3823 - mae: 2.3823 - val_loss: 3.7855 - val_mae: 3.7855\n",
            "Epoch 8/100\n",
            "2/2 [==============================] - 0s 79ms/step - loss: 3.9409 - mae: 3.9409 - val_loss: 4.6111 - val_mae: 4.6111\n",
            "Epoch 9/100\n",
            "2/2 [==============================] - 0s 68ms/step - loss: 4.5812 - mae: 4.5812 - val_loss: 2.5965 - val_mae: 2.5965\n",
            "Epoch 10/100\n",
            "2/2 [==============================] - 0s 63ms/step - loss: 2.9250 - mae: 2.9250 - val_loss: 2.8849 - val_mae: 2.8849\n",
            "Epoch 11/100\n",
            "2/2 [==============================] - 0s 47ms/step - loss: 3.6346 - mae: 3.6346 - val_loss: 3.8885 - val_mae: 3.8885\n",
            "Epoch 12/100\n",
            "2/2 [==============================] - 0s 68ms/step - loss: 4.2549 - mae: 4.2549 - val_loss: 3.2937 - val_mae: 3.2937\n",
            "Epoch 13/100\n",
            "2/2 [==============================] - 0s 70ms/step - loss: 2.7630 - mae: 2.7630 - val_loss: 2.4267 - val_mae: 2.4267\n",
            "Epoch 14/100\n",
            "2/2 [==============================] - 0s 52ms/step - loss: 2.4241 - mae: 2.4241 - val_loss: 2.2530 - val_mae: 2.2530\n",
            "Epoch 15/100\n",
            "2/2 [==============================] - 0s 67ms/step - loss: 2.4095 - mae: 2.4095 - val_loss: 2.4671 - val_mae: 2.4671\n",
            "Epoch 16/100\n",
            "2/2 [==============================] - 0s 62ms/step - loss: 3.0176 - mae: 3.0176 - val_loss: 3.6247 - val_mae: 3.6247\n",
            "Epoch 17/100\n",
            "2/2 [==============================] - 0s 45ms/step - loss: 3.8478 - mae: 3.8478 - val_loss: 3.1734 - val_mae: 3.1734\n",
            "Epoch 18/100\n",
            "2/2 [==============================] - 0s 62ms/step - loss: 3.2796 - mae: 3.2796 - val_loss: 3.8090 - val_mae: 3.8090\n",
            "Epoch 19/100\n",
            "2/2 [==============================] - 0s 44ms/step - loss: 3.2996 - mae: 3.2996 - val_loss: 2.2778 - val_mae: 2.2778\n",
            "Epoch 20/100\n",
            "2/2 [==============================] - 0s 60ms/step - loss: 2.4157 - mae: 2.4157 - val_loss: 2.2881 - val_mae: 2.2881\n",
            "Epoch 21/100\n",
            "2/2 [==============================] - 0s 65ms/step - loss: 2.6136 - mae: 2.6136 - val_loss: 3.4006 - val_mae: 3.4006\n",
            "Epoch 22/100\n",
            "2/2 [==============================] - 0s 70ms/step - loss: 3.5480 - mae: 3.5480 - val_loss: 2.2960 - val_mae: 2.2960\n",
            "Epoch 23/100\n",
            "2/2 [==============================] - 0s 70ms/step - loss: 2.6772 - mae: 2.6772 - val_loss: 4.0531 - val_mae: 4.0531\n",
            "Epoch 24/100\n",
            "2/2 [==============================] - 0s 62ms/step - loss: 4.2118 - mae: 4.2118 - val_loss: 2.2643 - val_mae: 2.2643\n",
            "Epoch 25/100\n",
            "2/2 [==============================] - 0s 45ms/step - loss: 2.6082 - mae: 2.6082 - val_loss: 2.5442 - val_mae: 2.5442\n",
            "Epoch 26/100\n",
            "2/2 [==============================] - 0s 61ms/step - loss: 2.9389 - mae: 2.9389 - val_loss: 2.8119 - val_mae: 2.8119\n",
            "Epoch 27/100\n",
            "2/2 [==============================] - 0s 66ms/step - loss: 2.4540 - mae: 2.4540 - val_loss: 3.5562 - val_mae: 3.5562\n",
            "Epoch 28/100\n",
            "2/2 [==============================] - 0s 67ms/step - loss: 3.8204 - mae: 3.8204 - val_loss: 4.1603 - val_mae: 4.1603\n",
            "Epoch 29/100\n",
            "2/2 [==============================] - 0s 47ms/step - loss: 3.8264 - mae: 3.8264 - val_loss: 3.5471 - val_mae: 3.5471\n",
            "Epoch 30/100\n",
            "2/2 [==============================] - 0s 52ms/step - loss: 3.2143 - mae: 3.2143 - val_loss: 2.6277 - val_mae: 2.6277\n",
            "Epoch 31/100\n",
            "2/2 [==============================] - 0s 46ms/step - loss: 2.5760 - mae: 2.5760 - val_loss: 2.2969 - val_mae: 2.2969\n",
            "Epoch 32/100\n",
            "2/2 [==============================] - 0s 66ms/step - loss: 2.4761 - mae: 2.4761 - val_loss: 2.5861 - val_mae: 2.5861\n",
            "Epoch 33/100\n",
            "2/2 [==============================] - 0s 63ms/step - loss: 2.3697 - mae: 2.3697 - val_loss: 3.0490 - val_mae: 3.0490\n",
            "Epoch 34/100\n",
            "2/2 [==============================] - 0s 72ms/step - loss: 3.3461 - mae: 3.3461 - val_loss: 2.1695 - val_mae: 2.1695\n",
            "Epoch 35/100\n",
            "2/2 [==============================] - 0s 66ms/step - loss: 2.3438 - mae: 2.3438 - val_loss: 2.1980 - val_mae: 2.1980\n",
            "Epoch 36/100\n",
            "2/2 [==============================] - 0s 61ms/step - loss: 2.2903 - mae: 2.2903 - val_loss: 2.5055 - val_mae: 2.5055\n",
            "Epoch 37/100\n",
            "2/2 [==============================] - 0s 50ms/step - loss: 2.8445 - mae: 2.8445 - val_loss: 2.8272 - val_mae: 2.8272\n",
            "Epoch 38/100\n",
            "2/2 [==============================] - 0s 76ms/step - loss: 2.7385 - mae: 2.7385 - val_loss: 2.6786 - val_mae: 2.6786\n",
            "Epoch 39/100\n",
            "2/2 [==============================] - 0s 49ms/step - loss: 3.1238 - mae: 3.1238 - val_loss: 3.3879 - val_mae: 3.3879\n",
            "Epoch 40/100\n",
            "2/2 [==============================] - 0s 60ms/step - loss: 3.2965 - mae: 3.2965 - val_loss: 2.8268 - val_mae: 2.8268\n",
            "Epoch 41/100\n",
            "2/2 [==============================] - 0s 75ms/step - loss: 2.7888 - mae: 2.7888 - val_loss: 2.7179 - val_mae: 2.7179\n",
            "Epoch 42/100\n",
            "2/2 [==============================] - 0s 68ms/step - loss: 3.2583 - mae: 3.2583 - val_loss: 3.0300 - val_mae: 3.0300\n",
            "Epoch 43/100\n",
            "2/2 [==============================] - 0s 78ms/step - loss: 3.3575 - mae: 3.3575 - val_loss: 2.1544 - val_mae: 2.1544\n",
            "Epoch 44/100\n",
            "2/2 [==============================] - 0s 67ms/step - loss: 2.4126 - mae: 2.4126 - val_loss: 2.2201 - val_mae: 2.2201\n",
            "Epoch 45/100\n",
            "2/2 [==============================] - 0s 56ms/step - loss: 2.5104 - mae: 2.5104 - val_loss: 2.1504 - val_mae: 2.1504\n",
            "Epoch 46/100\n",
            "2/2 [==============================] - 0s 51ms/step - loss: 2.5042 - mae: 2.5042 - val_loss: 3.1491 - val_mae: 3.1491\n",
            "Epoch 47/100\n",
            "2/2 [==============================] - 0s 40ms/step - loss: 3.0849 - mae: 3.0849 - val_loss: 2.8471 - val_mae: 2.8471\n",
            "Epoch 48/100\n",
            "2/2 [==============================] - 0s 54ms/step - loss: 2.7391 - mae: 2.7391 - val_loss: 2.4967 - val_mae: 2.4967\n",
            "Epoch 49/100\n",
            "2/2 [==============================] - 0s 34ms/step - loss: 2.4826 - mae: 2.4826 - val_loss: 3.1421 - val_mae: 3.1421\n",
            "Epoch 50/100\n",
            "2/2 [==============================] - 0s 34ms/step - loss: 2.6387 - mae: 2.6387 - val_loss: 2.2324 - val_mae: 2.2324\n",
            "Epoch 51/100\n",
            "2/2 [==============================] - 0s 51ms/step - loss: 2.3012 - mae: 2.3012 - val_loss: 2.3310 - val_mae: 2.3310\n",
            "Epoch 52/100\n",
            "2/2 [==============================] - 0s 58ms/step - loss: 2.5685 - mae: 2.5685 - val_loss: 2.2200 - val_mae: 2.2200\n",
            "Epoch 53/100\n",
            "2/2 [==============================] - 0s 53ms/step - loss: 2.2770 - mae: 2.2770 - val_loss: 2.5450 - val_mae: 2.5450\n",
            "Epoch 54/100\n",
            "2/2 [==============================] - 0s 35ms/step - loss: 2.5465 - mae: 2.5465 - val_loss: 2.2149 - val_mae: 2.2149\n",
            "Epoch 55/100\n",
            "2/2 [==============================] - 0s 53ms/step - loss: 2.3059 - mae: 2.3059 - val_loss: 2.1519 - val_mae: 2.1519\n",
            "Epoch 56/100\n",
            "2/2 [==============================] - 0s 38ms/step - loss: 2.4583 - mae: 2.4583 - val_loss: 2.3256 - val_mae: 2.3256\n",
            "Epoch 57/100\n",
            "2/2 [==============================] - 0s 34ms/step - loss: 2.3688 - mae: 2.3688 - val_loss: 2.8810 - val_mae: 2.8810\n",
            "Epoch 58/100\n",
            "2/2 [==============================] - 0s 50ms/step - loss: 3.1577 - mae: 3.1577 - val_loss: 2.1654 - val_mae: 2.1654\n",
            "Epoch 59/100\n",
            "2/2 [==============================] - 0s 50ms/step - loss: 2.4234 - mae: 2.4234 - val_loss: 2.1293 - val_mae: 2.1293\n",
            "Epoch 60/100\n",
            "2/2 [==============================] - 0s 36ms/step - loss: 2.2691 - mae: 2.2691 - val_loss: 2.1958 - val_mae: 2.1958\n",
            "Epoch 61/100\n",
            "2/2 [==============================] - 0s 38ms/step - loss: 2.3633 - mae: 2.3633 - val_loss: 2.5949 - val_mae: 2.5949\n",
            "Epoch 62/100\n",
            "2/2 [==============================] - 0s 35ms/step - loss: 2.6818 - mae: 2.6818 - val_loss: 2.1821 - val_mae: 2.1821\n",
            "Epoch 63/100\n",
            "2/2 [==============================] - 0s 51ms/step - loss: 2.3037 - mae: 2.3037 - val_loss: 2.6286 - val_mae: 2.6286\n",
            "Epoch 64/100\n",
            "2/2 [==============================] - 0s 55ms/step - loss: 2.8458 - mae: 2.8458 - val_loss: 2.2568 - val_mae: 2.2568\n",
            "Epoch 65/100\n",
            "2/2 [==============================] - 0s 53ms/step - loss: 2.6482 - mae: 2.6482 - val_loss: 2.8674 - val_mae: 2.8674\n",
            "Epoch 66/100\n",
            "2/2 [==============================] - 0s 50ms/step - loss: 2.5632 - mae: 2.5632 - val_loss: 3.2946 - val_mae: 3.2946\n",
            "Epoch 67/100\n",
            "2/2 [==============================] - 0s 35ms/step - loss: 3.7412 - mae: 3.7412 - val_loss: 2.1794 - val_mae: 2.1794\n",
            "Epoch 68/100\n",
            "2/2 [==============================] - 0s 35ms/step - loss: 2.2699 - mae: 2.2699 - val_loss: 2.1799 - val_mae: 2.1799\n",
            "Epoch 69/100\n",
            "2/2 [==============================] - 0s 52ms/step - loss: 2.4192 - mae: 2.4192 - val_loss: 2.3009 - val_mae: 2.3009\n",
            "Epoch 70/100\n",
            "2/2 [==============================] - 0s 68ms/step - loss: 2.4023 - mae: 2.4023 - val_loss: 2.1317 - val_mae: 2.1317\n",
            "Epoch 71/100\n",
            "2/2 [==============================] - 0s 34ms/step - loss: 2.3379 - mae: 2.3379 - val_loss: 3.4723 - val_mae: 3.4723\n",
            "Epoch 72/100\n",
            "2/2 [==============================] - 0s 50ms/step - loss: 3.0050 - mae: 3.0050 - val_loss: 2.1941 - val_mae: 2.1941\n",
            "Epoch 73/100\n",
            "2/2 [==============================] - 0s 49ms/step - loss: 2.2271 - mae: 2.2271 - val_loss: 3.1497 - val_mae: 3.1497\n",
            "Epoch 74/100\n",
            "2/2 [==============================] - 0s 42ms/step - loss: 3.3001 - mae: 3.3001 - val_loss: 2.1222 - val_mae: 2.1222\n",
            "Epoch 75/100\n",
            "2/2 [==============================] - 0s 38ms/step - loss: 2.2490 - mae: 2.2490 - val_loss: 2.1751 - val_mae: 2.1751\n",
            "Epoch 76/100\n",
            "2/2 [==============================] - 0s 38ms/step - loss: 2.3291 - mae: 2.3291 - val_loss: 2.1046 - val_mae: 2.1046\n",
            "Epoch 77/100\n",
            "2/2 [==============================] - 0s 50ms/step - loss: 2.2668 - mae: 2.2668 - val_loss: 2.4317 - val_mae: 2.4317\n",
            "Epoch 78/100\n",
            "2/2 [==============================] - 0s 50ms/step - loss: 2.4239 - mae: 2.4239 - val_loss: 2.1112 - val_mae: 2.1112\n",
            "Epoch 79/100\n",
            "2/2 [==============================] - 0s 32ms/step - loss: 2.2672 - mae: 2.2672 - val_loss: 2.1838 - val_mae: 2.1838\n",
            "Epoch 80/100\n",
            "2/2 [==============================] - 0s 40ms/step - loss: 2.2784 - mae: 2.2784 - val_loss: 2.2328 - val_mae: 2.2328\n",
            "Epoch 81/100\n",
            "2/2 [==============================] - 0s 49ms/step - loss: 2.4129 - mae: 2.4129 - val_loss: 2.2278 - val_mae: 2.2278\n",
            "Epoch 82/100\n",
            "2/2 [==============================] - 0s 33ms/step - loss: 2.3758 - mae: 2.3758 - val_loss: 2.6336 - val_mae: 2.6336\n",
            "Epoch 83/100\n",
            "2/2 [==============================] - 0s 34ms/step - loss: 2.5612 - mae: 2.5612 - val_loss: 2.1030 - val_mae: 2.1030\n",
            "Epoch 84/100\n",
            "2/2 [==============================] - 0s 51ms/step - loss: 2.3200 - mae: 2.3200 - val_loss: 2.4398 - val_mae: 2.4398\n",
            "Epoch 85/100\n",
            "2/2 [==============================] - 0s 61ms/step - loss: 2.4395 - mae: 2.4395 - val_loss: 2.6985 - val_mae: 2.6985\n",
            "Epoch 86/100\n",
            "2/2 [==============================] - 0s 50ms/step - loss: 2.6623 - mae: 2.6623 - val_loss: 2.1218 - val_mae: 2.1218\n",
            "Epoch 87/100\n",
            "2/2 [==============================] - 0s 50ms/step - loss: 2.4013 - mae: 2.4013 - val_loss: 2.7503 - val_mae: 2.7503\n",
            "Epoch 88/100\n",
            "2/2 [==============================] - 0s 59ms/step - loss: 2.8711 - mae: 2.8711 - val_loss: 2.0915 - val_mae: 2.0915\n",
            "Epoch 89/100\n",
            "2/2 [==============================] - 0s 37ms/step - loss: 2.2548 - mae: 2.2548 - val_loss: 3.1122 - val_mae: 3.1122\n",
            "Epoch 90/100\n",
            "2/2 [==============================] - 0s 51ms/step - loss: 2.8669 - mae: 2.8669 - val_loss: 2.3448 - val_mae: 2.3448\n",
            "Epoch 91/100\n",
            "2/2 [==============================] - 0s 35ms/step - loss: 2.4391 - mae: 2.4391 - val_loss: 2.1941 - val_mae: 2.1941\n",
            "Epoch 92/100\n",
            "2/2 [==============================] - 0s 50ms/step - loss: 2.2949 - mae: 2.2949 - val_loss: 2.1216 - val_mae: 2.1216\n",
            "Epoch 93/100\n",
            "2/2 [==============================] - 0s 35ms/step - loss: 2.3843 - mae: 2.3843 - val_loss: 3.6371 - val_mae: 3.6371\n",
            "Epoch 94/100\n",
            "2/2 [==============================] - 0s 50ms/step - loss: 3.3251 - mae: 3.3251 - val_loss: 2.0907 - val_mae: 2.0907\n",
            "Epoch 95/100\n",
            "2/2 [==============================] - 0s 34ms/step - loss: 2.2252 - mae: 2.2252 - val_loss: 2.0823 - val_mae: 2.0823\n",
            "Epoch 96/100\n",
            "2/2 [==============================] - 0s 52ms/step - loss: 2.2331 - mae: 2.2331 - val_loss: 2.2977 - val_mae: 2.2977\n",
            "Epoch 97/100\n",
            "2/2 [==============================] - 0s 51ms/step - loss: 2.3840 - mae: 2.3840 - val_loss: 2.3746 - val_mae: 2.3746\n",
            "Epoch 98/100\n",
            "2/2 [==============================] - 0s 53ms/step - loss: 2.5793 - mae: 2.5793 - val_loss: 2.2175 - val_mae: 2.2175\n",
            "Epoch 99/100\n",
            "2/2 [==============================] - 0s 51ms/step - loss: 2.3733 - mae: 2.3733 - val_loss: 2.1593 - val_mae: 2.1593\n",
            "Epoch 100/100\n",
            "2/2 [==============================] - 0s 51ms/step - loss: 2.2699 - mae: 2.2699 - val_loss: 2.0927 - val_mae: 2.0927\n"
          ]
        }
      ]
    },
    {
      "cell_type": "code",
      "source": [
        "pred = model.predict(tf.expand_dims(x_test,-1))"
      ],
      "metadata": {
        "colab": {
          "base_uri": "https://localhost:8080/"
        },
        "id": "yv14u6BQhw_Y",
        "outputId": "a35b8ac9-fb35-444e-8c39-41a4dbfcc7c6"
      },
      "execution_count": null,
      "outputs": [
        {
          "output_type": "stream",
          "name": "stdout",
          "text": [
            "1/1 [==============================] - 0s 319ms/step\n"
          ]
        }
      ]
    },
    {
      "cell_type": "code",
      "source": [
        "pred = model.predict(tf.expand_dims(x_test,-1))\n",
        "mse_1 = tf.keras.losses.mse(y_test,tf.squeeze(pred)).numpy \n",
        "mae_1 = tf.keras.losses.mae(y_test,tf.squeeze(pred)).numpy \n"
      ],
      "metadata": {
        "id": "yQBmKQgyhxFH"
      },
      "execution_count": null,
      "outputs": []
    },
    {
      "cell_type": "code",
      "source": [
        "mode2 = Sequential()\n",
        "mode2.add(Dense(10,name='dense1'))\n",
        "mode2.add(Dense(20,name='dense2'))\n",
        "mode2.add(Dense(1))\n",
        "mode2.compile(loss=mae ,optimizer =SGD(),metrics = ['mae'] )\n",
        "history = mode2.fit(tf.expand_dims(x_train,-1),y_train,epochs= 50,\n",
        "                    validation_data = [tf.expand_dims(x_val,-1),y_val])\n",
        "pred = mode2.predict(tf.expand_dims(x_test,-1))\n",
        "mse_2 = tf.keras.losses.mse(y_test,tf.squeeze(pred)).numpy \n",
        "mae_2 = tf.keras.losses.mae(y_test,tf.squeeze(pred)).numpy \n"
      ],
      "metadata": {
        "colab": {
          "base_uri": "https://localhost:8080/"
        },
        "id": "-Eu0DowphxNw",
        "outputId": "d4d8bbef-1dc4-46ea-afd6-82c31a54109d"
      },
      "execution_count": null,
      "outputs": [
        {
          "output_type": "stream",
          "name": "stdout",
          "text": [
            "Epoch 1/50\n",
            "2/2 [==============================] - 1s 194ms/step - loss: 41.9615 - mae: 41.9615 - val_loss: 3.5545 - val_mae: 3.5545\n",
            "Epoch 2/50\n",
            "2/2 [==============================] - 0s 53ms/step - loss: 4.5410 - mae: 4.5410 - val_loss: 4.4177 - val_mae: 4.4177\n",
            "Epoch 3/50\n",
            "2/2 [==============================] - 0s 57ms/step - loss: 4.5603 - mae: 4.5603 - val_loss: 2.8105 - val_mae: 2.8105\n",
            "Epoch 4/50\n",
            "2/2 [==============================] - 0s 53ms/step - loss: 3.0757 - mae: 3.0757 - val_loss: 2.2232 - val_mae: 2.2232\n",
            "Epoch 5/50\n",
            "2/2 [==============================] - 0s 54ms/step - loss: 2.3563 - mae: 2.3563 - val_loss: 2.2501 - val_mae: 2.2501\n",
            "Epoch 6/50\n",
            "2/2 [==============================] - 0s 53ms/step - loss: 2.5822 - mae: 2.5822 - val_loss: 3.1712 - val_mae: 3.1712\n",
            "Epoch 7/50\n",
            "2/2 [==============================] - 0s 36ms/step - loss: 3.3324 - mae: 3.3324 - val_loss: 6.4360 - val_mae: 6.4360\n",
            "Epoch 8/50\n",
            "2/2 [==============================] - 0s 62ms/step - loss: 5.2697 - mae: 5.2697 - val_loss: 2.6180 - val_mae: 2.6180\n",
            "Epoch 9/50\n",
            "2/2 [==============================] - 0s 34ms/step - loss: 2.7974 - mae: 2.7974 - val_loss: 2.4312 - val_mae: 2.4312\n",
            "Epoch 10/50\n",
            "2/2 [==============================] - 0s 36ms/step - loss: 2.7199 - mae: 2.7199 - val_loss: 2.4643 - val_mae: 2.4643\n",
            "Epoch 11/50\n",
            "2/2 [==============================] - 0s 51ms/step - loss: 2.6339 - mae: 2.6339 - val_loss: 2.4426 - val_mae: 2.4426\n",
            "Epoch 12/50\n",
            "2/2 [==============================] - 0s 47ms/step - loss: 2.5431 - mae: 2.5431 - val_loss: 2.5558 - val_mae: 2.5558\n",
            "Epoch 13/50\n",
            "2/2 [==============================] - 0s 41ms/step - loss: 2.5594 - mae: 2.5594 - val_loss: 3.8096 - val_mae: 3.8096\n",
            "Epoch 14/50\n",
            "2/2 [==============================] - 0s 56ms/step - loss: 3.0251 - mae: 3.0251 - val_loss: 2.8831 - val_mae: 2.8831\n",
            "Epoch 15/50\n",
            "2/2 [==============================] - 0s 56ms/step - loss: 3.1872 - mae: 3.1872 - val_loss: 2.6213 - val_mae: 2.6213\n",
            "Epoch 16/50\n",
            "2/2 [==============================] - 0s 54ms/step - loss: 2.8531 - mae: 2.8531 - val_loss: 2.4072 - val_mae: 2.4072\n",
            "Epoch 17/50\n",
            "2/2 [==============================] - 0s 41ms/step - loss: 2.5319 - mae: 2.5319 - val_loss: 2.2799 - val_mae: 2.2799\n",
            "Epoch 18/50\n",
            "2/2 [==============================] - 0s 45ms/step - loss: 2.4037 - mae: 2.4037 - val_loss: 2.1949 - val_mae: 2.1949\n",
            "Epoch 19/50\n",
            "2/2 [==============================] - 0s 40ms/step - loss: 2.3604 - mae: 2.3604 - val_loss: 2.2623 - val_mae: 2.2623\n",
            "Epoch 20/50\n",
            "2/2 [==============================] - 0s 55ms/step - loss: 2.4117 - mae: 2.4117 - val_loss: 2.6760 - val_mae: 2.6760\n",
            "Epoch 21/50\n",
            "2/2 [==============================] - 0s 55ms/step - loss: 2.7909 - mae: 2.7909 - val_loss: 2.2149 - val_mae: 2.2149\n",
            "Epoch 22/50\n",
            "2/2 [==============================] - 0s 54ms/step - loss: 2.3833 - mae: 2.3833 - val_loss: 2.4168 - val_mae: 2.4168\n",
            "Epoch 23/50\n",
            "2/2 [==============================] - 0s 53ms/step - loss: 2.5180 - mae: 2.5180 - val_loss: 2.2030 - val_mae: 2.2030\n",
            "Epoch 24/50\n",
            "2/2 [==============================] - 0s 40ms/step - loss: 2.3481 - mae: 2.3481 - val_loss: 2.4252 - val_mae: 2.4252\n",
            "Epoch 25/50\n",
            "2/2 [==============================] - 0s 44ms/step - loss: 2.4654 - mae: 2.4654 - val_loss: 2.2534 - val_mae: 2.2534\n",
            "Epoch 26/50\n",
            "2/2 [==============================] - 0s 44ms/step - loss: 2.4085 - mae: 2.4085 - val_loss: 2.3292 - val_mae: 2.3292\n",
            "Epoch 27/50\n",
            "2/2 [==============================] - 0s 55ms/step - loss: 2.3788 - mae: 2.3788 - val_loss: 2.8035 - val_mae: 2.8035\n",
            "Epoch 28/50\n",
            "2/2 [==============================] - 0s 40ms/step - loss: 2.8058 - mae: 2.8058 - val_loss: 2.3272 - val_mae: 2.3272\n",
            "Epoch 29/50\n",
            "2/2 [==============================] - 0s 44ms/step - loss: 2.4730 - mae: 2.4730 - val_loss: 2.2694 - val_mae: 2.2694\n",
            "Epoch 30/50\n",
            "2/2 [==============================] - 0s 54ms/step - loss: 2.3621 - mae: 2.3621 - val_loss: 2.2831 - val_mae: 2.2831\n",
            "Epoch 31/50\n",
            "2/2 [==============================] - 0s 53ms/step - loss: 2.4867 - mae: 2.4867 - val_loss: 2.3077 - val_mae: 2.3077\n",
            "Epoch 32/50\n",
            "2/2 [==============================] - 0s 53ms/step - loss: 2.4356 - mae: 2.4356 - val_loss: 2.6422 - val_mae: 2.6422\n",
            "Epoch 33/50\n",
            "2/2 [==============================] - 0s 38ms/step - loss: 2.7999 - mae: 2.7999 - val_loss: 2.2860 - val_mae: 2.2860\n",
            "Epoch 34/50\n",
            "2/2 [==============================] - 0s 53ms/step - loss: 2.4343 - mae: 2.4343 - val_loss: 2.4071 - val_mae: 2.4071\n",
            "Epoch 35/50\n",
            "2/2 [==============================] - 0s 57ms/step - loss: 2.4781 - mae: 2.4781 - val_loss: 2.6635 - val_mae: 2.6635\n",
            "Epoch 36/50\n",
            "2/2 [==============================] - 0s 40ms/step - loss: 2.5047 - mae: 2.5047 - val_loss: 3.0199 - val_mae: 3.0199\n",
            "Epoch 37/50\n",
            "2/2 [==============================] - 0s 39ms/step - loss: 3.3119 - mae: 3.3119 - val_loss: 2.4996 - val_mae: 2.4996\n",
            "Epoch 38/50\n",
            "2/2 [==============================] - 0s 39ms/step - loss: 2.6440 - mae: 2.6440 - val_loss: 2.1814 - val_mae: 2.1814\n",
            "Epoch 39/50\n",
            "2/2 [==============================] - 0s 51ms/step - loss: 2.3449 - mae: 2.3449 - val_loss: 2.3867 - val_mae: 2.3867\n",
            "Epoch 40/50\n",
            "2/2 [==============================] - 0s 56ms/step - loss: 2.5552 - mae: 2.5552 - val_loss: 2.2720 - val_mae: 2.2720\n",
            "Epoch 41/50\n",
            "2/2 [==============================] - 0s 39ms/step - loss: 2.4592 - mae: 2.4592 - val_loss: 2.1568 - val_mae: 2.1568\n",
            "Epoch 42/50\n",
            "2/2 [==============================] - 0s 56ms/step - loss: 2.3731 - mae: 2.3731 - val_loss: 3.2186 - val_mae: 3.2186\n",
            "Epoch 43/50\n",
            "2/2 [==============================] - 0s 37ms/step - loss: 2.6981 - mae: 2.6981 - val_loss: 3.4581 - val_mae: 3.4581\n",
            "Epoch 44/50\n",
            "2/2 [==============================] - 0s 53ms/step - loss: 3.9145 - mae: 3.9145 - val_loss: 2.2238 - val_mae: 2.2238\n",
            "Epoch 45/50\n",
            "2/2 [==============================] - 0s 40ms/step - loss: 2.5960 - mae: 2.5960 - val_loss: 3.5694 - val_mae: 3.5694\n",
            "Epoch 46/50\n",
            "2/2 [==============================] - 0s 52ms/step - loss: 4.0820 - mae: 4.0820 - val_loss: 2.5566 - val_mae: 2.5566\n",
            "Epoch 47/50\n",
            "2/2 [==============================] - 0s 37ms/step - loss: 2.5840 - mae: 2.5840 - val_loss: 2.2054 - val_mae: 2.2054\n",
            "Epoch 48/50\n",
            "2/2 [==============================] - 0s 56ms/step - loss: 2.3400 - mae: 2.3400 - val_loss: 2.6314 - val_mae: 2.6314\n",
            "Epoch 49/50\n",
            "2/2 [==============================] - 0s 39ms/step - loss: 2.9576 - mae: 2.9576 - val_loss: 2.6535 - val_mae: 2.6535\n",
            "Epoch 50/50\n",
            "2/2 [==============================] - 0s 36ms/step - loss: 2.7864 - mae: 2.7864 - val_loss: 2.4646 - val_mae: 2.4646\n",
            "1/1 [==============================] - 0s 61ms/step\n"
          ]
        }
      ]
    },
    {
      "cell_type": "code",
      "source": [
        "mode3 = Sequential()\n",
        "mode3.add(Dense(100,name='dense1'))\n",
        "mode3.add(Dense(50,name='dense2'))\n",
        "mode3.add(Dense(1))\n",
        "mode3.compile(loss=mae ,optimizer =SGD(),metrics = ['mae'] )\n",
        "history = mode3.fit(tf.expand_dims(x_train,-1),y_train,epochs= 150,\n",
        "                    validation_data = [tf.expand_dims(x_val,-1),y_val])\n",
        "pred = mode3.predict(tf.expand_dims(x_test,-1))\n",
        "mse_3 = tf.keras.losses.mse(y_test,tf.squeeze(pred)).numpy \n",
        "mae_3 = tf.keras.losses.mae(y_test,tf.squeeze(pred)).numpy \n"
      ],
      "metadata": {
        "colab": {
          "base_uri": "https://localhost:8080/"
        },
        "id": "QW6Cjss2hxSX",
        "outputId": "05c10fd5-5359-4674-ba10-73e87533e88b"
      },
      "execution_count": null,
      "outputs": [
        {
          "output_type": "stream",
          "name": "stdout",
          "text": [
            "Epoch 1/150\n",
            "2/2 [==============================] - 2s 582ms/step - loss: 2.6563 - mae: 2.6563 - val_loss: 147.3403 - val_mae: 147.3403\n",
            "Epoch 2/150\n",
            "2/2 [==============================] - 0s 77ms/step - loss: 111.4939 - mae: 111.4939 - val_loss: 7.8483 - val_mae: 7.8483\n",
            "Epoch 3/150\n",
            "2/2 [==============================] - 0s 168ms/step - loss: 6.1288 - mae: 6.1288 - val_loss: 2.3637 - val_mae: 2.3637\n",
            "Epoch 4/150\n",
            "2/2 [==============================] - 0s 193ms/step - loss: 2.9567 - mae: 2.9567 - val_loss: 2.5371 - val_mae: 2.5371\n",
            "Epoch 5/150\n",
            "2/2 [==============================] - 0s 76ms/step - loss: 2.9032 - mae: 2.9032 - val_loss: 2.2917 - val_mae: 2.2917\n",
            "Epoch 6/150\n",
            "2/2 [==============================] - 0s 141ms/step - loss: 2.6345 - mae: 2.6345 - val_loss: 2.8512 - val_mae: 2.8512\n",
            "Epoch 7/150\n",
            "2/2 [==============================] - 0s 156ms/step - loss: 3.0414 - mae: 3.0414 - val_loss: 2.3576 - val_mae: 2.3576\n",
            "Epoch 8/150\n",
            "2/2 [==============================] - 0s 75ms/step - loss: 2.5061 - mae: 2.5061 - val_loss: 2.5385 - val_mae: 2.5385\n",
            "Epoch 9/150\n",
            "2/2 [==============================] - 0s 67ms/step - loss: 2.7209 - mae: 2.7209 - val_loss: 3.2370 - val_mae: 3.2370\n",
            "Epoch 10/150\n",
            "2/2 [==============================] - 0s 62ms/step - loss: 3.4769 - mae: 3.4769 - val_loss: 2.3225 - val_mae: 2.3225\n",
            "Epoch 11/150\n",
            "2/2 [==============================] - 0s 63ms/step - loss: 2.5204 - mae: 2.5204 - val_loss: 2.2741 - val_mae: 2.2741\n",
            "Epoch 12/150\n",
            "2/2 [==============================] - 0s 51ms/step - loss: 2.3795 - mae: 2.3795 - val_loss: 2.2616 - val_mae: 2.2616\n",
            "Epoch 13/150\n",
            "2/2 [==============================] - 0s 48ms/step - loss: 2.4127 - mae: 2.4127 - val_loss: 2.2114 - val_mae: 2.2114\n",
            "Epoch 14/150\n",
            "2/2 [==============================] - 0s 61ms/step - loss: 2.4583 - mae: 2.4583 - val_loss: 2.2070 - val_mae: 2.2070\n",
            "Epoch 15/150\n",
            "2/2 [==============================] - 0s 47ms/step - loss: 2.3663 - mae: 2.3663 - val_loss: 2.7362 - val_mae: 2.7362\n",
            "Epoch 16/150\n",
            "2/2 [==============================] - 0s 54ms/step - loss: 2.9135 - mae: 2.9135 - val_loss: 2.2041 - val_mae: 2.2041\n",
            "Epoch 17/150\n",
            "2/2 [==============================] - 0s 47ms/step - loss: 2.3513 - mae: 2.3513 - val_loss: 2.3472 - val_mae: 2.3472\n",
            "Epoch 18/150\n",
            "2/2 [==============================] - 0s 48ms/step - loss: 2.4678 - mae: 2.4678 - val_loss: 2.2103 - val_mae: 2.2103\n",
            "Epoch 19/150\n",
            "2/2 [==============================] - 0s 60ms/step - loss: 2.3961 - mae: 2.3961 - val_loss: 2.2613 - val_mae: 2.2613\n",
            "Epoch 20/150\n",
            "2/2 [==============================] - 0s 156ms/step - loss: 2.5109 - mae: 2.5109 - val_loss: 2.9644 - val_mae: 2.9644\n",
            "Epoch 21/150\n",
            "2/2 [==============================] - 0s 107ms/step - loss: 3.1936 - mae: 3.1936 - val_loss: 2.2592 - val_mae: 2.2592\n",
            "Epoch 22/150\n",
            "2/2 [==============================] - 0s 150ms/step - loss: 2.4161 - mae: 2.4161 - val_loss: 2.6260 - val_mae: 2.6260\n",
            "Epoch 23/150\n",
            "2/2 [==============================] - 0s 144ms/step - loss: 2.6809 - mae: 2.6809 - val_loss: 2.6255 - val_mae: 2.6255\n",
            "Epoch 24/150\n",
            "2/2 [==============================] - 0s 102ms/step - loss: 2.6598 - mae: 2.6598 - val_loss: 2.2655 - val_mae: 2.2655\n",
            "Epoch 25/150\n",
            "2/2 [==============================] - 0s 93ms/step - loss: 2.3575 - mae: 2.3575 - val_loss: 2.3475 - val_mae: 2.3475\n",
            "Epoch 26/150\n",
            "2/2 [==============================] - 0s 105ms/step - loss: 2.4342 - mae: 2.4342 - val_loss: 2.1923 - val_mae: 2.1923\n",
            "Epoch 27/150\n",
            "2/2 [==============================] - 0s 102ms/step - loss: 2.3440 - mae: 2.3440 - val_loss: 2.4693 - val_mae: 2.4693\n",
            "Epoch 28/150\n",
            "2/2 [==============================] - 0s 116ms/step - loss: 2.5032 - mae: 2.5032 - val_loss: 2.4117 - val_mae: 2.4117\n",
            "Epoch 29/150\n",
            "2/2 [==============================] - 0s 94ms/step - loss: 2.6774 - mae: 2.6774 - val_loss: 2.4173 - val_mae: 2.4173\n",
            "Epoch 30/150\n",
            "2/2 [==============================] - 0s 172ms/step - loss: 2.5215 - mae: 2.5215 - val_loss: 2.4318 - val_mae: 2.4318\n",
            "Epoch 31/150\n",
            "2/2 [==============================] - 0s 82ms/step - loss: 2.4383 - mae: 2.4383 - val_loss: 2.7318 - val_mae: 2.7318\n",
            "Epoch 32/150\n",
            "2/2 [==============================] - 0s 49ms/step - loss: 2.9142 - mae: 2.9142 - val_loss: 2.2302 - val_mae: 2.2302\n",
            "Epoch 33/150\n",
            "2/2 [==============================] - 0s 50ms/step - loss: 2.4515 - mae: 2.4515 - val_loss: 2.1841 - val_mae: 2.1841\n",
            "Epoch 34/150\n",
            "2/2 [==============================] - 0s 37ms/step - loss: 2.4890 - mae: 2.4890 - val_loss: 2.8768 - val_mae: 2.8768\n",
            "Epoch 35/150\n",
            "2/2 [==============================] - 0s 51ms/step - loss: 3.1628 - mae: 3.1628 - val_loss: 2.4055 - val_mae: 2.4055\n",
            "Epoch 36/150\n",
            "2/2 [==============================] - 0s 50ms/step - loss: 2.5199 - mae: 2.5199 - val_loss: 2.4072 - val_mae: 2.4072\n",
            "Epoch 37/150\n",
            "2/2 [==============================] - 0s 52ms/step - loss: 2.5910 - mae: 2.5910 - val_loss: 2.5269 - val_mae: 2.5269\n",
            "Epoch 38/150\n",
            "2/2 [==============================] - 0s 37ms/step - loss: 2.5184 - mae: 2.5184 - val_loss: 2.3238 - val_mae: 2.3238\n",
            "Epoch 39/150\n",
            "2/2 [==============================] - 0s 37ms/step - loss: 2.5016 - mae: 2.5016 - val_loss: 2.2088 - val_mae: 2.2088\n",
            "Epoch 40/150\n",
            "2/2 [==============================] - 0s 50ms/step - loss: 2.3087 - mae: 2.3087 - val_loss: 2.1835 - val_mae: 2.1835\n",
            "Epoch 41/150\n",
            "2/2 [==============================] - 0s 41ms/step - loss: 2.3524 - mae: 2.3524 - val_loss: 2.3531 - val_mae: 2.3531\n",
            "Epoch 42/150\n",
            "2/2 [==============================] - 0s 37ms/step - loss: 2.4138 - mae: 2.4138 - val_loss: 2.2887 - val_mae: 2.2887\n",
            "Epoch 43/150\n",
            "2/2 [==============================] - 0s 37ms/step - loss: 2.4704 - mae: 2.4704 - val_loss: 2.1772 - val_mae: 2.1772\n",
            "Epoch 44/150\n",
            "2/2 [==============================] - 0s 34ms/step - loss: 2.5598 - mae: 2.5598 - val_loss: 3.0509 - val_mae: 3.0509\n",
            "Epoch 45/150\n",
            "2/2 [==============================] - 0s 51ms/step - loss: 3.4357 - mae: 3.4357 - val_loss: 2.1629 - val_mae: 2.1629\n",
            "Epoch 46/150\n",
            "2/2 [==============================] - 0s 51ms/step - loss: 2.3638 - mae: 2.3638 - val_loss: 2.4107 - val_mae: 2.4107\n",
            "Epoch 47/150\n",
            "2/2 [==============================] - 0s 50ms/step - loss: 2.5370 - mae: 2.5370 - val_loss: 2.1926 - val_mae: 2.1926\n",
            "Epoch 48/150\n",
            "2/2 [==============================] - 0s 34ms/step - loss: 2.4110 - mae: 2.4110 - val_loss: 2.4202 - val_mae: 2.4202\n",
            "Epoch 49/150\n",
            "2/2 [==============================] - 0s 35ms/step - loss: 2.5642 - mae: 2.5642 - val_loss: 2.4464 - val_mae: 2.4464\n",
            "Epoch 50/150\n",
            "2/2 [==============================] - 0s 33ms/step - loss: 2.6003 - mae: 2.6003 - val_loss: 2.3874 - val_mae: 2.3874\n",
            "Epoch 51/150\n",
            "2/2 [==============================] - 0s 49ms/step - loss: 2.6485 - mae: 2.6485 - val_loss: 2.6375 - val_mae: 2.6375\n",
            "Epoch 52/150\n",
            "2/2 [==============================] - 0s 34ms/step - loss: 2.8005 - mae: 2.8005 - val_loss: 2.1543 - val_mae: 2.1543\n",
            "Epoch 53/150\n",
            "2/2 [==============================] - 0s 34ms/step - loss: 2.2837 - mae: 2.2837 - val_loss: 2.1526 - val_mae: 2.1526\n",
            "Epoch 54/150\n",
            "2/2 [==============================] - 0s 49ms/step - loss: 2.2819 - mae: 2.2819 - val_loss: 2.1453 - val_mae: 2.1453\n",
            "Epoch 55/150\n",
            "2/2 [==============================] - 0s 34ms/step - loss: 2.3532 - mae: 2.3532 - val_loss: 2.7942 - val_mae: 2.7942\n",
            "Epoch 56/150\n",
            "2/2 [==============================] - 0s 50ms/step - loss: 3.1119 - mae: 3.1119 - val_loss: 2.1446 - val_mae: 2.1446\n",
            "Epoch 57/150\n",
            "2/2 [==============================] - 0s 51ms/step - loss: 2.2961 - mae: 2.2961 - val_loss: 2.2525 - val_mae: 2.2525\n",
            "Epoch 58/150\n",
            "2/2 [==============================] - 0s 34ms/step - loss: 2.4056 - mae: 2.4056 - val_loss: 2.2424 - val_mae: 2.2424\n",
            "Epoch 59/150\n",
            "2/2 [==============================] - 0s 52ms/step - loss: 2.3803 - mae: 2.3803 - val_loss: 2.2027 - val_mae: 2.2027\n",
            "Epoch 60/150\n",
            "2/2 [==============================] - 0s 49ms/step - loss: 2.4475 - mae: 2.4475 - val_loss: 2.5778 - val_mae: 2.5778\n",
            "Epoch 61/150\n",
            "2/2 [==============================] - 0s 42ms/step - loss: 2.7897 - mae: 2.7897 - val_loss: 2.9291 - val_mae: 2.9291\n",
            "Epoch 62/150\n",
            "2/2 [==============================] - 0s 51ms/step - loss: 3.1733 - mae: 3.1733 - val_loss: 2.5256 - val_mae: 2.5256\n",
            "Epoch 63/150\n",
            "2/2 [==============================] - 0s 38ms/step - loss: 2.5698 - mae: 2.5698 - val_loss: 2.3064 - val_mae: 2.3064\n",
            "Epoch 64/150\n",
            "2/2 [==============================] - 0s 36ms/step - loss: 2.4048 - mae: 2.4048 - val_loss: 2.1286 - val_mae: 2.1286\n",
            "Epoch 65/150\n",
            "2/2 [==============================] - 0s 50ms/step - loss: 2.2907 - mae: 2.2907 - val_loss: 2.1588 - val_mae: 2.1588\n",
            "Epoch 66/150\n",
            "2/2 [==============================] - 0s 54ms/step - loss: 2.3205 - mae: 2.3205 - val_loss: 2.1335 - val_mae: 2.1335\n",
            "Epoch 67/150\n",
            "2/2 [==============================] - 0s 51ms/step - loss: 2.2789 - mae: 2.2789 - val_loss: 2.5070 - val_mae: 2.5070\n",
            "Epoch 68/150\n",
            "2/2 [==============================] - 0s 36ms/step - loss: 2.4866 - mae: 2.4866 - val_loss: 2.5463 - val_mae: 2.5463\n",
            "Epoch 69/150\n",
            "2/2 [==============================] - 0s 34ms/step - loss: 2.6268 - mae: 2.6268 - val_loss: 2.2473 - val_mae: 2.2473\n",
            "Epoch 70/150\n",
            "2/2 [==============================] - 0s 33ms/step - loss: 2.3751 - mae: 2.3751 - val_loss: 2.4489 - val_mae: 2.4489\n",
            "Epoch 71/150\n",
            "2/2 [==============================] - 0s 34ms/step - loss: 2.5925 - mae: 2.5925 - val_loss: 2.2109 - val_mae: 2.2109\n",
            "Epoch 72/150\n",
            "2/2 [==============================] - 0s 35ms/step - loss: 2.2938 - mae: 2.2938 - val_loss: 2.6957 - val_mae: 2.6957\n",
            "Epoch 73/150\n",
            "2/2 [==============================] - 0s 53ms/step - loss: 2.6265 - mae: 2.6265 - val_loss: 2.4048 - val_mae: 2.4048\n",
            "Epoch 74/150\n",
            "2/2 [==============================] - 0s 34ms/step - loss: 2.6224 - mae: 2.6224 - val_loss: 2.5836 - val_mae: 2.5836\n",
            "Epoch 75/150\n",
            "2/2 [==============================] - 0s 34ms/step - loss: 2.7975 - mae: 2.7975 - val_loss: 2.1829 - val_mae: 2.1829\n",
            "Epoch 76/150\n",
            "2/2 [==============================] - 0s 49ms/step - loss: 2.3454 - mae: 2.3454 - val_loss: 2.7563 - val_mae: 2.7563\n",
            "Epoch 77/150\n",
            "2/2 [==============================] - 0s 41ms/step - loss: 2.9504 - mae: 2.9504 - val_loss: 2.1203 - val_mae: 2.1203\n",
            "Epoch 78/150\n",
            "2/2 [==============================] - 0s 50ms/step - loss: 2.3475 - mae: 2.3475 - val_loss: 2.1894 - val_mae: 2.1894\n",
            "Epoch 79/150\n",
            "2/2 [==============================] - 0s 50ms/step - loss: 2.3637 - mae: 2.3637 - val_loss: 2.4230 - val_mae: 2.4230\n",
            "Epoch 80/150\n",
            "2/2 [==============================] - 0s 41ms/step - loss: 2.5039 - mae: 2.5039 - val_loss: 2.2442 - val_mae: 2.2442\n",
            "Epoch 81/150\n",
            "2/2 [==============================] - 0s 33ms/step - loss: 2.3616 - mae: 2.3616 - val_loss: 2.1072 - val_mae: 2.1072\n",
            "Epoch 82/150\n",
            "2/2 [==============================] - 0s 52ms/step - loss: 2.2508 - mae: 2.2508 - val_loss: 2.3629 - val_mae: 2.3629\n",
            "Epoch 83/150\n",
            "2/2 [==============================] - 0s 49ms/step - loss: 2.5755 - mae: 2.5755 - val_loss: 2.1261 - val_mae: 2.1261\n",
            "Epoch 84/150\n",
            "2/2 [==============================] - 0s 34ms/step - loss: 2.2355 - mae: 2.2355 - val_loss: 2.1261 - val_mae: 2.1261\n",
            "Epoch 85/150\n",
            "2/2 [==============================] - 0s 50ms/step - loss: 2.2981 - mae: 2.2981 - val_loss: 2.3083 - val_mae: 2.3083\n",
            "Epoch 86/150\n",
            "2/2 [==============================] - 0s 35ms/step - loss: 2.3878 - mae: 2.3878 - val_loss: 2.2756 - val_mae: 2.2756\n",
            "Epoch 87/150\n",
            "2/2 [==============================] - 0s 33ms/step - loss: 2.4120 - mae: 2.4120 - val_loss: 2.1427 - val_mae: 2.1427\n",
            "Epoch 88/150\n",
            "2/2 [==============================] - 0s 42ms/step - loss: 2.3014 - mae: 2.3014 - val_loss: 2.3679 - val_mae: 2.3679\n",
            "Epoch 89/150\n",
            "2/2 [==============================] - 0s 50ms/step - loss: 2.4190 - mae: 2.4190 - val_loss: 2.1892 - val_mae: 2.1892\n",
            "Epoch 90/150\n",
            "2/2 [==============================] - 0s 33ms/step - loss: 2.2752 - mae: 2.2752 - val_loss: 2.0957 - val_mae: 2.0957\n",
            "Epoch 91/150\n",
            "2/2 [==============================] - 0s 50ms/step - loss: 2.2360 - mae: 2.2360 - val_loss: 2.1008 - val_mae: 2.1008\n",
            "Epoch 92/150\n",
            "2/2 [==============================] - 0s 34ms/step - loss: 2.2627 - mae: 2.2627 - val_loss: 2.1813 - val_mae: 2.1813\n",
            "Epoch 93/150\n",
            "2/2 [==============================] - 0s 53ms/step - loss: 2.4696 - mae: 2.4696 - val_loss: 2.9483 - val_mae: 2.9483\n",
            "Epoch 94/150\n",
            "2/2 [==============================] - 0s 35ms/step - loss: 2.8959 - mae: 2.8959 - val_loss: 2.2331 - val_mae: 2.2331\n",
            "Epoch 95/150\n",
            "2/2 [==============================] - 0s 34ms/step - loss: 2.3561 - mae: 2.3561 - val_loss: 2.5944 - val_mae: 2.5944\n",
            "Epoch 96/150\n",
            "2/2 [==============================] - 0s 33ms/step - loss: 2.7960 - mae: 2.7960 - val_loss: 2.1038 - val_mae: 2.1038\n",
            "Epoch 97/150\n",
            "2/2 [==============================] - 0s 50ms/step - loss: 2.2387 - mae: 2.2387 - val_loss: 2.7889 - val_mae: 2.7889\n",
            "Epoch 98/150\n",
            "2/2 [==============================] - 0s 51ms/step - loss: 2.5826 - mae: 2.5826 - val_loss: 2.6248 - val_mae: 2.6248\n",
            "Epoch 99/150\n",
            "2/2 [==============================] - 0s 61ms/step - loss: 2.7580 - mae: 2.7580 - val_loss: 2.5390 - val_mae: 2.5390\n",
            "Epoch 100/150\n",
            "2/2 [==============================] - 0s 49ms/step - loss: 2.5502 - mae: 2.5502 - val_loss: 2.1468 - val_mae: 2.1468\n",
            "Epoch 101/150\n",
            "2/2 [==============================] - 0s 54ms/step - loss: 2.2709 - mae: 2.2709 - val_loss: 2.4682 - val_mae: 2.4682\n",
            "Epoch 102/150\n",
            "2/2 [==============================] - 0s 50ms/step - loss: 2.5494 - mae: 2.5494 - val_loss: 2.2253 - val_mae: 2.2253\n",
            "Epoch 103/150\n",
            "2/2 [==============================] - 0s 51ms/step - loss: 2.3541 - mae: 2.3541 - val_loss: 2.1771 - val_mae: 2.1771\n",
            "Epoch 104/150\n",
            "2/2 [==============================] - 0s 35ms/step - loss: 2.2305 - mae: 2.2305 - val_loss: 2.8729 - val_mae: 2.8729\n",
            "Epoch 105/150\n",
            "2/2 [==============================] - 0s 52ms/step - loss: 2.6231 - mae: 2.6231 - val_loss: 2.5159 - val_mae: 2.5159\n",
            "Epoch 106/150\n",
            "2/2 [==============================] - 0s 33ms/step - loss: 2.6985 - mae: 2.6985 - val_loss: 2.2817 - val_mae: 2.2817\n",
            "Epoch 107/150\n",
            "2/2 [==============================] - 0s 51ms/step - loss: 2.4533 - mae: 2.4533 - val_loss: 2.6273 - val_mae: 2.6273\n",
            "Epoch 108/150\n",
            "2/2 [==============================] - 0s 35ms/step - loss: 2.7508 - mae: 2.7508 - val_loss: 2.6626 - val_mae: 2.6626\n",
            "Epoch 109/150\n",
            "2/2 [==============================] - 0s 34ms/step - loss: 2.7446 - mae: 2.7446 - val_loss: 2.2652 - val_mae: 2.2652\n",
            "Epoch 110/150\n",
            "2/2 [==============================] - 0s 37ms/step - loss: 2.4098 - mae: 2.4098 - val_loss: 2.0677 - val_mae: 2.0677\n",
            "Epoch 111/150\n",
            "2/2 [==============================] - 0s 54ms/step - loss: 2.1867 - mae: 2.1867 - val_loss: 2.2395 - val_mae: 2.2395\n",
            "Epoch 112/150\n",
            "2/2 [==============================] - 0s 50ms/step - loss: 2.3344 - mae: 2.3344 - val_loss: 2.1581 - val_mae: 2.1581\n",
            "Epoch 113/150\n",
            "2/2 [==============================] - 0s 50ms/step - loss: 2.2743 - mae: 2.2743 - val_loss: 2.0746 - val_mae: 2.0746\n",
            "Epoch 114/150\n",
            "2/2 [==============================] - 0s 38ms/step - loss: 2.2007 - mae: 2.2007 - val_loss: 2.1826 - val_mae: 2.1826\n",
            "Epoch 115/150\n",
            "2/2 [==============================] - 0s 55ms/step - loss: 2.3631 - mae: 2.3631 - val_loss: 2.5302 - val_mae: 2.5302\n",
            "Epoch 116/150\n",
            "2/2 [==============================] - 0s 47ms/step - loss: 2.7274 - mae: 2.7274 - val_loss: 2.2926 - val_mae: 2.2926\n",
            "Epoch 117/150\n",
            "2/2 [==============================] - 0s 36ms/step - loss: 2.3314 - mae: 2.3314 - val_loss: 2.2235 - val_mae: 2.2235\n",
            "Epoch 118/150\n",
            "2/2 [==============================] - 0s 52ms/step - loss: 2.4588 - mae: 2.4588 - val_loss: 2.1386 - val_mae: 2.1386\n",
            "Epoch 119/150\n",
            "2/2 [==============================] - 0s 35ms/step - loss: 2.2501 - mae: 2.2501 - val_loss: 2.2148 - val_mae: 2.2148\n",
            "Epoch 120/150\n",
            "2/2 [==============================] - 0s 51ms/step - loss: 2.3403 - mae: 2.3403 - val_loss: 2.0612 - val_mae: 2.0612\n",
            "Epoch 121/150\n",
            "2/2 [==============================] - 0s 54ms/step - loss: 2.1811 - mae: 2.1811 - val_loss: 2.3494 - val_mae: 2.3494\n",
            "Epoch 122/150\n",
            "2/2 [==============================] - 0s 52ms/step - loss: 2.5397 - mae: 2.5397 - val_loss: 2.0990 - val_mae: 2.0990\n",
            "Epoch 123/150\n",
            "2/2 [==============================] - 0s 51ms/step - loss: 2.2272 - mae: 2.2272 - val_loss: 2.0792 - val_mae: 2.0792\n",
            "Epoch 124/150\n",
            "2/2 [==============================] - 0s 35ms/step - loss: 2.2805 - mae: 2.2805 - val_loss: 2.1151 - val_mae: 2.1151\n",
            "Epoch 125/150\n",
            "2/2 [==============================] - 0s 50ms/step - loss: 2.2627 - mae: 2.2627 - val_loss: 2.0704 - val_mae: 2.0704\n",
            "Epoch 126/150\n",
            "2/2 [==============================] - 0s 34ms/step - loss: 2.1882 - mae: 2.1882 - val_loss: 2.3907 - val_mae: 2.3907\n",
            "Epoch 127/150\n",
            "2/2 [==============================] - 0s 35ms/step - loss: 2.6441 - mae: 2.6441 - val_loss: 2.5042 - val_mae: 2.5042\n",
            "Epoch 128/150\n",
            "2/2 [==============================] - 0s 39ms/step - loss: 2.7078 - mae: 2.7078 - val_loss: 2.0916 - val_mae: 2.0916\n",
            "Epoch 129/150\n",
            "2/2 [==============================] - 0s 52ms/step - loss: 2.1735 - mae: 2.1735 - val_loss: 2.0920 - val_mae: 2.0920\n",
            "Epoch 130/150\n",
            "2/2 [==============================] - 0s 56ms/step - loss: 2.3724 - mae: 2.3724 - val_loss: 2.6234 - val_mae: 2.6234\n",
            "Epoch 131/150\n",
            "2/2 [==============================] - 0s 50ms/step - loss: 2.5744 - mae: 2.5744 - val_loss: 2.0645 - val_mae: 2.0645\n",
            "Epoch 132/150\n",
            "2/2 [==============================] - 0s 36ms/step - loss: 2.1686 - mae: 2.1686 - val_loss: 2.1225 - val_mae: 2.1225\n",
            "Epoch 133/150\n",
            "2/2 [==============================] - 0s 36ms/step - loss: 2.2039 - mae: 2.2039 - val_loss: 2.0819 - val_mae: 2.0819\n",
            "Epoch 134/150\n",
            "2/2 [==============================] - 0s 37ms/step - loss: 2.1693 - mae: 2.1693 - val_loss: 2.3577 - val_mae: 2.3577\n",
            "Epoch 135/150\n",
            "2/2 [==============================] - 0s 65ms/step - loss: 2.4842 - mae: 2.4842 - val_loss: 2.0777 - val_mae: 2.0777\n",
            "Epoch 136/150\n",
            "2/2 [==============================] - 0s 52ms/step - loss: 2.2093 - mae: 2.2093 - val_loss: 2.1098 - val_mae: 2.1098\n",
            "Epoch 137/150\n",
            "2/2 [==============================] - 0s 54ms/step - loss: 2.2487 - mae: 2.2487 - val_loss: 2.1848 - val_mae: 2.1848\n",
            "Epoch 138/150\n",
            "2/2 [==============================] - 0s 36ms/step - loss: 2.3366 - mae: 2.3366 - val_loss: 2.1043 - val_mae: 2.1043\n",
            "Epoch 139/150\n",
            "2/2 [==============================] - 0s 54ms/step - loss: 2.2161 - mae: 2.2161 - val_loss: 2.1476 - val_mae: 2.1476\n",
            "Epoch 140/150\n",
            "2/2 [==============================] - 0s 50ms/step - loss: 2.3310 - mae: 2.3310 - val_loss: 2.1308 - val_mae: 2.1308\n",
            "Epoch 141/150\n",
            "2/2 [==============================] - 0s 51ms/step - loss: 2.2342 - mae: 2.2342 - val_loss: 2.0463 - val_mae: 2.0463\n",
            "Epoch 142/150\n",
            "2/2 [==============================] - 0s 54ms/step - loss: 2.1998 - mae: 2.1998 - val_loss: 2.3346 - val_mae: 2.3346\n",
            "Epoch 143/150\n",
            "2/2 [==============================] - 0s 37ms/step - loss: 2.4383 - mae: 2.4383 - val_loss: 2.1163 - val_mae: 2.1163\n",
            "Epoch 144/150\n",
            "2/2 [==============================] - 0s 52ms/step - loss: 2.4047 - mae: 2.4047 - val_loss: 2.5307 - val_mae: 2.5307\n",
            "Epoch 145/150\n",
            "2/2 [==============================] - 0s 53ms/step - loss: 2.6483 - mae: 2.6483 - val_loss: 2.4626 - val_mae: 2.4626\n",
            "Epoch 146/150\n",
            "2/2 [==============================] - 0s 35ms/step - loss: 2.4464 - mae: 2.4464 - val_loss: 2.0919 - val_mae: 2.0919\n",
            "Epoch 147/150\n",
            "2/2 [==============================] - 0s 54ms/step - loss: 2.2621 - mae: 2.2621 - val_loss: 2.4282 - val_mae: 2.4282\n",
            "Epoch 148/150\n",
            "2/2 [==============================] - 0s 35ms/step - loss: 2.4902 - mae: 2.4902 - val_loss: 2.0479 - val_mae: 2.0479\n",
            "Epoch 149/150\n",
            "2/2 [==============================] - 0s 52ms/step - loss: 2.1361 - mae: 2.1361 - val_loss: 2.0995 - val_mae: 2.0995\n",
            "Epoch 150/150\n",
            "2/2 [==============================] - 0s 51ms/step - loss: 2.1992 - mae: 2.1992 - val_loss: 2.5339 - val_mae: 2.5339\n",
            "1/1 [==============================] - 0s 62ms/step\n"
          ]
        }
      ]
    },
    {
      "cell_type": "code",
      "source": [
        "results = [['model1',mse_1(),mae_1()],\n",
        "           ['mode2',mse_2(),mae_2()],\n",
        "           ['mode3',mse_3(),mae_3()]]\n",
        "df = pd.DataFrame(results,columns = ['models','mse','mae'])\n",
        "df           "
      ],
      "metadata": {
        "colab": {
          "base_uri": "https://localhost:8080/",
          "height": 143
        },
        "id": "lzh8N2tWjveo",
        "outputId": "7cca3219-8b97-44e6-e4e1-43dd89cee108"
      },
      "execution_count": null,
      "outputs": [
        {
          "output_type": "execute_result",
          "data": {
            "text/plain": [
              "   models        mse       mae\n",
              "0  model1  11.075602  2.622655\n",
              "1   mode2  18.917459  3.778662\n",
              "2   mode3  10.621469  2.495216"
            ],
            "text/html": [
              "\n",
              "  <div id=\"df-a6d12cd7-0f43-415e-ad9e-54ae74987e64\">\n",
              "    <div class=\"colab-df-container\">\n",
              "      <div>\n",
              "<style scoped>\n",
              "    .dataframe tbody tr th:only-of-type {\n",
              "        vertical-align: middle;\n",
              "    }\n",
              "\n",
              "    .dataframe tbody tr th {\n",
              "        vertical-align: top;\n",
              "    }\n",
              "\n",
              "    .dataframe thead th {\n",
              "        text-align: right;\n",
              "    }\n",
              "</style>\n",
              "<table border=\"1\" class=\"dataframe\">\n",
              "  <thead>\n",
              "    <tr style=\"text-align: right;\">\n",
              "      <th></th>\n",
              "      <th>models</th>\n",
              "      <th>mse</th>\n",
              "      <th>mae</th>\n",
              "    </tr>\n",
              "  </thead>\n",
              "  <tbody>\n",
              "    <tr>\n",
              "      <th>0</th>\n",
              "      <td>model1</td>\n",
              "      <td>11.075602</td>\n",
              "      <td>2.622655</td>\n",
              "    </tr>\n",
              "    <tr>\n",
              "      <th>1</th>\n",
              "      <td>mode2</td>\n",
              "      <td>18.917459</td>\n",
              "      <td>3.778662</td>\n",
              "    </tr>\n",
              "    <tr>\n",
              "      <th>2</th>\n",
              "      <td>mode3</td>\n",
              "      <td>10.621469</td>\n",
              "      <td>2.495216</td>\n",
              "    </tr>\n",
              "  </tbody>\n",
              "</table>\n",
              "</div>\n",
              "      <button class=\"colab-df-convert\" onclick=\"convertToInteractive('df-a6d12cd7-0f43-415e-ad9e-54ae74987e64')\"\n",
              "              title=\"Convert this dataframe to an interactive table.\"\n",
              "              style=\"display:none;\">\n",
              "        \n",
              "  <svg xmlns=\"http://www.w3.org/2000/svg\" height=\"24px\"viewBox=\"0 0 24 24\"\n",
              "       width=\"24px\">\n",
              "    <path d=\"M0 0h24v24H0V0z\" fill=\"none\"/>\n",
              "    <path d=\"M18.56 5.44l.94 2.06.94-2.06 2.06-.94-2.06-.94-.94-2.06-.94 2.06-2.06.94zm-11 1L8.5 8.5l.94-2.06 2.06-.94-2.06-.94L8.5 2.5l-.94 2.06-2.06.94zm10 10l.94 2.06.94-2.06 2.06-.94-2.06-.94-.94-2.06-.94 2.06-2.06.94z\"/><path d=\"M17.41 7.96l-1.37-1.37c-.4-.4-.92-.59-1.43-.59-.52 0-1.04.2-1.43.59L10.3 9.45l-7.72 7.72c-.78.78-.78 2.05 0 2.83L4 21.41c.39.39.9.59 1.41.59.51 0 1.02-.2 1.41-.59l7.78-7.78 2.81-2.81c.8-.78.8-2.07 0-2.86zM5.41 20L4 18.59l7.72-7.72 1.47 1.35L5.41 20z\"/>\n",
              "  </svg>\n",
              "      </button>\n",
              "      \n",
              "  <style>\n",
              "    .colab-df-container {\n",
              "      display:flex;\n",
              "      flex-wrap:wrap;\n",
              "      gap: 12px;\n",
              "    }\n",
              "\n",
              "    .colab-df-convert {\n",
              "      background-color: #E8F0FE;\n",
              "      border: none;\n",
              "      border-radius: 50%;\n",
              "      cursor: pointer;\n",
              "      display: none;\n",
              "      fill: #1967D2;\n",
              "      height: 32px;\n",
              "      padding: 0 0 0 0;\n",
              "      width: 32px;\n",
              "    }\n",
              "\n",
              "    .colab-df-convert:hover {\n",
              "      background-color: #E2EBFA;\n",
              "      box-shadow: 0px 1px 2px rgba(60, 64, 67, 0.3), 0px 1px 3px 1px rgba(60, 64, 67, 0.15);\n",
              "      fill: #174EA6;\n",
              "    }\n",
              "\n",
              "    [theme=dark] .colab-df-convert {\n",
              "      background-color: #3B4455;\n",
              "      fill: #D2E3FC;\n",
              "    }\n",
              "\n",
              "    [theme=dark] .colab-df-convert:hover {\n",
              "      background-color: #434B5C;\n",
              "      box-shadow: 0px 1px 3px 1px rgba(0, 0, 0, 0.15);\n",
              "      filter: drop-shadow(0px 1px 2px rgba(0, 0, 0, 0.3));\n",
              "      fill: #FFFFFF;\n",
              "    }\n",
              "  </style>\n",
              "\n",
              "      <script>\n",
              "        const buttonEl =\n",
              "          document.querySelector('#df-a6d12cd7-0f43-415e-ad9e-54ae74987e64 button.colab-df-convert');\n",
              "        buttonEl.style.display =\n",
              "          google.colab.kernel.accessAllowed ? 'block' : 'none';\n",
              "\n",
              "        async function convertToInteractive(key) {\n",
              "          const element = document.querySelector('#df-a6d12cd7-0f43-415e-ad9e-54ae74987e64');\n",
              "          const dataTable =\n",
              "            await google.colab.kernel.invokeFunction('convertToInteractive',\n",
              "                                                     [key], {});\n",
              "          if (!dataTable) return;\n",
              "\n",
              "          const docLinkHtml = 'Like what you see? Visit the ' +\n",
              "            '<a target=\"_blank\" href=https://colab.research.google.com/notebooks/data_table.ipynb>data table notebook</a>'\n",
              "            + ' to learn more about interactive tables.';\n",
              "          element.innerHTML = '';\n",
              "          dataTable['output_type'] = 'display_data';\n",
              "          await google.colab.output.renderOutput(dataTable, element);\n",
              "          const docLink = document.createElement('div');\n",
              "          docLink.innerHTML = docLinkHtml;\n",
              "          element.appendChild(docLink);\n",
              "        }\n",
              "      </script>\n",
              "    </div>\n",
              "  </div>\n",
              "  "
            ]
          },
          "metadata": {},
          "execution_count": 33
        }
      ]
    },
    {
      "cell_type": "markdown",
      "source": [
        "#Saving our MOdel"
      ],
      "metadata": {
        "id": "6icLfVbGkg96"
      }
    },
    {
      "cell_type": "code",
      "source": [
        "mode3.save('model3.h5')"
      ],
      "metadata": {
        "id": "wpGi9aqwkhC5"
      },
      "execution_count": null,
      "outputs": []
    },
    {
      "cell_type": "markdown",
      "source": [
        "#Load MOdel"
      ],
      "metadata": {
        "id": "bDV1YeftlnSE"
      }
    },
    {
      "cell_type": "code",
      "source": [
        "load_model3 = tf.keras.models.load_model('/content/model3.h5')"
      ],
      "metadata": {
        "id": "kgLe2n4tltXy"
      },
      "execution_count": null,
      "outputs": []
    },
    {
      "cell_type": "code",
      "source": [
        "load_model3.summary()"
      ],
      "metadata": {
        "colab": {
          "base_uri": "https://localhost:8080/"
        },
        "id": "YmbPySkqltju",
        "outputId": "8c44bf59-de03-47d5-de74-76f43e8403b0"
      },
      "execution_count": null,
      "outputs": [
        {
          "output_type": "stream",
          "name": "stdout",
          "text": [
            "Model: \"sequential_11\"\n",
            "_________________________________________________________________\n",
            " Layer (type)                Output Shape              Param #   \n",
            "=================================================================\n",
            " dense1 (Dense)              (None, 100)               200       \n",
            "                                                                 \n",
            " dense2 (Dense)              (None, 50)                5050      \n",
            "                                                                 \n",
            " dense_18 (Dense)            (None, 1)                 51        \n",
            "                                                                 \n",
            "=================================================================\n",
            "Total params: 5,301\n",
            "Trainable params: 5,301\n",
            "Non-trainable params: 0\n",
            "_________________________________________________________________\n"
          ]
        }
      ]
    },
    {
      "cell_type": "code",
      "source": [],
      "metadata": {
        "id": "_DFwUQ4mltpI"
      },
      "execution_count": null,
      "outputs": []
    },
    {
      "cell_type": "code",
      "source": [
        "df = pd.read_csv('insurance.csv')\n",
        "df.head()"
      ],
      "metadata": {
        "colab": {
          "base_uri": "https://localhost:8080/",
          "height": 206
        },
        "id": "SfGJhT7Eltr6",
        "outputId": "16af544a-a269-4040-8a0e-1af260761546"
      },
      "execution_count": null,
      "outputs": [
        {
          "output_type": "execute_result",
          "data": {
            "text/plain": [
              "   age     sex     bmi  children smoker     region      charges\n",
              "0   19  female  27.900         0    yes  southwest  16884.92400\n",
              "1   18    male  33.770         1     no  southeast   1725.55230\n",
              "2   28    male  33.000         3     no  southeast   4449.46200\n",
              "3   33    male  22.705         0     no  northwest  21984.47061\n",
              "4   32    male  28.880         0     no  northwest   3866.85520"
            ],
            "text/html": [
              "\n",
              "  <div id=\"df-81c41c75-e86e-4f4e-a533-be140e12a9be\">\n",
              "    <div class=\"colab-df-container\">\n",
              "      <div>\n",
              "<style scoped>\n",
              "    .dataframe tbody tr th:only-of-type {\n",
              "        vertical-align: middle;\n",
              "    }\n",
              "\n",
              "    .dataframe tbody tr th {\n",
              "        vertical-align: top;\n",
              "    }\n",
              "\n",
              "    .dataframe thead th {\n",
              "        text-align: right;\n",
              "    }\n",
              "</style>\n",
              "<table border=\"1\" class=\"dataframe\">\n",
              "  <thead>\n",
              "    <tr style=\"text-align: right;\">\n",
              "      <th></th>\n",
              "      <th>age</th>\n",
              "      <th>sex</th>\n",
              "      <th>bmi</th>\n",
              "      <th>children</th>\n",
              "      <th>smoker</th>\n",
              "      <th>region</th>\n",
              "      <th>charges</th>\n",
              "    </tr>\n",
              "  </thead>\n",
              "  <tbody>\n",
              "    <tr>\n",
              "      <th>0</th>\n",
              "      <td>19</td>\n",
              "      <td>female</td>\n",
              "      <td>27.900</td>\n",
              "      <td>0</td>\n",
              "      <td>yes</td>\n",
              "      <td>southwest</td>\n",
              "      <td>16884.92400</td>\n",
              "    </tr>\n",
              "    <tr>\n",
              "      <th>1</th>\n",
              "      <td>18</td>\n",
              "      <td>male</td>\n",
              "      <td>33.770</td>\n",
              "      <td>1</td>\n",
              "      <td>no</td>\n",
              "      <td>southeast</td>\n",
              "      <td>1725.55230</td>\n",
              "    </tr>\n",
              "    <tr>\n",
              "      <th>2</th>\n",
              "      <td>28</td>\n",
              "      <td>male</td>\n",
              "      <td>33.000</td>\n",
              "      <td>3</td>\n",
              "      <td>no</td>\n",
              "      <td>southeast</td>\n",
              "      <td>4449.46200</td>\n",
              "    </tr>\n",
              "    <tr>\n",
              "      <th>3</th>\n",
              "      <td>33</td>\n",
              "      <td>male</td>\n",
              "      <td>22.705</td>\n",
              "      <td>0</td>\n",
              "      <td>no</td>\n",
              "      <td>northwest</td>\n",
              "      <td>21984.47061</td>\n",
              "    </tr>\n",
              "    <tr>\n",
              "      <th>4</th>\n",
              "      <td>32</td>\n",
              "      <td>male</td>\n",
              "      <td>28.880</td>\n",
              "      <td>0</td>\n",
              "      <td>no</td>\n",
              "      <td>northwest</td>\n",
              "      <td>3866.85520</td>\n",
              "    </tr>\n",
              "  </tbody>\n",
              "</table>\n",
              "</div>\n",
              "      <button class=\"colab-df-convert\" onclick=\"convertToInteractive('df-81c41c75-e86e-4f4e-a533-be140e12a9be')\"\n",
              "              title=\"Convert this dataframe to an interactive table.\"\n",
              "              style=\"display:none;\">\n",
              "        \n",
              "  <svg xmlns=\"http://www.w3.org/2000/svg\" height=\"24px\"viewBox=\"0 0 24 24\"\n",
              "       width=\"24px\">\n",
              "    <path d=\"M0 0h24v24H0V0z\" fill=\"none\"/>\n",
              "    <path d=\"M18.56 5.44l.94 2.06.94-2.06 2.06-.94-2.06-.94-.94-2.06-.94 2.06-2.06.94zm-11 1L8.5 8.5l.94-2.06 2.06-.94-2.06-.94L8.5 2.5l-.94 2.06-2.06.94zm10 10l.94 2.06.94-2.06 2.06-.94-2.06-.94-.94-2.06-.94 2.06-2.06.94z\"/><path d=\"M17.41 7.96l-1.37-1.37c-.4-.4-.92-.59-1.43-.59-.52 0-1.04.2-1.43.59L10.3 9.45l-7.72 7.72c-.78.78-.78 2.05 0 2.83L4 21.41c.39.39.9.59 1.41.59.51 0 1.02-.2 1.41-.59l7.78-7.78 2.81-2.81c.8-.78.8-2.07 0-2.86zM5.41 20L4 18.59l7.72-7.72 1.47 1.35L5.41 20z\"/>\n",
              "  </svg>\n",
              "      </button>\n",
              "      \n",
              "  <style>\n",
              "    .colab-df-container {\n",
              "      display:flex;\n",
              "      flex-wrap:wrap;\n",
              "      gap: 12px;\n",
              "    }\n",
              "\n",
              "    .colab-df-convert {\n",
              "      background-color: #E8F0FE;\n",
              "      border: none;\n",
              "      border-radius: 50%;\n",
              "      cursor: pointer;\n",
              "      display: none;\n",
              "      fill: #1967D2;\n",
              "      height: 32px;\n",
              "      padding: 0 0 0 0;\n",
              "      width: 32px;\n",
              "    }\n",
              "\n",
              "    .colab-df-convert:hover {\n",
              "      background-color: #E2EBFA;\n",
              "      box-shadow: 0px 1px 2px rgba(60, 64, 67, 0.3), 0px 1px 3px 1px rgba(60, 64, 67, 0.15);\n",
              "      fill: #174EA6;\n",
              "    }\n",
              "\n",
              "    [theme=dark] .colab-df-convert {\n",
              "      background-color: #3B4455;\n",
              "      fill: #D2E3FC;\n",
              "    }\n",
              "\n",
              "    [theme=dark] .colab-df-convert:hover {\n",
              "      background-color: #434B5C;\n",
              "      box-shadow: 0px 1px 3px 1px rgba(0, 0, 0, 0.15);\n",
              "      filter: drop-shadow(0px 1px 2px rgba(0, 0, 0, 0.3));\n",
              "      fill: #FFFFFF;\n",
              "    }\n",
              "  </style>\n",
              "\n",
              "      <script>\n",
              "        const buttonEl =\n",
              "          document.querySelector('#df-81c41c75-e86e-4f4e-a533-be140e12a9be button.colab-df-convert');\n",
              "        buttonEl.style.display =\n",
              "          google.colab.kernel.accessAllowed ? 'block' : 'none';\n",
              "\n",
              "        async function convertToInteractive(key) {\n",
              "          const element = document.querySelector('#df-81c41c75-e86e-4f4e-a533-be140e12a9be');\n",
              "          const dataTable =\n",
              "            await google.colab.kernel.invokeFunction('convertToInteractive',\n",
              "                                                     [key], {});\n",
              "          if (!dataTable) return;\n",
              "\n",
              "          const docLinkHtml = 'Like what you see? Visit the ' +\n",
              "            '<a target=\"_blank\" href=https://colab.research.google.com/notebooks/data_table.ipynb>data table notebook</a>'\n",
              "            + ' to learn more about interactive tables.';\n",
              "          element.innerHTML = '';\n",
              "          dataTable['output_type'] = 'display_data';\n",
              "          await google.colab.output.renderOutput(dataTable, element);\n",
              "          const docLink = document.createElement('div');\n",
              "          docLink.innerHTML = docLinkHtml;\n",
              "          element.appendChild(docLink);\n",
              "        }\n",
              "      </script>\n",
              "    </div>\n",
              "  </div>\n",
              "  "
            ]
          },
          "metadata": {},
          "execution_count": 2
        }
      ]
    },
    {
      "cell_type": "code",
      "source": [
        "df1 = pd.get_dummies(df)"
      ],
      "metadata": {
        "id": "wlhMY9btnVv9"
      },
      "execution_count": null,
      "outputs": []
    },
    {
      "cell_type": "code",
      "source": [
        "df1.shape"
      ],
      "metadata": {
        "colab": {
          "base_uri": "https://localhost:8080/"
        },
        "id": "mp2qghYin8NZ",
        "outputId": "602814c6-34e2-4c32-fbb5-2f493112003d"
      },
      "execution_count": null,
      "outputs": [
        {
          "output_type": "execute_result",
          "data": {
            "text/plain": [
              "(1338, 12)"
            ]
          },
          "metadata": {},
          "execution_count": 46
        }
      ]
    },
    {
      "cell_type": "code",
      "source": [
        "df1.columns"
      ],
      "metadata": {
        "colab": {
          "base_uri": "https://localhost:8080/"
        },
        "id": "CCN2EkNzpVwm",
        "outputId": "2d6c35b3-30a1-427d-c3e4-689baebc2166"
      },
      "execution_count": null,
      "outputs": [
        {
          "output_type": "execute_result",
          "data": {
            "text/plain": [
              "Index(['age', 'bmi', 'children', 'charges', 'sex_female', 'sex_male',\n",
              "       'smoker_no', 'smoker_yes', 'region_northeast', 'region_northwest',\n",
              "       'region_southeast', 'region_southwest'],\n",
              "      dtype='object')"
            ]
          },
          "metadata": {},
          "execution_count": 52
        }
      ]
    },
    {
      "cell_type": "code",
      "source": [
        "X = df1[['age', 'bmi', 'children', 'sex_female', 'sex_male',\n",
        "       'smoker_no', 'smoker_yes', 'region_northeast', 'region_northwest',\n",
        "       'region_southeast', 'region_southwest']]\n",
        "y = df1['charges']\n",
        "x_train = X.iloc[:800,:]\n",
        "y_train = y[:800]\n",
        "x_test = X.iloc[800:,:]\n",
        "y_test = y[800:]"
      ],
      "metadata": {
        "id": "gjcpQNFmnvIS"
      },
      "execution_count": null,
      "outputs": []
    },
    {
      "cell_type": "code",
      "source": [
        "model = Sequential()\n",
        "model.add(Dense(100,input_shape=(11,)))\n",
        "#model.add(Dense(40))\n",
        "model.add(Dense(1))\n",
        "model.compile(loss= mae,optimizer=SGD(),metrics =['mae'])\n",
        "history = model.fit(x_train,y_train,validation_data=[x_test,y_test],epochs=100)"
      ],
      "metadata": {
        "colab": {
          "base_uri": "https://localhost:8080/"
        },
        "id": "Xu1vNguGo7Q5",
        "outputId": "e7bcb791-7a1a-4605-ca14-e4fe8dc3b7e8"
      },
      "execution_count": null,
      "outputs": [
        {
          "output_type": "stream",
          "name": "stdout",
          "text": [
            "Epoch 1/100\n",
            "25/25 [==============================] - 2s 30ms/step - loss: 8528.3242 - mae: 8528.3242 - val_loss: 8901.6855 - val_mae: 8901.6855\n",
            "Epoch 2/100\n",
            "25/25 [==============================] - 0s 11ms/step - loss: 7423.8301 - mae: 7423.8301 - val_loss: 7571.6406 - val_mae: 7571.6406\n",
            "Epoch 3/100\n",
            "25/25 [==============================] - 0s 9ms/step - loss: 7626.6064 - mae: 7626.6064 - val_loss: 8238.0605 - val_mae: 8238.0605\n",
            "Epoch 4/100\n",
            "25/25 [==============================] - 0s 6ms/step - loss: 7512.5239 - mae: 7512.5239 - val_loss: 8808.8389 - val_mae: 8808.8389\n",
            "Epoch 5/100\n",
            "25/25 [==============================] - 0s 9ms/step - loss: 7340.0024 - mae: 7340.0024 - val_loss: 8333.6670 - val_mae: 8333.6670\n",
            "Epoch 6/100\n",
            "25/25 [==============================] - 0s 8ms/step - loss: 7508.1738 - mae: 7508.1738 - val_loss: 7198.6685 - val_mae: 7198.6685\n",
            "Epoch 7/100\n",
            "25/25 [==============================] - 0s 13ms/step - loss: 7191.6543 - mae: 7191.6543 - val_loss: 8254.6152 - val_mae: 8254.6152\n",
            "Epoch 8/100\n",
            "25/25 [==============================] - 0s 8ms/step - loss: 7398.9849 - mae: 7398.9849 - val_loss: 7554.5625 - val_mae: 7554.5625\n",
            "Epoch 9/100\n",
            "25/25 [==============================] - 0s 6ms/step - loss: 7438.4404 - mae: 7438.4404 - val_loss: 8056.8530 - val_mae: 8056.8530\n",
            "Epoch 10/100\n",
            "25/25 [==============================] - 0s 8ms/step - loss: 7448.3755 - mae: 7448.3755 - val_loss: 7920.7603 - val_mae: 7920.7603\n",
            "Epoch 11/100\n",
            "25/25 [==============================] - 0s 10ms/step - loss: 7596.1255 - mae: 7596.1255 - val_loss: 7105.7637 - val_mae: 7105.7637\n",
            "Epoch 12/100\n",
            "25/25 [==============================] - 0s 15ms/step - loss: 7530.2031 - mae: 7530.2031 - val_loss: 7701.0723 - val_mae: 7701.0723\n",
            "Epoch 13/100\n",
            "25/25 [==============================] - 0s 13ms/step - loss: 7167.5254 - mae: 7167.5254 - val_loss: 7290.9971 - val_mae: 7290.9971\n",
            "Epoch 14/100\n",
            "25/25 [==============================] - 0s 8ms/step - loss: 7483.0137 - mae: 7483.0137 - val_loss: 7608.9839 - val_mae: 7608.9839\n",
            "Epoch 15/100\n",
            "25/25 [==============================] - 0s 9ms/step - loss: 7658.3823 - mae: 7658.3823 - val_loss: 7328.7295 - val_mae: 7328.7295\n",
            "Epoch 16/100\n",
            "25/25 [==============================] - 0s 11ms/step - loss: 7479.0420 - mae: 7479.0420 - val_loss: 7593.4717 - val_mae: 7593.4717\n",
            "Epoch 17/100\n",
            "25/25 [==============================] - 0s 8ms/step - loss: 7414.5107 - mae: 7414.5107 - val_loss: 8921.4453 - val_mae: 8921.4453\n",
            "Epoch 18/100\n",
            "25/25 [==============================] - 0s 9ms/step - loss: 7323.2456 - mae: 7323.2456 - val_loss: 8356.5107 - val_mae: 8356.5107\n",
            "Epoch 19/100\n",
            "25/25 [==============================] - 0s 8ms/step - loss: 7344.0586 - mae: 7344.0586 - val_loss: 9151.7148 - val_mae: 9151.7148\n",
            "Epoch 20/100\n",
            "25/25 [==============================] - 0s 11ms/step - loss: 7621.8579 - mae: 7621.8579 - val_loss: 7643.2383 - val_mae: 7643.2383\n",
            "Epoch 21/100\n",
            "25/25 [==============================] - 0s 7ms/step - loss: 7517.2212 - mae: 7517.2212 - val_loss: 7825.2017 - val_mae: 7825.2017\n",
            "Epoch 22/100\n",
            "25/25 [==============================] - 0s 7ms/step - loss: 7551.3813 - mae: 7551.3813 - val_loss: 8321.2764 - val_mae: 8321.2764\n",
            "Epoch 23/100\n",
            "25/25 [==============================] - 0s 5ms/step - loss: 7499.3755 - mae: 7499.3755 - val_loss: 7984.5698 - val_mae: 7984.5698\n",
            "Epoch 24/100\n",
            "25/25 [==============================] - 0s 6ms/step - loss: 7385.6758 - mae: 7385.6758 - val_loss: 8776.6182 - val_mae: 8776.6182\n",
            "Epoch 25/100\n",
            "25/25 [==============================] - 0s 10ms/step - loss: 7608.0229 - mae: 7608.0229 - val_loss: 7219.4644 - val_mae: 7219.4644\n",
            "Epoch 26/100\n",
            "25/25 [==============================] - 0s 9ms/step - loss: 7451.1074 - mae: 7451.1074 - val_loss: 7512.4136 - val_mae: 7512.4136\n",
            "Epoch 27/100\n",
            "25/25 [==============================] - 0s 7ms/step - loss: 7490.7500 - mae: 7490.7500 - val_loss: 9024.1934 - val_mae: 9024.1934\n",
            "Epoch 28/100\n",
            "25/25 [==============================] - 0s 6ms/step - loss: 7290.1924 - mae: 7290.1924 - val_loss: 7703.7070 - val_mae: 7703.7070\n",
            "Epoch 29/100\n",
            "25/25 [==============================] - 0s 7ms/step - loss: 7471.8306 - mae: 7471.8306 - val_loss: 7080.1533 - val_mae: 7080.1533\n",
            "Epoch 30/100\n",
            "25/25 [==============================] - 0s 8ms/step - loss: 7195.6226 - mae: 7195.6226 - val_loss: 7105.8208 - val_mae: 7105.8208\n",
            "Epoch 31/100\n",
            "25/25 [==============================] - 0s 8ms/step - loss: 7607.3423 - mae: 7607.3423 - val_loss: 7016.6514 - val_mae: 7016.6514\n",
            "Epoch 32/100\n",
            "25/25 [==============================] - 0s 7ms/step - loss: 7181.1025 - mae: 7181.1025 - val_loss: 8047.0986 - val_mae: 8047.0986\n",
            "Epoch 33/100\n",
            "25/25 [==============================] - 0s 10ms/step - loss: 7263.1445 - mae: 7263.1445 - val_loss: 8270.9541 - val_mae: 8270.9541\n",
            "Epoch 34/100\n",
            "25/25 [==============================] - 0s 11ms/step - loss: 7444.7227 - mae: 7444.7227 - val_loss: 8923.3271 - val_mae: 8923.3271\n",
            "Epoch 35/100\n",
            "25/25 [==============================] - 0s 9ms/step - loss: 7346.5151 - mae: 7346.5151 - val_loss: 8305.3164 - val_mae: 8305.3164\n",
            "Epoch 36/100\n",
            "25/25 [==============================] - 0s 19ms/step - loss: 7475.1836 - mae: 7475.1836 - val_loss: 7331.5801 - val_mae: 7331.5801\n",
            "Epoch 37/100\n",
            "25/25 [==============================] - 0s 10ms/step - loss: 7214.7949 - mae: 7214.7949 - val_loss: 7292.2158 - val_mae: 7292.2158\n",
            "Epoch 38/100\n",
            "25/25 [==============================] - 0s 11ms/step - loss: 7486.5063 - mae: 7486.5063 - val_loss: 7212.0923 - val_mae: 7212.0923\n",
            "Epoch 39/100\n",
            "25/25 [==============================] - 0s 8ms/step - loss: 7645.3086 - mae: 7645.3086 - val_loss: 7083.2012 - val_mae: 7083.2012\n",
            "Epoch 40/100\n",
            "25/25 [==============================] - 0s 12ms/step - loss: 7521.1523 - mae: 7521.1523 - val_loss: 7142.8896 - val_mae: 7142.8896\n",
            "Epoch 41/100\n",
            "25/25 [==============================] - 0s 15ms/step - loss: 7231.1533 - mae: 7231.1533 - val_loss: 9097.1904 - val_mae: 9097.1904\n",
            "Epoch 42/100\n",
            "25/25 [==============================] - 0s 15ms/step - loss: 7511.1343 - mae: 7511.1343 - val_loss: 6894.2231 - val_mae: 6894.2231\n",
            "Epoch 43/100\n",
            "25/25 [==============================] - 0s 10ms/step - loss: 7454.5942 - mae: 7454.5942 - val_loss: 7564.5928 - val_mae: 7564.5928\n",
            "Epoch 44/100\n",
            "25/25 [==============================] - 0s 6ms/step - loss: 7051.2798 - mae: 7051.2798 - val_loss: 7229.8623 - val_mae: 7229.8623\n",
            "Epoch 45/100\n",
            "25/25 [==============================] - 0s 7ms/step - loss: 7553.5933 - mae: 7553.5933 - val_loss: 8923.4629 - val_mae: 8923.4629\n",
            "Epoch 46/100\n",
            "25/25 [==============================] - 0s 7ms/step - loss: 7338.0674 - mae: 7338.0674 - val_loss: 7242.4824 - val_mae: 7242.4824\n",
            "Epoch 47/100\n",
            "25/25 [==============================] - 0s 5ms/step - loss: 7462.4351 - mae: 7462.4351 - val_loss: 7271.5308 - val_mae: 7271.5308\n",
            "Epoch 48/100\n",
            "25/25 [==============================] - 0s 4ms/step - loss: 7302.9468 - mae: 7302.9468 - val_loss: 8765.6553 - val_mae: 8765.6553\n",
            "Epoch 49/100\n",
            "25/25 [==============================] - 0s 5ms/step - loss: 7274.6558 - mae: 7274.6558 - val_loss: 8515.7578 - val_mae: 8515.7578\n",
            "Epoch 50/100\n",
            "25/25 [==============================] - 0s 5ms/step - loss: 7496.2905 - mae: 7496.2905 - val_loss: 7579.1323 - val_mae: 7579.1323\n",
            "Epoch 51/100\n",
            "25/25 [==============================] - 0s 4ms/step - loss: 7496.2627 - mae: 7496.2627 - val_loss: 6861.8926 - val_mae: 6861.8926\n",
            "Epoch 52/100\n",
            "25/25 [==============================] - 0s 4ms/step - loss: 7296.1392 - mae: 7296.1392 - val_loss: 6943.2520 - val_mae: 6943.2520\n",
            "Epoch 53/100\n",
            "25/25 [==============================] - 0s 5ms/step - loss: 7183.8418 - mae: 7183.8418 - val_loss: 8134.9722 - val_mae: 8134.9722\n",
            "Epoch 54/100\n",
            "25/25 [==============================] - 0s 4ms/step - loss: 7303.0889 - mae: 7303.0889 - val_loss: 8445.2471 - val_mae: 8445.2471\n",
            "Epoch 55/100\n",
            "25/25 [==============================] - 0s 5ms/step - loss: 7626.1465 - mae: 7626.1465 - val_loss: 7593.8618 - val_mae: 7593.8618\n",
            "Epoch 56/100\n",
            "25/25 [==============================] - 0s 4ms/step - loss: 7480.3818 - mae: 7480.3818 - val_loss: 6823.8325 - val_mae: 6823.8325\n",
            "Epoch 57/100\n",
            "25/25 [==============================] - 0s 8ms/step - loss: 7328.8838 - mae: 7328.8838 - val_loss: 8105.4478 - val_mae: 8105.4478\n",
            "Epoch 58/100\n",
            "25/25 [==============================] - 0s 16ms/step - loss: 7169.0425 - mae: 7169.0425 - val_loss: 8633.9453 - val_mae: 8633.9453\n",
            "Epoch 59/100\n",
            "25/25 [==============================] - 0s 8ms/step - loss: 7476.1924 - mae: 7476.1924 - val_loss: 7721.9990 - val_mae: 7721.9990\n",
            "Epoch 60/100\n",
            "25/25 [==============================] - 0s 12ms/step - loss: 7385.6768 - mae: 7385.6768 - val_loss: 9098.1650 - val_mae: 9098.1650\n",
            "Epoch 61/100\n",
            "25/25 [==============================] - 0s 8ms/step - loss: 7330.1606 - mae: 7330.1606 - val_loss: 6843.3691 - val_mae: 6843.3691\n",
            "Epoch 62/100\n",
            "25/25 [==============================] - 0s 5ms/step - loss: 7146.9829 - mae: 7146.9829 - val_loss: 6862.2559 - val_mae: 6862.2559\n",
            "Epoch 63/100\n",
            "25/25 [==============================] - 0s 9ms/step - loss: 7324.1191 - mae: 7324.1191 - val_loss: 6934.9619 - val_mae: 6934.9619\n",
            "Epoch 64/100\n",
            "25/25 [==============================] - 0s 8ms/step - loss: 6953.8394 - mae: 6953.8394 - val_loss: 8303.1533 - val_mae: 8303.1533\n",
            "Epoch 65/100\n",
            "25/25 [==============================] - 0s 11ms/step - loss: 7141.7183 - mae: 7141.7183 - val_loss: 6763.3623 - val_mae: 6763.3623\n",
            "Epoch 66/100\n",
            "25/25 [==============================] - 0s 10ms/step - loss: 7242.9346 - mae: 7242.9346 - val_loss: 8711.6504 - val_mae: 8711.6504\n",
            "Epoch 67/100\n",
            "25/25 [==============================] - 0s 10ms/step - loss: 7484.2988 - mae: 7484.2988 - val_loss: 8438.6963 - val_mae: 8438.6963\n",
            "Epoch 68/100\n",
            "25/25 [==============================] - 0s 16ms/step - loss: 7046.9507 - mae: 7046.9507 - val_loss: 8406.5059 - val_mae: 8406.5059\n",
            "Epoch 69/100\n",
            "25/25 [==============================] - 0s 8ms/step - loss: 7292.4399 - mae: 7292.4399 - val_loss: 7234.9556 - val_mae: 7234.9556\n",
            "Epoch 70/100\n",
            "25/25 [==============================] - 0s 7ms/step - loss: 7368.6895 - mae: 7368.6895 - val_loss: 7316.0684 - val_mae: 7316.0684\n",
            "Epoch 71/100\n",
            "25/25 [==============================] - 0s 3ms/step - loss: 7389.4238 - mae: 7389.4238 - val_loss: 8336.1133 - val_mae: 8336.1133\n",
            "Epoch 72/100\n",
            "25/25 [==============================] - 0s 3ms/step - loss: 7250.9067 - mae: 7250.9067 - val_loss: 8773.0820 - val_mae: 8773.0820\n",
            "Epoch 73/100\n",
            "25/25 [==============================] - 0s 3ms/step - loss: 7659.7305 - mae: 7659.7305 - val_loss: 6796.8115 - val_mae: 6796.8115\n",
            "Epoch 74/100\n",
            "25/25 [==============================] - 0s 6ms/step - loss: 7153.8755 - mae: 7153.8755 - val_loss: 8185.1470 - val_mae: 8185.1470\n",
            "Epoch 75/100\n",
            "25/25 [==============================] - 0s 4ms/step - loss: 7154.0171 - mae: 7154.0171 - val_loss: 7460.5742 - val_mae: 7460.5742\n",
            "Epoch 76/100\n",
            "25/25 [==============================] - 0s 5ms/step - loss: 7332.2168 - mae: 7332.2168 - val_loss: 7625.6128 - val_mae: 7625.6128\n",
            "Epoch 77/100\n",
            "25/25 [==============================] - 0s 4ms/step - loss: 7276.3208 - mae: 7276.3208 - val_loss: 8865.2510 - val_mae: 8865.2510\n",
            "Epoch 78/100\n",
            "25/25 [==============================] - 0s 5ms/step - loss: 7218.0786 - mae: 7218.0786 - val_loss: 6691.4092 - val_mae: 6691.4092\n",
            "Epoch 79/100\n",
            "25/25 [==============================] - 0s 5ms/step - loss: 6961.1162 - mae: 6961.1162 - val_loss: 7290.4229 - val_mae: 7290.4229\n",
            "Epoch 80/100\n",
            "25/25 [==============================] - 0s 5ms/step - loss: 7105.8687 - mae: 7105.8687 - val_loss: 6701.3076 - val_mae: 6701.3076\n",
            "Epoch 81/100\n",
            "25/25 [==============================] - 0s 3ms/step - loss: 7507.9150 - mae: 7507.9150 - val_loss: 6990.1948 - val_mae: 6990.1948\n",
            "Epoch 82/100\n",
            "25/25 [==============================] - 0s 5ms/step - loss: 7189.3892 - mae: 7189.3892 - val_loss: 7112.7188 - val_mae: 7112.7188\n",
            "Epoch 83/100\n",
            "25/25 [==============================] - 0s 4ms/step - loss: 7474.8027 - mae: 7474.8027 - val_loss: 8531.4746 - val_mae: 8531.4746\n",
            "Epoch 84/100\n",
            "25/25 [==============================] - 0s 4ms/step - loss: 7242.0327 - mae: 7242.0327 - val_loss: 6667.7939 - val_mae: 6667.7939\n",
            "Epoch 85/100\n",
            "25/25 [==============================] - 0s 3ms/step - loss: 7085.2715 - mae: 7085.2715 - val_loss: 6838.9038 - val_mae: 6838.9038\n",
            "Epoch 86/100\n",
            "25/25 [==============================] - 0s 5ms/step - loss: 7551.6621 - mae: 7551.6621 - val_loss: 6897.9526 - val_mae: 6897.9526\n",
            "Epoch 87/100\n",
            "25/25 [==============================] - 0s 5ms/step - loss: 7385.5601 - mae: 7385.5601 - val_loss: 6746.8042 - val_mae: 6746.8042\n",
            "Epoch 88/100\n",
            "25/25 [==============================] - 0s 4ms/step - loss: 7394.2192 - mae: 7394.2192 - val_loss: 8054.0615 - val_mae: 8054.0615\n",
            "Epoch 89/100\n",
            "25/25 [==============================] - 0s 5ms/step - loss: 7450.7476 - mae: 7450.7476 - val_loss: 8018.8428 - val_mae: 8018.8428\n",
            "Epoch 90/100\n",
            "25/25 [==============================] - 0s 5ms/step - loss: 7214.2461 - mae: 7214.2461 - val_loss: 8363.2510 - val_mae: 8363.2510\n",
            "Epoch 91/100\n",
            "25/25 [==============================] - 0s 4ms/step - loss: 7343.8926 - mae: 7343.8926 - val_loss: 6948.4502 - val_mae: 6948.4502\n",
            "Epoch 92/100\n",
            "25/25 [==============================] - 0s 6ms/step - loss: 7456.8530 - mae: 7456.8530 - val_loss: 6716.6587 - val_mae: 6716.6587\n",
            "Epoch 93/100\n",
            "25/25 [==============================] - 0s 5ms/step - loss: 7231.0898 - mae: 7231.0898 - val_loss: 6594.3179 - val_mae: 6594.3179\n",
            "Epoch 94/100\n",
            "25/25 [==============================] - 0s 3ms/step - loss: 7165.3394 - mae: 7165.3394 - val_loss: 7117.6709 - val_mae: 7117.6709\n",
            "Epoch 95/100\n",
            "25/25 [==============================] - 0s 3ms/step - loss: 7337.1455 - mae: 7337.1455 - val_loss: 8451.0664 - val_mae: 8451.0664\n",
            "Epoch 96/100\n",
            "25/25 [==============================] - 0s 4ms/step - loss: 7111.9395 - mae: 7111.9395 - val_loss: 6978.8467 - val_mae: 6978.8467\n",
            "Epoch 97/100\n",
            "25/25 [==============================] - 0s 3ms/step - loss: 7228.2886 - mae: 7228.2886 - val_loss: 9262.2021 - val_mae: 9262.2021\n",
            "Epoch 98/100\n",
            "25/25 [==============================] - 0s 3ms/step - loss: 7403.6382 - mae: 7403.6382 - val_loss: 8095.8691 - val_mae: 8095.8691\n",
            "Epoch 99/100\n",
            "25/25 [==============================] - 0s 4ms/step - loss: 7158.0439 - mae: 7158.0439 - val_loss: 6642.2593 - val_mae: 6642.2593\n",
            "Epoch 100/100\n",
            "25/25 [==============================] - 0s 4ms/step - loss: 7344.6768 - mae: 7344.6768 - val_loss: 8373.9238 - val_mae: 8373.9238\n"
          ]
        }
      ]
    },
    {
      "cell_type": "code",
      "source": [
        "pred = model.predict((x_test))\n",
        "mse = tf.keras.losses.mse(y_test,tf.squeeze(pred)).numpy \n",
        "mae = tf.keras.losses.mae(y_test,tf.squeeze(pred)).numpy \n"
      ],
      "metadata": {
        "colab": {
          "base_uri": "https://localhost:8080/"
        },
        "id": "yuNo06Azo7VC",
        "outputId": "7850c7f1-dbb8-4747-e4db-c8c83aec0957"
      },
      "execution_count": null,
      "outputs": [
        {
          "output_type": "stream",
          "name": "stdout",
          "text": [
            "17/17 [==============================] - 0s 2ms/step\n"
          ]
        }
      ]
    },
    {
      "cell_type": "code",
      "source": [
        "model1 = Sequential()\n",
        "model1.add(Dense(100))\n",
        "model1.add(Dense(40))\n",
        "model1.add(Dense(1))\n",
        "model1.compile(loss= mae,optimizer=tf.keras.optimizers.SGD(),metrics =['mae'])\n",
        "history = model1.fit(x_train,y_train,epochs=100,validation_data=(x_test,y_test))"
      ],
      "metadata": {
        "colab": {
          "base_uri": "https://localhost:8080/"
        },
        "id": "2L5uuTyCo7Ye",
        "outputId": "b7c7103e-935b-42ea-b64f-eab9f9bd742c"
      },
      "execution_count": null,
      "outputs": [
        {
          "output_type": "stream",
          "name": "stdout",
          "text": [
            "Epoch 1/100\n",
            "25/25 [==============================] - 1s 10ms/step - loss: nan - mae: nan - val_loss: nan - val_mae: nan\n",
            "Epoch 2/100\n",
            "25/25 [==============================] - 0s 4ms/step - loss: nan - mae: nan - val_loss: nan - val_mae: nan\n",
            "Epoch 3/100\n",
            "25/25 [==============================] - 0s 4ms/step - loss: nan - mae: nan - val_loss: nan - val_mae: nan\n",
            "Epoch 4/100\n",
            "25/25 [==============================] - 0s 5ms/step - loss: nan - mae: nan - val_loss: nan - val_mae: nan\n",
            "Epoch 5/100\n",
            "25/25 [==============================] - 0s 6ms/step - loss: nan - mae: nan - val_loss: nan - val_mae: nan\n",
            "Epoch 6/100\n",
            "25/25 [==============================] - 0s 4ms/step - loss: nan - mae: nan - val_loss: nan - val_mae: nan\n",
            "Epoch 7/100\n",
            "25/25 [==============================] - 0s 5ms/step - loss: nan - mae: nan - val_loss: nan - val_mae: nan\n",
            "Epoch 8/100\n",
            "25/25 [==============================] - 0s 5ms/step - loss: nan - mae: nan - val_loss: nan - val_mae: nan\n",
            "Epoch 9/100\n",
            "25/25 [==============================] - 0s 4ms/step - loss: nan - mae: nan - val_loss: nan - val_mae: nan\n",
            "Epoch 10/100\n",
            "25/25 [==============================] - 0s 5ms/step - loss: nan - mae: nan - val_loss: nan - val_mae: nan\n",
            "Epoch 11/100\n",
            "25/25 [==============================] - 0s 5ms/step - loss: nan - mae: nan - val_loss: nan - val_mae: nan\n",
            "Epoch 12/100\n",
            "25/25 [==============================] - 0s 4ms/step - loss: nan - mae: nan - val_loss: nan - val_mae: nan\n",
            "Epoch 13/100\n",
            "25/25 [==============================] - 0s 6ms/step - loss: nan - mae: nan - val_loss: nan - val_mae: nan\n",
            "Epoch 14/100\n",
            "25/25 [==============================] - 0s 5ms/step - loss: nan - mae: nan - val_loss: nan - val_mae: nan\n",
            "Epoch 15/100\n",
            "25/25 [==============================] - 0s 5ms/step - loss: nan - mae: nan - val_loss: nan - val_mae: nan\n",
            "Epoch 16/100\n",
            "25/25 [==============================] - 0s 4ms/step - loss: nan - mae: nan - val_loss: nan - val_mae: nan\n",
            "Epoch 17/100\n",
            "25/25 [==============================] - 0s 4ms/step - loss: nan - mae: nan - val_loss: nan - val_mae: nan\n",
            "Epoch 18/100\n",
            "25/25 [==============================] - 0s 3ms/step - loss: nan - mae: nan - val_loss: nan - val_mae: nan\n",
            "Epoch 19/100\n",
            "25/25 [==============================] - 0s 3ms/step - loss: nan - mae: nan - val_loss: nan - val_mae: nan\n",
            "Epoch 20/100\n",
            "25/25 [==============================] - 0s 4ms/step - loss: nan - mae: nan - val_loss: nan - val_mae: nan\n",
            "Epoch 21/100\n",
            "25/25 [==============================] - 0s 3ms/step - loss: nan - mae: nan - val_loss: nan - val_mae: nan\n",
            "Epoch 22/100\n",
            "25/25 [==============================] - 0s 5ms/step - loss: nan - mae: nan - val_loss: nan - val_mae: nan\n",
            "Epoch 23/100\n",
            "25/25 [==============================] - 0s 5ms/step - loss: nan - mae: nan - val_loss: nan - val_mae: nan\n",
            "Epoch 24/100\n",
            "25/25 [==============================] - 0s 4ms/step - loss: nan - mae: nan - val_loss: nan - val_mae: nan\n",
            "Epoch 25/100\n",
            "25/25 [==============================] - 0s 5ms/step - loss: nan - mae: nan - val_loss: nan - val_mae: nan\n",
            "Epoch 26/100\n",
            "25/25 [==============================] - 0s 5ms/step - loss: nan - mae: nan - val_loss: nan - val_mae: nan\n",
            "Epoch 27/100\n",
            "25/25 [==============================] - 0s 3ms/step - loss: nan - mae: nan - val_loss: nan - val_mae: nan\n",
            "Epoch 28/100\n",
            "25/25 [==============================] - 0s 3ms/step - loss: nan - mae: nan - val_loss: nan - val_mae: nan\n",
            "Epoch 29/100\n",
            "25/25 [==============================] - 0s 5ms/step - loss: nan - mae: nan - val_loss: nan - val_mae: nan\n",
            "Epoch 30/100\n",
            "25/25 [==============================] - 0s 5ms/step - loss: nan - mae: nan - val_loss: nan - val_mae: nan\n",
            "Epoch 31/100\n",
            "25/25 [==============================] - 0s 5ms/step - loss: nan - mae: nan - val_loss: nan - val_mae: nan\n",
            "Epoch 32/100\n",
            "25/25 [==============================] - 0s 5ms/step - loss: nan - mae: nan - val_loss: nan - val_mae: nan\n",
            "Epoch 33/100\n",
            "25/25 [==============================] - 0s 4ms/step - loss: nan - mae: nan - val_loss: nan - val_mae: nan\n",
            "Epoch 34/100\n",
            "25/25 [==============================] - 0s 6ms/step - loss: nan - mae: nan - val_loss: nan - val_mae: nan\n",
            "Epoch 35/100\n",
            "25/25 [==============================] - 0s 4ms/step - loss: nan - mae: nan - val_loss: nan - val_mae: nan\n",
            "Epoch 36/100\n",
            "25/25 [==============================] - 0s 3ms/step - loss: nan - mae: nan - val_loss: nan - val_mae: nan\n",
            "Epoch 37/100\n",
            "25/25 [==============================] - 0s 4ms/step - loss: nan - mae: nan - val_loss: nan - val_mae: nan\n",
            "Epoch 38/100\n",
            "25/25 [==============================] - 0s 5ms/step - loss: nan - mae: nan - val_loss: nan - val_mae: nan\n",
            "Epoch 39/100\n",
            "25/25 [==============================] - 0s 3ms/step - loss: nan - mae: nan - val_loss: nan - val_mae: nan\n",
            "Epoch 40/100\n",
            "25/25 [==============================] - 0s 5ms/step - loss: nan - mae: nan - val_loss: nan - val_mae: nan\n",
            "Epoch 41/100\n",
            "25/25 [==============================] - 0s 4ms/step - loss: nan - mae: nan - val_loss: nan - val_mae: nan\n",
            "Epoch 42/100\n",
            "25/25 [==============================] - 0s 4ms/step - loss: nan - mae: nan - val_loss: nan - val_mae: nan\n",
            "Epoch 43/100\n",
            "25/25 [==============================] - 0s 4ms/step - loss: nan - mae: nan - val_loss: nan - val_mae: nan\n",
            "Epoch 44/100\n",
            "25/25 [==============================] - 0s 4ms/step - loss: nan - mae: nan - val_loss: nan - val_mae: nan\n",
            "Epoch 45/100\n",
            "25/25 [==============================] - 0s 5ms/step - loss: nan - mae: nan - val_loss: nan - val_mae: nan\n",
            "Epoch 46/100\n",
            "25/25 [==============================] - 0s 7ms/step - loss: nan - mae: nan - val_loss: nan - val_mae: nan\n",
            "Epoch 47/100\n",
            "25/25 [==============================] - 0s 6ms/step - loss: nan - mae: nan - val_loss: nan - val_mae: nan\n",
            "Epoch 48/100\n",
            "25/25 [==============================] - 0s 5ms/step - loss: nan - mae: nan - val_loss: nan - val_mae: nan\n",
            "Epoch 49/100\n",
            "25/25 [==============================] - 0s 5ms/step - loss: nan - mae: nan - val_loss: nan - val_mae: nan\n",
            "Epoch 50/100\n",
            "25/25 [==============================] - 0s 7ms/step - loss: nan - mae: nan - val_loss: nan - val_mae: nan\n",
            "Epoch 51/100\n",
            "25/25 [==============================] - 0s 6ms/step - loss: nan - mae: nan - val_loss: nan - val_mae: nan\n",
            "Epoch 52/100\n",
            "25/25 [==============================] - 0s 6ms/step - loss: nan - mae: nan - val_loss: nan - val_mae: nan\n",
            "Epoch 53/100\n",
            "25/25 [==============================] - 0s 6ms/step - loss: nan - mae: nan - val_loss: nan - val_mae: nan\n",
            "Epoch 54/100\n",
            "25/25 [==============================] - 0s 6ms/step - loss: nan - mae: nan - val_loss: nan - val_mae: nan\n",
            "Epoch 55/100\n",
            "25/25 [==============================] - 0s 6ms/step - loss: nan - mae: nan - val_loss: nan - val_mae: nan\n",
            "Epoch 56/100\n",
            "25/25 [==============================] - 0s 6ms/step - loss: nan - mae: nan - val_loss: nan - val_mae: nan\n",
            "Epoch 57/100\n",
            "25/25 [==============================] - 0s 6ms/step - loss: nan - mae: nan - val_loss: nan - val_mae: nan\n",
            "Epoch 58/100\n",
            "25/25 [==============================] - 0s 5ms/step - loss: nan - mae: nan - val_loss: nan - val_mae: nan\n",
            "Epoch 59/100\n",
            "25/25 [==============================] - 0s 5ms/step - loss: nan - mae: nan - val_loss: nan - val_mae: nan\n",
            "Epoch 60/100\n",
            "25/25 [==============================] - 0s 5ms/step - loss: nan - mae: nan - val_loss: nan - val_mae: nan\n",
            "Epoch 61/100\n",
            "25/25 [==============================] - 0s 6ms/step - loss: nan - mae: nan - val_loss: nan - val_mae: nan\n",
            "Epoch 62/100\n",
            "25/25 [==============================] - 0s 6ms/step - loss: nan - mae: nan - val_loss: nan - val_mae: nan\n",
            "Epoch 63/100\n",
            "25/25 [==============================] - 0s 7ms/step - loss: nan - mae: nan - val_loss: nan - val_mae: nan\n",
            "Epoch 64/100\n",
            "25/25 [==============================] - 0s 6ms/step - loss: nan - mae: nan - val_loss: nan - val_mae: nan\n",
            "Epoch 65/100\n",
            "25/25 [==============================] - 0s 4ms/step - loss: nan - mae: nan - val_loss: nan - val_mae: nan\n",
            "Epoch 66/100\n",
            "25/25 [==============================] - 0s 4ms/step - loss: nan - mae: nan - val_loss: nan - val_mae: nan\n",
            "Epoch 67/100\n",
            "25/25 [==============================] - 0s 6ms/step - loss: nan - mae: nan - val_loss: nan - val_mae: nan\n",
            "Epoch 68/100\n",
            "25/25 [==============================] - 0s 4ms/step - loss: nan - mae: nan - val_loss: nan - val_mae: nan\n",
            "Epoch 69/100\n",
            "25/25 [==============================] - 0s 5ms/step - loss: nan - mae: nan - val_loss: nan - val_mae: nan\n",
            "Epoch 70/100\n",
            "25/25 [==============================] - 0s 5ms/step - loss: nan - mae: nan - val_loss: nan - val_mae: nan\n",
            "Epoch 71/100\n",
            "25/25 [==============================] - 0s 4ms/step - loss: nan - mae: nan - val_loss: nan - val_mae: nan\n",
            "Epoch 72/100\n",
            "25/25 [==============================] - 0s 3ms/step - loss: nan - mae: nan - val_loss: nan - val_mae: nan\n",
            "Epoch 73/100\n",
            "25/25 [==============================] - 0s 4ms/step - loss: nan - mae: nan - val_loss: nan - val_mae: nan\n",
            "Epoch 74/100\n",
            "25/25 [==============================] - 0s 3ms/step - loss: nan - mae: nan - val_loss: nan - val_mae: nan\n",
            "Epoch 75/100\n",
            "25/25 [==============================] - 0s 4ms/step - loss: nan - mae: nan - val_loss: nan - val_mae: nan\n",
            "Epoch 76/100\n",
            "25/25 [==============================] - 0s 5ms/step - loss: nan - mae: nan - val_loss: nan - val_mae: nan\n",
            "Epoch 77/100\n",
            "25/25 [==============================] - 0s 5ms/step - loss: nan - mae: nan - val_loss: nan - val_mae: nan\n",
            "Epoch 78/100\n",
            "25/25 [==============================] - 0s 5ms/step - loss: nan - mae: nan - val_loss: nan - val_mae: nan\n",
            "Epoch 79/100\n",
            "25/25 [==============================] - 0s 5ms/step - loss: nan - mae: nan - val_loss: nan - val_mae: nan\n",
            "Epoch 80/100\n",
            "25/25 [==============================] - 0s 5ms/step - loss: nan - mae: nan - val_loss: nan - val_mae: nan\n",
            "Epoch 81/100\n",
            "25/25 [==============================] - 0s 4ms/step - loss: nan - mae: nan - val_loss: nan - val_mae: nan\n",
            "Epoch 82/100\n",
            "25/25 [==============================] - 0s 3ms/step - loss: nan - mae: nan - val_loss: nan - val_mae: nan\n",
            "Epoch 83/100\n",
            "25/25 [==============================] - 0s 4ms/step - loss: nan - mae: nan - val_loss: nan - val_mae: nan\n",
            "Epoch 84/100\n",
            "25/25 [==============================] - 0s 5ms/step - loss: nan - mae: nan - val_loss: nan - val_mae: nan\n",
            "Epoch 85/100\n",
            "25/25 [==============================] - 0s 3ms/step - loss: nan - mae: nan - val_loss: nan - val_mae: nan\n",
            "Epoch 86/100\n",
            "25/25 [==============================] - 0s 6ms/step - loss: nan - mae: nan - val_loss: nan - val_mae: nan\n",
            "Epoch 87/100\n",
            "25/25 [==============================] - 0s 4ms/step - loss: nan - mae: nan - val_loss: nan - val_mae: nan\n",
            "Epoch 88/100\n",
            "25/25 [==============================] - 0s 5ms/step - loss: nan - mae: nan - val_loss: nan - val_mae: nan\n",
            "Epoch 89/100\n",
            "25/25 [==============================] - 0s 4ms/step - loss: nan - mae: nan - val_loss: nan - val_mae: nan\n",
            "Epoch 90/100\n",
            "25/25 [==============================] - 0s 5ms/step - loss: nan - mae: nan - val_loss: nan - val_mae: nan\n",
            "Epoch 91/100\n",
            "25/25 [==============================] - 0s 5ms/step - loss: nan - mae: nan - val_loss: nan - val_mae: nan\n",
            "Epoch 92/100\n",
            "25/25 [==============================] - 0s 5ms/step - loss: nan - mae: nan - val_loss: nan - val_mae: nan\n",
            "Epoch 93/100\n",
            "25/25 [==============================] - 0s 4ms/step - loss: nan - mae: nan - val_loss: nan - val_mae: nan\n",
            "Epoch 94/100\n",
            "25/25 [==============================] - 0s 5ms/step - loss: nan - mae: nan - val_loss: nan - val_mae: nan\n",
            "Epoch 95/100\n",
            "25/25 [==============================] - 0s 4ms/step - loss: nan - mae: nan - val_loss: nan - val_mae: nan\n",
            "Epoch 96/100\n",
            "25/25 [==============================] - 0s 5ms/step - loss: nan - mae: nan - val_loss: nan - val_mae: nan\n",
            "Epoch 97/100\n",
            "25/25 [==============================] - 0s 3ms/step - loss: nan - mae: nan - val_loss: nan - val_mae: nan\n",
            "Epoch 98/100\n",
            "25/25 [==============================] - 0s 5ms/step - loss: nan - mae: nan - val_loss: nan - val_mae: nan\n",
            "Epoch 99/100\n",
            "25/25 [==============================] - 0s 3ms/step - loss: nan - mae: nan - val_loss: nan - val_mae: nan\n",
            "Epoch 100/100\n",
            "25/25 [==============================] - 0s 3ms/step - loss: nan - mae: nan - val_loss: nan - val_mae: nan\n"
          ]
        }
      ]
    },
    {
      "cell_type": "code",
      "source": [
        "pred = model.predict((x_test))\n",
        "mse1 = tf.keras.losses.mse(y_test,tf.squeeze(pred)).numpy()\n",
        "mae1 = tf.keras.losses.mae(y_test,tf.squeeze(pred)).numpy() \n"
      ],
      "metadata": {
        "colab": {
          "base_uri": "https://localhost:8080/"
        },
        "id": "LXVCmth-uZOE",
        "outputId": "ad5c33d5-5aee-4a73-818c-1a3eb69345c1"
      },
      "execution_count": null,
      "outputs": [
        {
          "output_type": "stream",
          "name": "stdout",
          "text": [
            "17/17 [==============================] - 0s 2ms/step\n"
          ]
        }
      ]
    },
    {
      "cell_type": "markdown",
      "source": [
        "#Scaling Data"
      ],
      "metadata": {
        "id": "-hyfa1DzuZU-"
      }
    },
    {
      "cell_type": "code",
      "source": [
        "from sklearn.compose import make_column_transformer\n",
        "from sklearn.preprocessing import MinMaxScaler,OneHotEncoder\n",
        "from sklearn.model_selection import train_test_split\n",
        "\n",
        "# Create column transformer (this will help us normalize/preprocess our data)\n",
        "ct = make_column_transformer(\n",
        "    (MinMaxScaler(), [\"age\", \"bmi\", \"children\"]), # get all values between 0 and 1\n",
        "    (OneHotEncoder(handle_unknown=\"ignore\"), [\"sex\", \"smoker\", \"region\"])\n",
        ")\n",
        "\n",
        "# Create X & y\n",
        "X = df.drop(\"charges\", axis=1)\n",
        "y = df[\"charges\"]\n",
        "\n",
        "# Build our train and test sets (use random state to ensure same split as before)\n",
        "X_train, X_test, y_train, y_test = train_test_split(X, y, test_size=0.2, random_state=42)\n",
        "\n",
        "# Fit column transformer on the training data only (doing so on test data would result in data leakage)\n",
        "ct.fit(X_train)\n",
        "\n",
        "# Transform training and test data with normalization (MinMaxScalar) and one hot encoding (OneHotEncoder)\n",
        "X_train_normal = ct.transform(X_train)\n",
        "X_test_normal = ct.transform(X_test)"
      ],
      "metadata": {
        "id": "6qNkKkmbuZYl"
      },
      "execution_count": null,
      "outputs": []
    },
    {
      "cell_type": "code",
      "source": [
        "# Set random seed\n",
        "tf.random.set_seed(42)\n",
        "\n",
        "# Build the model (3 layers, 100, 10, 1 units)\n",
        "insurance_model_3 = tf.keras.Sequential([\n",
        "  tf.keras.layers.Dense(100),\n",
        "  tf.keras.layers.Dense(10),\n",
        "  tf.keras.layers.Dense(1)\n",
        "])\n",
        "\n",
        "# Compile the model\n",
        "insurance_model_3.compile(loss=tf.keras.losses.mae,\n",
        "                          optimizer=tf.keras.optimizers.Adam(),\n",
        "                          metrics=['mae'])\n",
        "\n",
        "# Fit the model for 200 epochs (same as insurance_model_2)\n",
        "insurance_model_3.fit(X_train_normal, y_train, epochs=50, verbose=0,validation_data=(X_test_normal,y_test)) "
      ],
      "metadata": {
        "colab": {
          "base_uri": "https://localhost:8080/"
        },
        "id": "zLpC0lR0xOa9",
        "outputId": "0ff30de9-1ad3-4ad0-8c1e-685592fe446b"
      },
      "execution_count": null,
      "outputs": [
        {
          "output_type": "execute_result",
          "data": {
            "text/plain": [
              "<keras.callbacks.History at 0x7f5f8fe3b970>"
            ]
          },
          "metadata": {},
          "execution_count": 30
        }
      ]
    },
    {
      "cell_type": "code",
      "source": [
        "y_test"
      ],
      "metadata": {
        "colab": {
          "base_uri": "https://localhost:8080/"
        },
        "id": "cvwgUcemygBi",
        "outputId": "157e59f4-6b1a-49a9-f743-a59d9247c38c"
      },
      "execution_count": null,
      "outputs": [
        {
          "output_type": "execute_result",
          "data": {
            "text/plain": [
              "1231    20167.33603\n",
              "768     14319.03100\n",
              "847      2438.05520\n",
              "510     11763.00090\n",
              "363      2597.77900\n",
              "           ...     \n",
              "882      2585.85065\n",
              "1039    22493.65964\n",
              "874      8891.13950\n",
              "757     23065.42070\n",
              "701      9541.69555\n",
              "Name: charges, Length: 268, dtype: float64"
            ]
          },
          "metadata": {},
          "execution_count": 27
        }
      ]
    },
    {
      "cell_type": "code",
      "source": [
        "model = Sequential()\n",
        "model.add(Dense(100,input_shape=(11,)))\n",
        "#model.add(Dense(40))\n",
        "model.add(Dense(1))\n",
        "model.compile(loss= mae,optimizer=SGD(),metrics =['mae'])\n",
        "history = model.fit(x_train_cv,y_train,validation_data=(x_test_cv,y_test),epochs=100)"
      ],
      "metadata": {
        "colab": {
          "base_uri": "https://localhost:8080/",
          "height": 979
        },
        "id": "T_56l5MMuZbv",
        "outputId": "562d705d-c2f2-45e8-a8d7-48afd3857c28"
      },
      "execution_count": null,
      "outputs": [
        {
          "output_type": "stream",
          "name": "stdout",
          "text": [
            "Epoch 1/100\n"
          ]
        },
        {
          "output_type": "error",
          "ename": "ValueError",
          "evalue": "ignored",
          "traceback": [
            "\u001b[0;31m---------------------------------------------------------------------------\u001b[0m",
            "\u001b[0;31mValueError\u001b[0m                                Traceback (most recent call last)",
            "\u001b[0;32m<ipython-input-23-545e9b1c200e>\u001b[0m in \u001b[0;36m<cell line: 6>\u001b[0;34m()\u001b[0m\n\u001b[1;32m      4\u001b[0m \u001b[0mmodel\u001b[0m\u001b[0;34m.\u001b[0m\u001b[0madd\u001b[0m\u001b[0;34m(\u001b[0m\u001b[0mDense\u001b[0m\u001b[0;34m(\u001b[0m\u001b[0;36m1\u001b[0m\u001b[0;34m)\u001b[0m\u001b[0;34m)\u001b[0m\u001b[0;34m\u001b[0m\u001b[0;34m\u001b[0m\u001b[0m\n\u001b[1;32m      5\u001b[0m \u001b[0mmodel\u001b[0m\u001b[0;34m.\u001b[0m\u001b[0mcompile\u001b[0m\u001b[0;34m(\u001b[0m\u001b[0mloss\u001b[0m\u001b[0;34m=\u001b[0m \u001b[0mmae\u001b[0m\u001b[0;34m,\u001b[0m\u001b[0moptimizer\u001b[0m\u001b[0;34m=\u001b[0m\u001b[0mSGD\u001b[0m\u001b[0;34m(\u001b[0m\u001b[0;34m)\u001b[0m\u001b[0;34m,\u001b[0m\u001b[0mmetrics\u001b[0m \u001b[0;34m=\u001b[0m\u001b[0;34m[\u001b[0m\u001b[0;34m'mae'\u001b[0m\u001b[0;34m]\u001b[0m\u001b[0;34m)\u001b[0m\u001b[0;34m\u001b[0m\u001b[0;34m\u001b[0m\u001b[0m\n\u001b[0;32m----> 6\u001b[0;31m \u001b[0mhistory\u001b[0m \u001b[0;34m=\u001b[0m \u001b[0mmodel\u001b[0m\u001b[0;34m.\u001b[0m\u001b[0mfit\u001b[0m\u001b[0;34m(\u001b[0m\u001b[0mx_train_cv\u001b[0m\u001b[0;34m,\u001b[0m\u001b[0my_train\u001b[0m\u001b[0;34m,\u001b[0m\u001b[0mvalidation_data\u001b[0m\u001b[0;34m=\u001b[0m\u001b[0;34m(\u001b[0m\u001b[0mx_test_cv\u001b[0m\u001b[0;34m,\u001b[0m\u001b[0my_test\u001b[0m\u001b[0;34m)\u001b[0m\u001b[0;34m,\u001b[0m\u001b[0mepochs\u001b[0m\u001b[0;34m=\u001b[0m\u001b[0;36m100\u001b[0m\u001b[0;34m)\u001b[0m\u001b[0;34m\u001b[0m\u001b[0;34m\u001b[0m\u001b[0m\n\u001b[0m",
            "\u001b[0;32m/usr/local/lib/python3.10/dist-packages/keras/utils/traceback_utils.py\u001b[0m in \u001b[0;36merror_handler\u001b[0;34m(*args, **kwargs)\u001b[0m\n\u001b[1;32m     68\u001b[0m             \u001b[0;31m# To get the full stack trace, call:\u001b[0m\u001b[0;34m\u001b[0m\u001b[0;34m\u001b[0m\u001b[0m\n\u001b[1;32m     69\u001b[0m             \u001b[0;31m# `tf.debugging.disable_traceback_filtering()`\u001b[0m\u001b[0;34m\u001b[0m\u001b[0;34m\u001b[0m\u001b[0m\n\u001b[0;32m---> 70\u001b[0;31m             \u001b[0;32mraise\u001b[0m \u001b[0me\u001b[0m\u001b[0;34m.\u001b[0m\u001b[0mwith_traceback\u001b[0m\u001b[0;34m(\u001b[0m\u001b[0mfiltered_tb\u001b[0m\u001b[0;34m)\u001b[0m \u001b[0;32mfrom\u001b[0m \u001b[0;32mNone\u001b[0m\u001b[0;34m\u001b[0m\u001b[0;34m\u001b[0m\u001b[0m\n\u001b[0m\u001b[1;32m     71\u001b[0m         \u001b[0;32mfinally\u001b[0m\u001b[0;34m:\u001b[0m\u001b[0;34m\u001b[0m\u001b[0;34m\u001b[0m\u001b[0m\n\u001b[1;32m     72\u001b[0m             \u001b[0;32mdel\u001b[0m \u001b[0mfiltered_tb\u001b[0m\u001b[0;34m\u001b[0m\u001b[0;34m\u001b[0m\u001b[0m\n",
            "\u001b[0;32m/usr/local/lib/python3.10/dist-packages/keras/engine/training.py\u001b[0m in \u001b[0;36mtf__train_function\u001b[0;34m(iterator)\u001b[0m\n\u001b[1;32m     13\u001b[0m                 \u001b[0;32mtry\u001b[0m\u001b[0;34m:\u001b[0m\u001b[0;34m\u001b[0m\u001b[0;34m\u001b[0m\u001b[0m\n\u001b[1;32m     14\u001b[0m                     \u001b[0mdo_return\u001b[0m \u001b[0;34m=\u001b[0m \u001b[0;32mTrue\u001b[0m\u001b[0;34m\u001b[0m\u001b[0;34m\u001b[0m\u001b[0m\n\u001b[0;32m---> 15\u001b[0;31m                     \u001b[0mretval_\u001b[0m \u001b[0;34m=\u001b[0m \u001b[0mag__\u001b[0m\u001b[0;34m.\u001b[0m\u001b[0mconverted_call\u001b[0m\u001b[0;34m(\u001b[0m\u001b[0mag__\u001b[0m\u001b[0;34m.\u001b[0m\u001b[0mld\u001b[0m\u001b[0;34m(\u001b[0m\u001b[0mstep_function\u001b[0m\u001b[0;34m)\u001b[0m\u001b[0;34m,\u001b[0m \u001b[0;34m(\u001b[0m\u001b[0mag__\u001b[0m\u001b[0;34m.\u001b[0m\u001b[0mld\u001b[0m\u001b[0;34m(\u001b[0m\u001b[0mself\u001b[0m\u001b[0;34m)\u001b[0m\u001b[0;34m,\u001b[0m \u001b[0mag__\u001b[0m\u001b[0;34m.\u001b[0m\u001b[0mld\u001b[0m\u001b[0;34m(\u001b[0m\u001b[0miterator\u001b[0m\u001b[0;34m)\u001b[0m\u001b[0;34m)\u001b[0m\u001b[0;34m,\u001b[0m \u001b[0;32mNone\u001b[0m\u001b[0;34m,\u001b[0m \u001b[0mfscope\u001b[0m\u001b[0;34m)\u001b[0m\u001b[0;34m\u001b[0m\u001b[0;34m\u001b[0m\u001b[0m\n\u001b[0m\u001b[1;32m     16\u001b[0m                 \u001b[0;32mexcept\u001b[0m\u001b[0;34m:\u001b[0m\u001b[0;34m\u001b[0m\u001b[0;34m\u001b[0m\u001b[0m\n\u001b[1;32m     17\u001b[0m                     \u001b[0mdo_return\u001b[0m \u001b[0;34m=\u001b[0m \u001b[0;32mFalse\u001b[0m\u001b[0;34m\u001b[0m\u001b[0;34m\u001b[0m\u001b[0m\n",
            "\u001b[0;31mValueError\u001b[0m: in user code:\n\n    File \"/usr/local/lib/python3.10/dist-packages/keras/engine/training.py\", line 1284, in train_function  *\n        return step_function(self, iterator)\n    File \"/usr/local/lib/python3.10/dist-packages/keras/engine/training.py\", line 1268, in step_function  **\n        outputs = model.distribute_strategy.run(run_step, args=(data,))\n    File \"/usr/local/lib/python3.10/dist-packages/keras/engine/training.py\", line 1249, in run_step  **\n        outputs = model.train_step(data)\n    File \"/usr/local/lib/python3.10/dist-packages/keras/engine/training.py\", line 1051, in train_step\n        loss = self.compute_loss(x, y, y_pred, sample_weight)\n    File \"/usr/local/lib/python3.10/dist-packages/keras/engine/training.py\", line 1109, in compute_loss\n        return self.compiled_loss(\n    File \"/usr/local/lib/python3.10/dist-packages/keras/engine/compile_utils.py\", line 240, in __call__\n        self.build(y_pred)\n    File \"/usr/local/lib/python3.10/dist-packages/keras/engine/compile_utils.py\", line 182, in build\n        self._losses = tf.nest.map_structure(\n    File \"/usr/local/lib/python3.10/dist-packages/keras/engine/compile_utils.py\", line 353, in _get_loss_object\n        loss = losses_mod.get(loss)\n    File \"/usr/local/lib/python3.10/dist-packages/keras/losses.py\", line 2658, in get\n        raise ValueError(\n\n    ValueError: Could not interpret loss function identifier: 8373.9228515625\n"
          ]
        }
      ]
    }
  ]
}